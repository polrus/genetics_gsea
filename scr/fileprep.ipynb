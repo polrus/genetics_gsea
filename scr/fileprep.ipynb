{
 "cells": [
  {
   "cell_type": "code",
   "execution_count": 1,
   "id": "78c6f16e",
   "metadata": {},
   "outputs": [],
   "source": [
    "import pandas as pd"
   ]
  },
  {
   "cell_type": "code",
   "execution_count": 2,
   "id": "603aaed8",
   "metadata": {},
   "outputs": [
    {
     "name": "stdout",
     "output_type": "stream",
     "text": [
      "['geneId', 'uniqueDiseases', 'uniqueTherapeuticAreas', 'maxEQTLColoc', 'maxPQTLColoc', 'maxVEP', 'maxDistanceTSS', 'minEffectiveSampleSize', 'maxEffectiveSampleSize', 'earliestPublicationDate', 'cancerOrBenignTumor', 'infectiousDisease', 'pregnancyOrPerinatalDisease', 'disorderOfVisualSystem', 'cardiovascularDisease', 'pancreasDisease', 'gastrointestinalDisease', 'reproductiveSystemOrBreastDisease', 'integumentarySystemDisease', 'endocrineSystemDisease', 'respiratoryOrThoracicDisease', 'urinarySystemDisease', 'musculoskeletalOrConnectiveTissueDisease', 'disorderOfEar', 'immuneSystemDisease', 'hematologicDisease', 'nervousSystemDisease', 'psychiatricDisorder', 'nutritionalOrMetabolicDisease', 'geneticFamilialOrCongenitalDisease', 'injuryPoisoningOrOtherComplication', 'signOrSymptom', 'other', 'totalStudies', 'approvedSymbol', 'lofConstraint', 'misConstraint', 'synConstraint', 'pathwayCount', 'tissueSpecificity', 'tissueDistribution']\n"
     ]
    }
   ],
   "source": [
    "geneset = pd.read_parquet(\"/Users/polina/genetics_gsea/data/genes_therapeutic_areas\")\n",
    "print(geneset.columns.tolist())"
   ]
  },
  {
   "cell_type": "code",
   "execution_count": 3,
   "id": "b637dd3f",
   "metadata": {},
   "outputs": [],
   "source": [
    "# Z-score transform\n",
    "geneset[\"uniqueDiseasesZscore\"] = (geneset[\"uniqueDiseases\"] - geneset[\"uniqueDiseases\"].mean()) / geneset[\"uniqueDiseases\"].std()\n",
    "geneset[\"uniqueTherapeuticAreasZscore\"] = (geneset[\"uniqueTherapeuticAreas\"] - geneset[\"uniqueTherapeuticAreas\"].mean()) / geneset[\"uniqueTherapeuticAreas\"].std()"
   ]
  },
  {
   "cell_type": "markdown",
   "id": "f2f7045a",
   "metadata": {},
   "source": [
    "# ApprovedSymol"
   ]
  },
  {
   "cell_type": "code",
   "execution_count": 6,
   "id": "20746047",
   "metadata": {},
   "outputs": [],
   "source": [
    "geneset_disease = geneset[[\"uniqueDiseasesZscore\", \"approvedSymbol\"]].sort_values(\n",
    "    by=\"uniqueDiseasesZscore\", ascending=False\n",
    ").rename(\n",
    "    columns={\"uniqueDiseasesZscore\": \"globalScore\", \"approvedSymbol\": \"symbol\"}\n",
    ")\n",
    "\n",
    "# Ensure correct column types\n",
    "geneset_disease[\"globalScore\"] = geneset_disease[\"globalScore\"].astype(float)\n",
    "geneset_disease[\"symbol\"] = geneset_disease[\"symbol\"].astype(str)\n",
    "\n",
    "# Save as TSV without the index\n",
    "geneset_disease.to_csv(\"/Users/polina/genetics_gsea/data/input/geneset_disease_zscore.tsv\", sep=\"\\t\", index=False)\n"
   ]
  },
  {
   "cell_type": "code",
   "execution_count": 7,
   "id": "5f29e3d8",
   "metadata": {},
   "outputs": [],
   "source": [
    "geneset_disease = geneset[[\"uniqueTherapeuticAreasZscore\", \"approvedSymbol\"]].sort_values(\n",
    "    by=\"uniqueTherapeuticAreasZscore\", ascending=False\n",
    ").rename(\n",
    "    columns={\"uniqueTherapeuticAreasZscore\": \"globalScore\", \"approvedSymbol\": \"symbol\"}\n",
    ")\n",
    "\n",
    "# Ensure correct column types\n",
    "geneset_disease[\"globalScore\"] = geneset_disease[\"globalScore\"].astype(float)\n",
    "geneset_disease[\"symbol\"] = geneset_disease[\"symbol\"].astype(str)\n",
    "\n",
    "# Save as TSV without the index\n",
    "geneset_disease.to_csv(\"/Users/polina/genetics_gsea/data/input/geneset_ta_zscore.tsv\", sep=\"\\t\", index=False)\n"
   ]
  },
  {
   "cell_type": "markdown",
   "id": "de1cfb7b",
   "metadata": {},
   "source": [
    "# GeneId"
   ]
  },
  {
   "cell_type": "code",
   "execution_count": 4,
   "id": "c35736ea",
   "metadata": {},
   "outputs": [],
   "source": [
    "geneset_disease = geneset[[\"uniqueDiseasesZscore\", \"geneId\"]].sort_values(\n",
    "    by=\"uniqueDiseasesZscore\", ascending=False\n",
    ").rename(\n",
    "    columns={\"uniqueDiseasesZscore\": \"globalScore\", \"geneId\": \"symbol\"}\n",
    ")\n",
    "\n",
    "# Ensure correct column types\n",
    "geneset_disease[\"globalScore\"] = geneset_disease[\"globalScore\"].astype(float)\n",
    "geneset_disease[\"symbol\"] = geneset_disease[\"symbol\"].astype(str)\n",
    "\n",
    "# Save as TSV without the index\n",
    "geneset_disease.to_csv(\"/Users/polina/genetics_gsea/data/input/geneset_disease_zscore_symbol.tsv\", sep=\"\\t\", index=False)\n"
   ]
  },
  {
   "cell_type": "code",
   "execution_count": 5,
   "id": "5d7d0b98",
   "metadata": {},
   "outputs": [],
   "source": [
    "geneset_disease = geneset[[\"uniqueTherapeuticAreasZscore\", \"geneId\"]].sort_values(\n",
    "    by=\"uniqueTherapeuticAreasZscore\", ascending=False\n",
    ").rename(\n",
    "    columns={\"uniqueTherapeuticAreasZscore\": \"globalScore\", \"geneId\": \"symbol\"}\n",
    ")\n",
    "\n",
    "# Ensure correct column types\n",
    "geneset_disease[\"globalScore\"] = geneset_disease[\"globalScore\"].astype(float)\n",
    "geneset_disease[\"symbol\"] = geneset_disease[\"symbol\"].astype(str)\n",
    "\n",
    "# Save as TSV without the index\n",
    "geneset_disease.to_csv(\"/Users/polina/genetics_gsea/data/input/geneset_ta_zscore_symbol.tsv\", sep=\"\\t\", index=False)\n"
   ]
  },
  {
   "cell_type": "code",
   "execution_count": null,
   "id": "e946786c",
   "metadata": {},
   "outputs": [],
   "source": []
  },
  {
   "cell_type": "markdown",
   "id": "264ff0d8",
   "metadata": {},
   "source": []
  }
 ],
 "metadata": {
  "kernelspec": {
   "display_name": "Python 3",
   "language": "python",
   "name": "python3"
  },
  "language_info": {
   "codemirror_mode": {
    "name": "ipython",
    "version": 3
   },
   "file_extension": ".py",
   "mimetype": "text/x-python",
   "name": "python",
   "nbconvert_exporter": "python",
   "pygments_lexer": "ipython3",
   "version": "3.11.6"
  }
 },
 "nbformat": 4,
 "nbformat_minor": 5
}
