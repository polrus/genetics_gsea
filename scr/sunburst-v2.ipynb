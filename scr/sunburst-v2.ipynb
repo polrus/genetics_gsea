{
 "cells": [
  {
   "cell_type": "code",
   "execution_count": 3,
   "id": "1d3ab8a8",
   "metadata": {},
   "outputs": [],
   "source": [
    "import numpy as np\n",
    "import plotly.express as px\n",
    "import pandas as pd"
   ]
  },
  {
   "cell_type": "code",
   "execution_count": 4,
   "id": "27997506",
   "metadata": {},
   "outputs": [],
   "source": [
    "geneset = pd.read_csv(\"/Users/polina/genetics_gsea/data/geneset_annotated/geneset_reactome_2025_disease_v2.csv\")"
   ]
  },
  {
   "cell_type": "code",
   "execution_count": 5,
   "id": "f9bcffdf",
   "metadata": {},
   "outputs": [],
   "source": [
    "pathways = geneset[[\"Term\", \"ID\"]].drop_duplicates().reset_index(drop=True).copy()"
   ]
  },
  {
   "cell_type": "code",
   "execution_count": 6,
   "id": "e756fd63",
   "metadata": {},
   "outputs": [],
   "source": [
    "pathways = pathways.assign(\n",
    "    Term=pathways[\"Term\"].str.split(\";\"),\n",
    "    ID=pathways[\"ID\"].str.split(\";\")\n",
    ")\n",
    "\n",
    "pathways_exploded = pathways.explode([\"Term\", \"ID\"]).drop_duplicates().reset_index(drop=True)"
   ]
  },
  {
   "cell_type": "code",
   "execution_count": 7,
   "id": "45215ad6",
   "metadata": {},
   "outputs": [],
   "source": [
    "hieararchy = pd.read_csv(\"/Users/polina/genetics_gsea/data/gmt/Reactome_2025/Pathways_hierarchy_relationship.txt\", sep=\"\\t\", header=None)\n",
    "hieararchy.columns = [\"parentId\", \"childId\"]"
   ]
  },
  {
   "cell_type": "code",
   "execution_count": 8,
   "id": "8de33025",
   "metadata": {},
   "outputs": [],
   "source": [
    "pathway_hieararchy = pd.merge(pathways_exploded, hieararchy, left_on=\"ID\", right_on=\"childId\", how=\"left\")[[\"ID\", \"parentId\", \"Term\"]]"
   ]
  },
  {
   "cell_type": "code",
   "execution_count": 9,
   "id": "9071ce12",
   "metadata": {},
   "outputs": [],
   "source": [
    "gsea_disease = pd.read_csv(\"/Users/polina/genetics_gsea/data/gsea/from_database/disease_zscore_reactome_2025.tsv\", sep=\"\\t\")"
   ]
  },
  {
   "cell_type": "code",
   "execution_count": 20,
   "id": "c1580b38",
   "metadata": {},
   "outputs": [
    {
     "data": {
      "text/html": [
       "<div>\n",
       "<style scoped>\n",
       "    .dataframe tbody tr th:only-of-type {\n",
       "        vertical-align: middle;\n",
       "    }\n",
       "\n",
       "    .dataframe tbody tr th {\n",
       "        vertical-align: top;\n",
       "    }\n",
       "\n",
       "    .dataframe thead th {\n",
       "        text-align: right;\n",
       "    }\n",
       "</style>\n",
       "<table border=\"1\" class=\"dataframe\">\n",
       "  <thead>\n",
       "    <tr style=\"text-align: right;\">\n",
       "      <th></th>\n",
       "      <th>Term</th>\n",
       "      <th>ID</th>\n",
       "      <th>es</th>\n",
       "      <th>nes</th>\n",
       "      <th>pval</th>\n",
       "      <th>sidak</th>\n",
       "      <th>fdr</th>\n",
       "      <th>geneset_size</th>\n",
       "      <th>leading_edge</th>\n",
       "      <th>propagated_edge</th>\n",
       "    </tr>\n",
       "  </thead>\n",
       "  <tbody>\n",
       "    <tr>\n",
       "      <th>0</th>\n",
       "      <td>Signal Transduction</td>\n",
       "      <td>R-HSA-162582</td>\n",
       "      <td>0.476955</td>\n",
       "      <td>5.879025</td>\n",
       "      <td>4.126910e-09</td>\n",
       "      <td>0.000007</td>\n",
       "      <td>0.000007</td>\n",
       "      <td>1412</td>\n",
       "      <td>CDKN2B,APOE,SH2B3,TERT,SMAD3,TCF7L2,ESR1,MYC,I...</td>\n",
       "      <td>AAMP,AATF,ABCA1,ABCD3,ABCG1,ABCG5,ABCG8,ABHD12...</td>\n",
       "    </tr>\n",
       "    <tr>\n",
       "      <th>1</th>\n",
       "      <td>Fatty Acids bound to GPR40 (FFAR1) regulate in...</td>\n",
       "      <td>R-HSA-434316</td>\n",
       "      <td>-0.724533</td>\n",
       "      <td>-4.992017</td>\n",
       "      <td>5.975189e-07</td>\n",
       "      <td>0.001019</td>\n",
       "      <td>0.000214</td>\n",
       "      <td>5</td>\n",
       "      <td>GNAQ,GNA15,PLCB2,PLCB3</td>\n",
       "      <td>GNA11,GNA14,GNA15,GNAQ,PLCB1,PLCB2,PLCB3</td>\n",
       "    </tr>\n",
       "    <tr>\n",
       "      <th>2</th>\n",
       "      <td>Alpha-defensins</td>\n",
       "      <td>R-HSA-1462054</td>\n",
       "      <td>-0.700975</td>\n",
       "      <td>-4.899360</td>\n",
       "      <td>9.614920e-07</td>\n",
       "      <td>0.001640</td>\n",
       "      <td>0.000214</td>\n",
       "      <td>5</td>\n",
       "      <td>DEFA4,DEFA1,DEFA5,DEFA3</td>\n",
       "      <td>CD4,DEFA1,DEFA3,DEFA4,DEFA5,DEFA6,PRSS2,PRSS3,env</td>\n",
       "    </tr>\n",
       "    <tr>\n",
       "      <th>3</th>\n",
       "      <td>Adrenoceptors</td>\n",
       "      <td>R-HSA-390696</td>\n",
       "      <td>-0.696625</td>\n",
       "      <td>-4.882216</td>\n",
       "      <td>1.049003e-06</td>\n",
       "      <td>0.001789</td>\n",
       "      <td>0.000214</td>\n",
       "      <td>5</td>\n",
       "      <td>ADRA1B,ADRA2B,ADRA1D</td>\n",
       "      <td>ADRA1B,ADRA1D,ADRA2A,ADRA2B,ADRA2C,ADRB1,ADRB2...</td>\n",
       "    </tr>\n",
       "    <tr>\n",
       "      <th>4</th>\n",
       "      <td>RNA Pol II CTD phosphorylation and interaction...</td>\n",
       "      <td>R-HSA-167160</td>\n",
       "      <td>-0.608281</td>\n",
       "      <td>-4.862360</td>\n",
       "      <td>1.159944e-06</td>\n",
       "      <td>0.001978</td>\n",
       "      <td>0.000214</td>\n",
       "      <td>9</td>\n",
       "      <td>GTF2H1,GTF2H5,POLR2B,MNAT1,ERCC3,CDK7,POLR2F</td>\n",
       "      <td>CDK7,ERCC2,ERCC3,GTF2F1,GTF2F2,GTF2H1,GTF2H2,G...</td>\n",
       "    </tr>\n",
       "    <tr>\n",
       "      <th>...</th>\n",
       "      <td>...</td>\n",
       "      <td>...</td>\n",
       "      <td>...</td>\n",
       "      <td>...</td>\n",
       "      <td>...</td>\n",
       "      <td>...</td>\n",
       "      <td>...</td>\n",
       "      <td>...</td>\n",
       "      <td>...</td>\n",
       "      <td>...</td>\n",
       "    </tr>\n",
       "    <tr>\n",
       "      <th>1702</th>\n",
       "      <td>Nonsense-Mediated Decay (NMD)</td>\n",
       "      <td>R-HSA-927802</td>\n",
       "      <td>0.327343</td>\n",
       "      <td>-0.000000</td>\n",
       "      <td>1.000000e+00</td>\n",
       "      <td>1.000000</td>\n",
       "      <td>1.000000</td>\n",
       "      <td>44</td>\n",
       "      <td>SMG6</td>\n",
       "      <td>28S rRNA,5.8S rRNA,5S rRNA,CASC3,DCP1A,EIF4A3,...</td>\n",
       "    </tr>\n",
       "    <tr>\n",
       "      <th>1703</th>\n",
       "      <td>Norepinephrine Neurotransmitter Release Cycle</td>\n",
       "      <td>R-HSA-181430</td>\n",
       "      <td>0.295406</td>\n",
       "      <td>-0.000000</td>\n",
       "      <td>1.000000e+00</td>\n",
       "      <td>1.000000</td>\n",
       "      <td>1.000000</td>\n",
       "      <td>11</td>\n",
       "      <td>SLC22A1</td>\n",
       "      <td>MAOA,PPFIA1,PPFIA2,PPFIA3,PPFIA4,RAB3A,RIMS1,S...</td>\n",
       "    </tr>\n",
       "    <tr>\n",
       "      <th>1704</th>\n",
       "      <td>Nuclear Envelope (NE) Reassembly</td>\n",
       "      <td>R-HSA-2995410</td>\n",
       "      <td>0.156919</td>\n",
       "      <td>-0.000000</td>\n",
       "      <td>1.000000e+00</td>\n",
       "      <td>1.000000</td>\n",
       "      <td>1.000000</td>\n",
       "      <td>32</td>\n",
       "      <td>NaN</td>\n",
       "      <td>ANKLE2,BANF1,CC2D1B,CCNB1,CCNB2,CDK1,CHMP2A,CH...</td>\n",
       "    </tr>\n",
       "    <tr>\n",
       "      <th>1705</th>\n",
       "      <td>Neuronal System</td>\n",
       "      <td>R-HSA-112316</td>\n",
       "      <td>0.284462</td>\n",
       "      <td>-0.000000</td>\n",
       "      <td>1.000000e+00</td>\n",
       "      <td>1.000000</td>\n",
       "      <td>1.000000</td>\n",
       "      <td>219</td>\n",
       "      <td>SYN3,ADCY5,CAMK2D,PRKAG2,CHRNA4,ERBB4,SLC22A2,...</td>\n",
       "      <td>ABCC8,ABCC9,ACHE,ACTN2,ADCY1,ADCY2,ADCY3,ADCY4...</td>\n",
       "    </tr>\n",
       "    <tr>\n",
       "      <th>1706</th>\n",
       "      <td>trans-Golgi Network Vesicle Budding</td>\n",
       "      <td>R-HSA-199992</td>\n",
       "      <td>0.276009</td>\n",
       "      <td>-0.000000</td>\n",
       "      <td>1.000000e+00</td>\n",
       "      <td>1.000000</td>\n",
       "      <td>1.000000</td>\n",
       "      <td>38</td>\n",
       "      <td>NaN</td>\n",
       "      <td>AP1B1,AP1G1,AP1G2,AP1M1,AP1M2,AP1S1,AP1S2,AP1S...</td>\n",
       "    </tr>\n",
       "  </tbody>\n",
       "</table>\n",
       "<p>1707 rows × 10 columns</p>\n",
       "</div>"
      ],
      "text/plain": [
       "                                                   Term             ID  \\\n",
       "0                                   Signal Transduction   R-HSA-162582   \n",
       "1     Fatty Acids bound to GPR40 (FFAR1) regulate in...   R-HSA-434316   \n",
       "2                                       Alpha-defensins  R-HSA-1462054   \n",
       "3                                         Adrenoceptors   R-HSA-390696   \n",
       "4     RNA Pol II CTD phosphorylation and interaction...   R-HSA-167160   \n",
       "...                                                 ...            ...   \n",
       "1702                      Nonsense-Mediated Decay (NMD)   R-HSA-927802   \n",
       "1703      Norepinephrine Neurotransmitter Release Cycle   R-HSA-181430   \n",
       "1704                   Nuclear Envelope (NE) Reassembly  R-HSA-2995410   \n",
       "1705                                    Neuronal System   R-HSA-112316   \n",
       "1706                trans-Golgi Network Vesicle Budding   R-HSA-199992   \n",
       "\n",
       "            es       nes          pval     sidak       fdr  geneset_size  \\\n",
       "0     0.476955  5.879025  4.126910e-09  0.000007  0.000007          1412   \n",
       "1    -0.724533 -4.992017  5.975189e-07  0.001019  0.000214             5   \n",
       "2    -0.700975 -4.899360  9.614920e-07  0.001640  0.000214             5   \n",
       "3    -0.696625 -4.882216  1.049003e-06  0.001789  0.000214             5   \n",
       "4    -0.608281 -4.862360  1.159944e-06  0.001978  0.000214             9   \n",
       "...        ...       ...           ...       ...       ...           ...   \n",
       "1702  0.327343 -0.000000  1.000000e+00  1.000000  1.000000            44   \n",
       "1703  0.295406 -0.000000  1.000000e+00  1.000000  1.000000            11   \n",
       "1704  0.156919 -0.000000  1.000000e+00  1.000000  1.000000            32   \n",
       "1705  0.284462 -0.000000  1.000000e+00  1.000000  1.000000           219   \n",
       "1706  0.276009 -0.000000  1.000000e+00  1.000000  1.000000            38   \n",
       "\n",
       "                                           leading_edge  \\\n",
       "0     CDKN2B,APOE,SH2B3,TERT,SMAD3,TCF7L2,ESR1,MYC,I...   \n",
       "1                                GNAQ,GNA15,PLCB2,PLCB3   \n",
       "2                               DEFA4,DEFA1,DEFA5,DEFA3   \n",
       "3                                  ADRA1B,ADRA2B,ADRA1D   \n",
       "4          GTF2H1,GTF2H5,POLR2B,MNAT1,ERCC3,CDK7,POLR2F   \n",
       "...                                                 ...   \n",
       "1702                                               SMG6   \n",
       "1703                                            SLC22A1   \n",
       "1704                                                NaN   \n",
       "1705  SYN3,ADCY5,CAMK2D,PRKAG2,CHRNA4,ERBB4,SLC22A2,...   \n",
       "1706                                                NaN   \n",
       "\n",
       "                                        propagated_edge  \n",
       "0     AAMP,AATF,ABCA1,ABCD3,ABCG1,ABCG5,ABCG8,ABHD12...  \n",
       "1              GNA11,GNA14,GNA15,GNAQ,PLCB1,PLCB2,PLCB3  \n",
       "2     CD4,DEFA1,DEFA3,DEFA4,DEFA5,DEFA6,PRSS2,PRSS3,env  \n",
       "3     ADRA1B,ADRA1D,ADRA2A,ADRA2B,ADRA2C,ADRB1,ADRB2...  \n",
       "4     CDK7,ERCC2,ERCC3,GTF2F1,GTF2F2,GTF2H1,GTF2H2,G...  \n",
       "...                                                 ...  \n",
       "1702  28S rRNA,5.8S rRNA,5S rRNA,CASC3,DCP1A,EIF4A3,...  \n",
       "1703  MAOA,PPFIA1,PPFIA2,PPFIA3,PPFIA4,RAB3A,RIMS1,S...  \n",
       "1704  ANKLE2,BANF1,CC2D1B,CCNB1,CCNB2,CDK1,CHMP2A,CH...  \n",
       "1705  ABCC8,ABCC9,ACHE,ACTN2,ADCY1,ADCY2,ADCY3,ADCY4...  \n",
       "1706  AP1B1,AP1G1,AP1G2,AP1M1,AP1M2,AP1S1,AP1S2,AP1S...  \n",
       "\n",
       "[1707 rows x 10 columns]"
      ]
     },
     "execution_count": 20,
     "metadata": {},
     "output_type": "execute_result"
    }
   ],
   "source": [
    "gsea_disease"
   ]
  },
  {
   "cell_type": "code",
   "execution_count": 10,
   "id": "76925c80",
   "metadata": {},
   "outputs": [],
   "source": [
    "pathway_hieararchy_gsea = pd.merge(pathway_hieararchy, gsea_disease, left_on=\"ID\", right_on=\"ID\", how=\"left\")[[\"ID\", \"parentId\", \"Term_x\", \"nes\", \"fdr\"]].rename(columns={\"Term_x\": \"Term\"})"
   ]
  },
  {
   "cell_type": "markdown",
   "id": "5080bed0",
   "metadata": {},
   "source": [
    "# Plot parents that were not enriched in grey"
   ]
  },
  {
   "cell_type": "code",
   "execution_count": 60,
   "id": "b02ebcd8",
   "metadata": {},
   "outputs": [],
   "source": [
    "# Filter pathways by FDR\n",
    "pathway_hieararchy_gsea_001 = pathway_hieararchy_gsea[pathway_hieararchy_gsea[\"fdr\"] < 0.001].copy()"
   ]
  },
  {
   "cell_type": "code",
   "execution_count": 61,
   "id": "40f70e59",
   "metadata": {},
   "outputs": [],
   "source": [
    "hieararchy = pd.read_csv(\"/Users/polina/genetics_gsea/data/gmt/Reactome_2025/Pathways_hierarchy_relationship.txt\", sep=\"\\t\", header=None)"
   ]
  },
  {
   "cell_type": "code",
   "execution_count": 62,
   "id": "0508b0da",
   "metadata": {},
   "outputs": [],
   "source": [
    "hieararchy.rename(columns={0: \"parentId\", 1: \"childId\"}, inplace=True)"
   ]
  },
  {
   "cell_type": "code",
   "execution_count": 63,
   "id": "d0087839",
   "metadata": {},
   "outputs": [
    {
     "data": {
      "text/html": [
       "<div>\n",
       "<style scoped>\n",
       "    .dataframe tbody tr th:only-of-type {\n",
       "        vertical-align: middle;\n",
       "    }\n",
       "\n",
       "    .dataframe tbody tr th {\n",
       "        vertical-align: top;\n",
       "    }\n",
       "\n",
       "    .dataframe thead th {\n",
       "        text-align: right;\n",
       "    }\n",
       "</style>\n",
       "<table border=\"1\" class=\"dataframe\">\n",
       "  <thead>\n",
       "    <tr style=\"text-align: right;\">\n",
       "      <th></th>\n",
       "      <th>ID</th>\n",
       "      <th>parentId</th>\n",
       "      <th>Term</th>\n",
       "      <th>nes</th>\n",
       "      <th>fdr</th>\n",
       "    </tr>\n",
       "  </thead>\n",
       "  <tbody>\n",
       "    <tr>\n",
       "      <th>0</th>\n",
       "      <td>R-HSA-162582</td>\n",
       "      <td>NaN</td>\n",
       "      <td>Signal Transduction</td>\n",
       "      <td>5.879025</td>\n",
       "      <td>0.000007</td>\n",
       "    </tr>\n",
       "    <tr>\n",
       "      <th>1</th>\n",
       "      <td>R-HSA-212436</td>\n",
       "      <td>R-HSA-73857</td>\n",
       "      <td>Generic Transcription Pathway</td>\n",
       "      <td>4.456707</td>\n",
       "      <td>0.000382</td>\n",
       "    </tr>\n",
       "    <tr>\n",
       "      <th>2</th>\n",
       "      <td>R-HSA-73857</td>\n",
       "      <td>R-HSA-74160</td>\n",
       "      <td>RNA Polymerase II Transcription</td>\n",
       "      <td>4.202785</td>\n",
       "      <td>0.000634</td>\n",
       "    </tr>\n",
       "    <tr>\n",
       "      <th>3</th>\n",
       "      <td>R-HSA-74160</td>\n",
       "      <td>NaN</td>\n",
       "      <td>Gene expression (Transcription)</td>\n",
       "      <td>4.022728</td>\n",
       "      <td>0.000928</td>\n",
       "    </tr>\n",
       "    <tr>\n",
       "      <th>4</th>\n",
       "      <td>R-HSA-1280215</td>\n",
       "      <td>R-HSA-168256</td>\n",
       "      <td>Cytokine Signaling in Immune system</td>\n",
       "      <td>4.523809</td>\n",
       "      <td>0.000357</td>\n",
       "    </tr>\n",
       "    <tr>\n",
       "      <th>...</th>\n",
       "      <td>...</td>\n",
       "      <td>...</td>\n",
       "      <td>...</td>\n",
       "      <td>...</td>\n",
       "      <td>...</td>\n",
       "    </tr>\n",
       "    <tr>\n",
       "      <th>226</th>\n",
       "      <td>R-HSA-5250941</td>\n",
       "      <td>R-HSA-212165</td>\n",
       "      <td>NaN</td>\n",
       "      <td>0.000000</td>\n",
       "      <td>NaN</td>\n",
       "    </tr>\n",
       "    <tr>\n",
       "      <th>227</th>\n",
       "      <td>R-HSA-1461973</td>\n",
       "      <td>R-HSA-6803157</td>\n",
       "      <td>NaN</td>\n",
       "      <td>0.000000</td>\n",
       "      <td>NaN</td>\n",
       "    </tr>\n",
       "    <tr>\n",
       "      <th>228</th>\n",
       "      <td>R-HSA-6803157</td>\n",
       "      <td>R-HSA-168249</td>\n",
       "      <td>NaN</td>\n",
       "      <td>0.000000</td>\n",
       "      <td>NaN</td>\n",
       "    </tr>\n",
       "    <tr>\n",
       "      <th>229</th>\n",
       "      <td>R-HSA-425397</td>\n",
       "      <td>R-HSA-425407</td>\n",
       "      <td>NaN</td>\n",
       "      <td>0.000000</td>\n",
       "      <td>NaN</td>\n",
       "    </tr>\n",
       "    <tr>\n",
       "      <th>230</th>\n",
       "      <td>R-HSA-425407</td>\n",
       "      <td>R-HSA-382551</td>\n",
       "      <td>NaN</td>\n",
       "      <td>0.000000</td>\n",
       "      <td>NaN</td>\n",
       "    </tr>\n",
       "  </tbody>\n",
       "</table>\n",
       "<p>231 rows × 5 columns</p>\n",
       "</div>"
      ],
      "text/plain": [
       "                ID       parentId                                 Term  \\\n",
       "0     R-HSA-162582            NaN                  Signal Transduction   \n",
       "1     R-HSA-212436    R-HSA-73857        Generic Transcription Pathway   \n",
       "2      R-HSA-73857    R-HSA-74160      RNA Polymerase II Transcription   \n",
       "3      R-HSA-74160            NaN      Gene expression (Transcription)   \n",
       "4    R-HSA-1280215   R-HSA-168256  Cytokine Signaling in Immune system   \n",
       "..             ...            ...                                  ...   \n",
       "226  R-HSA-5250941   R-HSA-212165                                  NaN   \n",
       "227  R-HSA-1461973  R-HSA-6803157                                  NaN   \n",
       "228  R-HSA-6803157   R-HSA-168249                                  NaN   \n",
       "229   R-HSA-425397   R-HSA-425407                                  NaN   \n",
       "230   R-HSA-425407   R-HSA-382551                                  NaN   \n",
       "\n",
       "          nes       fdr  \n",
       "0    5.879025  0.000007  \n",
       "1    4.456707  0.000382  \n",
       "2    4.202785  0.000634  \n",
       "3    4.022728  0.000928  \n",
       "4    4.523809  0.000357  \n",
       "..        ...       ...  \n",
       "226  0.000000       NaN  \n",
       "227  0.000000       NaN  \n",
       "228  0.000000       NaN  \n",
       "229  0.000000       NaN  \n",
       "230  0.000000       NaN  \n",
       "\n",
       "[231 rows x 5 columns]"
      ]
     },
     "execution_count": 63,
     "metadata": {},
     "output_type": "execute_result"
    }
   ],
   "source": [
    "# Recreate full hierarchical tree for pathway_hieararchy_gsea_001 by adding ancestor rows\n",
    "# Build child -> parent mapping from the Reactome hierarchy table\n",
    "# Expecting `hieararchy` with columns [\"parentId\", \"childId\"] already loaded\n",
    "child_to_parent = dict(zip(hieararchy[\"childId\"], hieararchy[\"parentId\"]))\n",
    "\n",
    "base_df = pathway_hieararchy_gsea_001.copy()\n",
    "\n",
    "# Start with all rows in base_df\n",
    "rows_to_add = []\n",
    "existing_ids = set(base_df[\"ID\"].astype(str))\n",
    "\n",
    "# For each row, climb up the parent chain and add missing ancestor rows\n",
    "for _, row in base_df.iterrows():\n",
    "    current_parent = row[\"parentId\"]\n",
    "    visited = set()\n",
    "    while isinstance(current_parent, str) and current_parent and (current_parent not in visited):\n",
    "        visited.add(current_parent)\n",
    "        # Determine this parent's parent from the mapping (if any)\n",
    "        next_parent = child_to_parent.get(current_parent, None)\n",
    "        # Add the row for the current parent if it's not already present\n",
    "        if current_parent not in existing_ids:\n",
    "            rows_to_add.append({\n",
    "                \"ID\": current_parent,\n",
    "                \"parentId\": next_parent if isinstance(next_parent, str) else np.nan,\n",
    "                \"Term\": np.nan,\n",
    "                \"nes\": 0,\n",
    "                \"fdr\": np.nan\n",
    "            })\n",
    "            existing_ids.add(current_parent)\n",
    "        # Move up the chain\n",
    "        current_parent = next_parent\n",
    "\n",
    "# Append new rows, if any, and reset index\n",
    "if rows_to_add:\n",
    "    ancestors_df = pd.DataFrame(rows_to_add, columns=[\"ID\", \"parentId\", \"Term\", \"nes\", \"fdr\"]).drop_duplicates()\n",
    "    pathway_hieararchy_gsea_001_expanded = pd.concat([base_df, ancestors_df], ignore_index=True)\n",
    "else:\n",
    "    pathway_hieararchy_gsea_001_expanded = base_df.copy()\n",
    "\n",
    "pathway_hieararchy_gsea_001_expanded"
   ]
  },
  {
   "cell_type": "code",
   "execution_count": 64,
   "id": "56a37c16",
   "metadata": {},
   "outputs": [
    {
     "data": {
      "text/html": [
       "<div>\n",
       "<style scoped>\n",
       "    .dataframe tbody tr th:only-of-type {\n",
       "        vertical-align: middle;\n",
       "    }\n",
       "\n",
       "    .dataframe tbody tr th {\n",
       "        vertical-align: top;\n",
       "    }\n",
       "\n",
       "    .dataframe thead th {\n",
       "        text-align: right;\n",
       "    }\n",
       "</style>\n",
       "<table border=\"1\" class=\"dataframe\">\n",
       "  <thead>\n",
       "    <tr style=\"text-align: right;\">\n",
       "      <th></th>\n",
       "      <th>ID</th>\n",
       "      <th>parentId</th>\n",
       "      <th>Term</th>\n",
       "      <th>nes</th>\n",
       "      <th>fdr</th>\n",
       "    </tr>\n",
       "  </thead>\n",
       "  <tbody>\n",
       "    <tr>\n",
       "      <th>0</th>\n",
       "      <td>R-HSA-162582</td>\n",
       "      <td>NaN</td>\n",
       "      <td>Signal Transduction</td>\n",
       "      <td>5.879025</td>\n",
       "      <td>0.000007</td>\n",
       "    </tr>\n",
       "    <tr>\n",
       "      <th>1</th>\n",
       "      <td>R-HSA-212436</td>\n",
       "      <td>R-HSA-73857</td>\n",
       "      <td>Generic Transcription Pathway</td>\n",
       "      <td>4.456707</td>\n",
       "      <td>0.000382</td>\n",
       "    </tr>\n",
       "    <tr>\n",
       "      <th>2</th>\n",
       "      <td>R-HSA-73857</td>\n",
       "      <td>R-HSA-74160</td>\n",
       "      <td>RNA Polymerase II Transcription</td>\n",
       "      <td>4.202785</td>\n",
       "      <td>0.000634</td>\n",
       "    </tr>\n",
       "    <tr>\n",
       "      <th>3</th>\n",
       "      <td>R-HSA-74160</td>\n",
       "      <td>NaN</td>\n",
       "      <td>Gene expression (Transcription)</td>\n",
       "      <td>4.022728</td>\n",
       "      <td>0.000928</td>\n",
       "    </tr>\n",
       "    <tr>\n",
       "      <th>4</th>\n",
       "      <td>R-HSA-1280215</td>\n",
       "      <td>R-HSA-168256</td>\n",
       "      <td>Cytokine Signaling in Immune system</td>\n",
       "      <td>4.523809</td>\n",
       "      <td>0.000357</td>\n",
       "    </tr>\n",
       "    <tr>\n",
       "      <th>...</th>\n",
       "      <td>...</td>\n",
       "      <td>...</td>\n",
       "      <td>...</td>\n",
       "      <td>...</td>\n",
       "      <td>...</td>\n",
       "    </tr>\n",
       "    <tr>\n",
       "      <th>226</th>\n",
       "      <td>R-HSA-5250941</td>\n",
       "      <td>R-HSA-212165</td>\n",
       "      <td>Negative epigenetic regulation of rRNA expression</td>\n",
       "      <td>0.000000</td>\n",
       "      <td>NaN</td>\n",
       "    </tr>\n",
       "    <tr>\n",
       "      <th>227</th>\n",
       "      <td>R-HSA-1461973</td>\n",
       "      <td>R-HSA-6803157</td>\n",
       "      <td>Defensins</td>\n",
       "      <td>0.000000</td>\n",
       "      <td>NaN</td>\n",
       "    </tr>\n",
       "    <tr>\n",
       "      <th>228</th>\n",
       "      <td>R-HSA-6803157</td>\n",
       "      <td>R-HSA-168249</td>\n",
       "      <td>Antimicrobial peptides</td>\n",
       "      <td>0.000000</td>\n",
       "      <td>NaN</td>\n",
       "    </tr>\n",
       "    <tr>\n",
       "      <th>229</th>\n",
       "      <td>R-HSA-425397</td>\n",
       "      <td>R-HSA-425407</td>\n",
       "      <td>Transport of vitamins, nucleosides, and relate...</td>\n",
       "      <td>0.000000</td>\n",
       "      <td>NaN</td>\n",
       "    </tr>\n",
       "    <tr>\n",
       "      <th>230</th>\n",
       "      <td>R-HSA-425407</td>\n",
       "      <td>R-HSA-382551</td>\n",
       "      <td>SLC-mediated transmembrane transport</td>\n",
       "      <td>0.000000</td>\n",
       "      <td>NaN</td>\n",
       "    </tr>\n",
       "  </tbody>\n",
       "</table>\n",
       "<p>231 rows × 5 columns</p>\n",
       "</div>"
      ],
      "text/plain": [
       "                ID       parentId  \\\n",
       "0     R-HSA-162582            NaN   \n",
       "1     R-HSA-212436    R-HSA-73857   \n",
       "2      R-HSA-73857    R-HSA-74160   \n",
       "3      R-HSA-74160            NaN   \n",
       "4    R-HSA-1280215   R-HSA-168256   \n",
       "..             ...            ...   \n",
       "226  R-HSA-5250941   R-HSA-212165   \n",
       "227  R-HSA-1461973  R-HSA-6803157   \n",
       "228  R-HSA-6803157   R-HSA-168249   \n",
       "229   R-HSA-425397   R-HSA-425407   \n",
       "230   R-HSA-425407   R-HSA-382551   \n",
       "\n",
       "                                                  Term       nes       fdr  \n",
       "0                                  Signal Transduction  5.879025  0.000007  \n",
       "1                        Generic Transcription Pathway  4.456707  0.000382  \n",
       "2                      RNA Polymerase II Transcription  4.202785  0.000634  \n",
       "3                      Gene expression (Transcription)  4.022728  0.000928  \n",
       "4                  Cytokine Signaling in Immune system  4.523809  0.000357  \n",
       "..                                                 ...       ...       ...  \n",
       "226  Negative epigenetic regulation of rRNA expression  0.000000       NaN  \n",
       "227                                          Defensins  0.000000       NaN  \n",
       "228                             Antimicrobial peptides  0.000000       NaN  \n",
       "229  Transport of vitamins, nucleosides, and relate...  0.000000       NaN  \n",
       "230               SLC-mediated transmembrane transport  0.000000       NaN  \n",
       "\n",
       "[231 rows x 5 columns]"
      ]
     },
     "execution_count": 64,
     "metadata": {},
     "output_type": "execute_result"
    }
   ],
   "source": [
    "# Fill Term only for rows where Term is NaN, using complete_list_of_pathways\n",
    "complete_path = \"/Users/polina/genetics_gsea/data/gmt/Reactome_2025/complete_list_of_pathways.txt\"\n",
    "complete_df = pd.read_csv(complete_path, sep=\"\\t\", header=None, names=[\"ID\", \"Term\", \"extra\"], dtype=str)[[\"ID\", \"Term\"]]\n",
    "\n",
    "# Choose source table (prefer expanded; else base filtered)\n",
    "try:\n",
    "    target_df = pathway_hieararchy_gsea_001_expanded.copy()\n",
    "except NameError:\n",
    "    target_df = pathway_hieararchy_gsea_001.copy()\n",
    "\n",
    "# Ensure strings\n",
    "target_df[\"ID\"] = target_df[\"ID\"].astype(str)\n",
    "complete_df[\"ID\"] = complete_df[\"ID\"].astype(str)\n",
    "\n",
    "# Build mapping and fill only NaN Terms\n",
    "term_map = dict(zip(complete_df[\"ID\"], complete_df[\"Term\"]))\n",
    "mask_na_term = target_df[\"Term\"].isna()\n",
    "target_df.loc[mask_na_term, \"Term\"] = target_df.loc[mask_na_term, \"ID\"].map(term_map)\n",
    "\n",
    "# Output updated table without adding new IDs\n",
    "pathway_hieararchy_gsea_001_full = target_df\n",
    "pathway_hieararchy_gsea_001_full\n"
   ]
  },
  {
   "cell_type": "code",
   "execution_count": 65,
   "id": "127596e0",
   "metadata": {},
   "outputs": [],
   "source": [
    "# Merge NES/FDR from gsea_disease into pathway_hieararchy_gsea_001_full by ID\n",
    "# Keep only rows that exist in pathway_hieararchy_gsea_001_full (left-merge)\n",
    "# Fill missing NES with 0 and FDR with NaN\n",
    "\n",
    "def merge_nes_fdr(path_df: pd.DataFrame, gsea_df: pd.DataFrame) -> pd.DataFrame:\n",
    "    cols_needed = [\"ID\", \"nes\", \"fdr\"]\n",
    "    gsea_min = gsea_df[[c for c in cols_needed if c in gsea_df.columns]].copy()\n",
    "    out = path_df.merge(gsea_min, on=\"ID\", how=\"left\", suffixes=(\"\", \"_gsea\"))\n",
    "    if \"nes\" not in out.columns:\n",
    "        out[\"nes\"] = np.nan\n",
    "    if \"fdr\" not in out.columns:\n",
    "        out[\"fdr\"] = np.nan\n",
    "    out[\"nes\"] = out[\"nes\"].fillna(0)\n",
    "    out[\"fdr\"] = out[\"fdr\"].astype(float)\n",
    "    return out\n",
    "\n",
    "# Apply\n",
    "pathway_hieararchy_gsea_001_full_nes = merge_nes_fdr(pathway_hieararchy_gsea_001_full, gsea_disease)\n",
    "plot = pathway_hieararchy_gsea_001_full_nes[[\"Term\" ,\"ID\", \"nes_gsea\", \"fdr_gsea\", \"parentId\"]].rename(columns={\"nes_gsea\": \"nes\", \"fdr_gsea\": \"fdr\"})"
   ]
  },
  {
   "cell_type": "code",
   "execution_count": 151,
   "id": "df64ba09",
   "metadata": {},
   "outputs": [],
   "source": [
    "import plotly.express as px\n",
    "import plotly.graph_objects as go\n",
    "import pandas as pd\n",
    "import numpy as np\n",
    "# import pprint\n",
    "\n",
    "\n",
    "def plot_sunburst(df, width=1100, height=800, show_labels=True, labels='all'):\n",
    "    df = df.copy()\n",
    "    df[\"parentId\"] = df[\"parentId\"].fillna(\"ROOT\")\n",
    "    valid_ids = set(df[\"ID\"])\n",
    "    df.loc[~df[\"parentId\"].isin(valid_ids) & (df[\"parentId\"] != \"ROOT\"), \"parentId\"] = \"ROOT\"\n",
    "\n",
    "    # simplified wrapping\n",
    "    df[\"wrapped_term\"] = df[\"Term\"]\n",
    "\n",
    "    root = pd.DataFrame([{\n",
    "        \"ID\": \"ROOT\",\n",
    "        \"parentId\": \"\",\n",
    "        \"wrapped_term\": \"Reactome pathways\",\n",
    "        \"Term\": \"Reactome pathways\",\n",
    "        \"nes\": 0\n",
    "    }])\n",
    "    df = pd.concat([df, root], ignore_index=True)\n",
    "\n",
    "    color_scale = ['#0571b0','#92c5de','#f7f7f7','#f4a582','#ca0020']\n",
    "\n",
    "    text_colors = [\n",
    "        '#2F4F4F' if term == \"Reactome pathways\" else (\n",
    "            '#A9A9A9' if (pd.notna(nes_val) and float(nes_val) == 0) else 'white'\n",
    "        )\n",
    "        for term, nes_val in zip(df[\"Term\"], df[\"nes\"])\n",
    "    ]\n",
    "\n",
    "    df.loc[df[\"ID\"].eq(\"ROOT\"), \"wrapped_term\"] = \" \"\n",
    "\n",
    "    if not show_labels:\n",
    "        effective_labels = 'none'\n",
    "    else:\n",
    "        lbl = str(labels).strip().lower()\n",
    "        if lbl in {'none', 'no', 'off', 'false'}:\n",
    "            effective_labels = 'none'\n",
    "        elif lbl in {'root', 'root_only', 'rootonly', 'first', 'rootlevel', 'root_level'}:\n",
    "            effective_labels = 'root_only'\n",
    "        else:\n",
    "            effective_labels = 'all'\n",
    "\n",
    "    if effective_labels == 'none':\n",
    "        df['label_to_show'] = ''\n",
    "    elif effective_labels == 'root_only':\n",
    "        df['label_to_show'] = df.apply(\n",
    "            lambda r: (r['wrapped_term'] if (r['parentId'] == 'ROOT' and r['ID'] != 'ROOT') else ''),\n",
    "            axis=1\n",
    "        )\n",
    "    else:\n",
    "        df['label_to_show'] = df.apply(lambda r: ('' if r['ID'] == 'ROOT' else r['wrapped_term']), axis=1)\n",
    "\n",
    "    fig = px.sunburst(\n",
    "        df,\n",
    "        names=\"wrapped_term\",\n",
    "        ids=\"ID\",\n",
    "        parents=\"parentId\",\n",
    "        values=None,\n",
    "        color=\"nes\",\n",
    "        color_continuous_scale=color_scale,\n",
    "        color_continuous_midpoint=0,\n",
    "        branchvalues='total',\n",
    "        width=width,\n",
    "        height=height\n",
    "    )\n",
    "\n",
    "    fig.update_layout(\n",
    "        margin=dict(t=50, l=50, r=50, b=50),\n",
    "        coloraxis_colorbar=dict(\n",
    "            title=dict(text=\"NES\", font=dict(size=16)),\n",
    "            tickvals=[-5, -2.5, 0, 2.5, 5],\n",
    "            tickfont=dict(size=14),\n",
    "            ticks=\"outside\",\n",
    "            thickness=20,\n",
    "            len=0.6\n",
    "        ),\n",
    "        font=dict(size=14)\n",
    "    )\n",
    "\n",
    "    fig.update_traces(\n",
    "        insidetextorientation='radial',\n",
    "        textfont=dict(size=14, family=\"Arial\", color=text_colors),\n",
    "        hovertemplate='<b>%{customdata[0]}</b><br>NES: %{color:.2f}<extra></extra>',\n",
    "        customdata=df[[\"Term\"]],\n",
    "        text=df['label_to_show'],\n",
    "        textinfo='text',\n",
    "        texttemplate='<b>%{text}</b>'\n",
    "    )\n",
    "\n",
    "    # # === Add duplicated labels on outer ring ===\n",
    "    # annotations = []\n",
    "    # trace = fig.data[0]\n",
    "\n",
    "    # domain = getattr(trace, \"domain\")\n",
    "    # x0, x1 = domain[\"x\"][0], domain[\"x\"][1]\n",
    "    # pprint.pprint(fig.to_dict(), width=200)\n",
    "\n",
    "    # for i, lbl in enumerate(trace.labels):\n",
    "    #     if lbl.strip() == \"\" or lbl == \"Reactome pathways\":\n",
    "    #         continue\n",
    "    #     # sector middle angle (radians)\n",
    "    #     theta = 180 #(trace.theta[i] + trace.theta[i] + trace.thetaunit[i]) / 2 if hasattr(trace, \"theta\") else None\n",
    "    #     if theta is None:\n",
    "    #         print(theta)\n",
    "    #         continue\n",
    "\n",
    "    #     # convert polar to cartesian, push outward\n",
    "    #     r = 0.4 #trace.r[i] * 1.15\n",
    "    #     x = r * np.cos(np.deg2rad(theta)) + 0.5\n",
    "    #     y = r * np.sin(np.deg2rad(theta)) + 0.5\n",
    "\n",
    "    #     annotations.append(dict(\n",
    "    #         x=x, y=y, text=lbl,\n",
    "    #         showarrow=False,\n",
    "    #         textangle=theta + 90,\n",
    "    #         font=dict(size=12, color=\"black\"),\n",
    "    #         xanchor=\"center\", yanchor=\"middle\"\n",
    "    #     ))\n",
    "\n",
    "    # fig.update_layout(annotations=annotations)\n",
    "\n",
    "    return fig\n"
   ]
  },
  {
   "cell_type": "code",
   "execution_count": 153,
   "id": "689d047a",
   "metadata": {},
   "outputs": [
    {
     "data": {
      "application/vnd.plotly.v1+json": {
       "config": {
        "plotlyServerURL": "https://plot.ly"
       },
       "data": [
        {
         "branchvalues": "total",
         "customdata": [
          [
           "Signal Transduction"
          ],
          [
           "Generic Transcription Pathway"
          ],
          [
           "RNA Polymerase II Transcription"
          ],
          [
           "Gene expression (Transcription)"
          ],
          [
           "Cytokine Signaling in Immune system"
          ],
          [
           "Immune System"
          ],
          [
           "Developmental Biology"
          ],
          [
           "Formation of HIV elongation complex in the absence of HIV Tat"
          ],
          [
           "Tat-mediated elongation of the HIV-1 transcript"
          ],
          [
           "HIV Transcription Elongation"
          ],
          [
           "Formation of HIV-1 elongation complex containing HIV-1 Tat"
          ],
          [
           "Synthesis of PIPs at the Golgi membrane"
          ],
          [
           "Transferrin endocytosis and recycling"
          ],
          [
           "Presynaptic depolarization and calcium channel opening"
          ],
          [
           "Vitamin B5 (pantothenate) metabolism"
          ],
          [
           "Endosomal Sorting Complex Required For Transport (ESCRT)"
          ],
          [
           "Formation of the Early Elongation Complex"
          ],
          [
           "Formation of the HIV-1 Early Elongation Complex"
          ],
          [
           "Regulation of signaling by NODAL"
          ],
          [
           "ADP signalling through P2Y purinoceptor 1"
          ],
          [
           "Atorvastatin ADME"
          ],
          [
           "Mitochondrial calcium ion transport"
          ],
          [
           "Complex I biogenesis"
          ],
          [
           "IRF3-mediated induction of type I IFN"
          ],
          [
           "Cyclin A/B1/B2 associated events during G2/M transition"
          ],
          [
           "Glycogen metabolism"
          ],
          [
           "Prednisone ADME"
          ],
          [
           "Ephrin signaling"
          ],
          [
           "Adrenoceptors"
          ],
          [
           "Postmitotic nuclear pore complex (NPC) reformation"
          ],
          [
           "E2F mediated regulation of DNA replication"
          ],
          [
           "Transcription of E2F targets under negative control by p107 (RBL1) and p130 (RBL2) in complex with HDAC1"
          ],
          [
           "Assembly of the ORC complex at the origin of replication"
          ],
          [
           "Killing mechanisms"
          ],
          [
           "WNT5:FZD7-mediated leishmania damping"
          ],
          [
           "Interaction With Cumulus Cells And The Zona Pellucida"
          ],
          [
           "tRNA Aminoacylation"
          ],
          [
           "mTORC1-mediated signalling"
          ],
          [
           "Post-chaperonin tubulin folding pathway"
          ],
          [
           "Fatty Acids bound to GPR40 (FFAR1) regulate insulin secretion"
          ],
          [
           "Presynaptic function of Kainate receptors"
          ],
          [
           "G beta:gamma signalling through PLC beta"
          ],
          [
           "Free fatty acids regulate insulin secretion"
          ],
          [
           "Acetylcholine regulates insulin secretion"
          ],
          [
           "Hyaluronan degradation"
          ],
          [
           "Defective B4GALT1 causes B4GALT1-CDG (CDG-2d)"
          ],
          [
           "rRNA processing in the mitochondrion"
          ],
          [
           "RNA Polymerase I Transcription Termination"
          ],
          [
           "Deadenylation of mRNA"
          ],
          [
           "CREB1 phosphorylation through the activation of Adenylate Cyclase"
          ],
          [
           "Defective ST3GAL3 causes MCT12 and EIEE15"
          ],
          [
           "RNA Polymerase III Transcription Initiation"
          ],
          [
           "RNA Polymerase III Transcription Initiation From Type 3 Promoter"
          ],
          [
           "IRAK1 recruits IKK complex"
          ],
          [
           "IRAK1 recruits IKK complex"
          ],
          [
           "IRAK1 recruits IKK complex upon TLR7/8 or 9 stimulation"
          ],
          [
           "N-glycan trimming in the ER and Calnexin/Calreticulin cycle"
          ],
          [
           "Activation of Ca-permeable Kainate Receptor"
          ],
          [
           "Ionotropic activity of kainate receptors"
          ],
          [
           "LGI-ADAM interactions"
          ],
          [
           "Formation of TC-NER Pre-Incision Complex"
          ],
          [
           "RNA Polymerase III Transcription Initiation From Type 1 Promoter"
          ],
          [
           "RNA Polymerase III Transcription Initiation From Type 2 Promoter"
          ],
          [
           "Acyl chain remodelling of PS"
          ],
          [
           "Acyl chain remodelling of PG"
          ],
          [
           "Synthesis of very long-chain fatty acyl-CoAs"
          ],
          [
           "Insertion of tail-anchored proteins into the endoplasmic reticulum membrane"
          ],
          [
           "Constitutive Signaling by Overexpressed ERBB2"
          ],
          [
           "Calnexin/calreticulin cycle"
          ],
          [
           "Matriglycan biosynthesis on DAG1"
          ],
          [
           "DAG1 glycosylations"
          ],
          [
           "RNA Pol II CTD phosphorylation and interaction with CE during HIV infection"
          ],
          [
           "RNA Pol II CTD phosphorylation and interaction with CE"
          ],
          [
           "mRNA Capping"
          ],
          [
           "RNA Polymerase II Transcription Pre-Initiation And Promoter Opening"
          ],
          [
           "HIV Transcription Initiation"
          ],
          [
           "RNA Polymerase II Transcription Initiation And Promoter Clearance"
          ],
          [
           "RNA Polymerase II Transcription Initiation"
          ],
          [
           "RNA Polymerase II HIV Promoter Escape"
          ],
          [
           "RNA Polymerase II Promoter Escape"
          ],
          [
           "FGFR2 alternative splicing"
          ],
          [
           "mRNA Splicing - Minor Pathway"
          ],
          [
           "Inhibition of DNA recombination at telomere"
          ],
          [
           "GABA synthesis, release, reuptake and degradation"
          ],
          [
           "ER Quality Control Compartment (ERQC)"
          ],
          [
           "Replacement of protamines by nucleosomes in the male pronucleus"
          ],
          [
           "ATF6 (ATF6-alpha) activates chaperone genes"
          ],
          [
           "ATF6 (ATF6-alpha) activates chaperones"
          ],
          [
           "RNA Polymerase III Chain Elongation"
          ],
          [
           "Budding and maturation of HIV virion"
          ],
          [
           "rRNA modification in the mitochondrion"
          ],
          [
           "P2Y receptors"
          ],
          [
           "Nucleotide-like (purinergic) receptors"
          ],
          [
           "Regulation of endogenous retroelements by the Human Silencing Hub (HUSH) complex"
          ],
          [
           "Depyrimidination"
          ],
          [
           "Recognition and association of DNA glycosylase with site containing an affected pyrimidine"
          ],
          [
           "Cleavage of the damaged pyrimidine"
          ],
          [
           "Base-Excision Repair, AP Site Formation"
          ],
          [
           "Passive transport by Aquaporins"
          ],
          [
           "ADP signalling through P2Y purinoceptor 12"
          ],
          [
           "Thromboxane signalling through TP receptor"
          ],
          [
           "Prostacyclin signalling through prostacyclin receptor"
          ],
          [
           "G beta:gamma signalling through BTK"
          ],
          [
           "Phosphorylation and nuclear translocation of the CRY:PER:kinase complex"
          ],
          [
           "E2F-enabled inhibition of pre-replication complex formation"
          ],
          [
           "Serotonin receptors"
          ],
          [
           "SIRT1 negatively regulates rRNA expression"
          ],
          [
           "Alpha-defensins"
          ],
          [
           "Transport of nucleosides and free purine and pyrimidine bases across the plasma membrane"
          ],
          [
           "Transcription of the HIV genome"
          ],
          [
           "Late Phase of HIV Life Cycle"
          ],
          [
           "HIV Life Cycle"
          ],
          [
           "HIV Infection"
          ],
          [
           "Viral Infection Pathways"
          ],
          [
           "Infectious disease"
          ],
          [
           "Disease"
          ],
          [
           "PI Metabolism"
          ],
          [
           "Phospholipid metabolism"
          ],
          [
           "Metabolism of lipids"
          ],
          [
           "Metabolism"
          ],
          [
           "Iron uptake and transport"
          ],
          [
           "Transport of small molecules"
          ],
          [
           "Transmission across Chemical Synapses"
          ],
          [
           "Neuronal System"
          ],
          [
           "Metabolism of water-soluble vitamins and cofactors"
          ],
          [
           "Metabolism of vitamins and cofactors"
          ],
          [
           "Membrane Trafficking"
          ],
          [
           "Vesicle-mediated transport"
          ],
          [
           "RNA Polymerase II Transcription Elongation"
          ],
          [
           "Signaling by NODAL"
          ],
          [
           "Signal amplification"
          ],
          [
           "Platelet activation, signaling and aggregation"
          ],
          [
           "Hemostasis"
          ],
          [
           "Drug ADME"
          ],
          [
           "Respiratory electron transport"
          ],
          [
           "Aerobic respiration and respiratory electron transport"
          ],
          [
           "STING mediated induction of host immune responses"
          ],
          [
           "Cytosolic sensors of pathogen-associated DNA "
          ],
          [
           "Innate Immune System"
          ],
          [
           "G2/M Transition"
          ],
          [
           "Mitotic G2-G2/M phases"
          ],
          [
           "Cell Cycle, Mitotic"
          ],
          [
           "Cell Cycle"
          ],
          [
           "Metabolism of carbohydrates and carbohydrate derivatives"
          ],
          [
           "EPH-Ephrin signaling"
          ],
          [
           "Axon guidance"
          ],
          [
           "Nervous system development"
          ],
          [
           "Amine ligand-binding receptors"
          ],
          [
           "Class A/1 (Rhodopsin-like receptors)"
          ],
          [
           "GPCR ligand binding"
          ],
          [
           "Signaling by GPCR"
          ],
          [
           "Nuclear Envelope (NE) Reassembly"
          ],
          [
           "Mitotic Anaphase"
          ],
          [
           "Mitotic Metaphase and Anaphase"
          ],
          [
           "M Phase"
          ],
          [
           "G1/S Transition"
          ],
          [
           "Mitotic G1 phase and G1/S transition"
          ],
          [
           "G0 and Early G1"
          ],
          [
           "Assembly of the pre-replicative complex"
          ],
          [
           "DNA Replication Pre-Initiation"
          ],
          [
           "DNA Replication"
          ],
          [
           "Leishmania infection"
          ],
          [
           "Parasitic Infection Pathways"
          ],
          [
           "Fertilization"
          ],
          [
           "Reproduction"
          ],
          [
           "Translation"
          ],
          [
           "Metabolism of proteins"
          ],
          [
           "MTOR signalling"
          ],
          [
           "Protein folding"
          ],
          [
           "Regulation of insulin secretion"
          ],
          [
           "Integration of energy metabolism"
          ],
          [
           "Activation of kainate receptors upon glutamate binding"
          ],
          [
           "Neurotransmitter receptors and postsynaptic signal transmission"
          ],
          [
           "G-protein beta:gamma signalling"
          ],
          [
           "GPCR downstream signalling"
          ],
          [
           "Hyaluronan metabolism"
          ],
          [
           "Glycosaminoglycan metabolism"
          ],
          [
           "Diseases associated with glycosaminoglycan metabolism"
          ],
          [
           "Diseases of glycosylation"
          ],
          [
           "Diseases of metabolism"
          ],
          [
           "rRNA processing"
          ],
          [
           "Metabolism of RNA"
          ],
          [
           "RNA Polymerase I Transcription"
          ],
          [
           "Deadenylation-dependent mRNA decay"
          ],
          [
           "Post NMDA receptor activation events"
          ],
          [
           "Activation of NMDA receptors and postsynaptic events"
          ],
          [
           "RNA Polymerase III Transcription"
          ],
          [
           "MyD88:MAL(TIRAP) cascade initiated on plasma membrane"
          ],
          [
           "Toll Like Receptor TLR6:TLR2 Cascade"
          ],
          [
           "Toll Like Receptor 2 (TLR2) Cascade"
          ],
          [
           "Toll-like Receptor Cascades"
          ],
          [
           "MyD88 cascade initiated on plasma membrane"
          ],
          [
           "Toll Like Receptor 5 (TLR5) Cascade"
          ],
          [
           "TRAF6 mediated induction of NFkB and MAP kinases upon TLR7/8 or 9 activation"
          ],
          [
           "MyD88 dependent cascade initiated on endosome"
          ],
          [
           "Toll Like Receptor 7/8 (TLR7/8) Cascade"
          ],
          [
           "Asparagine N-linked glycosylation"
          ],
          [
           "Post-translational protein modification"
          ],
          [
           "Transcription-Coupled Nucleotide Excision Repair (TC-NER)"
          ],
          [
           "Nucleotide Excision Repair"
          ],
          [
           "DNA Repair"
          ],
          [
           "Glycerophospholipid biosynthesis"
          ],
          [
           "Fatty acyl-CoA biosynthesis"
          ],
          [
           "Fatty acid metabolism"
          ],
          [
           "Protein localization"
          ],
          [
           "Signaling by ERBB2 in Cancer"
          ],
          [
           "Diseases of signal transduction by growth factor receptors and second messengers"
          ],
          [
           "O-linked glycosylation"
          ],
          [
           "Signaling by FGFR2"
          ],
          [
           "Signaling by FGFR"
          ],
          [
           "Signaling by Receptor Tyrosine Kinases"
          ],
          [
           "mRNA Splicing"
          ],
          [
           "Processing of Capped Intron-Containing Pre-mRNA"
          ],
          [
           "Telomere Maintenance"
          ],
          [
           "Chromosome Maintenance"
          ],
          [
           "Neurotransmitter release cycle"
          ],
          [
           "Maternal to zygotic transition (MZT)"
          ],
          [
           "Unfolded Protein Response (UPR)"
          ],
          [
           "Cellular responses to stress"
          ],
          [
           "Cellular responses to stimuli"
          ],
          [
           "Regulation of endogenous retroelements"
          ],
          [
           "Epigenetic regulation of gene expression"
          ],
          [
           "Base Excision Repair"
          ],
          [
           "Aquaporin-mediated transport"
          ],
          [
           "Platelet homeostasis"
          ],
          [
           "Circadian clock"
          ],
          [
           "Negative epigenetic regulation of rRNA expression"
          ],
          [
           "Defensins"
          ],
          [
           "Antimicrobial peptides"
          ],
          [
           "Transport of vitamins, nucleosides, and related molecules"
          ],
          [
           "SLC-mediated transmembrane transport"
          ],
          [
           "Reactome pathways"
          ]
         ],
         "domain": {
          "x": [
           0,
           1
          ],
          "y": [
           0,
           1
          ]
         },
         "hovertemplate": "<b>%{customdata[0]}</b><br>NES: %{color:.2f}<extra></extra>",
         "ids": [
          "R-HSA-162582",
          "R-HSA-212436",
          "R-HSA-73857",
          "R-HSA-74160",
          "R-HSA-1280215",
          "R-HSA-168256",
          "R-HSA-1266738",
          "R-HSA-167152",
          "R-HSA-167246",
          "R-HSA-167169",
          "R-HSA-167200",
          "R-HSA-1660514",
          "R-HSA-917977",
          "R-HSA-112308",
          "R-HSA-199220",
          "R-HSA-917729",
          "R-HSA-113418",
          "R-HSA-167158",
          "R-HSA-1433617",
          "R-HSA-418592",
          "R-HSA-9754706",
          "R-HSA-8949215",
          "R-HSA-6799198",
          "R-HSA-3270619",
          "R-HSA-69273",
          "R-HSA-8982491",
          "R-HSA-9757110",
          "R-HSA-3928664",
          "R-HSA-390696",
          "R-HSA-9615933",
          "R-HSA-113510",
          "R-HSA-1362300",
          "R-HSA-68616",
          "R-HSA-9664420",
          "R-HSA-9673324",
          "R-HSA-2534343",
          "R-HSA-379724",
          "R-HSA-166208",
          "R-HSA-389977",
          "R-HSA-434316",
          "R-HSA-500657",
          "R-HSA-418217",
          "R-HSA-400451",
          "R-HSA-399997",
          "R-HSA-2160916",
          "R-HSA-3656244",
          "R-HSA-8868766",
          "R-HSA-73863",
          "R-HSA-429947",
          "R-HSA-442720",
          "R-HSA-3656243",
          "R-HSA-76046",
          "R-HSA-76071",
          "R-HSA-937039",
          "R-HSA-937039",
          "R-HSA-975144",
          "R-HSA-532668",
          "R-HSA-451308",
          "R-HSA-451306",
          "R-HSA-5682910",
          "R-HSA-6781823",
          "R-HSA-76061",
          "R-HSA-76066",
          "R-HSA-1482801",
          "R-HSA-1482925",
          "R-HSA-75876",
          "R-HSA-9609523",
          "R-HSA-9634285",
          "R-HSA-901042",
          "R-HSA-9939291",
          "R-HSA-8931838",
          "R-HSA-167160",
          "R-HSA-77075",
          "R-HSA-72086",
          "R-HSA-73779",
          "R-HSA-167161",
          "R-HSA-76042",
          "R-HSA-75953",
          "R-HSA-167162",
          "R-HSA-73776",
          "R-HSA-6803529",
          "R-HSA-72165",
          "R-HSA-9670095",
          "R-HSA-888590",
          "R-HSA-901032",
          "R-HSA-9821993",
          "R-HSA-381183",
          "R-HSA-381033",
          "R-HSA-73780",
          "R-HSA-162588",
          "R-HSA-6793080",
          "R-HSA-417957",
          "R-HSA-418038",
          "R-HSA-9843970",
          "R-HSA-73928",
          "R-HSA-110328",
          "R-HSA-110329",
          "R-HSA-73929",
          "R-HSA-432047",
          "R-HSA-392170",
          "R-HSA-428930",
          "R-HSA-392851",
          "R-HSA-8964315",
          "R-HSA-9931530",
          "R-HSA-113507",
          "R-HSA-390666",
          "R-HSA-427359",
          "R-HSA-1462054",
          "R-HSA-83936",
          "R-HSA-167172",
          "R-HSA-162599",
          "R-HSA-162587",
          "R-HSA-162906",
          "R-HSA-9824446",
          "R-HSA-5663205",
          "R-HSA-1643685",
          "R-HSA-1483255",
          "R-HSA-1483257",
          "R-HSA-556833",
          "R-HSA-1430728",
          "R-HSA-917937",
          "R-HSA-382551",
          "R-HSA-112315",
          "R-HSA-112316",
          "R-HSA-196849",
          "R-HSA-196854",
          "R-HSA-199991",
          "R-HSA-5653656",
          "R-HSA-75955",
          "R-HSA-1181150",
          "R-HSA-392518",
          "R-HSA-76002",
          "R-HSA-109582",
          "R-HSA-9748784",
          "R-HSA-611105",
          "R-HSA-1428517",
          "R-HSA-1834941",
          "R-HSA-1834949",
          "R-HSA-168249",
          "R-HSA-69275",
          "R-HSA-453274",
          "R-HSA-69278",
          "R-HSA-1640170",
          "R-HSA-71387",
          "R-HSA-2682334",
          "R-HSA-422475",
          "R-HSA-9675108",
          "R-HSA-375280",
          "R-HSA-373076",
          "R-HSA-500792",
          "R-HSA-372790",
          "R-HSA-2995410",
          "R-HSA-68882",
          "R-HSA-2555396",
          "R-HSA-68886",
          "R-HSA-69206",
          "R-HSA-453279",
          "R-HSA-1538133",
          "R-HSA-68867",
          "R-HSA-69002",
          "R-HSA-69306",
          "R-HSA-9658195",
          "R-HSA-9824443",
          "R-HSA-1187000",
          "R-HSA-1474165",
          "R-HSA-72766",
          "R-HSA-392499",
          "R-HSA-165159",
          "R-HSA-391251",
          "R-HSA-422356",
          "R-HSA-163685",
          "R-HSA-451326",
          "R-HSA-112314",
          "R-HSA-397795",
          "R-HSA-388396",
          "R-HSA-2142845",
          "R-HSA-1630316",
          "R-HSA-3560782",
          "R-HSA-3781865",
          "R-HSA-5668914",
          "R-HSA-72312",
          "R-HSA-8953854",
          "R-HSA-73864",
          "R-HSA-429914",
          "R-HSA-438064",
          "R-HSA-442755",
          "R-HSA-74158",
          "R-HSA-166058",
          "R-HSA-168188",
          "R-HSA-181438",
          "R-HSA-168898",
          "R-HSA-975871",
          "R-HSA-168176",
          "R-HSA-975138",
          "R-HSA-975155",
          "R-HSA-168181",
          "R-HSA-446203",
          "R-HSA-597592",
          "R-HSA-6781827",
          "R-HSA-5696398",
          "R-HSA-73894",
          "R-HSA-1483206",
          "R-HSA-75105",
          "R-HSA-8978868",
          "R-HSA-9609507",
          "R-HSA-1227990",
          "R-HSA-5663202",
          "R-HSA-5173105",
          "R-HSA-5654738",
          "R-HSA-190236",
          "R-HSA-9006934",
          "R-HSA-72172",
          "R-HSA-72203",
          "R-HSA-157579",
          "R-HSA-73886",
          "R-HSA-112310",
          "R-HSA-9816359",
          "R-HSA-381119",
          "R-HSA-2262752",
          "R-HSA-8953897",
          "R-HSA-9842860",
          "R-HSA-212165",
          "R-HSA-73884",
          "R-HSA-445717",
          "R-HSA-418346",
          "R-HSA-9909396",
          "R-HSA-5250941",
          "R-HSA-1461973",
          "R-HSA-6803157",
          "R-HSA-425397",
          "R-HSA-425407",
          "ROOT"
         ],
         "insidetextorientation": "radial",
         "labels": [
          "Signal Transduction",
          "Generic Transcription Pathway",
          "RNA Polymerase II Transcription",
          "Gene expression (Transcription)",
          "Cytokine Signaling in Immune system",
          "Immune System",
          "Developmental Biology",
          "Formation of HIV elongation complex in the absence of HIV Tat",
          "Tat-mediated elongation of the HIV-1 transcript",
          "HIV Transcription Elongation",
          "Formation of HIV-1 elongation complex containing HIV-1 Tat",
          "Synthesis of PIPs at the Golgi membrane",
          "Transferrin endocytosis and recycling",
          "Presynaptic depolarization and calcium channel opening",
          "Vitamin B5 (pantothenate) metabolism",
          "Endosomal Sorting Complex Required For Transport (ESCRT)",
          "Formation of the Early Elongation Complex",
          "Formation of the HIV-1 Early Elongation Complex",
          "Regulation of signaling by NODAL",
          "ADP signalling through P2Y purinoceptor 1",
          "Atorvastatin ADME",
          "Mitochondrial calcium ion transport",
          "Complex I biogenesis",
          "IRF3-mediated induction of type I IFN",
          "Cyclin A/B1/B2 associated events during G2/M transition",
          "Glycogen metabolism",
          "Prednisone ADME",
          "Ephrin signaling",
          "Adrenoceptors",
          "Postmitotic nuclear pore complex (NPC) reformation",
          "E2F mediated regulation of DNA replication",
          "Transcription of E2F targets under negative control by p107 (RBL1) and p130 (RBL2) in complex with HDAC1",
          "Assembly of the ORC complex at the origin of replication",
          "Killing mechanisms",
          "WNT5:FZD7-mediated leishmania damping",
          "Interaction With Cumulus Cells And The Zona Pellucida",
          "tRNA Aminoacylation",
          "mTORC1-mediated signalling",
          "Post-chaperonin tubulin folding pathway",
          "Fatty Acids bound to GPR40 (FFAR1) regulate insulin secretion",
          "Presynaptic function of Kainate receptors",
          "G beta:gamma signalling through PLC beta",
          "Free fatty acids regulate insulin secretion",
          "Acetylcholine regulates insulin secretion",
          "Hyaluronan degradation",
          "Defective B4GALT1 causes B4GALT1-CDG (CDG-2d)",
          "rRNA processing in the mitochondrion",
          "RNA Polymerase I Transcription Termination",
          "Deadenylation of mRNA",
          "CREB1 phosphorylation through the activation of Adenylate Cyclase",
          "Defective ST3GAL3 causes MCT12 and EIEE15",
          "RNA Polymerase III Transcription Initiation",
          "RNA Polymerase III Transcription Initiation From Type 3 Promoter",
          "IRAK1 recruits IKK complex",
          "IRAK1 recruits IKK complex",
          "IRAK1 recruits IKK complex upon TLR7/8 or 9 stimulation",
          "N-glycan trimming in the ER and Calnexin/Calreticulin cycle",
          "Activation of Ca-permeable Kainate Receptor",
          "Ionotropic activity of kainate receptors",
          "LGI-ADAM interactions",
          "Formation of TC-NER Pre-Incision Complex",
          "RNA Polymerase III Transcription Initiation From Type 1 Promoter",
          "RNA Polymerase III Transcription Initiation From Type 2 Promoter",
          "Acyl chain remodelling of PS",
          "Acyl chain remodelling of PG",
          "Synthesis of very long-chain fatty acyl-CoAs",
          "Insertion of tail-anchored proteins into the endoplasmic reticulum membrane",
          "Constitutive Signaling by Overexpressed ERBB2",
          "Calnexin/calreticulin cycle",
          "Matriglycan biosynthesis on DAG1",
          "DAG1 glycosylations",
          "RNA Pol II CTD phosphorylation and interaction with CE during HIV infection",
          "RNA Pol II CTD phosphorylation and interaction with CE",
          "mRNA Capping",
          "RNA Polymerase II Transcription Pre-Initiation And Promoter Opening",
          "HIV Transcription Initiation",
          "RNA Polymerase II Transcription Initiation And Promoter Clearance",
          "RNA Polymerase II Transcription Initiation",
          "RNA Polymerase II HIV Promoter Escape",
          "RNA Polymerase II Promoter Escape",
          "FGFR2 alternative splicing",
          "mRNA Splicing - Minor Pathway",
          "Inhibition of DNA recombination at telomere",
          "GABA synthesis, release, reuptake and degradation",
          "ER Quality Control Compartment (ERQC)",
          "Replacement of protamines by nucleosomes in the male pronucleus",
          "ATF6 (ATF6-alpha) activates chaperone genes",
          "ATF6 (ATF6-alpha) activates chaperones",
          "RNA Polymerase III Chain Elongation",
          "Budding and maturation of HIV virion",
          "rRNA modification in the mitochondrion",
          "P2Y receptors",
          "Nucleotide-like (purinergic) receptors",
          "Regulation of endogenous retroelements by the Human Silencing Hub (HUSH) complex",
          "Depyrimidination",
          "Recognition and association of DNA glycosylase with site containing an affected pyrimidine",
          "Cleavage of the damaged pyrimidine",
          "Base-Excision Repair, AP Site Formation",
          "Passive transport by Aquaporins",
          "ADP signalling through P2Y purinoceptor 12",
          "Thromboxane signalling through TP receptor",
          "Prostacyclin signalling through prostacyclin receptor",
          "G beta:gamma signalling through BTK",
          "Phosphorylation and nuclear translocation of the CRY:PER:kinase complex",
          "E2F-enabled inhibition of pre-replication complex formation",
          "Serotonin receptors",
          "SIRT1 negatively regulates rRNA expression",
          "Alpha-defensins",
          "Transport of nucleosides and free purine and pyrimidine bases across the plasma membrane",
          "Transcription of the HIV genome",
          "Late Phase of HIV Life Cycle",
          "HIV Life Cycle",
          "HIV Infection",
          "Viral Infection Pathways",
          "Infectious disease",
          "Disease",
          "PI Metabolism",
          "Phospholipid metabolism",
          "Metabolism of lipids",
          "Metabolism",
          "Iron uptake and transport",
          "Transport of small molecules",
          "Transmission across Chemical Synapses",
          "Neuronal System",
          "Metabolism of water-soluble vitamins and cofactors",
          "Metabolism of vitamins and cofactors",
          "Membrane Trafficking",
          "Vesicle-mediated transport",
          "RNA Polymerase II Transcription Elongation",
          "Signaling by NODAL",
          "Signal amplification",
          "Platelet activation, signaling and aggregation",
          "Hemostasis",
          "Drug ADME",
          "Respiratory electron transport",
          "Aerobic respiration and respiratory electron transport",
          "STING mediated induction of host immune responses",
          "Cytosolic sensors of pathogen-associated DNA ",
          "Innate Immune System",
          "G2/M Transition",
          "Mitotic G2-G2/M phases",
          "Cell Cycle, Mitotic",
          "Cell Cycle",
          "Metabolism of carbohydrates and carbohydrate derivatives",
          "EPH-Ephrin signaling",
          "Axon guidance",
          "Nervous system development",
          "Amine ligand-binding receptors",
          "Class A/1 (Rhodopsin-like receptors)",
          "GPCR ligand binding",
          "Signaling by GPCR",
          "Nuclear Envelope (NE) Reassembly",
          "Mitotic Anaphase",
          "Mitotic Metaphase and Anaphase",
          "M Phase",
          "G1/S Transition",
          "Mitotic G1 phase and G1/S transition",
          "G0 and Early G1",
          "Assembly of the pre-replicative complex",
          "DNA Replication Pre-Initiation",
          "DNA Replication",
          "Leishmania infection",
          "Parasitic Infection Pathways",
          "Fertilization",
          "Reproduction",
          "Translation",
          "Metabolism of proteins",
          "MTOR signalling",
          "Protein folding",
          "Regulation of insulin secretion",
          "Integration of energy metabolism",
          "Activation of kainate receptors upon glutamate binding",
          "Neurotransmitter receptors and postsynaptic signal transmission",
          "G-protein beta:gamma signalling",
          "GPCR downstream signalling",
          "Hyaluronan metabolism",
          "Glycosaminoglycan metabolism",
          "Diseases associated with glycosaminoglycan metabolism",
          "Diseases of glycosylation",
          "Diseases of metabolism",
          "rRNA processing",
          "Metabolism of RNA",
          "RNA Polymerase I Transcription",
          "Deadenylation-dependent mRNA decay",
          "Post NMDA receptor activation events",
          "Activation of NMDA receptors and postsynaptic events",
          "RNA Polymerase III Transcription",
          "MyD88:MAL(TIRAP) cascade initiated on plasma membrane",
          "Toll Like Receptor TLR6:TLR2 Cascade",
          "Toll Like Receptor 2 (TLR2) Cascade",
          "Toll-like Receptor Cascades",
          "MyD88 cascade initiated on plasma membrane",
          "Toll Like Receptor 5 (TLR5) Cascade",
          "TRAF6 mediated induction of NFkB and MAP kinases upon TLR7/8 or 9 activation",
          "MyD88 dependent cascade initiated on endosome",
          "Toll Like Receptor 7/8 (TLR7/8) Cascade",
          "Asparagine N-linked glycosylation",
          "Post-translational protein modification",
          "Transcription-Coupled Nucleotide Excision Repair (TC-NER)",
          "Nucleotide Excision Repair",
          "DNA Repair",
          "Glycerophospholipid biosynthesis",
          "Fatty acyl-CoA biosynthesis",
          "Fatty acid metabolism",
          "Protein localization",
          "Signaling by ERBB2 in Cancer",
          "Diseases of signal transduction by growth factor receptors and second messengers",
          "O-linked glycosylation",
          "Signaling by FGFR2",
          "Signaling by FGFR",
          "Signaling by Receptor Tyrosine Kinases",
          "mRNA Splicing",
          "Processing of Capped Intron-Containing Pre-mRNA",
          "Telomere Maintenance",
          "Chromosome Maintenance",
          "Neurotransmitter release cycle",
          "Maternal to zygotic transition (MZT)",
          "Unfolded Protein Response (UPR)",
          "Cellular responses to stress",
          "Cellular responses to stimuli",
          "Regulation of endogenous retroelements",
          "Epigenetic regulation of gene expression",
          "Base Excision Repair",
          "Aquaporin-mediated transport",
          "Platelet homeostasis",
          "Circadian clock",
          "Negative epigenetic regulation of rRNA expression",
          "Defensins",
          "Antimicrobial peptides",
          "Transport of vitamins, nucleosides, and related molecules",
          "SLC-mediated transmembrane transport",
          " "
         ],
         "marker": {
          "coloraxis": "coloraxis",
          "colors": {
           "bdata": "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",
           "dtype": "f8"
          }
         },
         "name": "",
         "parents": [
          "ROOT",
          "R-HSA-73857",
          "R-HSA-74160",
          "ROOT",
          "R-HSA-168256",
          "ROOT",
          "ROOT",
          "R-HSA-167172",
          "R-HSA-167169",
          "R-HSA-167172",
          "R-HSA-167246",
          "R-HSA-1483255",
          "R-HSA-917937",
          "R-HSA-112315",
          "R-HSA-196849",
          "R-HSA-199991",
          "R-HSA-75955",
          "R-HSA-167169",
          "R-HSA-1181150",
          "R-HSA-392518",
          "R-HSA-9748784",
          "R-HSA-382551",
          "R-HSA-611105",
          "R-HSA-1834941",
          "R-HSA-69275",
          "R-HSA-71387",
          "R-HSA-9748784",
          "R-HSA-2682334",
          "R-HSA-375280",
          "R-HSA-2995410",
          "R-HSA-69206",
          "R-HSA-1538133",
          "R-HSA-68867",
          "R-HSA-9658195",
          "R-HSA-9664420",
          "R-HSA-1187000",
          "R-HSA-72766",
          "R-HSA-165159",
          "R-HSA-391251",
          "R-HSA-400451",
          "R-HSA-451326",
          "R-HSA-397795",
          "R-HSA-422356",
          "R-HSA-422356",
          "R-HSA-2142845",
          "R-HSA-3560782",
          "R-HSA-72312",
          "R-HSA-73864",
          "R-HSA-429914",
          "R-HSA-438064",
          "R-HSA-3560782",
          "R-HSA-74158",
          "R-HSA-76046",
          "R-HSA-166058",
          "R-HSA-975871",
          "R-HSA-975138",
          "R-HSA-446203",
          "R-HSA-451306",
          "R-HSA-451326",
          "R-HSA-1266738",
          "R-HSA-6781827",
          "R-HSA-76046",
          "R-HSA-76046",
          "R-HSA-1483206",
          "R-HSA-1483206",
          "R-HSA-75105",
          "R-HSA-9609507",
          "R-HSA-1227990",
          "R-HSA-532668",
          "R-HSA-8931838",
          "R-HSA-5173105",
          "R-HSA-167172",
          "R-HSA-73857",
          "R-HSA-8953854",
          "R-HSA-73857",
          "R-HSA-167172",
          "R-HSA-73857",
          "R-HSA-76042",
          "R-HSA-167172",
          "R-HSA-76042",
          "R-HSA-5654738",
          "R-HSA-72172",
          "R-HSA-157579",
          "R-HSA-112310",
          "R-HSA-901042",
          "R-HSA-9816359",
          "R-HSA-381033",
          "R-HSA-381119",
          "R-HSA-74158",
          "R-HSA-162599",
          "R-HSA-8868766",
          "R-HSA-418038",
          "R-HSA-373076",
          "R-HSA-9842860",
          "R-HSA-73929",
          "R-HSA-73928",
          "R-HSA-73928",
          "R-HSA-73884",
          "R-HSA-445717",
          "R-HSA-392518",
          "R-HSA-392518",
          "R-HSA-418346",
          "R-HSA-397795",
          "R-HSA-9909396",
          "R-HSA-113510",
          "R-HSA-375280",
          "R-HSA-5250941",
          "R-HSA-1461973",
          "R-HSA-425397",
          "R-HSA-162599",
          "R-HSA-162587",
          "R-HSA-162906",
          "R-HSA-9824446",
          "R-HSA-5663205",
          "R-HSA-1643685",
          "ROOT",
          "R-HSA-1483257",
          "R-HSA-556833",
          "R-HSA-1430728",
          "ROOT",
          "R-HSA-382551",
          "ROOT",
          "R-HSA-112316",
          "ROOT",
          "R-HSA-196854",
          "R-HSA-1430728",
          "R-HSA-5653656",
          "ROOT",
          "R-HSA-73857",
          "R-HSA-1266738",
          "R-HSA-76002",
          "R-HSA-109582",
          "ROOT",
          "ROOT",
          "R-HSA-1428517",
          "R-HSA-1430728",
          "R-HSA-1834949",
          "R-HSA-168249",
          "R-HSA-168256",
          "R-HSA-453274",
          "R-HSA-69278",
          "R-HSA-1640170",
          "ROOT",
          "R-HSA-1430728",
          "R-HSA-422475",
          "R-HSA-9675108",
          "R-HSA-1266738",
          "R-HSA-373076",
          "R-HSA-500792",
          "R-HSA-372790",
          "R-HSA-162582",
          "R-HSA-68882",
          "R-HSA-2555396",
          "R-HSA-68886",
          "R-HSA-69278",
          "R-HSA-453279",
          "R-HSA-69278",
          "R-HSA-453279",
          "R-HSA-69002",
          "R-HSA-69306",
          "ROOT",
          "R-HSA-9824443",
          "R-HSA-5663205",
          "R-HSA-1474165",
          "ROOT",
          "R-HSA-392499",
          "ROOT",
          "R-HSA-162582",
          "R-HSA-392499",
          "R-HSA-163685",
          "R-HSA-1430728",
          "R-HSA-112314",
          "R-HSA-112315",
          "R-HSA-388396",
          "R-HSA-372790",
          "R-HSA-1630316",
          "R-HSA-71387",
          "R-HSA-3781865",
          "R-HSA-5668914",
          "R-HSA-1643685",
          "R-HSA-8953854",
          "ROOT",
          "R-HSA-74160",
          "R-HSA-8953854",
          "R-HSA-442755",
          "R-HSA-112314",
          "R-HSA-74160",
          "R-HSA-168188",
          "R-HSA-181438",
          "R-HSA-168898",
          "R-HSA-168249",
          "R-HSA-168176",
          "R-HSA-168898",
          "R-HSA-975155",
          "R-HSA-168181",
          "R-HSA-168898",
          "R-HSA-597592",
          "R-HSA-392499",
          "R-HSA-5696398",
          "R-HSA-73894",
          "ROOT",
          "R-HSA-1483257",
          "R-HSA-8978868",
          "R-HSA-556833",
          "ROOT",
          "R-HSA-5663202",
          "R-HSA-1643685",
          "R-HSA-597592",
          "R-HSA-190236",
          "R-HSA-9006934",
          "R-HSA-162582",
          "R-HSA-72203",
          "R-HSA-8953854",
          "R-HSA-73886",
          "R-HSA-1640170",
          "R-HSA-112315",
          "R-HSA-1266738",
          "R-HSA-2262752",
          "R-HSA-8953897",
          "ROOT",
          "R-HSA-212165",
          "R-HSA-74160",
          "R-HSA-73894",
          "R-HSA-382551",
          "R-HSA-109582",
          "ROOT",
          "R-HSA-212165",
          "R-HSA-6803157",
          "R-HSA-168249",
          "R-HSA-425407",
          "R-HSA-382551",
          ""
         ],
         "text": [
          "Signal Transduction",
          "Generic Transcription Pathway",
          "RNA Polymerase II Transcription",
          "Gene expression (Transcription)",
          "Cytokine Signaling in Immune system",
          "Immune System",
          "Developmental Biology",
          "Formation of HIV elongation complex in the absence of HIV Tat",
          "Tat-mediated elongation of the HIV-1 transcript",
          "HIV Transcription Elongation",
          "Formation of HIV-1 elongation complex containing HIV-1 Tat",
          "Synthesis of PIPs at the Golgi membrane",
          "Transferrin endocytosis and recycling",
          "Presynaptic depolarization and calcium channel opening",
          "Vitamin B5 (pantothenate) metabolism",
          "Endosomal Sorting Complex Required For Transport (ESCRT)",
          "Formation of the Early Elongation Complex",
          "Formation of the HIV-1 Early Elongation Complex",
          "Regulation of signaling by NODAL",
          "ADP signalling through P2Y purinoceptor 1",
          "Atorvastatin ADME",
          "Mitochondrial calcium ion transport",
          "Complex I biogenesis",
          "IRF3-mediated induction of type I IFN",
          "Cyclin A/B1/B2 associated events during G2/M transition",
          "Glycogen metabolism",
          "Prednisone ADME",
          "Ephrin signaling",
          "Adrenoceptors",
          "Postmitotic nuclear pore complex (NPC) reformation",
          "E2F mediated regulation of DNA replication",
          "Transcription of E2F targets under negative control by p107 (RBL1) and p130 (RBL2) in complex with HDAC1",
          "Assembly of the ORC complex at the origin of replication",
          "Killing mechanisms",
          "WNT5:FZD7-mediated leishmania damping",
          "Interaction With Cumulus Cells And The Zona Pellucida",
          "tRNA Aminoacylation",
          "mTORC1-mediated signalling",
          "Post-chaperonin tubulin folding pathway",
          "Fatty Acids bound to GPR40 (FFAR1) regulate insulin secretion",
          "Presynaptic function of Kainate receptors",
          "G beta:gamma signalling through PLC beta",
          "Free fatty acids regulate insulin secretion",
          "Acetylcholine regulates insulin secretion",
          "Hyaluronan degradation",
          "Defective B4GALT1 causes B4GALT1-CDG (CDG-2d)",
          "rRNA processing in the mitochondrion",
          "RNA Polymerase I Transcription Termination",
          "Deadenylation of mRNA",
          "CREB1 phosphorylation through the activation of Adenylate Cyclase",
          "Defective ST3GAL3 causes MCT12 and EIEE15",
          "RNA Polymerase III Transcription Initiation",
          "RNA Polymerase III Transcription Initiation From Type 3 Promoter",
          "IRAK1 recruits IKK complex",
          "IRAK1 recruits IKK complex",
          "IRAK1 recruits IKK complex upon TLR7/8 or 9 stimulation",
          "N-glycan trimming in the ER and Calnexin/Calreticulin cycle",
          "Activation of Ca-permeable Kainate Receptor",
          "Ionotropic activity of kainate receptors",
          "LGI-ADAM interactions",
          "Formation of TC-NER Pre-Incision Complex",
          "RNA Polymerase III Transcription Initiation From Type 1 Promoter",
          "RNA Polymerase III Transcription Initiation From Type 2 Promoter",
          "Acyl chain remodelling of PS",
          "Acyl chain remodelling of PG",
          "Synthesis of very long-chain fatty acyl-CoAs",
          "Insertion of tail-anchored proteins into the endoplasmic reticulum membrane",
          "Constitutive Signaling by Overexpressed ERBB2",
          "Calnexin/calreticulin cycle",
          "Matriglycan biosynthesis on DAG1",
          "DAG1 glycosylations",
          "RNA Pol II CTD phosphorylation and interaction with CE during HIV infection",
          "RNA Pol II CTD phosphorylation and interaction with CE",
          "mRNA Capping",
          "RNA Polymerase II Transcription Pre-Initiation And Promoter Opening",
          "HIV Transcription Initiation",
          "RNA Polymerase II Transcription Initiation And Promoter Clearance",
          "RNA Polymerase II Transcription Initiation",
          "RNA Polymerase II HIV Promoter Escape",
          "RNA Polymerase II Promoter Escape",
          "FGFR2 alternative splicing",
          "mRNA Splicing - Minor Pathway",
          "Inhibition of DNA recombination at telomere",
          "GABA synthesis, release, reuptake and degradation",
          "ER Quality Control Compartment (ERQC)",
          "Replacement of protamines by nucleosomes in the male pronucleus",
          "ATF6 (ATF6-alpha) activates chaperone genes",
          "ATF6 (ATF6-alpha) activates chaperones",
          "RNA Polymerase III Chain Elongation",
          "Budding and maturation of HIV virion",
          "rRNA modification in the mitochondrion",
          "P2Y receptors",
          "Nucleotide-like (purinergic) receptors",
          "Regulation of endogenous retroelements by the Human Silencing Hub (HUSH) complex",
          "Depyrimidination",
          "Recognition and association of DNA glycosylase with site containing an affected pyrimidine",
          "Cleavage of the damaged pyrimidine",
          "Base-Excision Repair, AP Site Formation",
          "Passive transport by Aquaporins",
          "ADP signalling through P2Y purinoceptor 12",
          "Thromboxane signalling through TP receptor",
          "Prostacyclin signalling through prostacyclin receptor",
          "G beta:gamma signalling through BTK",
          "Phosphorylation and nuclear translocation of the CRY:PER:kinase complex",
          "E2F-enabled inhibition of pre-replication complex formation",
          "Serotonin receptors",
          "SIRT1 negatively regulates rRNA expression",
          "Alpha-defensins",
          "Transport of nucleosides and free purine and pyrimidine bases across the plasma membrane",
          "Transcription of the HIV genome",
          "Late Phase of HIV Life Cycle",
          "HIV Life Cycle",
          "HIV Infection",
          "Viral Infection Pathways",
          "Infectious disease",
          "Disease",
          "PI Metabolism",
          "Phospholipid metabolism",
          "Metabolism of lipids",
          "Metabolism",
          "Iron uptake and transport",
          "Transport of small molecules",
          "Transmission across Chemical Synapses",
          "Neuronal System",
          "Metabolism of water-soluble vitamins and cofactors",
          "Metabolism of vitamins and cofactors",
          "Membrane Trafficking",
          "Vesicle-mediated transport",
          "RNA Polymerase II Transcription Elongation",
          "Signaling by NODAL",
          "Signal amplification",
          "Platelet activation, signaling and aggregation",
          "Hemostasis",
          "Drug ADME",
          "Respiratory electron transport",
          "Aerobic respiration and respiratory electron transport",
          "STING mediated induction of host immune responses",
          "Cytosolic sensors of pathogen-associated DNA ",
          "Innate Immune System",
          "G2/M Transition",
          "Mitotic G2-G2/M phases",
          "Cell Cycle, Mitotic",
          "Cell Cycle",
          "Metabolism of carbohydrates and carbohydrate derivatives",
          "EPH-Ephrin signaling",
          "Axon guidance",
          "Nervous system development",
          "Amine ligand-binding receptors",
          "Class A/1 (Rhodopsin-like receptors)",
          "GPCR ligand binding",
          "Signaling by GPCR",
          "Nuclear Envelope (NE) Reassembly",
          "Mitotic Anaphase",
          "Mitotic Metaphase and Anaphase",
          "M Phase",
          "G1/S Transition",
          "Mitotic G1 phase and G1/S transition",
          "G0 and Early G1",
          "Assembly of the pre-replicative complex",
          "DNA Replication Pre-Initiation",
          "DNA Replication",
          "Leishmania infection",
          "Parasitic Infection Pathways",
          "Fertilization",
          "Reproduction",
          "Translation",
          "Metabolism of proteins",
          "MTOR signalling",
          "Protein folding",
          "Regulation of insulin secretion",
          "Integration of energy metabolism",
          "Activation of kainate receptors upon glutamate binding",
          "Neurotransmitter receptors and postsynaptic signal transmission",
          "G-protein beta:gamma signalling",
          "GPCR downstream signalling",
          "Hyaluronan metabolism",
          "Glycosaminoglycan metabolism",
          "Diseases associated with glycosaminoglycan metabolism",
          "Diseases of glycosylation",
          "Diseases of metabolism",
          "rRNA processing",
          "Metabolism of RNA",
          "RNA Polymerase I Transcription",
          "Deadenylation-dependent mRNA decay",
          "Post NMDA receptor activation events",
          "Activation of NMDA receptors and postsynaptic events",
          "RNA Polymerase III Transcription",
          "MyD88:MAL(TIRAP) cascade initiated on plasma membrane",
          "Toll Like Receptor TLR6:TLR2 Cascade",
          "Toll Like Receptor 2 (TLR2) Cascade",
          "Toll-like Receptor Cascades",
          "MyD88 cascade initiated on plasma membrane",
          "Toll Like Receptor 5 (TLR5) Cascade",
          "TRAF6 mediated induction of NFkB and MAP kinases upon TLR7/8 or 9 activation",
          "MyD88 dependent cascade initiated on endosome",
          "Toll Like Receptor 7/8 (TLR7/8) Cascade",
          "Asparagine N-linked glycosylation",
          "Post-translational protein modification",
          "Transcription-Coupled Nucleotide Excision Repair (TC-NER)",
          "Nucleotide Excision Repair",
          "DNA Repair",
          "Glycerophospholipid biosynthesis",
          "Fatty acyl-CoA biosynthesis",
          "Fatty acid metabolism",
          "Protein localization",
          "Signaling by ERBB2 in Cancer",
          "Diseases of signal transduction by growth factor receptors and second messengers",
          "O-linked glycosylation",
          "Signaling by FGFR2",
          "Signaling by FGFR",
          "Signaling by Receptor Tyrosine Kinases",
          "mRNA Splicing",
          "Processing of Capped Intron-Containing Pre-mRNA",
          "Telomere Maintenance",
          "Chromosome Maintenance",
          "Neurotransmitter release cycle",
          "Maternal to zygotic transition (MZT)",
          "Unfolded Protein Response (UPR)",
          "Cellular responses to stress",
          "Cellular responses to stimuli",
          "Regulation of endogenous retroelements",
          "Epigenetic regulation of gene expression",
          "Base Excision Repair",
          "Aquaporin-mediated transport",
          "Platelet homeostasis",
          "Circadian clock",
          "Negative epigenetic regulation of rRNA expression",
          "Defensins",
          "Antimicrobial peptides",
          "Transport of vitamins, nucleosides, and related molecules",
          "SLC-mediated transmembrane transport",
          ""
         ],
         "textfont": {
          "color": [
           "white",
           "white",
           "white",
           "white",
           "white",
           "white",
           "white",
           "white",
           "white",
           "white",
           "white",
           "white",
           "white",
           "white",
           "white",
           "white",
           "white",
           "white",
           "white",
           "white",
           "white",
           "white",
           "white",
           "white",
           "white",
           "white",
           "white",
           "white",
           "white",
           "white",
           "white",
           "white",
           "white",
           "white",
           "white",
           "white",
           "white",
           "white",
           "white",
           "white",
           "white",
           "white",
           "white",
           "white",
           "white",
           "white",
           "white",
           "white",
           "white",
           "white",
           "white",
           "white",
           "white",
           "white",
           "white",
           "white",
           "white",
           "white",
           "white",
           "white",
           "white",
           "white",
           "white",
           "white",
           "white",
           "white",
           "white",
           "white",
           "white",
           "white",
           "white",
           "white",
           "white",
           "white",
           "white",
           "white",
           "white",
           "white",
           "white",
           "white",
           "white",
           "white",
           "white",
           "white",
           "white",
           "white",
           "white",
           "white",
           "white",
           "white",
           "white",
           "white",
           "white",
           "white",
           "white",
           "white",
           "white",
           "white",
           "white",
           "white",
           "white",
           "white",
           "white",
           "white",
           "white",
           "white",
           "white",
           "white",
           "white",
           "white",
           "white",
           "white",
           "#A9A9A9",
           "#A9A9A9",
           "white",
           "white",
           "#A9A9A9",
           "#A9A9A9",
           "#A9A9A9",
           "#A9A9A9",
           "white",
           "white",
           "#A9A9A9",
           "#A9A9A9",
           "#A9A9A9",
           "white",
           "#A9A9A9",
           "#A9A9A9",
           "white",
           "white",
           "white",
           "white",
           "white",
           "#A9A9A9",
           "#A9A9A9",
           "#A9A9A9",
           "#A9A9A9",
           "white",
           "white",
           "white",
           "white",
           "white",
           "white",
           "#A9A9A9",
           "#A9A9A9",
           "#A9A9A9",
           "#A9A9A9",
           "white",
           "#A9A9A9",
           "#A9A9A9",
           "white",
           "#A9A9A9",
           "#A9A9A9",
           "#A9A9A9",
           "#A9A9A9",
           "white",
           "white",
           "white",
           "#A9A9A9",
           "#A9A9A9",
           "#A9A9A9",
           "white",
           "white",
           "white",
           "white",
           "white",
           "white",
           "white",
           "#A9A9A9",
           "#A9A9A9",
           "#A9A9A9",
           "white",
           "#A9A9A9",
           "white",
           "#A9A9A9",
           "#A9A9A9",
           "#A9A9A9",
           "#A9A9A9",
           "#A9A9A9",
           "#A9A9A9",
           "white",
           "#A9A9A9",
           "white",
           "#A9A9A9",
           "white",
           "white",
           "white",
           "white",
           "white",
           "white",
           "white",
           "white",
           "white",
           "white",
           "white",
           "white",
           "#A9A9A9",
           "white",
           "white",
           "#A9A9A9",
           "white",
           "#A9A9A9",
           "white",
           "#A9A9A9",
           "#A9A9A9",
           "white",
           "white",
           "#A9A9A9",
           "white",
           "white",
           "white",
           "#A9A9A9",
           "#A9A9A9",
           "white",
           "white",
           "white",
           "white",
           "#A9A9A9",
           "white",
           "white",
           "#A9A9A9",
           "#A9A9A9",
           "#A9A9A9",
           "#A9A9A9",
           "#A9A9A9",
           "white",
           "white",
           "white",
           "white",
           "white",
           "#A9A9A9",
           "#2F4F4F"
          ],
          "family": "Arial",
          "size": 14
         },
         "textinfo": "text",
         "texttemplate": "<b>%{text}</b>",
         "type": "sunburst"
        }
       ],
       "layout": {
        "coloraxis": {
         "cmid": 0,
         "colorbar": {
          "len": 0.6,
          "thickness": 20,
          "tickfont": {
           "size": 14
          },
          "ticks": "outside",
          "tickvals": [
           -5,
           -2.5,
           0,
           2.5,
           5
          ],
          "title": {
           "font": {
            "size": 16
           },
           "text": "NES"
          }
         },
         "colorscale": [
          [
           0,
           "#0571b0"
          ],
          [
           0.25,
           "#92c5de"
          ],
          [
           0.5,
           "#f7f7f7"
          ],
          [
           0.75,
           "#f4a582"
          ],
          [
           1,
           "#ca0020"
          ]
         ]
        },
        "font": {
         "size": 14
        },
        "height": 1100,
        "legend": {
         "tracegroupgap": 0
        },
        "margin": {
         "b": 50,
         "l": 50,
         "r": 50,
         "t": 50
        },
        "template": {
         "data": {
          "bar": [
           {
            "error_x": {
             "color": "#2a3f5f"
            },
            "error_y": {
             "color": "#2a3f5f"
            },
            "marker": {
             "line": {
              "color": "#E5ECF6",
              "width": 0.5
             },
             "pattern": {
              "fillmode": "overlay",
              "size": 10,
              "solidity": 0.2
             }
            },
            "type": "bar"
           }
          ],
          "barpolar": [
           {
            "marker": {
             "line": {
              "color": "#E5ECF6",
              "width": 0.5
             },
             "pattern": {
              "fillmode": "overlay",
              "size": 10,
              "solidity": 0.2
             }
            },
            "type": "barpolar"
           }
          ],
          "carpet": [
           {
            "aaxis": {
             "endlinecolor": "#2a3f5f",
             "gridcolor": "white",
             "linecolor": "white",
             "minorgridcolor": "white",
             "startlinecolor": "#2a3f5f"
            },
            "baxis": {
             "endlinecolor": "#2a3f5f",
             "gridcolor": "white",
             "linecolor": "white",
             "minorgridcolor": "white",
             "startlinecolor": "#2a3f5f"
            },
            "type": "carpet"
           }
          ],
          "choropleth": [
           {
            "colorbar": {
             "outlinewidth": 0,
             "ticks": ""
            },
            "type": "choropleth"
           }
          ],
          "contour": [
           {
            "colorbar": {
             "outlinewidth": 0,
             "ticks": ""
            },
            "colorscale": [
             [
              0,
              "#0d0887"
             ],
             [
              0.1111111111111111,
              "#46039f"
             ],
             [
              0.2222222222222222,
              "#7201a8"
             ],
             [
              0.3333333333333333,
              "#9c179e"
             ],
             [
              0.4444444444444444,
              "#bd3786"
             ],
             [
              0.5555555555555556,
              "#d8576b"
             ],
             [
              0.6666666666666666,
              "#ed7953"
             ],
             [
              0.7777777777777778,
              "#fb9f3a"
             ],
             [
              0.8888888888888888,
              "#fdca26"
             ],
             [
              1,
              "#f0f921"
             ]
            ],
            "type": "contour"
           }
          ],
          "contourcarpet": [
           {
            "colorbar": {
             "outlinewidth": 0,
             "ticks": ""
            },
            "type": "contourcarpet"
           }
          ],
          "heatmap": [
           {
            "colorbar": {
             "outlinewidth": 0,
             "ticks": ""
            },
            "colorscale": [
             [
              0,
              "#0d0887"
             ],
             [
              0.1111111111111111,
              "#46039f"
             ],
             [
              0.2222222222222222,
              "#7201a8"
             ],
             [
              0.3333333333333333,
              "#9c179e"
             ],
             [
              0.4444444444444444,
              "#bd3786"
             ],
             [
              0.5555555555555556,
              "#d8576b"
             ],
             [
              0.6666666666666666,
              "#ed7953"
             ],
             [
              0.7777777777777778,
              "#fb9f3a"
             ],
             [
              0.8888888888888888,
              "#fdca26"
             ],
             [
              1,
              "#f0f921"
             ]
            ],
            "type": "heatmap"
           }
          ],
          "histogram": [
           {
            "marker": {
             "pattern": {
              "fillmode": "overlay",
              "size": 10,
              "solidity": 0.2
             }
            },
            "type": "histogram"
           }
          ],
          "histogram2d": [
           {
            "colorbar": {
             "outlinewidth": 0,
             "ticks": ""
            },
            "colorscale": [
             [
              0,
              "#0d0887"
             ],
             [
              0.1111111111111111,
              "#46039f"
             ],
             [
              0.2222222222222222,
              "#7201a8"
             ],
             [
              0.3333333333333333,
              "#9c179e"
             ],
             [
              0.4444444444444444,
              "#bd3786"
             ],
             [
              0.5555555555555556,
              "#d8576b"
             ],
             [
              0.6666666666666666,
              "#ed7953"
             ],
             [
              0.7777777777777778,
              "#fb9f3a"
             ],
             [
              0.8888888888888888,
              "#fdca26"
             ],
             [
              1,
              "#f0f921"
             ]
            ],
            "type": "histogram2d"
           }
          ],
          "histogram2dcontour": [
           {
            "colorbar": {
             "outlinewidth": 0,
             "ticks": ""
            },
            "colorscale": [
             [
              0,
              "#0d0887"
             ],
             [
              0.1111111111111111,
              "#46039f"
             ],
             [
              0.2222222222222222,
              "#7201a8"
             ],
             [
              0.3333333333333333,
              "#9c179e"
             ],
             [
              0.4444444444444444,
              "#bd3786"
             ],
             [
              0.5555555555555556,
              "#d8576b"
             ],
             [
              0.6666666666666666,
              "#ed7953"
             ],
             [
              0.7777777777777778,
              "#fb9f3a"
             ],
             [
              0.8888888888888888,
              "#fdca26"
             ],
             [
              1,
              "#f0f921"
             ]
            ],
            "type": "histogram2dcontour"
           }
          ],
          "mesh3d": [
           {
            "colorbar": {
             "outlinewidth": 0,
             "ticks": ""
            },
            "type": "mesh3d"
           }
          ],
          "parcoords": [
           {
            "line": {
             "colorbar": {
              "outlinewidth": 0,
              "ticks": ""
             }
            },
            "type": "parcoords"
           }
          ],
          "pie": [
           {
            "automargin": true,
            "type": "pie"
           }
          ],
          "scatter": [
           {
            "fillpattern": {
             "fillmode": "overlay",
             "size": 10,
             "solidity": 0.2
            },
            "type": "scatter"
           }
          ],
          "scatter3d": [
           {
            "line": {
             "colorbar": {
              "outlinewidth": 0,
              "ticks": ""
             }
            },
            "marker": {
             "colorbar": {
              "outlinewidth": 0,
              "ticks": ""
             }
            },
            "type": "scatter3d"
           }
          ],
          "scattercarpet": [
           {
            "marker": {
             "colorbar": {
              "outlinewidth": 0,
              "ticks": ""
             }
            },
            "type": "scattercarpet"
           }
          ],
          "scattergeo": [
           {
            "marker": {
             "colorbar": {
              "outlinewidth": 0,
              "ticks": ""
             }
            },
            "type": "scattergeo"
           }
          ],
          "scattergl": [
           {
            "marker": {
             "colorbar": {
              "outlinewidth": 0,
              "ticks": ""
             }
            },
            "type": "scattergl"
           }
          ],
          "scattermap": [
           {
            "marker": {
             "colorbar": {
              "outlinewidth": 0,
              "ticks": ""
             }
            },
            "type": "scattermap"
           }
          ],
          "scattermapbox": [
           {
            "marker": {
             "colorbar": {
              "outlinewidth": 0,
              "ticks": ""
             }
            },
            "type": "scattermapbox"
           }
          ],
          "scatterpolar": [
           {
            "marker": {
             "colorbar": {
              "outlinewidth": 0,
              "ticks": ""
             }
            },
            "type": "scatterpolar"
           }
          ],
          "scatterpolargl": [
           {
            "marker": {
             "colorbar": {
              "outlinewidth": 0,
              "ticks": ""
             }
            },
            "type": "scatterpolargl"
           }
          ],
          "scatterternary": [
           {
            "marker": {
             "colorbar": {
              "outlinewidth": 0,
              "ticks": ""
             }
            },
            "type": "scatterternary"
           }
          ],
          "surface": [
           {
            "colorbar": {
             "outlinewidth": 0,
             "ticks": ""
            },
            "colorscale": [
             [
              0,
              "#0d0887"
             ],
             [
              0.1111111111111111,
              "#46039f"
             ],
             [
              0.2222222222222222,
              "#7201a8"
             ],
             [
              0.3333333333333333,
              "#9c179e"
             ],
             [
              0.4444444444444444,
              "#bd3786"
             ],
             [
              0.5555555555555556,
              "#d8576b"
             ],
             [
              0.6666666666666666,
              "#ed7953"
             ],
             [
              0.7777777777777778,
              "#fb9f3a"
             ],
             [
              0.8888888888888888,
              "#fdca26"
             ],
             [
              1,
              "#f0f921"
             ]
            ],
            "type": "surface"
           }
          ],
          "table": [
           {
            "cells": {
             "fill": {
              "color": "#EBF0F8"
             },
             "line": {
              "color": "white"
             }
            },
            "header": {
             "fill": {
              "color": "#C8D4E3"
             },
             "line": {
              "color": "white"
             }
            },
            "type": "table"
           }
          ]
         },
         "layout": {
          "annotationdefaults": {
           "arrowcolor": "#2a3f5f",
           "arrowhead": 0,
           "arrowwidth": 1
          },
          "autotypenumbers": "strict",
          "coloraxis": {
           "colorbar": {
            "outlinewidth": 0,
            "ticks": ""
           }
          },
          "colorscale": {
           "diverging": [
            [
             0,
             "#8e0152"
            ],
            [
             0.1,
             "#c51b7d"
            ],
            [
             0.2,
             "#de77ae"
            ],
            [
             0.3,
             "#f1b6da"
            ],
            [
             0.4,
             "#fde0ef"
            ],
            [
             0.5,
             "#f7f7f7"
            ],
            [
             0.6,
             "#e6f5d0"
            ],
            [
             0.7,
             "#b8e186"
            ],
            [
             0.8,
             "#7fbc41"
            ],
            [
             0.9,
             "#4d9221"
            ],
            [
             1,
             "#276419"
            ]
           ],
           "sequential": [
            [
             0,
             "#0d0887"
            ],
            [
             0.1111111111111111,
             "#46039f"
            ],
            [
             0.2222222222222222,
             "#7201a8"
            ],
            [
             0.3333333333333333,
             "#9c179e"
            ],
            [
             0.4444444444444444,
             "#bd3786"
            ],
            [
             0.5555555555555556,
             "#d8576b"
            ],
            [
             0.6666666666666666,
             "#ed7953"
            ],
            [
             0.7777777777777778,
             "#fb9f3a"
            ],
            [
             0.8888888888888888,
             "#fdca26"
            ],
            [
             1,
             "#f0f921"
            ]
           ],
           "sequentialminus": [
            [
             0,
             "#0d0887"
            ],
            [
             0.1111111111111111,
             "#46039f"
            ],
            [
             0.2222222222222222,
             "#7201a8"
            ],
            [
             0.3333333333333333,
             "#9c179e"
            ],
            [
             0.4444444444444444,
             "#bd3786"
            ],
            [
             0.5555555555555556,
             "#d8576b"
            ],
            [
             0.6666666666666666,
             "#ed7953"
            ],
            [
             0.7777777777777778,
             "#fb9f3a"
            ],
            [
             0.8888888888888888,
             "#fdca26"
            ],
            [
             1,
             "#f0f921"
            ]
           ]
          },
          "colorway": [
           "#636efa",
           "#EF553B",
           "#00cc96",
           "#ab63fa",
           "#FFA15A",
           "#19d3f3",
           "#FF6692",
           "#B6E880",
           "#FF97FF",
           "#FECB52"
          ],
          "font": {
           "color": "#2a3f5f"
          },
          "geo": {
           "bgcolor": "white",
           "lakecolor": "white",
           "landcolor": "#E5ECF6",
           "showlakes": true,
           "showland": true,
           "subunitcolor": "white"
          },
          "hoverlabel": {
           "align": "left"
          },
          "hovermode": "closest",
          "mapbox": {
           "style": "light"
          },
          "paper_bgcolor": "white",
          "plot_bgcolor": "#E5ECF6",
          "polar": {
           "angularaxis": {
            "gridcolor": "white",
            "linecolor": "white",
            "ticks": ""
           },
           "bgcolor": "#E5ECF6",
           "radialaxis": {
            "gridcolor": "white",
            "linecolor": "white",
            "ticks": ""
           }
          },
          "scene": {
           "xaxis": {
            "backgroundcolor": "#E5ECF6",
            "gridcolor": "white",
            "gridwidth": 2,
            "linecolor": "white",
            "showbackground": true,
            "ticks": "",
            "zerolinecolor": "white"
           },
           "yaxis": {
            "backgroundcolor": "#E5ECF6",
            "gridcolor": "white",
            "gridwidth": 2,
            "linecolor": "white",
            "showbackground": true,
            "ticks": "",
            "zerolinecolor": "white"
           },
           "zaxis": {
            "backgroundcolor": "#E5ECF6",
            "gridcolor": "white",
            "gridwidth": 2,
            "linecolor": "white",
            "showbackground": true,
            "ticks": "",
            "zerolinecolor": "white"
           }
          },
          "shapedefaults": {
           "line": {
            "color": "#2a3f5f"
           }
          },
          "ternary": {
           "aaxis": {
            "gridcolor": "white",
            "linecolor": "white",
            "ticks": ""
           },
           "baxis": {
            "gridcolor": "white",
            "linecolor": "white",
            "ticks": ""
           },
           "bgcolor": "#E5ECF6",
           "caxis": {
            "gridcolor": "white",
            "linecolor": "white",
            "ticks": ""
           }
          },
          "title": {
           "x": 0.05
          },
          "xaxis": {
           "automargin": true,
           "gridcolor": "white",
           "linecolor": "white",
           "ticks": "",
           "title": {
            "standoff": 15
           },
           "zerolinecolor": "white",
           "zerolinewidth": 2
          },
          "yaxis": {
           "automargin": true,
           "gridcolor": "white",
           "linecolor": "white",
           "ticks": "",
           "title": {
            "standoff": 15
           },
           "zerolinecolor": "white",
           "zerolinewidth": 2
          }
         }
        },
        "width": 1100
       }
      }
     },
     "metadata": {},
     "output_type": "display_data"
    }
   ],
   "source": [
    "fig2 = plot_sunburst(plot, width=1100, height=1100, labels='all')\n",
    "fig2.show()"
   ]
  },
  {
   "cell_type": "code",
   "execution_count": 68,
   "id": "7430084a",
   "metadata": {},
   "outputs": [],
   "source": [
    "fig2.write_image(\"/Users/polina/genetics_gsea/data/sunburst/sunburst_plot_no_labels_v1.png\", width=1100, height=1100, scale=2)"
   ]
  },
  {
   "cell_type": "code",
   "execution_count": 155,
   "id": "b41c69f2",
   "metadata": {},
   "outputs": [
    {
     "data": {
      "text/plain": [
       "'/Users/polina/genetics_gsea/data/sunburst/sunburst_plot_all_labels_v1.html'"
      ]
     },
     "execution_count": 155,
     "metadata": {},
     "output_type": "execute_result"
    }
   ],
   "source": [
    "# Save fig2 to HTML\n",
    "output_html = \"/Users/polina/genetics_gsea/data/sunburst/sunburst_plot_all_labels_v1.html\"\n",
    "fig2.write_html(output_html, include_plotlyjs='cdn')\n",
    "output_html"
   ]
  },
  {
   "cell_type": "markdown",
   "id": "42468ee4",
   "metadata": {},
   "source": [
    "### Plot local sunbursts"
   ]
  },
  {
   "cell_type": "markdown",
   "id": "11101a44",
   "metadata": {},
   "source": []
  },
  {
   "cell_type": "code",
   "execution_count": null,
   "id": "65f6050e",
   "metadata": {},
   "outputs": [],
   "source": []
  },
  {
   "cell_type": "code",
   "execution_count": null,
   "id": "87644edd",
   "metadata": {},
   "outputs": [],
   "source": [
    "plot_sunburst(df, width=1100, height=800, show_labels=True)"
   ]
  },
  {
   "cell_type": "code",
   "execution_count": null,
   "id": "d2003513",
   "metadata": {},
   "outputs": [],
   "source": []
  },
  {
   "cell_type": "code",
   "execution_count": null,
   "id": "59e1a6fe",
   "metadata": {},
   "outputs": [],
   "source": []
  }
 ],
 "metadata": {
  "kernelspec": {
   "display_name": "Python 3",
   "language": "python",
   "name": "python3"
  },
  "language_info": {
   "codemirror_mode": {
    "name": "ipython",
    "version": 3
   },
   "file_extension": ".py",
   "mimetype": "text/x-python",
   "name": "python",
   "nbconvert_exporter": "python",
   "pygments_lexer": "ipython3",
   "version": "3.11.6"
  }
 },
 "nbformat": 4,
 "nbformat_minor": 5
}
