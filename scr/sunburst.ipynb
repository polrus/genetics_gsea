{
 "cells": [
  {
   "cell_type": "code",
   "execution_count": 135,
   "id": "64ffa3a6",
   "metadata": {},
   "outputs": [],
   "source": [
    "import pandas as pd\n",
    "import plotly.express as px\n",
    "\n",
    "def plot_flame_horizontal(df, width=1100, height=800):\n",
    "    df = df.copy()\n",
    "\n",
    "    # fill NA with ROOT\n",
    "    df[\"parentId\"] = df[\"parentId\"].fillna(\"ROOT\")\n",
    "\n",
    "    # redirect missing parents to ROOT\n",
    "    valid_ids = set(df[\"ID\"])\n",
    "    df.loc[~df[\"parentId\"].isin(valid_ids) & (df[\"parentId\"] != \"ROOT\"), \"parentId\"] = \"ROOT\"\n",
    "\n",
    "    # Smart text wrapping (match plot_sunburst style)\n",
    "    def wrap_text_and_orient(row):\n",
    "        text = row[\"Term\"]\n",
    "        parent_id = row[\"parentId\"]\n",
    "\n",
    "        if text == \"Reactome pathways\":\n",
    "            return text, \"horizontal\"\n",
    "\n",
    "        if parent_id == \"ROOT\":\n",
    "            orientation = \"radial\"\n",
    "        else:\n",
    "            orientation = \"tangential\"\n",
    "\n",
    "        if parent_id == \"ROOT\":\n",
    "            if len(text) <= 10:\n",
    "                wrapped_text = text\n",
    "            elif len(text) <= 10:\n",
    "                words = text.split()\n",
    "                if len(words) >= 2:\n",
    "                    mid = len(words) // 2\n",
    "                    wrapped_text = \" \".join(words[:mid]) + \"<br>\" + \" \".join(words[mid:])\n",
    "                else:\n",
    "                    wrapped_text = text\n",
    "            else:\n",
    "                words = text.split()\n",
    "                if len(words) >= 3:\n",
    "                    third = len(words) // 3\n",
    "                    wrapped_text = (\n",
    "                        \" \".join(words[:third])\n",
    "                        + \"<br>\"\n",
    "                        + \" \".join(words[third : 2 * third])\n",
    "                        + \"<br>\"\n",
    "                        + \" \".join(words[2 * third :])\n",
    "                    )\n",
    "                elif len(words) == 2:\n",
    "                    wrapped_text = words[0] + \"<br>\" + words[1]\n",
    "                else:\n",
    "                    wrapped_text = text\n",
    "        else:\n",
    "            if len(text) <= 20:\n",
    "                wrapped_text = text\n",
    "            elif len(text) <= 30:\n",
    "                words = text.split()\n",
    "                if len(words) >= 2:\n",
    "                    mid = len(words) // 2\n",
    "                    wrapped_text = \" \".join(words[:mid]) + \"<br>\" + \" \".join(words[mid:])\n",
    "                else:\n",
    "                    wrapped_text = text\n",
    "            else:\n",
    "                words = text.split()\n",
    "                if len(words) >= 3:\n",
    "                    third = len(words) // 3\n",
    "                    wrapped_text = (\n",
    "                        \" \".join(words[:third])\n",
    "                        + \"<br>\"\n",
    "                        + \" \".join(words[third : 3 * third])\n",
    "                        + \"<br>\"\n",
    "                        + \" \".join(words[3 * third :])\n",
    "                    )\n",
    "                elif len(words) == 9:\n",
    "                    fourth = len(words) // 9\n",
    "                    wrapped_text = (\n",
    "                        \" \".join(words[:fourth])\n",
    "                        + \"<br>\"\n",
    "                        + \" \".join(words[fourth : 9 * fourth])\n",
    "                        + \"<br>\"\n",
    "                        + \" \".join(words[9 * fourth :])\n",
    "                    )\n",
    "                else:\n",
    "                    wrapped_text = text\n",
    "\n",
    "        return wrapped_text, orientation\n",
    "\n",
    "    wrapped_data = df.apply(wrap_text_and_orient, axis=1, result_type=\"expand\")\n",
    "    df[\"wrapped_term\"] = wrapped_data[0]\n",
    "    df[\"text_orientation\"] = wrapped_data[1]\n",
    "\n",
    "    # add root node\n",
    "    root = pd.DataFrame(\n",
    "        [\n",
    "            {\n",
    "                \"ID\": \"ROOT\",\n",
    "                \"parentId\": \"\",\n",
    "                \"wrapped_term\": \"Reactome pathways\",\n",
    "                \"Term\": \"Reactome pathways\",\n",
    "                \"nes\": 0,\n",
    "                \"text_orientation\": \"horizontal\",\n",
    "            }\n",
    "        ]\n",
    "    )\n",
    "    df = pd.concat([df, root], ignore_index=True)\n",
    "\n",
    "    # Colorblind-friendly diverging scale\n",
    "    color_scale = [\"#0571b0\", \"#92c5de\", \"#f7f7f7\", \"#f4a582\", \"#ca0020\"]\n",
    "\n",
    "    # Per-node text colors: dark grey for center, grey for nes==0, white otherwise\n",
    "    text_colors = [\n",
    "        \"#2F4F4F\" if term == \"Reactome pathways\" else (\"#A9A9A9\" if (pd.notna(nes_val) and float(nes_val) == 0) else \"white\")\n",
    "        for term, nes_val in zip(df[\"Term\"], df[\"nes\"])\n",
    "    ]\n",
    "\n",
    "    # Hide center label; we'll render a custom annotation instead\n",
    "    df.loc[df[\"ID\"].eq(\"ROOT\"), \"wrapped_term\"] = \" \"\n",
    "\n",
    "    # Icicle chart (horizontal flame-like)\n",
    "    fig = px.icicle(\n",
    "        df,\n",
    "        names=\"wrapped_term\",\n",
    "        ids=\"ID\",\n",
    "        parents=\"parentId\",\n",
    "        values=None,\n",
    "        color=\"nes\",\n",
    "        color_continuous_scale=color_scale,\n",
    "        color_continuous_midpoint=0,\n",
    "        branchvalues=\"total\",\n",
    "        width=width,\n",
    "        height=height,\n",
    "    )\n",
    "\n",
    "    fig.update_layout(\n",
    "        margin=dict(t=50, l=50, r=50, b=50),\n",
    "        coloraxis_colorbar=dict(\n",
    "            title=dict(text=\"NES\", font=dict(size=16)),\n",
    "            tickvals=[-5, -2.5, 0, 2.5, 5],\n",
    "            tickfont=dict(size=14),\n",
    "            ticks=\"outside\",\n",
    "            thickness=20,\n",
    "            len=0.6,\n",
    "        ),\n",
    "        font=dict(size=14),\n",
    "    )\n",
    "\n",
    "    fig.update_traces(\n",
    "        textinfo=\"label\",\n",
    "        texttemplate=\"<b>%{label}</b>\",\n",
    "        textfont=dict(size=14, family=\"Arial\", color=text_colors),\n",
    "        hovertemplate=\"<b>%{customdata[0]}</b><br>NES: %{color:.2f}<extra></extra>\",\n",
    "        customdata=df[[\"Term\"]],\n",
    "        tiling=dict(orientation=\"h\") if hasattr(type(fig.data[0]), \"tiling\") else None,\n",
    "    )\n",
    "\n",
    "    return fig\n",
    "\n"
   ]
  },
  {
   "cell_type": "code",
   "execution_count": 6,
   "id": "86cbc87f",
   "metadata": {},
   "outputs": [],
   "source": [
    "import pandas as pd"
   ]
  },
  {
   "cell_type": "code",
   "execution_count": 145,
   "id": "57046aa5",
   "metadata": {},
   "outputs": [],
   "source": [
    "import math\n",
    "import pandas as pd\n",
    "import numpy as np\n",
    "import plotly.express as px\n",
    "import plotly.graph_objects as go\n",
    "\n",
    "\n",
    "def plot_circle_packing(df, width=1100, height=800):\n",
    "    df = df.copy()\n",
    "\n",
    "    # fill NA with ROOT\n",
    "    df[\"parentId\"] = df[\"parentId\"].fillna(\"ROOT\")\n",
    "\n",
    "    # redirect missing parents to ROOT\n",
    "    valid_ids = set(df[\"ID\"])\n",
    "    df.loc[~df[\"parentId\"].isin(valid_ids) & (df[\"parentId\"] != \"ROOT\"), \"parentId\"] = \"ROOT\"\n",
    "\n",
    "    # Smart text wrapping (same logic as plot_sunburst)\n",
    "    def wrap_text_and_orient(row):\n",
    "        text = row[\"Term\"]\n",
    "        parent_id = row[\"parentId\"]\n",
    "\n",
    "        if text == \"Reactome pathways\":\n",
    "            return text, \"horizontal\"\n",
    "\n",
    "        if parent_id == \"ROOT\":\n",
    "            orientation = \"radial\"\n",
    "        else:\n",
    "            orientation = \"tangential\"\n",
    "\n",
    "        if parent_id == \"ROOT\":\n",
    "            if len(text) <= 10:\n",
    "                wrapped_text = text\n",
    "            elif len(text) <= 10:\n",
    "                words = text.split()\n",
    "                if len(words) >= 2:\n",
    "                    mid = len(words) // 2\n",
    "                    wrapped_text = \" \".join(words[:mid]) + \"<br>\" + \" \".join(words[mid:])\n",
    "                else:\n",
    "                    wrapped_text = text\n",
    "            else:\n",
    "                words = text.split()\n",
    "                if len(words) >= 3:\n",
    "                    third = len(words) // 3\n",
    "                    wrapped_text = (\n",
    "                        \" \".join(words[:third])\n",
    "                        + \"<br>\"\n",
    "                        + \" \".join(words[third : 2 * third])\n",
    "                        + \"<br>\"\n",
    "                        + \" \".join(words[2 * third :])\n",
    "                    )\n",
    "                elif len(words) == 2:\n",
    "                    wrapped_text = words[0] + \"<br>\" + words[1]\n",
    "                else:\n",
    "                    wrapped_text = text\n",
    "        else:\n",
    "            if len(text) <= 20:\n",
    "                wrapped_text = text\n",
    "            elif len(text) <= 30:\n",
    "                words = text.split()\n",
    "                if len(words) >= 2:\n",
    "                    mid = len(words) // 2\n",
    "                    wrapped_text = \" \".join(words[:mid]) + \"<br>\" + \" \".join(words[mid:])\n",
    "                else:\n",
    "                    wrapped_text = text\n",
    "            else:\n",
    "                words = text.split()\n",
    "                if len(words) >= 3:\n",
    "                    third = len(words) // 3\n",
    "                    wrapped_text = (\n",
    "                        \" \".join(words[:third])\n",
    "                        + \"<br>\"\n",
    "                        + \" \".join(words[third : 3 * third])\n",
    "                        + \"<br>\"\n",
    "                        + \" \".join(words[3 * third :])\n",
    "                    )\n",
    "                elif len(words) == 9:\n",
    "                    fourth = len(words) // 9\n",
    "                    wrapped_text = (\n",
    "                        \" \".join(words[:fourth])\n",
    "                        + \"<br>\"\n",
    "                        + \" \".join(words[fourth : 9 * fourth])\n",
    "                        + \"<br>\"\n",
    "                        + \" \".join(words[9 * fourth :])\n",
    "                    )\n",
    "                else:\n",
    "                    wrapped_text = text\n",
    "        return wrapped_text, orientation\n",
    "\n",
    "    wrapped_data = df.apply(wrap_text_and_orient, axis=1, result_type=\"expand\")\n",
    "    df[\"wrapped_term\"] = wrapped_data[0]\n",
    "    df[\"text_orientation\"] = wrapped_data[1]\n",
    "\n",
    "    # add root node\n",
    "    root = pd.DataFrame(\n",
    "        [\n",
    "            {\n",
    "                \"ID\": \"ROOT\",\n",
    "                \"parentId\": \"\",\n",
    "                \"wrapped_term\": \"Reactome pathways\",\n",
    "                \"Term\": \"Reactome pathways\",\n",
    "                \"nes\": 0,\n",
    "                \"text_orientation\": \"horizontal\",\n",
    "            }\n",
    "        ]\n",
    "    )\n",
    "    df = pd.concat([df, root], ignore_index=True)\n",
    "\n",
    "    # Build tree structures\n",
    "    children_map = {}\n",
    "    value_map = {}\n",
    "    term_map = {}\n",
    "    nes_map = {}\n",
    "    for _, row in df.iterrows():\n",
    "        node_id = row[\"ID\"]\n",
    "        parent_id = row[\"parentId\"]\n",
    "        children_map.setdefault(parent_id, []).append(node_id)\n",
    "        children_map.setdefault(node_id, [])\n",
    "        term_map[node_id] = row[\"wrapped_term\"]\n",
    "        nes_map[node_id] = row.get(\"nes\", np.nan)\n",
    "        value_map[node_id] = float(abs(row.get(\"nes\", 0)) if pd.notna(row.get(\"nes\", np.nan)) else 0.0) + 0.01\n",
    "\n",
    "    # Aggregate values bottom-up\n",
    "    visited = set()\n",
    "    def aggregate(node_id):\n",
    "        if node_id in visited:\n",
    "            return value_map[node_id]\n",
    "        visited.add(node_id)\n",
    "        if children_map.get(node_id):\n",
    "            child_vals = [aggregate(c) for c in children_map[node_id]]\n",
    "            value_map[node_id] = max(sum(child_vals), 0.01)\n",
    "        return value_map[node_id]\n",
    "\n",
    "    aggregate(\"ROOT\")\n",
    "\n",
    "    # Radii proportional to sqrt(value)\n",
    "    raw_radii = {nid: math.sqrt(max(value_map[nid], 1e-6)) for nid in value_map}\n",
    "\n",
    "    # Place first-level groups (children of ROOT) around a circle\n",
    "    groups = [nid for nid in children_map.get(\"ROOT\", []) if nid != \"ROOT\"]\n",
    "    if not groups:\n",
    "        groups = [nid for nid in df[\"ID\"] if nid != \"ROOT\"]\n",
    "\n",
    "    group_radii = [raw_radii[g] for g in groups]\n",
    "    total_r = sum(group_radii) + 1e-6\n",
    "    angles = np.cumsum([0] + [2 * math.pi * (r / total_r) for r in group_radii[:-1]])\n",
    "\n",
    "    layout_radius = 0.65\n",
    "    group_scale = (layout_radius * 0.9) / (max(group_radii) if group_radii else 1.0)\n",
    "\n",
    "    node_pos = {}\n",
    "    node_rad = {}\n",
    "\n",
    "    for g, r, ang in zip(groups, group_radii, angles):\n",
    "        Rg = r * group_scale\n",
    "        xg = layout_radius * math.cos(ang)\n",
    "        yg = layout_radius * math.sin(ang)\n",
    "        node_pos[g] = (xg, yg)\n",
    "        node_rad[g] = Rg\n",
    "\n",
    "    # Place children within each group on inner ring(s)\n",
    "    for g in groups:\n",
    "        cx, cy = node_pos[g]\n",
    "        pr = node_rad[g]\n",
    "        children = [c for c in children_map.get(g, []) if c != g]\n",
    "        if not children:\n",
    "            continue\n",
    "        cr_raw = [raw_radii[c] for c in children]\n",
    "        if len(children) == 1:\n",
    "            node_pos[children[0]] = (cx, cy)\n",
    "            node_rad[children[0]] = min(pr * 0.8, cr_raw[0] * group_scale)\n",
    "            continue\n",
    "        ring_r = pr * 0.6\n",
    "        # scale children radii to fit ring spacing\n",
    "        max_cr = max(cr_raw)\n",
    "        child_scale = (pr * 0.35) / (max_cr if max_cr > 0 else 1.0)\n",
    "        step = 2 * math.pi / len(children)\n",
    "        for i, c in enumerate(children):\n",
    "            ang = i * step\n",
    "            node_pos[c] = (cx + ring_r * math.cos(ang), cy + ring_r * math.sin(ang))\n",
    "            node_rad[c] = max(0.02, cr_raw[i] * child_scale)\n",
    "\n",
    "    # Any remaining nodes (deeper) place near their parent if not already placed\n",
    "    for nid in df[\"ID\"]:\n",
    "        if nid in (\"ROOT\",) or nid in node_pos:\n",
    "            continue\n",
    "        parent = df.loc[df[\"ID\"] == nid, \"parentId\"].values\n",
    "        if len(parent) == 0:\n",
    "            continue\n",
    "        parent = parent[0]\n",
    "        px_, py_ = node_pos.get(parent, (0.0, 0.0))\n",
    "        pr_ = node_rad.get(parent, 0.2)\n",
    "        node_pos[nid] = (px_ + 0.2 * pr_, py_)\n",
    "        node_rad[nid] = raw_radii.get(nid, 0.05) * 0.2\n",
    "\n",
    "    # Color scale and text colors\n",
    "    color_scale = [\"#0571b0\", \"#92c5de\", \"#f7f7f7\", \"#f4a582\", \"#ca0020\"]\n",
    "    text_colors = [\n",
    "        \"#2F4F4F\" if term == \"Reactome pathways\" else (\"#A9A9A9\" if (pd.notna(nes_val) and float(nes_val) == 0) else \"white\")\n",
    "        for term, nes_val in zip(df[\"Term\"], df[\"nes\"])\n",
    "    ]\n",
    "    text_color_lookup = dict(zip(df[\"ID\"], text_colors))\n",
    "\n",
    "    nes_values = df.set_index(\"ID\")[\"nes\"].to_dict()\n",
    "    finite_nes = [float(v) for v in nes_values.values() if pd.notna(v)]\n",
    "    vmin = min(finite_nes) if finite_nes else -1.0\n",
    "    vmax = max(finite_nes) if finite_nes else 1.0\n",
    "    vmin = min(vmin, -1e-6)\n",
    "    vmax = max(vmax, 1e-6)\n",
    "\n",
    "    def sample_color(val):\n",
    "        if pd.isna(val):\n",
    "            val = 0.0\n",
    "        ratio = (float(val) - vmin) / (vmax - vmin) if vmax > vmin else 0.5\n",
    "        return px.colors.sample_colorscale(color_scale, ratio)[0]\n",
    "\n",
    "    fig = go.Figure()\n",
    "\n",
    "    # colorbar host\n",
    "    fig.add_scatter(\n",
    "        x=[None],\n",
    "        y=[None],\n",
    "        mode=\"markers\",\n",
    "        marker=dict(\n",
    "            color=[0],\n",
    "            colorscale=color_scale,\n",
    "            cmin=vmin,\n",
    "            cmax=vmax,\n",
    "            showscale=True,\n",
    "            colorbar=dict(\n",
    "                title=dict(text=\"NES\", font=dict(size=16)),\n",
    "                tickfont=dict(size=14),\n",
    "                ticks=\"outside\",\n",
    "                thickness=20,\n",
    "                len=0.6,\n",
    "            ),\n",
    "            size=0,\n",
    "        ),\n",
    "        hoverinfo=\"skip\",\n",
    "        showlegend=False,\n",
    "    )\n",
    "\n",
    "    shapes = []\n",
    "    annotations = []\n",
    "    for nid, (x, y) in node_pos.items():\n",
    "        if nid == \"ROOT\":\n",
    "            continue\n",
    "        r = node_rad.get(nid, 0.05)\n",
    "        fill = sample_color(nes_values.get(nid, 0.0))\n",
    "        label = term_map.get(nid, nid)\n",
    "        label_color = text_color_lookup.get(nid, \"white\")\n",
    "        shapes.append(\n",
    "            dict(\n",
    "                type=\"circle\",\n",
    "                xref=\"x\",\n",
    "                yref=\"y\",\n",
    "                x0=x - r,\n",
    "                y0=y - r,\n",
    "                x1=x + r,\n",
    "                y1=y + r,\n",
    "                fillcolor=fill,\n",
    "                line=dict(color=\"white\", width=0.5),\n",
    "            )\n",
    "        )\n",
    "        annotations.append(\n",
    "            dict(\n",
    "                x=x,\n",
    "                y=y,\n",
    "                text=f\"<b>{label}</b>\",\n",
    "                showarrow=False,\n",
    "                font=dict(size=12, color=label_color),\n",
    "                xanchor=\"center\",\n",
    "                yanchor=\"middle\",\n",
    "            )\n",
    "        )\n",
    "\n",
    "    fig.update_layout(\n",
    "        width=width,\n",
    "        height=height,\n",
    "        margin=dict(t=50, l=50, r=50, b=50),\n",
    "        xaxis=dict(visible=False, scaleanchor=\"y\", scaleratio=1, range=[-1.1, 1.1]),\n",
    "        yaxis=dict(visible=False, range=[-1.1, 1.1]),\n",
    "        shapes=shapes,\n",
    "        annotations=annotations,\n",
    "        font=dict(size=14),\n",
    "        plot_bgcolor=\"white\",\n",
    "        paper_bgcolor=\"white\",\n",
    "    )\n",
    "\n",
    "    return fig\n",
    "\n"
   ]
  },
  {
   "cell_type": "code",
   "execution_count": 7,
   "id": "27997506",
   "metadata": {},
   "outputs": [],
   "source": [
    "geneset = pd.read_csv(\"/Users/polina/genetics_gsea/data/geneset_annotated/geneset_reactome_2025_disease_v2.csv\")"
   ]
  },
  {
   "cell_type": "code",
   "execution_count": 149,
   "id": "74014b12",
   "metadata": {},
   "outputs": [],
   "source": [
    "# Smaller circles version: redefine plot_circle_packing with reduced radii\n",
    "import math\n",
    "import pandas as pd\n",
    "import numpy as np\n",
    "import plotly.express as px\n",
    "import plotly.graph_objects as go\n",
    "\n",
    "\n",
    "def plot_circle_packing(df, width=1100, height=800, scale=0.6):\n",
    "    df = df.copy()\n",
    "\n",
    "    df[\"parentId\"] = df[\"parentId\"].fillna(\"ROOT\")\n",
    "    valid_ids = set(df[\"ID\"])\n",
    "    df.loc[~df[\"parentId\"].isin(valid_ids) & (df[\"parentId\"] != \"ROOT\"), \"parentId\"] = \"ROOT\"\n",
    "\n",
    "    def wrap_text_and_orient(row):\n",
    "        text = row[\"Term\"]\n",
    "        parent_id = row[\"parentId\"]\n",
    "        if text == \"Reactome pathways\":\n",
    "            return text, \"horizontal\"\n",
    "        orientation = \"radial\" if parent_id == \"ROOT\" else \"tangential\"\n",
    "        if parent_id == \"ROOT\":\n",
    "            if len(text) <= 10:\n",
    "                wrapped_text = text\n",
    "            elif len(text) <= 10:\n",
    "                words = text.split()\n",
    "                if len(words) >= 2:\n",
    "                    mid = len(words) // 2\n",
    "                    wrapped_text = \" \".join(words[:mid]) + \"<br>\" + \" \".join(words[mid:])\n",
    "                else:\n",
    "                    wrapped_text = text\n",
    "            else:\n",
    "                words = text.split()\n",
    "                if len(words) >= 3:\n",
    "                    third = len(words) // 3\n",
    "                    wrapped_text = \" \".join(words[:third]) + \"<br>\" + \" \".join(words[third:2*third]) + \"<br>\" + \" \".join(words[2*third:])\n",
    "                elif len(words) == 2:\n",
    "                    wrapped_text = words[0] + \"<br>\" + words[1]\n",
    "                else:\n",
    "                    wrapped_text = text\n",
    "        else:\n",
    "            if len(text) <= 20:\n",
    "                wrapped_text = text\n",
    "            elif len(text) <= 30:\n",
    "                words = text.split()\n",
    "                if len(words) >= 2:\n",
    "                    mid = len(words) // 2\n",
    "                    wrapped_text = \" \".join(words[:mid]) + \"<br>\" + \" \".join(words[mid:])\n",
    "                else:\n",
    "                    wrapped_text = text\n",
    "            else:\n",
    "                words = text.split()\n",
    "                if len(words) >= 3:\n",
    "                    third = len(words) // 3\n",
    "                    wrapped_text = \" \".join(words[:third]) + \"<br>\" + \" \".join(words[third:3*third]) + \"<br>\" + \" \".join(words[3*third:])\n",
    "                elif len(words) == 9:\n",
    "                    fourth = len(words) // 9\n",
    "                    wrapped_text = \" \".join(words[:fourth]) + \"<br>\" + \" \".join(words[fourth:9*fourth]) + \"<br>\" + \" \".join(words[9*fourth:])\n",
    "                else:\n",
    "                    wrapped_text = text\n",
    "        return wrapped_text, orientation\n",
    "\n",
    "    wrapped_data = df.apply(wrap_text_and_orient, axis=1, result_type=\"expand\")\n",
    "    df[\"wrapped_term\"] = wrapped_data[0]\n",
    "    df[\"text_orientation\"] = wrapped_data[1]\n",
    "\n",
    "    root = pd.DataFrame([{ \"ID\": \"ROOT\", \"parentId\": \"\", \"wrapped_term\": \"Reactome pathways\", \"Term\": \"Reactome pathways\", \"nes\": 0, \"text_orientation\": \"horizontal\" }])\n",
    "    df = pd.concat([df, root], ignore_index=True)\n",
    "\n",
    "    children_map, value_map, term_map = {}, {}, {}\n",
    "    for _, row in df.iterrows():\n",
    "        node_id = row[\"ID\"]\n",
    "        parent_id = row[\"parentId\"]\n",
    "        children_map.setdefault(parent_id, []).append(node_id)\n",
    "        children_map.setdefault(node_id, [])\n",
    "        term_map[node_id] = row[\"wrapped_term\"]\n",
    "        value_map[node_id] = float(abs(row.get(\"nes\", 0)) if pd.notna(row.get(\"nes\", np.nan)) else 0.0) + 0.01\n",
    "\n",
    "    visited = set()\n",
    "    def aggregate(node_id):\n",
    "        if node_id in visited:\n",
    "            return value_map[node_id]\n",
    "        visited.add(node_id)\n",
    "        if children_map.get(node_id):\n",
    "            child_vals = [aggregate(c) for c in children_map[node_id]]\n",
    "            value_map[node_id] = max(sum(child_vals), 0.01)\n",
    "        return value_map[node_id]\n",
    "    aggregate(\"ROOT\")\n",
    "\n",
    "    raw_radii = {nid: math.sqrt(max(value_map[nid], 1e-6)) for nid in value_map}\n",
    "\n",
    "    groups = [nid for nid in children_map.get(\"ROOT\", []) if nid != \"ROOT\"]\n",
    "    if not groups:\n",
    "        groups = [nid for nid in df[\"ID\"] if nid != \"ROOT\"]\n",
    "\n",
    "    group_radii = [raw_radii[g] for g in groups]\n",
    "    total_r = sum(group_radii) + 1e-6\n",
    "    angles = np.cumsum([0] + [2 * math.pi * (r / total_r) for r in group_radii[:-1]])\n",
    "\n",
    "    layout_radius = 0.65\n",
    "    group_scale = (layout_radius * 0.9) / (max(group_radii) if group_radii else 1.0)\n",
    "\n",
    "    node_pos, node_rad = {}, {}\n",
    "    for g, r, ang in zip(groups, group_radii, angles):\n",
    "        Rg = r * group_scale\n",
    "        xg = layout_radius * math.cos(ang)\n",
    "        yg = layout_radius * math.sin(ang)\n",
    "        node_pos[g] = (xg, yg)\n",
    "        node_rad[g] = Rg\n",
    "\n",
    "    for g in groups:\n",
    "        cx, cy = node_pos[g]\n",
    "        pr = node_rad[g]\n",
    "        children = [c for c in children_map.get(g, []) if c != g]\n",
    "        if not children:\n",
    "            continue\n",
    "        cr_raw = [raw_radii[c] for c in children]\n",
    "        if len(children) == 1:\n",
    "            node_pos[children[0]] = (cx, cy)\n",
    "            node_rad[children[0]] = min(pr * 0.8, cr_raw[0] * group_scale)\n",
    "            continue\n",
    "        ring_r = pr * 0.6\n",
    "        max_cr = max(cr_raw)\n",
    "        child_scale = (pr * 0.35) / (max_cr if max_cr > 0 else 1.0)\n",
    "        step = 2 * math.pi / len(children)\n",
    "        for i, c in enumerate(children):\n",
    "            ang = i * step\n",
    "            node_pos[c] = (cx + ring_r * math.cos(ang), cy + ring_r * math.sin(ang))\n",
    "            node_rad[c] = max(0.02, cr_raw[i] * child_scale)\n",
    "\n",
    "    for nid in df[\"ID\"]:\n",
    "        if nid in (\"ROOT\",) or nid in node_pos:\n",
    "            continue\n",
    "        parent = df.loc[df[\"ID\"] == nid, \"parentId\"].values\n",
    "        if len(parent) == 0:\n",
    "            continue\n",
    "        parent = parent[0]\n",
    "        px_, py_ = node_pos.get(parent, (0.0, 0.0))\n",
    "        pr_ = node_rad.get(parent, 0.2)\n",
    "        node_pos[nid] = (px_ + 0.2 * pr_, py_)\n",
    "        node_rad[nid] = raw_radii.get(nid, 0.05) * 0.2\n",
    "\n",
    "    # SHRINK all radii globally to make circles smaller\n",
    "    shrink = float(scale)\n",
    "    for nid in list(node_rad.keys()):\n",
    "        node_rad[nid] *= shrink\n",
    "\n",
    "    color_scale = [\"#0571b0\", \"#92c5de\", \"#f7f7f7\", \"#f4a582\", \"#ca0020\"]\n",
    "    text_colors = [\"#2F4F4F\" if term == \"Reactome pathways\" else (\"#A9A9A9\" if (pd.notna(nes_val) and float(nes_val) == 0) else \"white\") for term, nes_val in zip(df[\"Term\"], df[\"nes\"]) ]\n",
    "    text_color_lookup = dict(zip(df[\"ID\"], text_colors))\n",
    "\n",
    "    nes_values = df.set_index(\"ID\")[\"nes\"].to_dict()\n",
    "    finite_nes = [float(v) for v in nes_values.values() if pd.notna(v)]\n",
    "    vmin = min(finite_nes) if finite_nes else -1.0\n",
    "    vmax = max(finite_nes) if finite_nes else 1.0\n",
    "    vmin = min(vmin, -1e-6)\n",
    "    vmax = max(vmax, 1e-6)\n",
    "\n",
    "    def sample_color(val):\n",
    "        if pd.isna(val):\n",
    "            val = 0.0\n",
    "        ratio = (float(val) - vmin) / (vmax - vmin) if vmax > vmin else 0.5\n",
    "        return px.colors.sample_colorscale(color_scale, ratio)[0]\n",
    "\n",
    "    fig = go.Figure()\n",
    "    fig.add_scatter(x=[None], y=[None], mode=\"markers\", marker=dict(color=[0], colorscale=color_scale, cmin=vmin, cmax=vmax, showscale=True, colorbar=dict(title=dict(text=\"NES\", font=dict(size=16)), tickfont=dict(size=14), ticks=\"outside\", thickness=20, len=0.6), size=0,), hoverinfo=\"skip\", showlegend=False)\n",
    "\n",
    "    shapes, annotations = [], []\n",
    "    for nid, (x, y) in node_pos.items():\n",
    "        if nid == \"ROOT\":\n",
    "            continue\n",
    "        r = node_rad.get(nid, 0.05)\n",
    "        fill = sample_color(nes_values.get(nid, 0.0))\n",
    "        label = term_map.get(nid, nid)\n",
    "        label_color = text_color_lookup.get(nid, \"white\")\n",
    "        shapes.append(dict(type=\"circle\", xref=\"x\", yref=\"y\", x0=x - r, y0=y - r, x1=x + r, y1=y + r, fillcolor=fill, line=dict(color=\"white\", width=0.5)))\n",
    "        annotations.append(dict(x=x, y=y, text=f\"<b>{label}</b>\", showarrow=False, font=dict(size=12, color=label_color), xanchor=\"center\", yanchor=\"middle\"))\n",
    "\n",
    "    fig.update_layout(width=width, height=height, margin=dict(t=50, l=50, r=50, b=50), xaxis=dict(visible=False, scaleanchor=\"y\", scaleratio=1, range=[-1.1, 1.1]), yaxis=dict(visible=False, range=[-1.1, 1.1]), shapes=shapes, annotations=annotations, font=dict(size=14), plot_bgcolor=\"white\", paper_bgcolor=\"white\")\n",
    "\n",
    "    return fig\n",
    "\n"
   ]
  },
  {
   "cell_type": "code",
   "execution_count": 8,
   "id": "f9bcffdf",
   "metadata": {},
   "outputs": [],
   "source": [
    "pathways = geneset[[\"Term\", \"ID\"]].drop_duplicates().reset_index(drop=True).copy()"
   ]
  },
  {
   "cell_type": "code",
   "execution_count": 9,
   "id": "e756fd63",
   "metadata": {},
   "outputs": [],
   "source": [
    "pathways = pathways.assign(\n",
    "    Term=pathways[\"Term\"].str.split(\";\"),\n",
    "    ID=pathways[\"ID\"].str.split(\";\")\n",
    ")\n",
    "\n",
    "pathways_exploded = pathways.explode([\"Term\", \"ID\"]).drop_duplicates().reset_index(drop=True)"
   ]
  },
  {
   "cell_type": "code",
   "execution_count": 10,
   "id": "fde77f1c",
   "metadata": {},
   "outputs": [
    {
     "data": {
      "text/html": [
       "<div>\n",
       "<style scoped>\n",
       "    .dataframe tbody tr th:only-of-type {\n",
       "        vertical-align: middle;\n",
       "    }\n",
       "\n",
       "    .dataframe tbody tr th {\n",
       "        vertical-align: top;\n",
       "    }\n",
       "\n",
       "    .dataframe thead th {\n",
       "        text-align: right;\n",
       "    }\n",
       "</style>\n",
       "<table border=\"1\" class=\"dataframe\">\n",
       "  <thead>\n",
       "    <tr style=\"text-align: right;\">\n",
       "      <th></th>\n",
       "      <th>Term</th>\n",
       "      <th>ID</th>\n",
       "    </tr>\n",
       "  </thead>\n",
       "  <tbody>\n",
       "    <tr>\n",
       "      <th>0</th>\n",
       "      <td>Signal Transduction</td>\n",
       "      <td>R-HSA-162582</td>\n",
       "    </tr>\n",
       "    <tr>\n",
       "      <th>1</th>\n",
       "      <td>Generic Transcription Pathway</td>\n",
       "      <td>R-HSA-212436</td>\n",
       "    </tr>\n",
       "    <tr>\n",
       "      <th>2</th>\n",
       "      <td>RNA Polymerase II Transcription</td>\n",
       "      <td>R-HSA-73857</td>\n",
       "    </tr>\n",
       "    <tr>\n",
       "      <th>3</th>\n",
       "      <td>Gene expression (Transcription)</td>\n",
       "      <td>R-HSA-74160</td>\n",
       "    </tr>\n",
       "    <tr>\n",
       "      <th>4</th>\n",
       "      <td>SMAD2/SMAD3:SMAD4 heterotrimer regulates trans...</td>\n",
       "      <td>R-HSA-2173796</td>\n",
       "    </tr>\n",
       "    <tr>\n",
       "      <th>...</th>\n",
       "      <td>...</td>\n",
       "      <td>...</td>\n",
       "    </tr>\n",
       "    <tr>\n",
       "      <th>403</th>\n",
       "      <td>Serotonin receptors</td>\n",
       "      <td>R-HSA-390666</td>\n",
       "    </tr>\n",
       "    <tr>\n",
       "      <th>404</th>\n",
       "      <td>Glycogen storage diseases</td>\n",
       "      <td>R-HSA-3229121</td>\n",
       "    </tr>\n",
       "    <tr>\n",
       "      <th>405</th>\n",
       "      <td>SIRT1 negatively regulates rRNA expression</td>\n",
       "      <td>R-HSA-427359</td>\n",
       "    </tr>\n",
       "    <tr>\n",
       "      <th>406</th>\n",
       "      <td>Alpha-defensins</td>\n",
       "      <td>R-HSA-1462054</td>\n",
       "    </tr>\n",
       "    <tr>\n",
       "      <th>407</th>\n",
       "      <td>Transport of nucleosides and free purine and p...</td>\n",
       "      <td>R-HSA-83936</td>\n",
       "    </tr>\n",
       "  </tbody>\n",
       "</table>\n",
       "<p>408 rows × 2 columns</p>\n",
       "</div>"
      ],
      "text/plain": [
       "                                                  Term             ID\n",
       "0                                  Signal Transduction   R-HSA-162582\n",
       "1                        Generic Transcription Pathway   R-HSA-212436\n",
       "2                      RNA Polymerase II Transcription    R-HSA-73857\n",
       "3                      Gene expression (Transcription)    R-HSA-74160\n",
       "4    SMAD2/SMAD3:SMAD4 heterotrimer regulates trans...  R-HSA-2173796\n",
       "..                                                 ...            ...\n",
       "403                                Serotonin receptors   R-HSA-390666\n",
       "404                          Glycogen storage diseases  R-HSA-3229121\n",
       "405         SIRT1 negatively regulates rRNA expression   R-HSA-427359\n",
       "406                                    Alpha-defensins  R-HSA-1462054\n",
       "407  Transport of nucleosides and free purine and p...    R-HSA-83936\n",
       "\n",
       "[408 rows x 2 columns]"
      ]
     },
     "execution_count": 10,
     "metadata": {},
     "output_type": "execute_result"
    }
   ],
   "source": [
    "pathways_exploded"
   ]
  },
  {
   "cell_type": "code",
   "execution_count": 11,
   "id": "45215ad6",
   "metadata": {},
   "outputs": [],
   "source": [
    "hieararchy = pd.read_csv(\"/Users/polina/genetics_gsea/data/gmt/Reactome_2025/Pathways_hierarchy_relationship.txt\", sep=\"\\t\", header=None)\n",
    "hieararchy.columns = [\"parentId\", \"childId\"]"
   ]
  },
  {
   "cell_type": "code",
   "execution_count": 12,
   "id": "8de33025",
   "metadata": {},
   "outputs": [],
   "source": [
    "pathway_hieararchy = pd.merge(pathways_exploded, hieararchy, left_on=\"ID\", right_on=\"childId\", how=\"left\")[[\"ID\", \"parentId\", \"Term\"]]"
   ]
  },
  {
   "cell_type": "code",
   "execution_count": 13,
   "id": "332db6db",
   "metadata": {},
   "outputs": [
    {
     "data": {
      "text/html": [
       "<div>\n",
       "<style scoped>\n",
       "    .dataframe tbody tr th:only-of-type {\n",
       "        vertical-align: middle;\n",
       "    }\n",
       "\n",
       "    .dataframe tbody tr th {\n",
       "        vertical-align: top;\n",
       "    }\n",
       "\n",
       "    .dataframe thead th {\n",
       "        text-align: right;\n",
       "    }\n",
       "</style>\n",
       "<table border=\"1\" class=\"dataframe\">\n",
       "  <thead>\n",
       "    <tr style=\"text-align: right;\">\n",
       "      <th></th>\n",
       "      <th>ID</th>\n",
       "      <th>parentId</th>\n",
       "      <th>Term</th>\n",
       "    </tr>\n",
       "  </thead>\n",
       "  <tbody>\n",
       "    <tr>\n",
       "      <th>0</th>\n",
       "      <td>R-HSA-162582</td>\n",
       "      <td>NaN</td>\n",
       "      <td>Signal Transduction</td>\n",
       "    </tr>\n",
       "    <tr>\n",
       "      <th>1</th>\n",
       "      <td>R-HSA-212436</td>\n",
       "      <td>R-HSA-73857</td>\n",
       "      <td>Generic Transcription Pathway</td>\n",
       "    </tr>\n",
       "    <tr>\n",
       "      <th>2</th>\n",
       "      <td>R-HSA-73857</td>\n",
       "      <td>R-HSA-74160</td>\n",
       "      <td>RNA Polymerase II Transcription</td>\n",
       "    </tr>\n",
       "    <tr>\n",
       "      <th>3</th>\n",
       "      <td>R-HSA-74160</td>\n",
       "      <td>NaN</td>\n",
       "      <td>Gene expression (Transcription)</td>\n",
       "    </tr>\n",
       "    <tr>\n",
       "      <th>4</th>\n",
       "      <td>R-HSA-2173796</td>\n",
       "      <td>R-HSA-2173793</td>\n",
       "      <td>SMAD2/SMAD3:SMAD4 heterotrimer regulates trans...</td>\n",
       "    </tr>\n",
       "    <tr>\n",
       "      <th>...</th>\n",
       "      <td>...</td>\n",
       "      <td>...</td>\n",
       "      <td>...</td>\n",
       "    </tr>\n",
       "    <tr>\n",
       "      <th>408</th>\n",
       "      <td>R-HSA-390666</td>\n",
       "      <td>R-HSA-375280</td>\n",
       "      <td>Serotonin receptors</td>\n",
       "    </tr>\n",
       "    <tr>\n",
       "      <th>409</th>\n",
       "      <td>R-HSA-3229121</td>\n",
       "      <td>R-HSA-5663084</td>\n",
       "      <td>Glycogen storage diseases</td>\n",
       "    </tr>\n",
       "    <tr>\n",
       "      <th>410</th>\n",
       "      <td>R-HSA-427359</td>\n",
       "      <td>R-HSA-5250941</td>\n",
       "      <td>SIRT1 negatively regulates rRNA expression</td>\n",
       "    </tr>\n",
       "    <tr>\n",
       "      <th>411</th>\n",
       "      <td>R-HSA-1462054</td>\n",
       "      <td>R-HSA-1461973</td>\n",
       "      <td>Alpha-defensins</td>\n",
       "    </tr>\n",
       "    <tr>\n",
       "      <th>412</th>\n",
       "      <td>R-HSA-83936</td>\n",
       "      <td>R-HSA-425397</td>\n",
       "      <td>Transport of nucleosides and free purine and p...</td>\n",
       "    </tr>\n",
       "  </tbody>\n",
       "</table>\n",
       "<p>413 rows × 3 columns</p>\n",
       "</div>"
      ],
      "text/plain": [
       "                ID       parentId  \\\n",
       "0     R-HSA-162582            NaN   \n",
       "1     R-HSA-212436    R-HSA-73857   \n",
       "2      R-HSA-73857    R-HSA-74160   \n",
       "3      R-HSA-74160            NaN   \n",
       "4    R-HSA-2173796  R-HSA-2173793   \n",
       "..             ...            ...   \n",
       "408   R-HSA-390666   R-HSA-375280   \n",
       "409  R-HSA-3229121  R-HSA-5663084   \n",
       "410   R-HSA-427359  R-HSA-5250941   \n",
       "411  R-HSA-1462054  R-HSA-1461973   \n",
       "412    R-HSA-83936   R-HSA-425397   \n",
       "\n",
       "                                                  Term  \n",
       "0                                  Signal Transduction  \n",
       "1                        Generic Transcription Pathway  \n",
       "2                      RNA Polymerase II Transcription  \n",
       "3                      Gene expression (Transcription)  \n",
       "4    SMAD2/SMAD3:SMAD4 heterotrimer regulates trans...  \n",
       "..                                                 ...  \n",
       "408                                Serotonin receptors  \n",
       "409                          Glycogen storage diseases  \n",
       "410         SIRT1 negatively regulates rRNA expression  \n",
       "411                                    Alpha-defensins  \n",
       "412  Transport of nucleosides and free purine and p...  \n",
       "\n",
       "[413 rows x 3 columns]"
      ]
     },
     "execution_count": 13,
     "metadata": {},
     "output_type": "execute_result"
    }
   ],
   "source": [
    "pathway_hieararchy"
   ]
  },
  {
   "cell_type": "code",
   "execution_count": 14,
   "id": "9071ce12",
   "metadata": {},
   "outputs": [],
   "source": [
    "gsea_disease = pd.read_csv(\"/Users/polina/genetics_gsea/data/gsea/from_database/disease_zscore_reactome_2025.tsv\", sep=\"\\t\")"
   ]
  },
  {
   "cell_type": "code",
   "execution_count": 15,
   "id": "76925c80",
   "metadata": {},
   "outputs": [],
   "source": [
    "pathway_hieararchy_gsea = pd.merge(pathway_hieararchy, gsea_disease, left_on=\"ID\", right_on=\"ID\", how=\"left\")[[\"ID\", \"parentId\", \"Term_x\", \"nes\", \"fdr\"]].rename(columns={\"Term_x\": \"Term\"})"
   ]
  },
  {
   "cell_type": "code",
   "execution_count": 16,
   "id": "a745c209",
   "metadata": {},
   "outputs": [],
   "source": [
    "import numpy as np\n",
    "import plotly.express as px"
   ]
  },
  {
   "cell_type": "code",
   "execution_count": null,
   "id": "d7f84151",
   "metadata": {},
   "outputs": [],
   "source": [
    "import pandas as pd\n",
    "import plotly.express as px\n",
    "\n",
    "def plot_sunburst(df, width=1100, height=800, show_labels=True, labels='all'):\n",
    "    df = df.copy()\n",
    "    \n",
    "    # fill NA with ROOT\n",
    "    df[\"parentId\"] = df[\"parentId\"].fillna(\"ROOT\")\n",
    "    \n",
    "    # redirect missing parents to ROOT\n",
    "    valid_ids = set(df[\"ID\"])\n",
    "    df.loc[~df[\"parentId\"].isin(valid_ids) & (df[\"parentId\"] != \"ROOT\"), \"parentId\"] = \"ROOT\"\n",
    "    \n",
    "    # Smart text wrapping and orientation determination (kept for wrapping only)\n",
    "    def wrap_text_and_orient(row):\n",
    "        text = row[\"Term\"]\n",
    "        parent_id = row[\"parentId\"]\n",
    "        \n",
    "        if text == \"Reactome pathways\":\n",
    "            return text, \"horizontal\"  # center label\n",
    "        \n",
    "        if parent_id == \"ROOT\":\n",
    "            orientation = \"radial\"\n",
    "        else:\n",
    "            orientation = \"tangential\"\n",
    "        \n",
    "        # Apply text wrapping\n",
    "        if parent_id == \"ROOT\":\n",
    "            if len(text) <= 10:\n",
    "                wrapped_text = text\n",
    "            elif len(text) <= 10:\n",
    "                words = text.split()\n",
    "                if len(words) >= 2:\n",
    "                    mid = len(words) // 2\n",
    "                    wrapped_text = \" \".join(words[:mid]) + \"<br>\" + \" \".join(words[mid:])\n",
    "                else:\n",
    "                    wrapped_text = text\n",
    "            else:\n",
    "                words = text.split()\n",
    "                if len(words) >= 3:\n",
    "                    third = len(words) // 3\n",
    "                    wrapped_text = \" \".join(words[:third]) + \"<br>\" + \" \".join(words[third:2*third]) + \"<br>\" + \" \".join(words[2*third:])\n",
    "                elif len(words) == 2:\n",
    "                    wrapped_text = words[0] + \"<br>\" + words[1]\n",
    "                else:\n",
    "                    wrapped_text = text\n",
    "        else:\n",
    "            if len(text) <= 20:\n",
    "                wrapped_text = text\n",
    "            elif len(text) <= 30:\n",
    "                words = text.split()\n",
    "                if len(words) >= 2:\n",
    "                    mid = len(words) // 2\n",
    "                    wrapped_text = \" \".join(words[:mid]) + \"<br>\" + \" \".join(words[mid:])\n",
    "                else:\n",
    "                    wrapped_text = text\n",
    "            else:\n",
    "                words = text.split()\n",
    "                if len(words) >= 3:\n",
    "                    third = len(words) // 3\n",
    "                    wrapped_text = \" \".join(words[:third]) + \"<br>\" + \" \".join(words[third:3*third]) + \"<br>\" + \" \".join(words[3*third:])\n",
    "                elif len(words) == 9:\n",
    "                    fourth = len(words) // 9\n",
    "                    wrapped_text = \" \".join(words[:fourth]) + \"<br>\" + \" \".join(words[fourth:9*fourth]) + \"<br>\" + \" \".join(words[9*fourth:])\n",
    "                else:\n",
    "                    wrapped_text = text\n",
    "        \n",
    "        return wrapped_text, orientation\n",
    "    \n",
    "    wrapped_data = df.apply(wrap_text_and_orient, axis=1, result_type='expand')\n",
    "    df[\"wrapped_term\"] = wrapped_data[0]\n",
    "    df[\"text_orientation\"] = wrapped_data[1]\n",
    "    \n",
    "    # add root node\n",
    "    root = pd.DataFrame([{\n",
    "        \"ID\": \"ROOT\", \n",
    "        \"parentId\": \"\", \n",
    "        \"wrapped_term\": \"Reactome pathways\", \n",
    "        \"Term\": \"Reactome pathways\", \n",
    "        \"nes\": 0,\n",
    "        \"text_orientation\": \"horizontal\"\n",
    "    }])\n",
    "    df = pd.concat([df, root], ignore_index=True)\n",
    "\n",
    "    # Colorblind-friendly diverging scale\n",
    "    color_scale = ['#0571b0','#92c5de','#f7f7f7','#f4a582','#ca0020']\n",
    "    \n",
    "        # Per-node text colors: dark grey for center, grey for nes==0, white otherwise\n",
    "    text_colors = [\n",
    "        '#2F4F4F' if term == \"Reactome pathways\" else ('#A9A9A9' if (pd.notna(nes_val) and float(nes_val) == 0) else 'white')\n",
    "        for term, nes_val in zip(df[\"Term\"], df[\"nes\"])\n",
    "    ]\n",
    "\n",
    "    # Hide center label; we'll render a custom annotation instead\n",
    "    df.loc[df[\"ID\"].eq(\"ROOT\"), \"wrapped_term\"] = \" \" \n",
    "\n",
    "    # Backward-compat: if show_labels is False, force labels mode to 'none'\n",
    "    labels = ('none' if not show_labels else labels)\n",
    "    if labels not in {'all', 'none', 'root_only'}:\n",
    "        labels = 'all'\n",
    "\n",
    "    # Compute per-node label text based on desired mode\n",
    "    if labels == 'none':\n",
    "        df['label_to_show'] = ''\n",
    "    elif labels == 'root_only':\n",
    "        df['label_to_show'] = df.apply(lambda r: (r['wrapped_term'] if (r['parentId'] == 'ROOT' and r['ID'] != 'ROOT') else ''), axis=1)\n",
    "    else:  # 'all'\n",
    "        df['label_to_show'] = df.apply(lambda r: ('' if r['ID'] == 'ROOT' else r['wrapped_term']), axis=1)\n",
    "    \n",
    "    fig = px.sunburst(\n",
    "        df,\n",
    "        names=\"wrapped_term\",\n",
    "        ids=\"ID\",\n",
    "        parents=\"parentId\",\n",
    "        values=None,\n",
    "        color=\"nes\",\n",
    "        color_continuous_scale=color_scale,\n",
    "        color_continuous_midpoint=0,\n",
    "        branchvalues='total',\n",
    "        width=width,\n",
    "        height=height\n",
    "    )\n",
    "    \n",
    "    fig.update_layout(\n",
    "        margin=dict(t=50, l=50, r=50, b=50),\n",
    "        coloraxis_colorbar=dict(\n",
    "            title=dict(text=\"NES\", font=dict(size=16)),\n",
    "            tickvals=[-5, -2.5, 0, 2.5, 5],\n",
    "            # tickvals=[df[\"nes\"].min(), 0, df[\"nes\"].max()],\n",
    "            tickfont=dict(size=14),\n",
    "            ticks=\"outside\",\n",
    "            thickness=20,\n",
    "            len=0.6\n",
    "        ),\n",
    "        font=dict(size=14)\n",
    "    )\n",
    "\n",
    "\n",
    "    # Let Plotly choose radial/tangential per sector; center stays horizontal.\n",
    "    fig.update_traces(\n",
    "        insidetextorientation='auto',\n",
    "        textfont=dict(size=14, family=\"Arial\", color=text_colors),\n",
    "        hovertemplate='<b>%{customdata[0]}</b><br>NES: %{color:.2f}<extra></extra>',\n",
    "        customdata=df[[\"Term\"]],\n",
    "        text=df['label_to_show'],\n",
    "        textinfo='text',\n",
    "        texttemplate='<b>%{text}</b>'\n",
    "    )\n",
    "    \n",
    "    return fig\n"
   ]
  },
  {
   "cell_type": "code",
   "execution_count": 155,
   "id": "e62a2d6f",
   "metadata": {},
   "outputs": [],
   "source": [
    "import pandas as pd\n",
    "\n",
    "# Filter pathways by FDR\n",
    "pathway_hieararchy_gsea_filt = pathway_hieararchy_gsea[pathway_hieararchy_gsea[\"fdr\"] < 0.005].copy()\n",
    "\n",
    "# Fill missing parentId with ROOT\n",
    "pathway_hieararchy_gsea_filt[\"parentId\"] = pathway_hieararchy_gsea_filt[\"parentId\"].fillna(\"ROOT\")\n",
    "\n",
    "# Recursively remove rows where parentId is not in ID column (except for ROOT)\n",
    "def filter_orphaned_nodes(df):\n",
    "    valid_ids = set(df[\"ID\"])\n",
    "    \n",
    "    # Keep only rows where parentId is in valid IDs or is ROOT\n",
    "    filtered_df = df[df[\"parentId\"].isin(valid_ids.union({\"ROOT\"}))].copy()\n",
    "    \n",
    "    # If no changes were made, we're done\n",
    "    if len(filtered_df) == len(df):\n",
    "        return filtered_df\n",
    "    \n",
    "    # Otherwise, continue filtering recursively\n",
    "    return filter_orphaned_nodes(filtered_df)\n",
    "\n",
    "# Apply the recursive filtering\n",
    "pathway_hieararchy_gsea_filt_vis = filter_orphaned_nodes(pathway_hieararchy_gsea_filt)\n",
    "\n",
    "# Add new row for 'Other' using pd.concat\n",
    "other_row = pd.DataFrame([{\"ID\": \"Other\", \"Term\": \"Other\", \"nes\": -5, \"parentId\": \"ROOT\"}])\n",
    "pathway_hieararchy_gsea_filt_vis = pd.concat([pathway_hieararchy_gsea_filt_vis, other_row], ignore_index=True)\n",
    "\n",
    "# Optional: save to CSV\n",
    "# pathway_hieararchy_gsea_filt_vis.to_csv(\"/Users/polina/genetics_gsea/data/sunburst/pathway_hieararchy_gsea_filt.csv\", index=False)\n",
    "\n",
    "# If you want to exclude the 'Other' category from the final result\n",
    "pathway_hieararchy_gsea_filt_vis_no_other = pathway_hieararchy_gsea_filt_vis[\n",
    "    (pathway_hieararchy_gsea_filt_vis[\"parentId\"] != \"Other\")\n",
    "]"
   ]
  },
  {
   "cell_type": "code",
   "execution_count": 156,
   "id": "30637684",
   "metadata": {},
   "outputs": [
    {
     "data": {
      "text/html": [
       "<div>\n",
       "<style scoped>\n",
       "    .dataframe tbody tr th:only-of-type {\n",
       "        vertical-align: middle;\n",
       "    }\n",
       "\n",
       "    .dataframe tbody tr th {\n",
       "        vertical-align: top;\n",
       "    }\n",
       "\n",
       "    .dataframe thead th {\n",
       "        text-align: right;\n",
       "    }\n",
       "</style>\n",
       "<table border=\"1\" class=\"dataframe\">\n",
       "  <thead>\n",
       "    <tr style=\"text-align: right;\">\n",
       "      <th></th>\n",
       "      <th>ID</th>\n",
       "      <th>parentId</th>\n",
       "      <th>Term</th>\n",
       "      <th>nes</th>\n",
       "      <th>fdr</th>\n",
       "    </tr>\n",
       "  </thead>\n",
       "  <tbody>\n",
       "    <tr>\n",
       "      <th>0</th>\n",
       "      <td>R-HSA-162582</td>\n",
       "      <td>ROOT</td>\n",
       "      <td>Signal Transduction</td>\n",
       "      <td>5.879025</td>\n",
       "      <td>0.000007</td>\n",
       "    </tr>\n",
       "    <tr>\n",
       "      <th>1</th>\n",
       "      <td>R-HSA-212436</td>\n",
       "      <td>R-HSA-73857</td>\n",
       "      <td>Generic Transcription Pathway</td>\n",
       "      <td>4.456707</td>\n",
       "      <td>0.000382</td>\n",
       "    </tr>\n",
       "    <tr>\n",
       "      <th>2</th>\n",
       "      <td>R-HSA-73857</td>\n",
       "      <td>R-HSA-74160</td>\n",
       "      <td>RNA Polymerase II Transcription</td>\n",
       "      <td>4.202785</td>\n",
       "      <td>0.000634</td>\n",
       "    </tr>\n",
       "    <tr>\n",
       "      <th>3</th>\n",
       "      <td>R-HSA-74160</td>\n",
       "      <td>ROOT</td>\n",
       "      <td>Gene expression (Transcription)</td>\n",
       "      <td>4.022728</td>\n",
       "      <td>0.000928</td>\n",
       "    </tr>\n",
       "    <tr>\n",
       "      <th>4</th>\n",
       "      <td>R-HSA-1280215</td>\n",
       "      <td>R-HSA-168256</td>\n",
       "      <td>Cytokine Signaling in Immune system</td>\n",
       "      <td>4.523809</td>\n",
       "      <td>0.000357</td>\n",
       "    </tr>\n",
       "    <tr>\n",
       "      <th>5</th>\n",
       "      <td>R-HSA-168256</td>\n",
       "      <td>ROOT</td>\n",
       "      <td>Immune System</td>\n",
       "      <td>4.273209</td>\n",
       "      <td>0.000557</td>\n",
       "    </tr>\n",
       "    <tr>\n",
       "      <th>6</th>\n",
       "      <td>R-HSA-1266738</td>\n",
       "      <td>ROOT</td>\n",
       "      <td>Developmental Biology</td>\n",
       "      <td>4.117902</td>\n",
       "      <td>0.000737</td>\n",
       "    </tr>\n",
       "    <tr>\n",
       "      <th>7</th>\n",
       "      <td>R-HSA-1643685</td>\n",
       "      <td>ROOT</td>\n",
       "      <td>Disease</td>\n",
       "      <td>3.556823</td>\n",
       "      <td>0.003337</td>\n",
       "    </tr>\n",
       "    <tr>\n",
       "      <th>8</th>\n",
       "      <td>R-HSA-449147</td>\n",
       "      <td>R-HSA-1280215</td>\n",
       "      <td>Signaling by Interleukins</td>\n",
       "      <td>3.410020</td>\n",
       "      <td>0.004928</td>\n",
       "    </tr>\n",
       "    <tr>\n",
       "      <th>9</th>\n",
       "      <td>R-HSA-8963743</td>\n",
       "      <td>ROOT</td>\n",
       "      <td>Digestion and absorption</td>\n",
       "      <td>-3.887837</td>\n",
       "      <td>0.001404</td>\n",
       "    </tr>\n",
       "    <tr>\n",
       "      <th>10</th>\n",
       "      <td>R-HSA-8935690</td>\n",
       "      <td>R-HSA-8963743</td>\n",
       "      <td>Digestion</td>\n",
       "      <td>-3.783465</td>\n",
       "      <td>0.001808</td>\n",
       "    </tr>\n",
       "    <tr>\n",
       "      <th>11</th>\n",
       "      <td>R-HSA-5682910</td>\n",
       "      <td>R-HSA-1266738</td>\n",
       "      <td>LGI-ADAM interactions</td>\n",
       "      <td>-4.339900</td>\n",
       "      <td>0.000507</td>\n",
       "    </tr>\n",
       "    <tr>\n",
       "      <th>12</th>\n",
       "      <td>R-HSA-77075</td>\n",
       "      <td>R-HSA-73857</td>\n",
       "      <td>RNA Pol II CTD phosphorylation and interaction...</td>\n",
       "      <td>-4.862360</td>\n",
       "      <td>0.000214</td>\n",
       "    </tr>\n",
       "    <tr>\n",
       "      <th>13</th>\n",
       "      <td>R-HSA-73779</td>\n",
       "      <td>R-HSA-73857</td>\n",
       "      <td>RNA Polymerase II Transcription Pre-Initiation...</td>\n",
       "      <td>-4.688520</td>\n",
       "      <td>0.000214</td>\n",
       "    </tr>\n",
       "    <tr>\n",
       "      <th>14</th>\n",
       "      <td>R-HSA-76042</td>\n",
       "      <td>R-HSA-73857</td>\n",
       "      <td>RNA Polymerase II Transcription Initiation And...</td>\n",
       "      <td>-4.688520</td>\n",
       "      <td>0.000214</td>\n",
       "    </tr>\n",
       "    <tr>\n",
       "      <th>15</th>\n",
       "      <td>R-HSA-75953</td>\n",
       "      <td>R-HSA-76042</td>\n",
       "      <td>RNA Polymerase II Transcription Initiation</td>\n",
       "      <td>-4.688520</td>\n",
       "      <td>0.000214</td>\n",
       "    </tr>\n",
       "    <tr>\n",
       "      <th>16</th>\n",
       "      <td>R-HSA-73776</td>\n",
       "      <td>R-HSA-76042</td>\n",
       "      <td>RNA Polymerase II Promoter Escape</td>\n",
       "      <td>-4.688520</td>\n",
       "      <td>0.000214</td>\n",
       "    </tr>\n",
       "    <tr>\n",
       "      <th>17</th>\n",
       "      <td>Other</td>\n",
       "      <td>ROOT</td>\n",
       "      <td>Other</td>\n",
       "      <td>-5.000000</td>\n",
       "      <td>NaN</td>\n",
       "    </tr>\n",
       "  </tbody>\n",
       "</table>\n",
       "</div>"
      ],
      "text/plain": [
       "               ID       parentId  \\\n",
       "0    R-HSA-162582           ROOT   \n",
       "1    R-HSA-212436    R-HSA-73857   \n",
       "2     R-HSA-73857    R-HSA-74160   \n",
       "3     R-HSA-74160           ROOT   \n",
       "4   R-HSA-1280215   R-HSA-168256   \n",
       "5    R-HSA-168256           ROOT   \n",
       "6   R-HSA-1266738           ROOT   \n",
       "7   R-HSA-1643685           ROOT   \n",
       "8    R-HSA-449147  R-HSA-1280215   \n",
       "9   R-HSA-8963743           ROOT   \n",
       "10  R-HSA-8935690  R-HSA-8963743   \n",
       "11  R-HSA-5682910  R-HSA-1266738   \n",
       "12    R-HSA-77075    R-HSA-73857   \n",
       "13    R-HSA-73779    R-HSA-73857   \n",
       "14    R-HSA-76042    R-HSA-73857   \n",
       "15    R-HSA-75953    R-HSA-76042   \n",
       "16    R-HSA-73776    R-HSA-76042   \n",
       "17          Other           ROOT   \n",
       "\n",
       "                                                 Term       nes       fdr  \n",
       "0                                 Signal Transduction  5.879025  0.000007  \n",
       "1                       Generic Transcription Pathway  4.456707  0.000382  \n",
       "2                     RNA Polymerase II Transcription  4.202785  0.000634  \n",
       "3                     Gene expression (Transcription)  4.022728  0.000928  \n",
       "4                 Cytokine Signaling in Immune system  4.523809  0.000357  \n",
       "5                                       Immune System  4.273209  0.000557  \n",
       "6                               Developmental Biology  4.117902  0.000737  \n",
       "7                                             Disease  3.556823  0.003337  \n",
       "8                           Signaling by Interleukins  3.410020  0.004928  \n",
       "9                            Digestion and absorption -3.887837  0.001404  \n",
       "10                                          Digestion -3.783465  0.001808  \n",
       "11                              LGI-ADAM interactions -4.339900  0.000507  \n",
       "12  RNA Pol II CTD phosphorylation and interaction... -4.862360  0.000214  \n",
       "13  RNA Polymerase II Transcription Pre-Initiation... -4.688520  0.000214  \n",
       "14  RNA Polymerase II Transcription Initiation And... -4.688520  0.000214  \n",
       "15         RNA Polymerase II Transcription Initiation -4.688520  0.000214  \n",
       "16                  RNA Polymerase II Promoter Escape -4.688520  0.000214  \n",
       "17                                              Other -5.000000       NaN  "
      ]
     },
     "execution_count": 156,
     "metadata": {},
     "output_type": "execute_result"
    }
   ],
   "source": [
    "pathway_hieararchy_gsea_filt_vis_no_other"
   ]
  },
  {
   "cell_type": "code",
   "execution_count": 157,
   "id": "345c0c1d",
   "metadata": {},
   "outputs": [
    {
     "data": {
      "application/vnd.plotly.v1+json": {
       "config": {
        "plotlyServerURL": "https://plot.ly"
       },
       "data": [
        {
         "branchvalues": "total",
         "customdata": [
          [
           "Signal Transduction"
          ],
          [
           "Generic Transcription Pathway"
          ],
          [
           "RNA Polymerase II Transcription"
          ],
          [
           "Gene expression (Transcription)"
          ],
          [
           "Cytokine Signaling in Immune system"
          ],
          [
           "Immune System"
          ],
          [
           "Developmental Biology"
          ],
          [
           "Disease"
          ],
          [
           "Signaling by Interleukins"
          ],
          [
           "Digestion and absorption"
          ],
          [
           "Digestion"
          ],
          [
           "LGI-ADAM interactions"
          ],
          [
           "RNA Pol II CTD phosphorylation and interaction with CE"
          ],
          [
           "RNA Polymerase II Transcription Pre-Initiation And Promoter Opening"
          ],
          [
           "RNA Polymerase II Transcription Initiation And Promoter Clearance"
          ],
          [
           "RNA Polymerase II Transcription Initiation"
          ],
          [
           "RNA Polymerase II Promoter Escape"
          ],
          [
           "Other"
          ],
          [
           "Reactome pathways"
          ]
         ],
         "domain": {
          "x": [
           0,
           1
          ],
          "y": [
           0,
           1
          ]
         },
         "hovertemplate": "<b>%{customdata[0]}</b><br>NES: %{color:.2f}<extra></extra>",
         "ids": [
          "R-HSA-162582",
          "R-HSA-212436",
          "R-HSA-73857",
          "R-HSA-74160",
          "R-HSA-1280215",
          "R-HSA-168256",
          "R-HSA-1266738",
          "R-HSA-1643685",
          "R-HSA-449147",
          "R-HSA-8963743",
          "R-HSA-8935690",
          "R-HSA-5682910",
          "R-HSA-77075",
          "R-HSA-73779",
          "R-HSA-76042",
          "R-HSA-75953",
          "R-HSA-73776",
          "Other",
          "ROOT"
         ],
         "insidetextorientation": "auto",
         "labels": [
          "Signal<br>Transduction",
          "Generic<br>Transcription Pathway",
          "RNA<br>Polymerase II<br>Transcription",
          "Gene<br>expression<br>(Transcription)",
          "Cytokine<br>Signaling in<br>Immune system",
          "Immune<br>System",
          "Developmental<br>Biology",
          "Disease",
          "Signaling<br>by Interleukins",
          "Digestion<br>and<br>absorption",
          "Digestion",
          "LGI-ADAM<br>interactions",
          "RNA Pol II<br>CTD phosphorylation and interaction with CE<br>",
          "RNA Polymerase<br>II Transcription Pre-Initiation And<br>Promoter Opening",
          "RNA Polymerase<br>II Transcription Initiation And<br>Promoter Clearance",
          "RNA<br>Polymerase II<br>Transcription Initiation",
          "RNA<br>Polymerase II<br>Promoter Escape",
          "Other",
          " "
         ],
         "marker": {
          "coloraxis": "coloraxis",
          "colors": {
           "bdata": "IW4cBx+EF0DcyMrpqtMRQGIM5MumzxBAg0s080UXEEARHrNxYRgSQCnZlzXEFxFAfvdJUbt4EEAm4XaUX3QMQE2EL824RwtApJiOIUoaD8AJv/tXiUQOwP6Ic70OXBHA0l/dfQ5zE8BKcspBC8ESwEpyykELwRLASnLKQQvBEsBKcspBC8ESwAAAAAAAABTAAAAAAAAAAAA=",
           "dtype": "f8"
          }
         },
         "name": "",
         "parents": [
          "ROOT",
          "R-HSA-73857",
          "R-HSA-74160",
          "ROOT",
          "R-HSA-168256",
          "ROOT",
          "ROOT",
          "ROOT",
          "R-HSA-1280215",
          "ROOT",
          "R-HSA-8963743",
          "R-HSA-1266738",
          "R-HSA-73857",
          "R-HSA-73857",
          "R-HSA-73857",
          "R-HSA-76042",
          "R-HSA-76042",
          "ROOT",
          ""
         ],
         "textfont": {
          "color": [
           "white",
           "white",
           "white",
           "white",
           "white",
           "white",
           "white",
           "white",
           "white",
           "white",
           "white",
           "white",
           "white",
           "white",
           "white",
           "white",
           "white",
           "white",
           "#2F4F4F"
          ],
          "family": "Arial",
          "size": 14
         },
         "textinfo": "label",
         "texttemplate": "<b>%{label}</b>",
         "type": "sunburst"
        }
       ],
       "layout": {
        "coloraxis": {
         "cmid": 0,
         "colorbar": {
          "len": 0.6,
          "thickness": 20,
          "tickfont": {
           "size": 14
          },
          "ticks": "outside",
          "tickvals": [
           -5,
           -2.5,
           0,
           2.5,
           5
          ],
          "title": {
           "font": {
            "size": 16
           },
           "text": "NES"
          }
         },
         "colorscale": [
          [
           0,
           "#0571b0"
          ],
          [
           0.25,
           "#92c5de"
          ],
          [
           0.5,
           "#f7f7f7"
          ],
          [
           0.75,
           "#f4a582"
          ],
          [
           1,
           "#ca0020"
          ]
         ]
        },
        "font": {
         "size": 14
        },
        "height": 800,
        "legend": {
         "tracegroupgap": 0
        },
        "margin": {
         "b": 50,
         "l": 50,
         "r": 50,
         "t": 50
        },
        "template": {
         "data": {
          "bar": [
           {
            "error_x": {
             "color": "#2a3f5f"
            },
            "error_y": {
             "color": "#2a3f5f"
            },
            "marker": {
             "line": {
              "color": "#E5ECF6",
              "width": 0.5
             },
             "pattern": {
              "fillmode": "overlay",
              "size": 10,
              "solidity": 0.2
             }
            },
            "type": "bar"
           }
          ],
          "barpolar": [
           {
            "marker": {
             "line": {
              "color": "#E5ECF6",
              "width": 0.5
             },
             "pattern": {
              "fillmode": "overlay",
              "size": 10,
              "solidity": 0.2
             }
            },
            "type": "barpolar"
           }
          ],
          "carpet": [
           {
            "aaxis": {
             "endlinecolor": "#2a3f5f",
             "gridcolor": "white",
             "linecolor": "white",
             "minorgridcolor": "white",
             "startlinecolor": "#2a3f5f"
            },
            "baxis": {
             "endlinecolor": "#2a3f5f",
             "gridcolor": "white",
             "linecolor": "white",
             "minorgridcolor": "white",
             "startlinecolor": "#2a3f5f"
            },
            "type": "carpet"
           }
          ],
          "choropleth": [
           {
            "colorbar": {
             "outlinewidth": 0,
             "ticks": ""
            },
            "type": "choropleth"
           }
          ],
          "contour": [
           {
            "colorbar": {
             "outlinewidth": 0,
             "ticks": ""
            },
            "colorscale": [
             [
              0,
              "#0d0887"
             ],
             [
              0.1111111111111111,
              "#46039f"
             ],
             [
              0.2222222222222222,
              "#7201a8"
             ],
             [
              0.3333333333333333,
              "#9c179e"
             ],
             [
              0.4444444444444444,
              "#bd3786"
             ],
             [
              0.5555555555555556,
              "#d8576b"
             ],
             [
              0.6666666666666666,
              "#ed7953"
             ],
             [
              0.7777777777777778,
              "#fb9f3a"
             ],
             [
              0.8888888888888888,
              "#fdca26"
             ],
             [
              1,
              "#f0f921"
             ]
            ],
            "type": "contour"
           }
          ],
          "contourcarpet": [
           {
            "colorbar": {
             "outlinewidth": 0,
             "ticks": ""
            },
            "type": "contourcarpet"
           }
          ],
          "heatmap": [
           {
            "colorbar": {
             "outlinewidth": 0,
             "ticks": ""
            },
            "colorscale": [
             [
              0,
              "#0d0887"
             ],
             [
              0.1111111111111111,
              "#46039f"
             ],
             [
              0.2222222222222222,
              "#7201a8"
             ],
             [
              0.3333333333333333,
              "#9c179e"
             ],
             [
              0.4444444444444444,
              "#bd3786"
             ],
             [
              0.5555555555555556,
              "#d8576b"
             ],
             [
              0.6666666666666666,
              "#ed7953"
             ],
             [
              0.7777777777777778,
              "#fb9f3a"
             ],
             [
              0.8888888888888888,
              "#fdca26"
             ],
             [
              1,
              "#f0f921"
             ]
            ],
            "type": "heatmap"
           }
          ],
          "histogram": [
           {
            "marker": {
             "pattern": {
              "fillmode": "overlay",
              "size": 10,
              "solidity": 0.2
             }
            },
            "type": "histogram"
           }
          ],
          "histogram2d": [
           {
            "colorbar": {
             "outlinewidth": 0,
             "ticks": ""
            },
            "colorscale": [
             [
              0,
              "#0d0887"
             ],
             [
              0.1111111111111111,
              "#46039f"
             ],
             [
              0.2222222222222222,
              "#7201a8"
             ],
             [
              0.3333333333333333,
              "#9c179e"
             ],
             [
              0.4444444444444444,
              "#bd3786"
             ],
             [
              0.5555555555555556,
              "#d8576b"
             ],
             [
              0.6666666666666666,
              "#ed7953"
             ],
             [
              0.7777777777777778,
              "#fb9f3a"
             ],
             [
              0.8888888888888888,
              "#fdca26"
             ],
             [
              1,
              "#f0f921"
             ]
            ],
            "type": "histogram2d"
           }
          ],
          "histogram2dcontour": [
           {
            "colorbar": {
             "outlinewidth": 0,
             "ticks": ""
            },
            "colorscale": [
             [
              0,
              "#0d0887"
             ],
             [
              0.1111111111111111,
              "#46039f"
             ],
             [
              0.2222222222222222,
              "#7201a8"
             ],
             [
              0.3333333333333333,
              "#9c179e"
             ],
             [
              0.4444444444444444,
              "#bd3786"
             ],
             [
              0.5555555555555556,
              "#d8576b"
             ],
             [
              0.6666666666666666,
              "#ed7953"
             ],
             [
              0.7777777777777778,
              "#fb9f3a"
             ],
             [
              0.8888888888888888,
              "#fdca26"
             ],
             [
              1,
              "#f0f921"
             ]
            ],
            "type": "histogram2dcontour"
           }
          ],
          "mesh3d": [
           {
            "colorbar": {
             "outlinewidth": 0,
             "ticks": ""
            },
            "type": "mesh3d"
           }
          ],
          "parcoords": [
           {
            "line": {
             "colorbar": {
              "outlinewidth": 0,
              "ticks": ""
             }
            },
            "type": "parcoords"
           }
          ],
          "pie": [
           {
            "automargin": true,
            "type": "pie"
           }
          ],
          "scatter": [
           {
            "fillpattern": {
             "fillmode": "overlay",
             "size": 10,
             "solidity": 0.2
            },
            "type": "scatter"
           }
          ],
          "scatter3d": [
           {
            "line": {
             "colorbar": {
              "outlinewidth": 0,
              "ticks": ""
             }
            },
            "marker": {
             "colorbar": {
              "outlinewidth": 0,
              "ticks": ""
             }
            },
            "type": "scatter3d"
           }
          ],
          "scattercarpet": [
           {
            "marker": {
             "colorbar": {
              "outlinewidth": 0,
              "ticks": ""
             }
            },
            "type": "scattercarpet"
           }
          ],
          "scattergeo": [
           {
            "marker": {
             "colorbar": {
              "outlinewidth": 0,
              "ticks": ""
             }
            },
            "type": "scattergeo"
           }
          ],
          "scattergl": [
           {
            "marker": {
             "colorbar": {
              "outlinewidth": 0,
              "ticks": ""
             }
            },
            "type": "scattergl"
           }
          ],
          "scattermap": [
           {
            "marker": {
             "colorbar": {
              "outlinewidth": 0,
              "ticks": ""
             }
            },
            "type": "scattermap"
           }
          ],
          "scattermapbox": [
           {
            "marker": {
             "colorbar": {
              "outlinewidth": 0,
              "ticks": ""
             }
            },
            "type": "scattermapbox"
           }
          ],
          "scatterpolar": [
           {
            "marker": {
             "colorbar": {
              "outlinewidth": 0,
              "ticks": ""
             }
            },
            "type": "scatterpolar"
           }
          ],
          "scatterpolargl": [
           {
            "marker": {
             "colorbar": {
              "outlinewidth": 0,
              "ticks": ""
             }
            },
            "type": "scatterpolargl"
           }
          ],
          "scatterternary": [
           {
            "marker": {
             "colorbar": {
              "outlinewidth": 0,
              "ticks": ""
             }
            },
            "type": "scatterternary"
           }
          ],
          "surface": [
           {
            "colorbar": {
             "outlinewidth": 0,
             "ticks": ""
            },
            "colorscale": [
             [
              0,
              "#0d0887"
             ],
             [
              0.1111111111111111,
              "#46039f"
             ],
             [
              0.2222222222222222,
              "#7201a8"
             ],
             [
              0.3333333333333333,
              "#9c179e"
             ],
             [
              0.4444444444444444,
              "#bd3786"
             ],
             [
              0.5555555555555556,
              "#d8576b"
             ],
             [
              0.6666666666666666,
              "#ed7953"
             ],
             [
              0.7777777777777778,
              "#fb9f3a"
             ],
             [
              0.8888888888888888,
              "#fdca26"
             ],
             [
              1,
              "#f0f921"
             ]
            ],
            "type": "surface"
           }
          ],
          "table": [
           {
            "cells": {
             "fill": {
              "color": "#EBF0F8"
             },
             "line": {
              "color": "white"
             }
            },
            "header": {
             "fill": {
              "color": "#C8D4E3"
             },
             "line": {
              "color": "white"
             }
            },
            "type": "table"
           }
          ]
         },
         "layout": {
          "annotationdefaults": {
           "arrowcolor": "#2a3f5f",
           "arrowhead": 0,
           "arrowwidth": 1
          },
          "autotypenumbers": "strict",
          "coloraxis": {
           "colorbar": {
            "outlinewidth": 0,
            "ticks": ""
           }
          },
          "colorscale": {
           "diverging": [
            [
             0,
             "#8e0152"
            ],
            [
             0.1,
             "#c51b7d"
            ],
            [
             0.2,
             "#de77ae"
            ],
            [
             0.3,
             "#f1b6da"
            ],
            [
             0.4,
             "#fde0ef"
            ],
            [
             0.5,
             "#f7f7f7"
            ],
            [
             0.6,
             "#e6f5d0"
            ],
            [
             0.7,
             "#b8e186"
            ],
            [
             0.8,
             "#7fbc41"
            ],
            [
             0.9,
             "#4d9221"
            ],
            [
             1,
             "#276419"
            ]
           ],
           "sequential": [
            [
             0,
             "#0d0887"
            ],
            [
             0.1111111111111111,
             "#46039f"
            ],
            [
             0.2222222222222222,
             "#7201a8"
            ],
            [
             0.3333333333333333,
             "#9c179e"
            ],
            [
             0.4444444444444444,
             "#bd3786"
            ],
            [
             0.5555555555555556,
             "#d8576b"
            ],
            [
             0.6666666666666666,
             "#ed7953"
            ],
            [
             0.7777777777777778,
             "#fb9f3a"
            ],
            [
             0.8888888888888888,
             "#fdca26"
            ],
            [
             1,
             "#f0f921"
            ]
           ],
           "sequentialminus": [
            [
             0,
             "#0d0887"
            ],
            [
             0.1111111111111111,
             "#46039f"
            ],
            [
             0.2222222222222222,
             "#7201a8"
            ],
            [
             0.3333333333333333,
             "#9c179e"
            ],
            [
             0.4444444444444444,
             "#bd3786"
            ],
            [
             0.5555555555555556,
             "#d8576b"
            ],
            [
             0.6666666666666666,
             "#ed7953"
            ],
            [
             0.7777777777777778,
             "#fb9f3a"
            ],
            [
             0.8888888888888888,
             "#fdca26"
            ],
            [
             1,
             "#f0f921"
            ]
           ]
          },
          "colorway": [
           "#636efa",
           "#EF553B",
           "#00cc96",
           "#ab63fa",
           "#FFA15A",
           "#19d3f3",
           "#FF6692",
           "#B6E880",
           "#FF97FF",
           "#FECB52"
          ],
          "font": {
           "color": "#2a3f5f"
          },
          "geo": {
           "bgcolor": "white",
           "lakecolor": "white",
           "landcolor": "#E5ECF6",
           "showlakes": true,
           "showland": true,
           "subunitcolor": "white"
          },
          "hoverlabel": {
           "align": "left"
          },
          "hovermode": "closest",
          "mapbox": {
           "style": "light"
          },
          "paper_bgcolor": "white",
          "plot_bgcolor": "#E5ECF6",
          "polar": {
           "angularaxis": {
            "gridcolor": "white",
            "linecolor": "white",
            "ticks": ""
           },
           "bgcolor": "#E5ECF6",
           "radialaxis": {
            "gridcolor": "white",
            "linecolor": "white",
            "ticks": ""
           }
          },
          "scene": {
           "xaxis": {
            "backgroundcolor": "#E5ECF6",
            "gridcolor": "white",
            "gridwidth": 2,
            "linecolor": "white",
            "showbackground": true,
            "ticks": "",
            "zerolinecolor": "white"
           },
           "yaxis": {
            "backgroundcolor": "#E5ECF6",
            "gridcolor": "white",
            "gridwidth": 2,
            "linecolor": "white",
            "showbackground": true,
            "ticks": "",
            "zerolinecolor": "white"
           },
           "zaxis": {
            "backgroundcolor": "#E5ECF6",
            "gridcolor": "white",
            "gridwidth": 2,
            "linecolor": "white",
            "showbackground": true,
            "ticks": "",
            "zerolinecolor": "white"
           }
          },
          "shapedefaults": {
           "line": {
            "color": "#2a3f5f"
           }
          },
          "ternary": {
           "aaxis": {
            "gridcolor": "white",
            "linecolor": "white",
            "ticks": ""
           },
           "baxis": {
            "gridcolor": "white",
            "linecolor": "white",
            "ticks": ""
           },
           "bgcolor": "#E5ECF6",
           "caxis": {
            "gridcolor": "white",
            "linecolor": "white",
            "ticks": ""
           }
          },
          "title": {
           "x": 0.05
          },
          "xaxis": {
           "automargin": true,
           "gridcolor": "white",
           "linecolor": "white",
           "ticks": "",
           "title": {
            "standoff": 15
           },
           "zerolinecolor": "white",
           "zerolinewidth": 2
          },
          "yaxis": {
           "automargin": true,
           "gridcolor": "white",
           "linecolor": "white",
           "ticks": "",
           "title": {
            "standoff": 15
           },
           "zerolinecolor": "white",
           "zerolinewidth": 2
          }
         }
        },
        "width": 1100
       }
      }
     },
     "metadata": {},
     "output_type": "display_data"
    }
   ],
   "source": [
    "fig = plot_sunburst(pathway_hieararchy_gsea_filt_vis_no_other)\n",
    "fig.show()"
   ]
  },
  {
   "cell_type": "code",
   "execution_count": 21,
   "id": "d996c5e3",
   "metadata": {},
   "outputs": [],
   "source": [
    "fig.write_image(\"/Users/polina/genetics_gsea/data/sunburst/sunburst_plot_v1.png\", width=1100, height=800, scale=2)"
   ]
  },
  {
   "cell_type": "markdown",
   "id": "5080bed0",
   "metadata": {},
   "source": [
    "# Plot parents that were not enriched in grey"
   ]
  },
  {
   "cell_type": "code",
   "execution_count": 129,
   "id": "b02ebcd8",
   "metadata": {},
   "outputs": [],
   "source": [
    "# Filter pathways by FDR\n",
    "pathway_hieararchy_gsea_001 = pathway_hieararchy_gsea[pathway_hieararchy_gsea[\"fdr\"] < 0.001].copy()"
   ]
  },
  {
   "cell_type": "code",
   "execution_count": 151,
   "id": "40f70e59",
   "metadata": {},
   "outputs": [],
   "source": [
    "hieararchy = pd.read_csv(\"/Users/polina/genetics_gsea/data/gmt/Reactome_2025/Pathways_hierarchy_relationship.txt\", sep=\"\\t\", header=None)"
   ]
  },
  {
   "cell_type": "code",
   "execution_count": 153,
   "id": "0508b0da",
   "metadata": {},
   "outputs": [],
   "source": [
    "hieararchy.rename(columns={0: \"parentId\", 1: \"childId\"}, inplace=True)"
   ]
  },
  {
   "cell_type": "code",
   "execution_count": 132,
   "id": "d0087839",
   "metadata": {},
   "outputs": [
    {
     "data": {
      "text/html": [
       "<div>\n",
       "<style scoped>\n",
       "    .dataframe tbody tr th:only-of-type {\n",
       "        vertical-align: middle;\n",
       "    }\n",
       "\n",
       "    .dataframe tbody tr th {\n",
       "        vertical-align: top;\n",
       "    }\n",
       "\n",
       "    .dataframe thead th {\n",
       "        text-align: right;\n",
       "    }\n",
       "</style>\n",
       "<table border=\"1\" class=\"dataframe\">\n",
       "  <thead>\n",
       "    <tr style=\"text-align: right;\">\n",
       "      <th></th>\n",
       "      <th>ID</th>\n",
       "      <th>parentId</th>\n",
       "      <th>Term</th>\n",
       "      <th>nes</th>\n",
       "      <th>fdr</th>\n",
       "    </tr>\n",
       "  </thead>\n",
       "  <tbody>\n",
       "    <tr>\n",
       "      <th>0</th>\n",
       "      <td>R-HSA-162582</td>\n",
       "      <td>NaN</td>\n",
       "      <td>Signal Transduction</td>\n",
       "      <td>5.879025</td>\n",
       "      <td>0.000007</td>\n",
       "    </tr>\n",
       "    <tr>\n",
       "      <th>1</th>\n",
       "      <td>R-HSA-212436</td>\n",
       "      <td>R-HSA-73857</td>\n",
       "      <td>Generic Transcription Pathway</td>\n",
       "      <td>4.456707</td>\n",
       "      <td>0.000382</td>\n",
       "    </tr>\n",
       "    <tr>\n",
       "      <th>2</th>\n",
       "      <td>R-HSA-73857</td>\n",
       "      <td>R-HSA-74160</td>\n",
       "      <td>RNA Polymerase II Transcription</td>\n",
       "      <td>4.202785</td>\n",
       "      <td>0.000634</td>\n",
       "    </tr>\n",
       "    <tr>\n",
       "      <th>3</th>\n",
       "      <td>R-HSA-74160</td>\n",
       "      <td>NaN</td>\n",
       "      <td>Gene expression (Transcription)</td>\n",
       "      <td>4.022728</td>\n",
       "      <td>0.000928</td>\n",
       "    </tr>\n",
       "    <tr>\n",
       "      <th>4</th>\n",
       "      <td>R-HSA-1280215</td>\n",
       "      <td>R-HSA-168256</td>\n",
       "      <td>Cytokine Signaling in Immune system</td>\n",
       "      <td>4.523809</td>\n",
       "      <td>0.000357</td>\n",
       "    </tr>\n",
       "    <tr>\n",
       "      <th>...</th>\n",
       "      <td>...</td>\n",
       "      <td>...</td>\n",
       "      <td>...</td>\n",
       "      <td>...</td>\n",
       "      <td>...</td>\n",
       "    </tr>\n",
       "    <tr>\n",
       "      <th>226</th>\n",
       "      <td>R-HSA-5250941</td>\n",
       "      <td>R-HSA-212165</td>\n",
       "      <td>NaN</td>\n",
       "      <td>0.000000</td>\n",
       "      <td>NaN</td>\n",
       "    </tr>\n",
       "    <tr>\n",
       "      <th>227</th>\n",
       "      <td>R-HSA-1461973</td>\n",
       "      <td>R-HSA-6803157</td>\n",
       "      <td>NaN</td>\n",
       "      <td>0.000000</td>\n",
       "      <td>NaN</td>\n",
       "    </tr>\n",
       "    <tr>\n",
       "      <th>228</th>\n",
       "      <td>R-HSA-6803157</td>\n",
       "      <td>R-HSA-168249</td>\n",
       "      <td>NaN</td>\n",
       "      <td>0.000000</td>\n",
       "      <td>NaN</td>\n",
       "    </tr>\n",
       "    <tr>\n",
       "      <th>229</th>\n",
       "      <td>R-HSA-425397</td>\n",
       "      <td>R-HSA-425407</td>\n",
       "      <td>NaN</td>\n",
       "      <td>0.000000</td>\n",
       "      <td>NaN</td>\n",
       "    </tr>\n",
       "    <tr>\n",
       "      <th>230</th>\n",
       "      <td>R-HSA-425407</td>\n",
       "      <td>R-HSA-382551</td>\n",
       "      <td>NaN</td>\n",
       "      <td>0.000000</td>\n",
       "      <td>NaN</td>\n",
       "    </tr>\n",
       "  </tbody>\n",
       "</table>\n",
       "<p>231 rows × 5 columns</p>\n",
       "</div>"
      ],
      "text/plain": [
       "                ID       parentId                                 Term  \\\n",
       "0     R-HSA-162582            NaN                  Signal Transduction   \n",
       "1     R-HSA-212436    R-HSA-73857        Generic Transcription Pathway   \n",
       "2      R-HSA-73857    R-HSA-74160      RNA Polymerase II Transcription   \n",
       "3      R-HSA-74160            NaN      Gene expression (Transcription)   \n",
       "4    R-HSA-1280215   R-HSA-168256  Cytokine Signaling in Immune system   \n",
       "..             ...            ...                                  ...   \n",
       "226  R-HSA-5250941   R-HSA-212165                                  NaN   \n",
       "227  R-HSA-1461973  R-HSA-6803157                                  NaN   \n",
       "228  R-HSA-6803157   R-HSA-168249                                  NaN   \n",
       "229   R-HSA-425397   R-HSA-425407                                  NaN   \n",
       "230   R-HSA-425407   R-HSA-382551                                  NaN   \n",
       "\n",
       "          nes       fdr  \n",
       "0    5.879025  0.000007  \n",
       "1    4.456707  0.000382  \n",
       "2    4.202785  0.000634  \n",
       "3    4.022728  0.000928  \n",
       "4    4.523809  0.000357  \n",
       "..        ...       ...  \n",
       "226  0.000000       NaN  \n",
       "227  0.000000       NaN  \n",
       "228  0.000000       NaN  \n",
       "229  0.000000       NaN  \n",
       "230  0.000000       NaN  \n",
       "\n",
       "[231 rows x 5 columns]"
      ]
     },
     "execution_count": 132,
     "metadata": {},
     "output_type": "execute_result"
    }
   ],
   "source": [
    "import numpy as np\n",
    "\n",
    "# Recreate full hierarchical tree for pathway_hieararchy_gsea_001 by adding ancestor rows\n",
    "# Build child -> parent mapping from the Reactome hierarchy table\n",
    "# Expecting `hieararchy` with columns [\"parentId\", \"childId\"] already loaded\n",
    "child_to_parent = dict(zip(hieararchy[\"childId\"], hieararchy[\"parentId\"]))\n",
    "\n",
    "base_df = pathway_hieararchy_gsea_001.copy()\n",
    "\n",
    "# Start with all rows in base_df\n",
    "rows_to_add = []\n",
    "existing_ids = set(base_df[\"ID\"].astype(str))\n",
    "\n",
    "# For each row, climb up the parent chain and add missing ancestor rows\n",
    "for _, row in base_df.iterrows():\n",
    "    current_parent = row[\"parentId\"]\n",
    "    visited = set()\n",
    "    while isinstance(current_parent, str) and current_parent and (current_parent not in visited):\n",
    "        visited.add(current_parent)\n",
    "        # Determine this parent's parent from the mapping (if any)\n",
    "        next_parent = child_to_parent.get(current_parent, None)\n",
    "        # Add the row for the current parent if it's not already present\n",
    "        if current_parent not in existing_ids:\n",
    "            rows_to_add.append({\n",
    "                \"ID\": current_parent,\n",
    "                \"parentId\": next_parent if isinstance(next_parent, str) else np.nan,\n",
    "                \"Term\": np.nan,\n",
    "                \"nes\": 0,\n",
    "                \"fdr\": np.nan\n",
    "            })\n",
    "            existing_ids.add(current_parent)\n",
    "        # Move up the chain\n",
    "        current_parent = next_parent\n",
    "\n",
    "# Append new rows, if any, and reset index\n",
    "if rows_to_add:\n",
    "    ancestors_df = pd.DataFrame(rows_to_add, columns=[\"ID\", \"parentId\", \"Term\", \"nes\", \"fdr\"]).drop_duplicates()\n",
    "    pathway_hieararchy_gsea_001_expanded = pd.concat([base_df, ancestors_df], ignore_index=True)\n",
    "else:\n",
    "    pathway_hieararchy_gsea_001_expanded = base_df.copy()\n",
    "\n",
    "pathway_hieararchy_gsea_001_expanded"
   ]
  },
  {
   "cell_type": "code",
   "execution_count": 133,
   "id": "56a37c16",
   "metadata": {},
   "outputs": [
    {
     "data": {
      "text/html": [
       "<div>\n",
       "<style scoped>\n",
       "    .dataframe tbody tr th:only-of-type {\n",
       "        vertical-align: middle;\n",
       "    }\n",
       "\n",
       "    .dataframe tbody tr th {\n",
       "        vertical-align: top;\n",
       "    }\n",
       "\n",
       "    .dataframe thead th {\n",
       "        text-align: right;\n",
       "    }\n",
       "</style>\n",
       "<table border=\"1\" class=\"dataframe\">\n",
       "  <thead>\n",
       "    <tr style=\"text-align: right;\">\n",
       "      <th></th>\n",
       "      <th>ID</th>\n",
       "      <th>parentId</th>\n",
       "      <th>Term</th>\n",
       "      <th>nes</th>\n",
       "      <th>fdr</th>\n",
       "    </tr>\n",
       "  </thead>\n",
       "  <tbody>\n",
       "    <tr>\n",
       "      <th>0</th>\n",
       "      <td>R-HSA-162582</td>\n",
       "      <td>NaN</td>\n",
       "      <td>Signal Transduction</td>\n",
       "      <td>5.879025</td>\n",
       "      <td>0.000007</td>\n",
       "    </tr>\n",
       "    <tr>\n",
       "      <th>1</th>\n",
       "      <td>R-HSA-212436</td>\n",
       "      <td>R-HSA-73857</td>\n",
       "      <td>Generic Transcription Pathway</td>\n",
       "      <td>4.456707</td>\n",
       "      <td>0.000382</td>\n",
       "    </tr>\n",
       "    <tr>\n",
       "      <th>2</th>\n",
       "      <td>R-HSA-73857</td>\n",
       "      <td>R-HSA-74160</td>\n",
       "      <td>RNA Polymerase II Transcription</td>\n",
       "      <td>4.202785</td>\n",
       "      <td>0.000634</td>\n",
       "    </tr>\n",
       "    <tr>\n",
       "      <th>3</th>\n",
       "      <td>R-HSA-74160</td>\n",
       "      <td>NaN</td>\n",
       "      <td>Gene expression (Transcription)</td>\n",
       "      <td>4.022728</td>\n",
       "      <td>0.000928</td>\n",
       "    </tr>\n",
       "    <tr>\n",
       "      <th>4</th>\n",
       "      <td>R-HSA-1280215</td>\n",
       "      <td>R-HSA-168256</td>\n",
       "      <td>Cytokine Signaling in Immune system</td>\n",
       "      <td>4.523809</td>\n",
       "      <td>0.000357</td>\n",
       "    </tr>\n",
       "    <tr>\n",
       "      <th>...</th>\n",
       "      <td>...</td>\n",
       "      <td>...</td>\n",
       "      <td>...</td>\n",
       "      <td>...</td>\n",
       "      <td>...</td>\n",
       "    </tr>\n",
       "    <tr>\n",
       "      <th>226</th>\n",
       "      <td>R-HSA-5250941</td>\n",
       "      <td>R-HSA-212165</td>\n",
       "      <td>Negative epigenetic regulation of rRNA expression</td>\n",
       "      <td>0.000000</td>\n",
       "      <td>NaN</td>\n",
       "    </tr>\n",
       "    <tr>\n",
       "      <th>227</th>\n",
       "      <td>R-HSA-1461973</td>\n",
       "      <td>R-HSA-6803157</td>\n",
       "      <td>Defensins</td>\n",
       "      <td>0.000000</td>\n",
       "      <td>NaN</td>\n",
       "    </tr>\n",
       "    <tr>\n",
       "      <th>228</th>\n",
       "      <td>R-HSA-6803157</td>\n",
       "      <td>R-HSA-168249</td>\n",
       "      <td>Antimicrobial peptides</td>\n",
       "      <td>0.000000</td>\n",
       "      <td>NaN</td>\n",
       "    </tr>\n",
       "    <tr>\n",
       "      <th>229</th>\n",
       "      <td>R-HSA-425397</td>\n",
       "      <td>R-HSA-425407</td>\n",
       "      <td>Transport of vitamins, nucleosides, and relate...</td>\n",
       "      <td>0.000000</td>\n",
       "      <td>NaN</td>\n",
       "    </tr>\n",
       "    <tr>\n",
       "      <th>230</th>\n",
       "      <td>R-HSA-425407</td>\n",
       "      <td>R-HSA-382551</td>\n",
       "      <td>SLC-mediated transmembrane transport</td>\n",
       "      <td>0.000000</td>\n",
       "      <td>NaN</td>\n",
       "    </tr>\n",
       "  </tbody>\n",
       "</table>\n",
       "<p>231 rows × 5 columns</p>\n",
       "</div>"
      ],
      "text/plain": [
       "                ID       parentId  \\\n",
       "0     R-HSA-162582            NaN   \n",
       "1     R-HSA-212436    R-HSA-73857   \n",
       "2      R-HSA-73857    R-HSA-74160   \n",
       "3      R-HSA-74160            NaN   \n",
       "4    R-HSA-1280215   R-HSA-168256   \n",
       "..             ...            ...   \n",
       "226  R-HSA-5250941   R-HSA-212165   \n",
       "227  R-HSA-1461973  R-HSA-6803157   \n",
       "228  R-HSA-6803157   R-HSA-168249   \n",
       "229   R-HSA-425397   R-HSA-425407   \n",
       "230   R-HSA-425407   R-HSA-382551   \n",
       "\n",
       "                                                  Term       nes       fdr  \n",
       "0                                  Signal Transduction  5.879025  0.000007  \n",
       "1                        Generic Transcription Pathway  4.456707  0.000382  \n",
       "2                      RNA Polymerase II Transcription  4.202785  0.000634  \n",
       "3                      Gene expression (Transcription)  4.022728  0.000928  \n",
       "4                  Cytokine Signaling in Immune system  4.523809  0.000357  \n",
       "..                                                 ...       ...       ...  \n",
       "226  Negative epigenetic regulation of rRNA expression  0.000000       NaN  \n",
       "227                                          Defensins  0.000000       NaN  \n",
       "228                             Antimicrobial peptides  0.000000       NaN  \n",
       "229  Transport of vitamins, nucleosides, and relate...  0.000000       NaN  \n",
       "230               SLC-mediated transmembrane transport  0.000000       NaN  \n",
       "\n",
       "[231 rows x 5 columns]"
      ]
     },
     "execution_count": 133,
     "metadata": {},
     "output_type": "execute_result"
    }
   ],
   "source": [
    "# Fill Term only for rows where Term is NaN, using complete_list_of_pathways\n",
    "complete_path = \"/Users/polina/genetics_gsea/data/gmt/Reactome_2025/complete_list_of_pathways.txt\"\n",
    "complete_df = pd.read_csv(complete_path, sep=\"\\t\", header=None, names=[\"ID\", \"Term\", \"extra\"], dtype=str)[[\"ID\", \"Term\"]]\n",
    "\n",
    "# Choose source table (prefer expanded; else base filtered)\n",
    "try:\n",
    "    target_df = pathway_hieararchy_gsea_001_expanded.copy()\n",
    "except NameError:\n",
    "    target_df = pathway_hieararchy_gsea_001.copy()\n",
    "\n",
    "# Ensure strings\n",
    "target_df[\"ID\"] = target_df[\"ID\"].astype(str)\n",
    "complete_df[\"ID\"] = complete_df[\"ID\"].astype(str)\n",
    "\n",
    "# Build mapping and fill only NaN Terms\n",
    "term_map = dict(zip(complete_df[\"ID\"], complete_df[\"Term\"]))\n",
    "mask_na_term = target_df[\"Term\"].isna()\n",
    "target_df.loc[mask_na_term, \"Term\"] = target_df.loc[mask_na_term, \"ID\"].map(term_map)\n",
    "\n",
    "# Output updated table without adding new IDs\n",
    "pathway_hieararchy_gsea_001_full = target_df\n",
    "pathway_hieararchy_gsea_001_full\n"
   ]
  },
  {
   "cell_type": "code",
   "execution_count": 134,
   "id": "689d047a",
   "metadata": {},
   "outputs": [
    {
     "data": {
      "application/vnd.plotly.v1+json": {
       "config": {
        "plotlyServerURL": "https://plot.ly"
       },
       "data": [
        {
         "branchvalues": "total",
         "customdata": [
          [
           "Signal Transduction"
          ],
          [
           "Generic Transcription Pathway"
          ],
          [
           "RNA Polymerase II Transcription"
          ],
          [
           "Gene expression (Transcription)"
          ],
          [
           "Cytokine Signaling in Immune system"
          ],
          [
           "Immune System"
          ],
          [
           "Developmental Biology"
          ],
          [
           "Formation of HIV elongation complex in the absence of HIV Tat"
          ],
          [
           "Tat-mediated elongation of the HIV-1 transcript"
          ],
          [
           "HIV Transcription Elongation"
          ],
          [
           "Formation of HIV-1 elongation complex containing HIV-1 Tat"
          ],
          [
           "Synthesis of PIPs at the Golgi membrane"
          ],
          [
           "Transferrin endocytosis and recycling"
          ],
          [
           "Presynaptic depolarization and calcium channel opening"
          ],
          [
           "Vitamin B5 (pantothenate) metabolism"
          ],
          [
           "Endosomal Sorting Complex Required For Transport (ESCRT)"
          ],
          [
           "Formation of the Early Elongation Complex"
          ],
          [
           "Formation of the HIV-1 Early Elongation Complex"
          ],
          [
           "Regulation of signaling by NODAL"
          ],
          [
           "ADP signalling through P2Y purinoceptor 1"
          ],
          [
           "Atorvastatin ADME"
          ],
          [
           "Mitochondrial calcium ion transport"
          ],
          [
           "Complex I biogenesis"
          ],
          [
           "IRF3-mediated induction of type I IFN"
          ],
          [
           "Cyclin A/B1/B2 associated events during G2/M transition"
          ],
          [
           "Glycogen metabolism"
          ],
          [
           "Prednisone ADME"
          ],
          [
           "Ephrin signaling"
          ],
          [
           "Adrenoceptors"
          ],
          [
           "Postmitotic nuclear pore complex (NPC) reformation"
          ],
          [
           "E2F mediated regulation of DNA replication"
          ],
          [
           "Transcription of E2F targets under negative control by p107 (RBL1) and p130 (RBL2) in complex with HDAC1"
          ],
          [
           "Assembly of the ORC complex at the origin of replication"
          ],
          [
           "Killing mechanisms"
          ],
          [
           "WNT5:FZD7-mediated leishmania damping"
          ],
          [
           "Interaction With Cumulus Cells And The Zona Pellucida"
          ],
          [
           "tRNA Aminoacylation"
          ],
          [
           "mTORC1-mediated signalling"
          ],
          [
           "Post-chaperonin tubulin folding pathway"
          ],
          [
           "Fatty Acids bound to GPR40 (FFAR1) regulate insulin secretion"
          ],
          [
           "Presynaptic function of Kainate receptors"
          ],
          [
           "G beta:gamma signalling through PLC beta"
          ],
          [
           "Free fatty acids regulate insulin secretion"
          ],
          [
           "Acetylcholine regulates insulin secretion"
          ],
          [
           "Hyaluronan degradation"
          ],
          [
           "Defective B4GALT1 causes B4GALT1-CDG (CDG-2d)"
          ],
          [
           "rRNA processing in the mitochondrion"
          ],
          [
           "RNA Polymerase I Transcription Termination"
          ],
          [
           "Deadenylation of mRNA"
          ],
          [
           "CREB1 phosphorylation through the activation of Adenylate Cyclase"
          ],
          [
           "Defective ST3GAL3 causes MCT12 and EIEE15"
          ],
          [
           "RNA Polymerase III Transcription Initiation"
          ],
          [
           "RNA Polymerase III Transcription Initiation From Type 3 Promoter"
          ],
          [
           "IRAK1 recruits IKK complex"
          ],
          [
           "IRAK1 recruits IKK complex"
          ],
          [
           "IRAK1 recruits IKK complex upon TLR7/8 or 9 stimulation"
          ],
          [
           "N-glycan trimming in the ER and Calnexin/Calreticulin cycle"
          ],
          [
           "Activation of Ca-permeable Kainate Receptor"
          ],
          [
           "Ionotropic activity of kainate receptors"
          ],
          [
           "LGI-ADAM interactions"
          ],
          [
           "Formation of TC-NER Pre-Incision Complex"
          ],
          [
           "RNA Polymerase III Transcription Initiation From Type 1 Promoter"
          ],
          [
           "RNA Polymerase III Transcription Initiation From Type 2 Promoter"
          ],
          [
           "Acyl chain remodelling of PS"
          ],
          [
           "Acyl chain remodelling of PG"
          ],
          [
           "Synthesis of very long-chain fatty acyl-CoAs"
          ],
          [
           "Insertion of tail-anchored proteins into the endoplasmic reticulum membrane"
          ],
          [
           "Constitutive Signaling by Overexpressed ERBB2"
          ],
          [
           "Calnexin/calreticulin cycle"
          ],
          [
           "Matriglycan biosynthesis on DAG1"
          ],
          [
           "DAG1 glycosylations"
          ],
          [
           "RNA Pol II CTD phosphorylation and interaction with CE during HIV infection"
          ],
          [
           "RNA Pol II CTD phosphorylation and interaction with CE"
          ],
          [
           "mRNA Capping"
          ],
          [
           "RNA Polymerase II Transcription Pre-Initiation And Promoter Opening"
          ],
          [
           "HIV Transcription Initiation"
          ],
          [
           "RNA Polymerase II Transcription Initiation And Promoter Clearance"
          ],
          [
           "RNA Polymerase II Transcription Initiation"
          ],
          [
           "RNA Polymerase II HIV Promoter Escape"
          ],
          [
           "RNA Polymerase II Promoter Escape"
          ],
          [
           "FGFR2 alternative splicing"
          ],
          [
           "mRNA Splicing - Minor Pathway"
          ],
          [
           "Inhibition of DNA recombination at telomere"
          ],
          [
           "GABA synthesis, release, reuptake and degradation"
          ],
          [
           "ER Quality Control Compartment (ERQC)"
          ],
          [
           "Replacement of protamines by nucleosomes in the male pronucleus"
          ],
          [
           "ATF6 (ATF6-alpha) activates chaperone genes"
          ],
          [
           "ATF6 (ATF6-alpha) activates chaperones"
          ],
          [
           "RNA Polymerase III Chain Elongation"
          ],
          [
           "Budding and maturation of HIV virion"
          ],
          [
           "rRNA modification in the mitochondrion"
          ],
          [
           "P2Y receptors"
          ],
          [
           "Nucleotide-like (purinergic) receptors"
          ],
          [
           "Regulation of endogenous retroelements by the Human Silencing Hub (HUSH) complex"
          ],
          [
           "Depyrimidination"
          ],
          [
           "Recognition and association of DNA glycosylase with site containing an affected pyrimidine"
          ],
          [
           "Cleavage of the damaged pyrimidine"
          ],
          [
           "Base-Excision Repair, AP Site Formation"
          ],
          [
           "Passive transport by Aquaporins"
          ],
          [
           "ADP signalling through P2Y purinoceptor 12"
          ],
          [
           "Thromboxane signalling through TP receptor"
          ],
          [
           "Prostacyclin signalling through prostacyclin receptor"
          ],
          [
           "G beta:gamma signalling through BTK"
          ],
          [
           "Phosphorylation and nuclear translocation of the CRY:PER:kinase complex"
          ],
          [
           "E2F-enabled inhibition of pre-replication complex formation"
          ],
          [
           "Serotonin receptors"
          ],
          [
           "SIRT1 negatively regulates rRNA expression"
          ],
          [
           "Alpha-defensins"
          ],
          [
           "Transport of nucleosides and free purine and pyrimidine bases across the plasma membrane"
          ],
          [
           "Transcription of the HIV genome"
          ],
          [
           "Late Phase of HIV Life Cycle"
          ],
          [
           "HIV Life Cycle"
          ],
          [
           "HIV Infection"
          ],
          [
           "Viral Infection Pathways"
          ],
          [
           "Infectious disease"
          ],
          [
           "Disease"
          ],
          [
           "PI Metabolism"
          ],
          [
           "Phospholipid metabolism"
          ],
          [
           "Metabolism of lipids"
          ],
          [
           "Metabolism"
          ],
          [
           "Iron uptake and transport"
          ],
          [
           "Transport of small molecules"
          ],
          [
           "Transmission across Chemical Synapses"
          ],
          [
           "Neuronal System"
          ],
          [
           "Metabolism of water-soluble vitamins and cofactors"
          ],
          [
           "Metabolism of vitamins and cofactors"
          ],
          [
           "Membrane Trafficking"
          ],
          [
           "Vesicle-mediated transport"
          ],
          [
           "RNA Polymerase II Transcription Elongation"
          ],
          [
           "Signaling by NODAL"
          ],
          [
           "Signal amplification"
          ],
          [
           "Platelet activation, signaling and aggregation"
          ],
          [
           "Hemostasis"
          ],
          [
           "Drug ADME"
          ],
          [
           "Respiratory electron transport"
          ],
          [
           "Aerobic respiration and respiratory electron transport"
          ],
          [
           "STING mediated induction of host immune responses"
          ],
          [
           "Cytosolic sensors of pathogen-associated DNA "
          ],
          [
           "Innate Immune System"
          ],
          [
           "G2/M Transition"
          ],
          [
           "Mitotic G2-G2/M phases"
          ],
          [
           "Cell Cycle, Mitotic"
          ],
          [
           "Cell Cycle"
          ],
          [
           "Metabolism of carbohydrates and carbohydrate derivatives"
          ],
          [
           "EPH-Ephrin signaling"
          ],
          [
           "Axon guidance"
          ],
          [
           "Nervous system development"
          ],
          [
           "Amine ligand-binding receptors"
          ],
          [
           "Class A/1 (Rhodopsin-like receptors)"
          ],
          [
           "GPCR ligand binding"
          ],
          [
           "Signaling by GPCR"
          ],
          [
           "Nuclear Envelope (NE) Reassembly"
          ],
          [
           "Mitotic Anaphase"
          ],
          [
           "Mitotic Metaphase and Anaphase"
          ],
          [
           "M Phase"
          ],
          [
           "G1/S Transition"
          ],
          [
           "Mitotic G1 phase and G1/S transition"
          ],
          [
           "G0 and Early G1"
          ],
          [
           "Assembly of the pre-replicative complex"
          ],
          [
           "DNA Replication Pre-Initiation"
          ],
          [
           "DNA Replication"
          ],
          [
           "Leishmania infection"
          ],
          [
           "Parasitic Infection Pathways"
          ],
          [
           "Fertilization"
          ],
          [
           "Reproduction"
          ],
          [
           "Translation"
          ],
          [
           "Metabolism of proteins"
          ],
          [
           "MTOR signalling"
          ],
          [
           "Protein folding"
          ],
          [
           "Regulation of insulin secretion"
          ],
          [
           "Integration of energy metabolism"
          ],
          [
           "Activation of kainate receptors upon glutamate binding"
          ],
          [
           "Neurotransmitter receptors and postsynaptic signal transmission"
          ],
          [
           "G-protein beta:gamma signalling"
          ],
          [
           "GPCR downstream signalling"
          ],
          [
           "Hyaluronan metabolism"
          ],
          [
           "Glycosaminoglycan metabolism"
          ],
          [
           "Diseases associated with glycosaminoglycan metabolism"
          ],
          [
           "Diseases of glycosylation"
          ],
          [
           "Diseases of metabolism"
          ],
          [
           "rRNA processing"
          ],
          [
           "Metabolism of RNA"
          ],
          [
           "RNA Polymerase I Transcription"
          ],
          [
           "Deadenylation-dependent mRNA decay"
          ],
          [
           "Post NMDA receptor activation events"
          ],
          [
           "Activation of NMDA receptors and postsynaptic events"
          ],
          [
           "RNA Polymerase III Transcription"
          ],
          [
           "MyD88:MAL(TIRAP) cascade initiated on plasma membrane"
          ],
          [
           "Toll Like Receptor TLR6:TLR2 Cascade"
          ],
          [
           "Toll Like Receptor 2 (TLR2) Cascade"
          ],
          [
           "Toll-like Receptor Cascades"
          ],
          [
           "MyD88 cascade initiated on plasma membrane"
          ],
          [
           "Toll Like Receptor 5 (TLR5) Cascade"
          ],
          [
           "TRAF6 mediated induction of NFkB and MAP kinases upon TLR7/8 or 9 activation"
          ],
          [
           "MyD88 dependent cascade initiated on endosome"
          ],
          [
           "Toll Like Receptor 7/8 (TLR7/8) Cascade"
          ],
          [
           "Asparagine N-linked glycosylation"
          ],
          [
           "Post-translational protein modification"
          ],
          [
           "Transcription-Coupled Nucleotide Excision Repair (TC-NER)"
          ],
          [
           "Nucleotide Excision Repair"
          ],
          [
           "DNA Repair"
          ],
          [
           "Glycerophospholipid biosynthesis"
          ],
          [
           "Fatty acyl-CoA biosynthesis"
          ],
          [
           "Fatty acid metabolism"
          ],
          [
           "Protein localization"
          ],
          [
           "Signaling by ERBB2 in Cancer"
          ],
          [
           "Diseases of signal transduction by growth factor receptors and second messengers"
          ],
          [
           "O-linked glycosylation"
          ],
          [
           "Signaling by FGFR2"
          ],
          [
           "Signaling by FGFR"
          ],
          [
           "Signaling by Receptor Tyrosine Kinases"
          ],
          [
           "mRNA Splicing"
          ],
          [
           "Processing of Capped Intron-Containing Pre-mRNA"
          ],
          [
           "Telomere Maintenance"
          ],
          [
           "Chromosome Maintenance"
          ],
          [
           "Neurotransmitter release cycle"
          ],
          [
           "Maternal to zygotic transition (MZT)"
          ],
          [
           "Unfolded Protein Response (UPR)"
          ],
          [
           "Cellular responses to stress"
          ],
          [
           "Cellular responses to stimuli"
          ],
          [
           "Regulation of endogenous retroelements"
          ],
          [
           "Epigenetic regulation of gene expression"
          ],
          [
           "Base Excision Repair"
          ],
          [
           "Aquaporin-mediated transport"
          ],
          [
           "Platelet homeostasis"
          ],
          [
           "Circadian clock"
          ],
          [
           "Negative epigenetic regulation of rRNA expression"
          ],
          [
           "Defensins"
          ],
          [
           "Antimicrobial peptides"
          ],
          [
           "Transport of vitamins, nucleosides, and related molecules"
          ],
          [
           "SLC-mediated transmembrane transport"
          ],
          [
           "Reactome pathways"
          ]
         ],
         "domain": {
          "x": [
           0,
           1
          ],
          "y": [
           0,
           1
          ]
         },
         "hovertemplate": "<b>%{customdata[0]}</b><br>NES: %{color:.2f}<extra></extra>",
         "ids": [
          "R-HSA-162582",
          "R-HSA-212436",
          "R-HSA-73857",
          "R-HSA-74160",
          "R-HSA-1280215",
          "R-HSA-168256",
          "R-HSA-1266738",
          "R-HSA-167152",
          "R-HSA-167246",
          "R-HSA-167169",
          "R-HSA-167200",
          "R-HSA-1660514",
          "R-HSA-917977",
          "R-HSA-112308",
          "R-HSA-199220",
          "R-HSA-917729",
          "R-HSA-113418",
          "R-HSA-167158",
          "R-HSA-1433617",
          "R-HSA-418592",
          "R-HSA-9754706",
          "R-HSA-8949215",
          "R-HSA-6799198",
          "R-HSA-3270619",
          "R-HSA-69273",
          "R-HSA-8982491",
          "R-HSA-9757110",
          "R-HSA-3928664",
          "R-HSA-390696",
          "R-HSA-9615933",
          "R-HSA-113510",
          "R-HSA-1362300",
          "R-HSA-68616",
          "R-HSA-9664420",
          "R-HSA-9673324",
          "R-HSA-2534343",
          "R-HSA-379724",
          "R-HSA-166208",
          "R-HSA-389977",
          "R-HSA-434316",
          "R-HSA-500657",
          "R-HSA-418217",
          "R-HSA-400451",
          "R-HSA-399997",
          "R-HSA-2160916",
          "R-HSA-3656244",
          "R-HSA-8868766",
          "R-HSA-73863",
          "R-HSA-429947",
          "R-HSA-442720",
          "R-HSA-3656243",
          "R-HSA-76046",
          "R-HSA-76071",
          "R-HSA-937039",
          "R-HSA-937039",
          "R-HSA-975144",
          "R-HSA-532668",
          "R-HSA-451308",
          "R-HSA-451306",
          "R-HSA-5682910",
          "R-HSA-6781823",
          "R-HSA-76061",
          "R-HSA-76066",
          "R-HSA-1482801",
          "R-HSA-1482925",
          "R-HSA-75876",
          "R-HSA-9609523",
          "R-HSA-9634285",
          "R-HSA-901042",
          "R-HSA-9939291",
          "R-HSA-8931838",
          "R-HSA-167160",
          "R-HSA-77075",
          "R-HSA-72086",
          "R-HSA-73779",
          "R-HSA-167161",
          "R-HSA-76042",
          "R-HSA-75953",
          "R-HSA-167162",
          "R-HSA-73776",
          "R-HSA-6803529",
          "R-HSA-72165",
          "R-HSA-9670095",
          "R-HSA-888590",
          "R-HSA-901032",
          "R-HSA-9821993",
          "R-HSA-381183",
          "R-HSA-381033",
          "R-HSA-73780",
          "R-HSA-162588",
          "R-HSA-6793080",
          "R-HSA-417957",
          "R-HSA-418038",
          "R-HSA-9843970",
          "R-HSA-73928",
          "R-HSA-110328",
          "R-HSA-110329",
          "R-HSA-73929",
          "R-HSA-432047",
          "R-HSA-392170",
          "R-HSA-428930",
          "R-HSA-392851",
          "R-HSA-8964315",
          "R-HSA-9931530",
          "R-HSA-113507",
          "R-HSA-390666",
          "R-HSA-427359",
          "R-HSA-1462054",
          "R-HSA-83936",
          "R-HSA-167172",
          "R-HSA-162599",
          "R-HSA-162587",
          "R-HSA-162906",
          "R-HSA-9824446",
          "R-HSA-5663205",
          "R-HSA-1643685",
          "R-HSA-1483255",
          "R-HSA-1483257",
          "R-HSA-556833",
          "R-HSA-1430728",
          "R-HSA-917937",
          "R-HSA-382551",
          "R-HSA-112315",
          "R-HSA-112316",
          "R-HSA-196849",
          "R-HSA-196854",
          "R-HSA-199991",
          "R-HSA-5653656",
          "R-HSA-75955",
          "R-HSA-1181150",
          "R-HSA-392518",
          "R-HSA-76002",
          "R-HSA-109582",
          "R-HSA-9748784",
          "R-HSA-611105",
          "R-HSA-1428517",
          "R-HSA-1834941",
          "R-HSA-1834949",
          "R-HSA-168249",
          "R-HSA-69275",
          "R-HSA-453274",
          "R-HSA-69278",
          "R-HSA-1640170",
          "R-HSA-71387",
          "R-HSA-2682334",
          "R-HSA-422475",
          "R-HSA-9675108",
          "R-HSA-375280",
          "R-HSA-373076",
          "R-HSA-500792",
          "R-HSA-372790",
          "R-HSA-2995410",
          "R-HSA-68882",
          "R-HSA-2555396",
          "R-HSA-68886",
          "R-HSA-69206",
          "R-HSA-453279",
          "R-HSA-1538133",
          "R-HSA-68867",
          "R-HSA-69002",
          "R-HSA-69306",
          "R-HSA-9658195",
          "R-HSA-9824443",
          "R-HSA-1187000",
          "R-HSA-1474165",
          "R-HSA-72766",
          "R-HSA-392499",
          "R-HSA-165159",
          "R-HSA-391251",
          "R-HSA-422356",
          "R-HSA-163685",
          "R-HSA-451326",
          "R-HSA-112314",
          "R-HSA-397795",
          "R-HSA-388396",
          "R-HSA-2142845",
          "R-HSA-1630316",
          "R-HSA-3560782",
          "R-HSA-3781865",
          "R-HSA-5668914",
          "R-HSA-72312",
          "R-HSA-8953854",
          "R-HSA-73864",
          "R-HSA-429914",
          "R-HSA-438064",
          "R-HSA-442755",
          "R-HSA-74158",
          "R-HSA-166058",
          "R-HSA-168188",
          "R-HSA-181438",
          "R-HSA-168898",
          "R-HSA-975871",
          "R-HSA-168176",
          "R-HSA-975138",
          "R-HSA-975155",
          "R-HSA-168181",
          "R-HSA-446203",
          "R-HSA-597592",
          "R-HSA-6781827",
          "R-HSA-5696398",
          "R-HSA-73894",
          "R-HSA-1483206",
          "R-HSA-75105",
          "R-HSA-8978868",
          "R-HSA-9609507",
          "R-HSA-1227990",
          "R-HSA-5663202",
          "R-HSA-5173105",
          "R-HSA-5654738",
          "R-HSA-190236",
          "R-HSA-9006934",
          "R-HSA-72172",
          "R-HSA-72203",
          "R-HSA-157579",
          "R-HSA-73886",
          "R-HSA-112310",
          "R-HSA-9816359",
          "R-HSA-381119",
          "R-HSA-2262752",
          "R-HSA-8953897",
          "R-HSA-9842860",
          "R-HSA-212165",
          "R-HSA-73884",
          "R-HSA-445717",
          "R-HSA-418346",
          "R-HSA-9909396",
          "R-HSA-5250941",
          "R-HSA-1461973",
          "R-HSA-6803157",
          "R-HSA-425397",
          "R-HSA-425407",
          "ROOT"
         ],
         "insidetextorientation": "auto",
         "labels": [
          "Signal<br>Transduction",
          "Generic<br>Transcription Pathway",
          "RNA<br>Polymerase II<br>Transcription",
          "Gene<br>expression<br>(Transcription)",
          "Cytokine<br>Signaling in<br>Immune system",
          "Immune<br>System",
          "Developmental<br>Biology",
          "Formation of HIV<br>elongation complex in the absence of<br>HIV Tat",
          "Tat-mediated elongation<br>of the HIV-1 transcript<br>",
          "HIV<br>Transcription Elongation",
          "Formation of<br>HIV-1 elongation complex containing<br>HIV-1 Tat",
          "Synthesis of<br>PIPs at the Golgi<br>membrane",
          "Transferrin<br>endocytosis and<br>recycling",
          "Presynaptic depolarization<br>and calcium channel opening<br>",
          "Vitamin<br>B5 (pantothenate)<br>metabolism",
          "Endosomal Sorting<br>Complex Required For Transport<br>(ESCRT)",
          "Formation of<br>the Early Elongation Complex<br>",
          "Formation of<br>the HIV-1 Early Elongation<br>Complex",
          "Regulation<br>of signaling<br>by NODAL",
          "ADP signalling<br>through P2Y purinoceptor 1<br>",
          "Atorvastatin ADME",
          "Mitochondrial<br>calcium ion<br>transport",
          "Complex I biogenesis",
          "IRF3-mediated induction<br>of type I IFN<br>",
          "Cyclin A/B1/B2<br>associated events during G2/M<br>transition",
          "Glycogen metabolism",
          "Prednisone ADME",
          "Ephrin signaling",
          "Adrenoceptors",
          "Postmitotic nuclear<br>pore complex (NPC) reformation<br>",
          "E2F mediated<br>regulation of DNA replication<br>",
          "Transcription of E2F targets under<br>negative control by p107 (RBL1) and p130 (RBL2) in complex<br>with HDAC1",
          "Assembly of the<br>ORC complex at the origin of<br>replication",
          "Killing mechanisms",
          "WNT5:FZD7-mediated<br>leishmania damping<br>",
          "Interaction With<br>Cumulus Cells And The<br>Zona Pellucida",
          "tRNA Aminoacylation",
          "mTORC1-mediated<br>signalling",
          "Post-chaperonin<br>tubulin folding<br>pathway",
          "Fatty Acids bound<br>to GPR40 (FFAR1) regulate insulin secretion<br>",
          "Presynaptic<br>function of<br>Kainate receptors",
          "G beta:gamma<br>signalling through PLC beta<br>",
          "Free fatty<br>acids regulate insulin secretion<br>",
          "Acetylcholine<br>regulates insulin<br>secretion",
          "Hyaluronan<br>degradation",
          "Defective<br>B4GALT1 causes<br>B4GALT1-CDG (CDG-2d)",
          "rRNA<br>processing in<br>the mitochondrion",
          "RNA<br>Polymerase I<br>Transcription Termination",
          "Deadenylation<br>of mRNA",
          "CREB1 phosphorylation<br>through the activation of<br>Adenylate Cyclase",
          "Defective ST3GAL3<br>causes MCT12 and EIEE15<br>",
          "RNA<br>Polymerase III<br>Transcription Initiation",
          "RNA Polymerase III<br>Transcription Initiation From Type 3 Promoter<br>",
          "IRAK1 recruits<br>IKK complex",
          "IRAK1 recruits<br>IKK complex",
          "IRAK1 recruits IKK<br>complex upon TLR7/8 or 9 stimulation<br>",
          "N-glycan trimming<br>in the ER and<br>Calnexin/Calreticulin cycle",
          "Activation<br>of Ca-permeable<br>Kainate Receptor",
          "Ionotropic<br>activity of<br>kainate receptors",
          "LGI-ADAM<br>interactions",
          "Formation<br>of TC-NER<br>Pre-Incision Complex",
          "RNA Polymerase III<br>Transcription Initiation From Type 1 Promoter<br>",
          "RNA Polymerase III<br>Transcription Initiation From Type 2 Promoter<br>",
          "Acyl chain<br>remodelling of PS",
          "Acyl chain<br>remodelling of PG",
          "Synthesis of<br>very long-chain fatty acyl-CoAs<br>",
          "Insertion of tail-anchored<br>proteins into the endoplasmic reticulum membrane<br>",
          "Constitutive<br>Signaling by<br>Overexpressed ERBB2",
          "Calnexin/calreticulin<br>cycle",
          "Matriglycan<br>biosynthesis on<br>DAG1",
          "DAG1 glycosylations",
          "RNA Pol II CTD<br>phosphorylation and interaction with CE during HIV infection<br>",
          "RNA Pol II<br>CTD phosphorylation and interaction with CE<br>",
          "mRNA Capping",
          "RNA Polymerase<br>II Transcription Pre-Initiation And<br>Promoter Opening",
          "HIV<br>Transcription Initiation",
          "RNA Polymerase<br>II Transcription Initiation And<br>Promoter Clearance",
          "RNA<br>Polymerase II<br>Transcription Initiation",
          "RNA Polymerase<br>II HIV Promoter Escape<br>",
          "RNA<br>Polymerase II<br>Promoter Escape",
          "FGFR2<br>alternative splicing",
          "mRNA Splicing<br>- Minor Pathway",
          "Inhibition of<br>DNA recombination at telomere<br>",
          "GABA synthesis,<br>release, reuptake and degradation<br>",
          "ER<br>Quality Control<br>Compartment (ERQC)",
          "Replacement of protamines<br>by nucleosomes in the male pronucleus<br>",
          "ATF6<br>(ATF6-alpha) activates<br>chaperone genes",
          "ATF6<br>(ATF6-alpha) activates<br>chaperones",
          "RNA<br>Polymerase III<br>Chain Elongation",
          "Budding and<br>maturation of HIV virion<br>",
          "rRNA<br>modification in<br>the mitochondrion",
          "P2Y receptors",
          "Nucleotide-like<br>(purinergic) receptors<br>",
          "Regulation of endogenous<br>retroelements by the Human Silencing Hub<br>(HUSH) complex",
          "Depyrimidination",
          "Recognition and association of<br>DNA glycosylase with site containing an affected pyrimidine<br>",
          "Cleavage<br>of the<br>damaged pyrimidine",
          "Base-Excision<br>Repair, AP<br>Site Formation",
          "Passive<br>transport by<br>Aquaporins",
          "ADP signalling<br>through P2Y purinoceptor 12<br>",
          "Thromboxane<br>signalling through<br>TP receptor",
          "Prostacyclin<br>signalling through<br>prostacyclin receptor",
          "G<br>beta:gamma signalling<br>through BTK",
          "Phosphorylation and<br>nuclear translocation of the<br>CRY:PER:kinase complex",
          "E2F-enabled inhibition<br>of pre-replication complex formation<br>",
          "Serotonin receptors",
          "SIRT1<br>negatively regulates<br>rRNA expression",
          "Alpha-defensins",
          "Transport of nucleosides and<br>free purine and pyrimidine bases across the plasma<br>membrane",
          "Transcription<br>of the<br>HIV genome",
          "Late Phase of<br>HIV Life Cycle",
          "HIV Life Cycle",
          "HIV Infection",
          "Viral<br>Infection Pathways",
          "Infectious disease",
          "Disease",
          "PI Metabolism",
          "Phospholipid<br>metabolism",
          "Metabolism of lipids",
          "Metabolism",
          "Iron uptake<br>and transport",
          "Transport<br>of<br>small molecules",
          "Transmission<br>across Chemical<br>Synapses",
          "Neuronal<br>System",
          "Metabolism of<br>water-soluble vitamins and cofactors<br>",
          "Metabolism<br>of vitamins<br>and cofactors",
          "Membrane Trafficking",
          "Vesicle-mediated<br>transport",
          "RNA<br>Polymerase II<br>Transcription Elongation",
          "Signaling by NODAL",
          "Signal amplification",
          "Platelet<br>activation, signaling<br>and aggregation",
          "Hemostasis",
          "Drug ADME",
          "Respiratory<br>electron transport",
          "Aerobic respiration<br>and respiratory electron transport<br>",
          "STING mediated<br>induction of host immune<br>responses",
          "Cytosolic<br>sensors of<br>pathogen-associated DNA",
          "Innate Immune System",
          "G2/M Transition",
          "Mitotic<br>G2-G2/M phases",
          "Cell Cycle, Mitotic",
          "Cell Cycle",
          "Metabolism of<br>carbohydrates and carbohydrate derivatives<br>",
          "EPH-Ephrin signaling",
          "Axon guidance",
          "Nervous<br>system development",
          "Amine<br>ligand-binding receptors",
          "Class<br>A/1 (Rhodopsin-like<br>receptors)",
          "GPCR ligand binding",
          "Signaling by GPCR",
          "Nuclear<br>Envelope (NE)<br>Reassembly",
          "Mitotic Anaphase",
          "Mitotic Metaphase<br>and Anaphase",
          "M Phase",
          "G1/S Transition",
          "Mitotic G1<br>phase and G1/S transition<br>",
          "G0 and Early G1",
          "Assembly<br>of the<br>pre-replicative complex",
          "DNA<br>Replication Pre-Initiation",
          "DNA<br>Replication",
          "Leishmania infection",
          "Parasitic<br>Infection Pathways",
          "Fertilization",
          "Reproduction",
          "Translation",
          "Metabolism<br>of<br>proteins",
          "MTOR signalling",
          "Protein folding",
          "Regulation<br>of insulin<br>secretion",
          "Integration<br>of energy<br>metabolism",
          "Activation of<br>kainate receptors upon glutamate<br>binding",
          "Neurotransmitter receptors<br>and postsynaptic signal transmission<br>",
          "G-protein<br>beta:gamma signalling<br>",
          "GPCR<br>downstream signalling",
          "Hyaluronan<br>metabolism",
          "Glycosaminoglycan<br>metabolism",
          "Diseases<br>associated with<br>glycosaminoglycan metabolism",
          "Diseases<br>of glycosylation",
          "Diseases<br>of metabolism",
          "rRNA processing",
          "Metabolism<br>of<br>RNA",
          "RNA Polymerase<br>I Transcription",
          "Deadenylation-dependent<br>mRNA decay<br>",
          "Post<br>NMDA receptor<br>activation events",
          "Activation of<br>NMDA receptors and postsynaptic<br>events",
          "RNA<br>Polymerase III<br>Transcription",
          "MyD88:MAL(TIRAP) cascade<br>initiated on plasma membrane<br>",
          "Toll<br>Like Receptor<br>TLR6:TLR2 Cascade",
          "Toll Like<br>Receptor 2 (TLR2) Cascade<br>",
          "Toll-like<br>Receptor Cascades",
          "MyD88 cascade<br>initiated on plasma membrane<br>",
          "Toll Like<br>Receptor 5 (TLR5) Cascade<br>",
          "TRAF6 mediated induction of<br>NFkB and MAP kinases upon TLR7/8 or 9<br>activation",
          "MyD88 dependent<br>cascade initiated on endosome<br>",
          "Toll Like<br>Receptor 7/8 (TLR7/8) Cascade<br>",
          "Asparagine<br>N-linked glycosylation<br>",
          "Post-translational<br>protein modification<br>",
          "Transcription-Coupled<br>Nucleotide Excision<br>Repair (TC-NER)",
          "Nucleotide<br>Excision Repair",
          "DNA Repair",
          "Glycerophospholipid biosynthesis",
          "Fatty<br>acyl-CoA biosynthesis",
          "Fatty<br>acid metabolism",
          "Protein<br>localization",
          "Signaling by<br>ERBB2 in Cancer",
          "Diseases of signal<br>transduction by growth factor receptors and<br>second messengers",
          "O-linked<br>glycosylation",
          "Signaling by FGFR2",
          "Signaling by FGFR",
          "Signaling<br>by Receptor<br>Tyrosine Kinases",
          "mRNA Splicing",
          "Processing<br>of Capped<br>Intron-Containing Pre-mRNA",
          "Telomere Maintenance",
          "Chromosome<br>Maintenance",
          "Neurotransmitter<br>release cycle",
          "Maternal<br>to zygotic<br>transition (MZT)",
          "Unfolded<br>Protein Response<br>(UPR)",
          "Cellular responses<br>to stress",
          "Cellular<br>responses<br>to stimuli",
          "Regulation<br>of endogenous<br>retroelements",
          "Epigenetic<br>regulation of<br>gene expression",
          "Base Excision Repair",
          "Aquaporin-mediated<br>transport",
          "Platelet homeostasis",
          "Circadian<br>clock",
          "Negative epigenetic<br>regulation of rRNA expression<br>",
          "Defensins",
          "Antimicrobial<br>peptides",
          "Transport of<br>vitamins, nucleosides, and related<br>molecules",
          "SLC-mediated<br>transmembrane transport<br>",
          " "
         ],
         "marker": {
          "coloraxis": "coloraxis",
          "colors": {
           "bdata": "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",
           "dtype": "f8"
          }
         },
         "name": "",
         "parents": [
          "ROOT",
          "R-HSA-73857",
          "R-HSA-74160",
          "ROOT",
          "R-HSA-168256",
          "ROOT",
          "ROOT",
          "R-HSA-167172",
          "R-HSA-167169",
          "R-HSA-167172",
          "R-HSA-167246",
          "R-HSA-1483255",
          "R-HSA-917937",
          "R-HSA-112315",
          "R-HSA-196849",
          "R-HSA-199991",
          "R-HSA-75955",
          "R-HSA-167169",
          "R-HSA-1181150",
          "R-HSA-392518",
          "R-HSA-9748784",
          "R-HSA-382551",
          "R-HSA-611105",
          "R-HSA-1834941",
          "R-HSA-69275",
          "R-HSA-71387",
          "R-HSA-9748784",
          "R-HSA-2682334",
          "R-HSA-375280",
          "R-HSA-2995410",
          "R-HSA-69206",
          "R-HSA-1538133",
          "R-HSA-68867",
          "R-HSA-9658195",
          "R-HSA-9664420",
          "R-HSA-1187000",
          "R-HSA-72766",
          "R-HSA-165159",
          "R-HSA-391251",
          "R-HSA-400451",
          "R-HSA-451326",
          "R-HSA-397795",
          "R-HSA-422356",
          "R-HSA-422356",
          "R-HSA-2142845",
          "R-HSA-3560782",
          "R-HSA-72312",
          "R-HSA-73864",
          "R-HSA-429914",
          "R-HSA-438064",
          "R-HSA-3560782",
          "R-HSA-74158",
          "R-HSA-76046",
          "R-HSA-166058",
          "R-HSA-975871",
          "R-HSA-975138",
          "R-HSA-446203",
          "R-HSA-451306",
          "R-HSA-451326",
          "R-HSA-1266738",
          "R-HSA-6781827",
          "R-HSA-76046",
          "R-HSA-76046",
          "R-HSA-1483206",
          "R-HSA-1483206",
          "R-HSA-75105",
          "R-HSA-9609507",
          "R-HSA-1227990",
          "R-HSA-532668",
          "R-HSA-8931838",
          "R-HSA-5173105",
          "R-HSA-167172",
          "R-HSA-73857",
          "R-HSA-8953854",
          "R-HSA-73857",
          "R-HSA-167172",
          "R-HSA-73857",
          "R-HSA-76042",
          "R-HSA-167172",
          "R-HSA-76042",
          "R-HSA-5654738",
          "R-HSA-72172",
          "R-HSA-157579",
          "R-HSA-112310",
          "R-HSA-901042",
          "R-HSA-9816359",
          "R-HSA-381033",
          "R-HSA-381119",
          "R-HSA-74158",
          "R-HSA-162599",
          "R-HSA-8868766",
          "R-HSA-418038",
          "R-HSA-373076",
          "R-HSA-9842860",
          "R-HSA-73929",
          "R-HSA-73928",
          "R-HSA-73928",
          "R-HSA-73884",
          "R-HSA-445717",
          "R-HSA-392518",
          "R-HSA-392518",
          "R-HSA-418346",
          "R-HSA-397795",
          "R-HSA-9909396",
          "R-HSA-113510",
          "R-HSA-375280",
          "R-HSA-5250941",
          "R-HSA-1461973",
          "R-HSA-425397",
          "R-HSA-162599",
          "R-HSA-162587",
          "R-HSA-162906",
          "R-HSA-9824446",
          "R-HSA-5663205",
          "R-HSA-1643685",
          "ROOT",
          "R-HSA-1483257",
          "R-HSA-556833",
          "R-HSA-1430728",
          "ROOT",
          "R-HSA-382551",
          "ROOT",
          "R-HSA-112316",
          "ROOT",
          "R-HSA-196854",
          "R-HSA-1430728",
          "R-HSA-5653656",
          "ROOT",
          "R-HSA-73857",
          "R-HSA-1266738",
          "R-HSA-76002",
          "R-HSA-109582",
          "ROOT",
          "ROOT",
          "R-HSA-1428517",
          "R-HSA-1430728",
          "R-HSA-1834949",
          "R-HSA-168249",
          "R-HSA-168256",
          "R-HSA-453274",
          "R-HSA-69278",
          "R-HSA-1640170",
          "ROOT",
          "R-HSA-1430728",
          "R-HSA-422475",
          "R-HSA-9675108",
          "R-HSA-1266738",
          "R-HSA-373076",
          "R-HSA-500792",
          "R-HSA-372790",
          "R-HSA-162582",
          "R-HSA-68882",
          "R-HSA-2555396",
          "R-HSA-68886",
          "R-HSA-69278",
          "R-HSA-453279",
          "R-HSA-69278",
          "R-HSA-453279",
          "R-HSA-69002",
          "R-HSA-69306",
          "ROOT",
          "R-HSA-9824443",
          "R-HSA-5663205",
          "R-HSA-1474165",
          "ROOT",
          "R-HSA-392499",
          "ROOT",
          "R-HSA-162582",
          "R-HSA-392499",
          "R-HSA-163685",
          "R-HSA-1430728",
          "R-HSA-112314",
          "R-HSA-112315",
          "R-HSA-388396",
          "R-HSA-372790",
          "R-HSA-1630316",
          "R-HSA-71387",
          "R-HSA-3781865",
          "R-HSA-5668914",
          "R-HSA-1643685",
          "R-HSA-8953854",
          "ROOT",
          "R-HSA-74160",
          "R-HSA-8953854",
          "R-HSA-442755",
          "R-HSA-112314",
          "R-HSA-74160",
          "R-HSA-168188",
          "R-HSA-181438",
          "R-HSA-168898",
          "R-HSA-168249",
          "R-HSA-168176",
          "R-HSA-168898",
          "R-HSA-975155",
          "R-HSA-168181",
          "R-HSA-168898",
          "R-HSA-597592",
          "R-HSA-392499",
          "R-HSA-5696398",
          "R-HSA-73894",
          "ROOT",
          "R-HSA-1483257",
          "R-HSA-8978868",
          "R-HSA-556833",
          "ROOT",
          "R-HSA-5663202",
          "R-HSA-1643685",
          "R-HSA-597592",
          "R-HSA-190236",
          "R-HSA-9006934",
          "R-HSA-162582",
          "R-HSA-72203",
          "R-HSA-8953854",
          "R-HSA-73886",
          "R-HSA-1640170",
          "R-HSA-112315",
          "R-HSA-1266738",
          "R-HSA-2262752",
          "R-HSA-8953897",
          "ROOT",
          "R-HSA-212165",
          "R-HSA-74160",
          "R-HSA-73894",
          "R-HSA-382551",
          "R-HSA-109582",
          "ROOT",
          "R-HSA-212165",
          "R-HSA-6803157",
          "R-HSA-168249",
          "R-HSA-425407",
          "R-HSA-382551",
          ""
         ],
         "textfont": {
          "color": [
           "white",
           "white",
           "white",
           "white",
           "white",
           "white",
           "white",
           "white",
           "white",
           "white",
           "white",
           "white",
           "white",
           "white",
           "white",
           "white",
           "white",
           "white",
           "white",
           "white",
           "white",
           "white",
           "white",
           "white",
           "white",
           "white",
           "white",
           "white",
           "white",
           "white",
           "white",
           "white",
           "white",
           "white",
           "white",
           "white",
           "white",
           "white",
           "white",
           "white",
           "white",
           "white",
           "white",
           "white",
           "white",
           "white",
           "white",
           "white",
           "white",
           "white",
           "white",
           "white",
           "white",
           "white",
           "white",
           "white",
           "white",
           "white",
           "white",
           "white",
           "white",
           "white",
           "white",
           "white",
           "white",
           "white",
           "white",
           "white",
           "white",
           "white",
           "white",
           "white",
           "white",
           "white",
           "white",
           "white",
           "white",
           "white",
           "white",
           "white",
           "white",
           "white",
           "white",
           "white",
           "white",
           "white",
           "white",
           "white",
           "white",
           "white",
           "white",
           "white",
           "white",
           "white",
           "white",
           "white",
           "white",
           "white",
           "white",
           "white",
           "white",
           "white",
           "white",
           "white",
           "white",
           "white",
           "white",
           "white",
           "white",
           "#A9A9A9",
           "#A9A9A9",
           "#A9A9A9",
           "#A9A9A9",
           "#A9A9A9",
           "#A9A9A9",
           "#A9A9A9",
           "#A9A9A9",
           "#A9A9A9",
           "#A9A9A9",
           "#A9A9A9",
           "#A9A9A9",
           "#A9A9A9",
           "#A9A9A9",
           "#A9A9A9",
           "#A9A9A9",
           "#A9A9A9",
           "#A9A9A9",
           "#A9A9A9",
           "#A9A9A9",
           "#A9A9A9",
           "#A9A9A9",
           "#A9A9A9",
           "#A9A9A9",
           "#A9A9A9",
           "#A9A9A9",
           "#A9A9A9",
           "#A9A9A9",
           "#A9A9A9",
           "#A9A9A9",
           "#A9A9A9",
           "#A9A9A9",
           "#A9A9A9",
           "#A9A9A9",
           "#A9A9A9",
           "#A9A9A9",
           "#A9A9A9",
           "#A9A9A9",
           "#A9A9A9",
           "#A9A9A9",
           "#A9A9A9",
           "#A9A9A9",
           "#A9A9A9",
           "#A9A9A9",
           "#A9A9A9",
           "#A9A9A9",
           "#A9A9A9",
           "#A9A9A9",
           "#A9A9A9",
           "#A9A9A9",
           "#A9A9A9",
           "#A9A9A9",
           "#A9A9A9",
           "#A9A9A9",
           "#A9A9A9",
           "#A9A9A9",
           "#A9A9A9",
           "#A9A9A9",
           "#A9A9A9",
           "#A9A9A9",
           "#A9A9A9",
           "#A9A9A9",
           "#A9A9A9",
           "#A9A9A9",
           "#A9A9A9",
           "#A9A9A9",
           "#A9A9A9",
           "#A9A9A9",
           "#A9A9A9",
           "#A9A9A9",
           "#A9A9A9",
           "#A9A9A9",
           "#A9A9A9",
           "#A9A9A9",
           "#A9A9A9",
           "#A9A9A9",
           "#A9A9A9",
           "#A9A9A9",
           "#A9A9A9",
           "#A9A9A9",
           "#A9A9A9",
           "#A9A9A9",
           "#A9A9A9",
           "#A9A9A9",
           "#A9A9A9",
           "#A9A9A9",
           "#A9A9A9",
           "#A9A9A9",
           "#A9A9A9",
           "#A9A9A9",
           "#A9A9A9",
           "#A9A9A9",
           "#A9A9A9",
           "#A9A9A9",
           "#A9A9A9",
           "#A9A9A9",
           "#A9A9A9",
           "#A9A9A9",
           "#A9A9A9",
           "#A9A9A9",
           "#A9A9A9",
           "#A9A9A9",
           "#A9A9A9",
           "#A9A9A9",
           "#A9A9A9",
           "#A9A9A9",
           "#A9A9A9",
           "#A9A9A9",
           "#A9A9A9",
           "#A9A9A9",
           "#A9A9A9",
           "#A9A9A9",
           "#A9A9A9",
           "#A9A9A9",
           "#A9A9A9",
           "#A9A9A9",
           "#A9A9A9",
           "#A9A9A9",
           "#A9A9A9",
           "#A9A9A9",
           "#A9A9A9",
           "#A9A9A9",
           "#2F4F4F"
          ],
          "family": "Arial",
          "size": 14
         },
         "textinfo": "label",
         "texttemplate": "<b>%{label}</b>",
         "type": "sunburst"
        }
       ],
       "layout": {
        "coloraxis": {
         "cmid": 0,
         "colorbar": {
          "len": 0.6,
          "thickness": 20,
          "tickfont": {
           "size": 14
          },
          "ticks": "outside",
          "tickvals": [
           -5,
           -2.5,
           0,
           2.5,
           5
          ],
          "title": {
           "font": {
            "size": 16
           },
           "text": "NES"
          }
         },
         "colorscale": [
          [
           0,
           "#0571b0"
          ],
          [
           0.25,
           "#92c5de"
          ],
          [
           0.5,
           "#f7f7f7"
          ],
          [
           0.75,
           "#f4a582"
          ],
          [
           1,
           "#ca0020"
          ]
         ]
        },
        "font": {
         "size": 14
        },
        "height": 1100,
        "legend": {
         "tracegroupgap": 0
        },
        "margin": {
         "b": 50,
         "l": 50,
         "r": 50,
         "t": 50
        },
        "template": {
         "data": {
          "bar": [
           {
            "error_x": {
             "color": "#2a3f5f"
            },
            "error_y": {
             "color": "#2a3f5f"
            },
            "marker": {
             "line": {
              "color": "#E5ECF6",
              "width": 0.5
             },
             "pattern": {
              "fillmode": "overlay",
              "size": 10,
              "solidity": 0.2
             }
            },
            "type": "bar"
           }
          ],
          "barpolar": [
           {
            "marker": {
             "line": {
              "color": "#E5ECF6",
              "width": 0.5
             },
             "pattern": {
              "fillmode": "overlay",
              "size": 10,
              "solidity": 0.2
             }
            },
            "type": "barpolar"
           }
          ],
          "carpet": [
           {
            "aaxis": {
             "endlinecolor": "#2a3f5f",
             "gridcolor": "white",
             "linecolor": "white",
             "minorgridcolor": "white",
             "startlinecolor": "#2a3f5f"
            },
            "baxis": {
             "endlinecolor": "#2a3f5f",
             "gridcolor": "white",
             "linecolor": "white",
             "minorgridcolor": "white",
             "startlinecolor": "#2a3f5f"
            },
            "type": "carpet"
           }
          ],
          "choropleth": [
           {
            "colorbar": {
             "outlinewidth": 0,
             "ticks": ""
            },
            "type": "choropleth"
           }
          ],
          "contour": [
           {
            "colorbar": {
             "outlinewidth": 0,
             "ticks": ""
            },
            "colorscale": [
             [
              0,
              "#0d0887"
             ],
             [
              0.1111111111111111,
              "#46039f"
             ],
             [
              0.2222222222222222,
              "#7201a8"
             ],
             [
              0.3333333333333333,
              "#9c179e"
             ],
             [
              0.4444444444444444,
              "#bd3786"
             ],
             [
              0.5555555555555556,
              "#d8576b"
             ],
             [
              0.6666666666666666,
              "#ed7953"
             ],
             [
              0.7777777777777778,
              "#fb9f3a"
             ],
             [
              0.8888888888888888,
              "#fdca26"
             ],
             [
              1,
              "#f0f921"
             ]
            ],
            "type": "contour"
           }
          ],
          "contourcarpet": [
           {
            "colorbar": {
             "outlinewidth": 0,
             "ticks": ""
            },
            "type": "contourcarpet"
           }
          ],
          "heatmap": [
           {
            "colorbar": {
             "outlinewidth": 0,
             "ticks": ""
            },
            "colorscale": [
             [
              0,
              "#0d0887"
             ],
             [
              0.1111111111111111,
              "#46039f"
             ],
             [
              0.2222222222222222,
              "#7201a8"
             ],
             [
              0.3333333333333333,
              "#9c179e"
             ],
             [
              0.4444444444444444,
              "#bd3786"
             ],
             [
              0.5555555555555556,
              "#d8576b"
             ],
             [
              0.6666666666666666,
              "#ed7953"
             ],
             [
              0.7777777777777778,
              "#fb9f3a"
             ],
             [
              0.8888888888888888,
              "#fdca26"
             ],
             [
              1,
              "#f0f921"
             ]
            ],
            "type": "heatmap"
           }
          ],
          "histogram": [
           {
            "marker": {
             "pattern": {
              "fillmode": "overlay",
              "size": 10,
              "solidity": 0.2
             }
            },
            "type": "histogram"
           }
          ],
          "histogram2d": [
           {
            "colorbar": {
             "outlinewidth": 0,
             "ticks": ""
            },
            "colorscale": [
             [
              0,
              "#0d0887"
             ],
             [
              0.1111111111111111,
              "#46039f"
             ],
             [
              0.2222222222222222,
              "#7201a8"
             ],
             [
              0.3333333333333333,
              "#9c179e"
             ],
             [
              0.4444444444444444,
              "#bd3786"
             ],
             [
              0.5555555555555556,
              "#d8576b"
             ],
             [
              0.6666666666666666,
              "#ed7953"
             ],
             [
              0.7777777777777778,
              "#fb9f3a"
             ],
             [
              0.8888888888888888,
              "#fdca26"
             ],
             [
              1,
              "#f0f921"
             ]
            ],
            "type": "histogram2d"
           }
          ],
          "histogram2dcontour": [
           {
            "colorbar": {
             "outlinewidth": 0,
             "ticks": ""
            },
            "colorscale": [
             [
              0,
              "#0d0887"
             ],
             [
              0.1111111111111111,
              "#46039f"
             ],
             [
              0.2222222222222222,
              "#7201a8"
             ],
             [
              0.3333333333333333,
              "#9c179e"
             ],
             [
              0.4444444444444444,
              "#bd3786"
             ],
             [
              0.5555555555555556,
              "#d8576b"
             ],
             [
              0.6666666666666666,
              "#ed7953"
             ],
             [
              0.7777777777777778,
              "#fb9f3a"
             ],
             [
              0.8888888888888888,
              "#fdca26"
             ],
             [
              1,
              "#f0f921"
             ]
            ],
            "type": "histogram2dcontour"
           }
          ],
          "mesh3d": [
           {
            "colorbar": {
             "outlinewidth": 0,
             "ticks": ""
            },
            "type": "mesh3d"
           }
          ],
          "parcoords": [
           {
            "line": {
             "colorbar": {
              "outlinewidth": 0,
              "ticks": ""
             }
            },
            "type": "parcoords"
           }
          ],
          "pie": [
           {
            "automargin": true,
            "type": "pie"
           }
          ],
          "scatter": [
           {
            "fillpattern": {
             "fillmode": "overlay",
             "size": 10,
             "solidity": 0.2
            },
            "type": "scatter"
           }
          ],
          "scatter3d": [
           {
            "line": {
             "colorbar": {
              "outlinewidth": 0,
              "ticks": ""
             }
            },
            "marker": {
             "colorbar": {
              "outlinewidth": 0,
              "ticks": ""
             }
            },
            "type": "scatter3d"
           }
          ],
          "scattercarpet": [
           {
            "marker": {
             "colorbar": {
              "outlinewidth": 0,
              "ticks": ""
             }
            },
            "type": "scattercarpet"
           }
          ],
          "scattergeo": [
           {
            "marker": {
             "colorbar": {
              "outlinewidth": 0,
              "ticks": ""
             }
            },
            "type": "scattergeo"
           }
          ],
          "scattergl": [
           {
            "marker": {
             "colorbar": {
              "outlinewidth": 0,
              "ticks": ""
             }
            },
            "type": "scattergl"
           }
          ],
          "scattermap": [
           {
            "marker": {
             "colorbar": {
              "outlinewidth": 0,
              "ticks": ""
             }
            },
            "type": "scattermap"
           }
          ],
          "scattermapbox": [
           {
            "marker": {
             "colorbar": {
              "outlinewidth": 0,
              "ticks": ""
             }
            },
            "type": "scattermapbox"
           }
          ],
          "scatterpolar": [
           {
            "marker": {
             "colorbar": {
              "outlinewidth": 0,
              "ticks": ""
             }
            },
            "type": "scatterpolar"
           }
          ],
          "scatterpolargl": [
           {
            "marker": {
             "colorbar": {
              "outlinewidth": 0,
              "ticks": ""
             }
            },
            "type": "scatterpolargl"
           }
          ],
          "scatterternary": [
           {
            "marker": {
             "colorbar": {
              "outlinewidth": 0,
              "ticks": ""
             }
            },
            "type": "scatterternary"
           }
          ],
          "surface": [
           {
            "colorbar": {
             "outlinewidth": 0,
             "ticks": ""
            },
            "colorscale": [
             [
              0,
              "#0d0887"
             ],
             [
              0.1111111111111111,
              "#46039f"
             ],
             [
              0.2222222222222222,
              "#7201a8"
             ],
             [
              0.3333333333333333,
              "#9c179e"
             ],
             [
              0.4444444444444444,
              "#bd3786"
             ],
             [
              0.5555555555555556,
              "#d8576b"
             ],
             [
              0.6666666666666666,
              "#ed7953"
             ],
             [
              0.7777777777777778,
              "#fb9f3a"
             ],
             [
              0.8888888888888888,
              "#fdca26"
             ],
             [
              1,
              "#f0f921"
             ]
            ],
            "type": "surface"
           }
          ],
          "table": [
           {
            "cells": {
             "fill": {
              "color": "#EBF0F8"
             },
             "line": {
              "color": "white"
             }
            },
            "header": {
             "fill": {
              "color": "#C8D4E3"
             },
             "line": {
              "color": "white"
             }
            },
            "type": "table"
           }
          ]
         },
         "layout": {
          "annotationdefaults": {
           "arrowcolor": "#2a3f5f",
           "arrowhead": 0,
           "arrowwidth": 1
          },
          "autotypenumbers": "strict",
          "coloraxis": {
           "colorbar": {
            "outlinewidth": 0,
            "ticks": ""
           }
          },
          "colorscale": {
           "diverging": [
            [
             0,
             "#8e0152"
            ],
            [
             0.1,
             "#c51b7d"
            ],
            [
             0.2,
             "#de77ae"
            ],
            [
             0.3,
             "#f1b6da"
            ],
            [
             0.4,
             "#fde0ef"
            ],
            [
             0.5,
             "#f7f7f7"
            ],
            [
             0.6,
             "#e6f5d0"
            ],
            [
             0.7,
             "#b8e186"
            ],
            [
             0.8,
             "#7fbc41"
            ],
            [
             0.9,
             "#4d9221"
            ],
            [
             1,
             "#276419"
            ]
           ],
           "sequential": [
            [
             0,
             "#0d0887"
            ],
            [
             0.1111111111111111,
             "#46039f"
            ],
            [
             0.2222222222222222,
             "#7201a8"
            ],
            [
             0.3333333333333333,
             "#9c179e"
            ],
            [
             0.4444444444444444,
             "#bd3786"
            ],
            [
             0.5555555555555556,
             "#d8576b"
            ],
            [
             0.6666666666666666,
             "#ed7953"
            ],
            [
             0.7777777777777778,
             "#fb9f3a"
            ],
            [
             0.8888888888888888,
             "#fdca26"
            ],
            [
             1,
             "#f0f921"
            ]
           ],
           "sequentialminus": [
            [
             0,
             "#0d0887"
            ],
            [
             0.1111111111111111,
             "#46039f"
            ],
            [
             0.2222222222222222,
             "#7201a8"
            ],
            [
             0.3333333333333333,
             "#9c179e"
            ],
            [
             0.4444444444444444,
             "#bd3786"
            ],
            [
             0.5555555555555556,
             "#d8576b"
            ],
            [
             0.6666666666666666,
             "#ed7953"
            ],
            [
             0.7777777777777778,
             "#fb9f3a"
            ],
            [
             0.8888888888888888,
             "#fdca26"
            ],
            [
             1,
             "#f0f921"
            ]
           ]
          },
          "colorway": [
           "#636efa",
           "#EF553B",
           "#00cc96",
           "#ab63fa",
           "#FFA15A",
           "#19d3f3",
           "#FF6692",
           "#B6E880",
           "#FF97FF",
           "#FECB52"
          ],
          "font": {
           "color": "#2a3f5f"
          },
          "geo": {
           "bgcolor": "white",
           "lakecolor": "white",
           "landcolor": "#E5ECF6",
           "showlakes": true,
           "showland": true,
           "subunitcolor": "white"
          },
          "hoverlabel": {
           "align": "left"
          },
          "hovermode": "closest",
          "mapbox": {
           "style": "light"
          },
          "paper_bgcolor": "white",
          "plot_bgcolor": "#E5ECF6",
          "polar": {
           "angularaxis": {
            "gridcolor": "white",
            "linecolor": "white",
            "ticks": ""
           },
           "bgcolor": "#E5ECF6",
           "radialaxis": {
            "gridcolor": "white",
            "linecolor": "white",
            "ticks": ""
           }
          },
          "scene": {
           "xaxis": {
            "backgroundcolor": "#E5ECF6",
            "gridcolor": "white",
            "gridwidth": 2,
            "linecolor": "white",
            "showbackground": true,
            "ticks": "",
            "zerolinecolor": "white"
           },
           "yaxis": {
            "backgroundcolor": "#E5ECF6",
            "gridcolor": "white",
            "gridwidth": 2,
            "linecolor": "white",
            "showbackground": true,
            "ticks": "",
            "zerolinecolor": "white"
           },
           "zaxis": {
            "backgroundcolor": "#E5ECF6",
            "gridcolor": "white",
            "gridwidth": 2,
            "linecolor": "white",
            "showbackground": true,
            "ticks": "",
            "zerolinecolor": "white"
           }
          },
          "shapedefaults": {
           "line": {
            "color": "#2a3f5f"
           }
          },
          "ternary": {
           "aaxis": {
            "gridcolor": "white",
            "linecolor": "white",
            "ticks": ""
           },
           "baxis": {
            "gridcolor": "white",
            "linecolor": "white",
            "ticks": ""
           },
           "bgcolor": "#E5ECF6",
           "caxis": {
            "gridcolor": "white",
            "linecolor": "white",
            "ticks": ""
           }
          },
          "title": {
           "x": 0.05
          },
          "xaxis": {
           "automargin": true,
           "gridcolor": "white",
           "linecolor": "white",
           "ticks": "",
           "title": {
            "standoff": 15
           },
           "zerolinecolor": "white",
           "zerolinewidth": 2
          },
          "yaxis": {
           "automargin": true,
           "gridcolor": "white",
           "linecolor": "white",
           "ticks": "",
           "title": {
            "standoff": 15
           },
           "zerolinecolor": "white",
           "zerolinewidth": 2
          }
         }
        },
        "width": 1100
       }
      }
     },
     "metadata": {},
     "output_type": "display_data"
    }
   ],
   "source": [
    "fig2 = plot_sunburst(pathway_hieararchy_gsea_001_full, width=1100, height=1100)\n",
    "fig2.show()"
   ]
  },
  {
   "cell_type": "code",
   "execution_count": null,
   "id": "7430084a",
   "metadata": {},
   "outputs": [],
   "source": [
    "# fig2.write_image(\"/Users/polina/genetics_gsea/data/sunburst/sunburst_plot_v4.png\", width=1100, height=1100, scale=2)"
   ]
  },
  {
   "cell_type": "code",
   "execution_count": 115,
   "id": "b41c69f2",
   "metadata": {},
   "outputs": [
    {
     "data": {
      "text/plain": [
       "'/Users/polina/genetics_gsea/data/sunburst/sunburst_plot_v2.html'"
      ]
     },
     "execution_count": 115,
     "metadata": {},
     "output_type": "execute_result"
    }
   ],
   "source": [
    "# # Save fig2 to HTML\n",
    "# output_html = \"/Users/polina/genetics_gsea/data/sunburst/sunburst_plot_v1.html\"\n",
    "# fig2.write_html(output_html, include_plotlyjs='cdn')\n",
    "# output_html"
   ]
  },
  {
   "cell_type": "code",
   "execution_count": 137,
   "id": "6c4cd9f8",
   "metadata": {},
   "outputs": [
    {
     "data": {
      "application/vnd.plotly.v1+json": {
       "config": {
        "plotlyServerURL": "https://plot.ly"
       },
       "data": [
        {
         "branchvalues": "total",
         "customdata": [
          [
           "Signal Transduction"
          ],
          [
           "Generic Transcription Pathway"
          ],
          [
           "RNA Polymerase II Transcription"
          ],
          [
           "Gene expression (Transcription)"
          ],
          [
           "Cytokine Signaling in Immune system"
          ],
          [
           "Immune System"
          ],
          [
           "Developmental Biology"
          ],
          [
           "Formation of HIV elongation complex in the absence of HIV Tat"
          ],
          [
           "Tat-mediated elongation of the HIV-1 transcript"
          ],
          [
           "HIV Transcription Elongation"
          ],
          [
           "Formation of HIV-1 elongation complex containing HIV-1 Tat"
          ],
          [
           "Synthesis of PIPs at the Golgi membrane"
          ],
          [
           "Transferrin endocytosis and recycling"
          ],
          [
           "Presynaptic depolarization and calcium channel opening"
          ],
          [
           "Vitamin B5 (pantothenate) metabolism"
          ],
          [
           "Endosomal Sorting Complex Required For Transport (ESCRT)"
          ],
          [
           "Formation of the Early Elongation Complex"
          ],
          [
           "Formation of the HIV-1 Early Elongation Complex"
          ],
          [
           "Regulation of signaling by NODAL"
          ],
          [
           "ADP signalling through P2Y purinoceptor 1"
          ],
          [
           "Atorvastatin ADME"
          ],
          [
           "Mitochondrial calcium ion transport"
          ],
          [
           "Complex I biogenesis"
          ],
          [
           "IRF3-mediated induction of type I IFN"
          ],
          [
           "Cyclin A/B1/B2 associated events during G2/M transition"
          ],
          [
           "Glycogen metabolism"
          ],
          [
           "Prednisone ADME"
          ],
          [
           "Ephrin signaling"
          ],
          [
           "Adrenoceptors"
          ],
          [
           "Postmitotic nuclear pore complex (NPC) reformation"
          ],
          [
           "E2F mediated regulation of DNA replication"
          ],
          [
           "Transcription of E2F targets under negative control by p107 (RBL1) and p130 (RBL2) in complex with HDAC1"
          ],
          [
           "Assembly of the ORC complex at the origin of replication"
          ],
          [
           "Killing mechanisms"
          ],
          [
           "WNT5:FZD7-mediated leishmania damping"
          ],
          [
           "Interaction With Cumulus Cells And The Zona Pellucida"
          ],
          [
           "tRNA Aminoacylation"
          ],
          [
           "mTORC1-mediated signalling"
          ],
          [
           "Post-chaperonin tubulin folding pathway"
          ],
          [
           "Fatty Acids bound to GPR40 (FFAR1) regulate insulin secretion"
          ],
          [
           "Presynaptic function of Kainate receptors"
          ],
          [
           "G beta:gamma signalling through PLC beta"
          ],
          [
           "Free fatty acids regulate insulin secretion"
          ],
          [
           "Acetylcholine regulates insulin secretion"
          ],
          [
           "Hyaluronan degradation"
          ],
          [
           "Defective B4GALT1 causes B4GALT1-CDG (CDG-2d)"
          ],
          [
           "rRNA processing in the mitochondrion"
          ],
          [
           "RNA Polymerase I Transcription Termination"
          ],
          [
           "Deadenylation of mRNA"
          ],
          [
           "CREB1 phosphorylation through the activation of Adenylate Cyclase"
          ],
          [
           "Defective ST3GAL3 causes MCT12 and EIEE15"
          ],
          [
           "RNA Polymerase III Transcription Initiation"
          ],
          [
           "RNA Polymerase III Transcription Initiation From Type 3 Promoter"
          ],
          [
           "IRAK1 recruits IKK complex"
          ],
          [
           "IRAK1 recruits IKK complex"
          ],
          [
           "IRAK1 recruits IKK complex upon TLR7/8 or 9 stimulation"
          ],
          [
           "N-glycan trimming in the ER and Calnexin/Calreticulin cycle"
          ],
          [
           "Activation of Ca-permeable Kainate Receptor"
          ],
          [
           "Ionotropic activity of kainate receptors"
          ],
          [
           "LGI-ADAM interactions"
          ],
          [
           "Formation of TC-NER Pre-Incision Complex"
          ],
          [
           "RNA Polymerase III Transcription Initiation From Type 1 Promoter"
          ],
          [
           "RNA Polymerase III Transcription Initiation From Type 2 Promoter"
          ],
          [
           "Acyl chain remodelling of PS"
          ],
          [
           "Acyl chain remodelling of PG"
          ],
          [
           "Synthesis of very long-chain fatty acyl-CoAs"
          ],
          [
           "Insertion of tail-anchored proteins into the endoplasmic reticulum membrane"
          ],
          [
           "Constitutive Signaling by Overexpressed ERBB2"
          ],
          [
           "Calnexin/calreticulin cycle"
          ],
          [
           "Matriglycan biosynthesis on DAG1"
          ],
          [
           "DAG1 glycosylations"
          ],
          [
           "RNA Pol II CTD phosphorylation and interaction with CE during HIV infection"
          ],
          [
           "RNA Pol II CTD phosphorylation and interaction with CE"
          ],
          [
           "mRNA Capping"
          ],
          [
           "RNA Polymerase II Transcription Pre-Initiation And Promoter Opening"
          ],
          [
           "HIV Transcription Initiation"
          ],
          [
           "RNA Polymerase II Transcription Initiation And Promoter Clearance"
          ],
          [
           "RNA Polymerase II Transcription Initiation"
          ],
          [
           "RNA Polymerase II HIV Promoter Escape"
          ],
          [
           "RNA Polymerase II Promoter Escape"
          ],
          [
           "FGFR2 alternative splicing"
          ],
          [
           "mRNA Splicing - Minor Pathway"
          ],
          [
           "Inhibition of DNA recombination at telomere"
          ],
          [
           "GABA synthesis, release, reuptake and degradation"
          ],
          [
           "ER Quality Control Compartment (ERQC)"
          ],
          [
           "Replacement of protamines by nucleosomes in the male pronucleus"
          ],
          [
           "ATF6 (ATF6-alpha) activates chaperone genes"
          ],
          [
           "ATF6 (ATF6-alpha) activates chaperones"
          ],
          [
           "RNA Polymerase III Chain Elongation"
          ],
          [
           "Budding and maturation of HIV virion"
          ],
          [
           "rRNA modification in the mitochondrion"
          ],
          [
           "P2Y receptors"
          ],
          [
           "Nucleotide-like (purinergic) receptors"
          ],
          [
           "Regulation of endogenous retroelements by the Human Silencing Hub (HUSH) complex"
          ],
          [
           "Depyrimidination"
          ],
          [
           "Recognition and association of DNA glycosylase with site containing an affected pyrimidine"
          ],
          [
           "Cleavage of the damaged pyrimidine"
          ],
          [
           "Base-Excision Repair, AP Site Formation"
          ],
          [
           "Passive transport by Aquaporins"
          ],
          [
           "ADP signalling through P2Y purinoceptor 12"
          ],
          [
           "Thromboxane signalling through TP receptor"
          ],
          [
           "Prostacyclin signalling through prostacyclin receptor"
          ],
          [
           "G beta:gamma signalling through BTK"
          ],
          [
           "Phosphorylation and nuclear translocation of the CRY:PER:kinase complex"
          ],
          [
           "E2F-enabled inhibition of pre-replication complex formation"
          ],
          [
           "Serotonin receptors"
          ],
          [
           "SIRT1 negatively regulates rRNA expression"
          ],
          [
           "Alpha-defensins"
          ],
          [
           "Transport of nucleosides and free purine and pyrimidine bases across the plasma membrane"
          ],
          [
           "Transcription of the HIV genome"
          ],
          [
           "Late Phase of HIV Life Cycle"
          ],
          [
           "HIV Life Cycle"
          ],
          [
           "HIV Infection"
          ],
          [
           "Viral Infection Pathways"
          ],
          [
           "Infectious disease"
          ],
          [
           "Disease"
          ],
          [
           "PI Metabolism"
          ],
          [
           "Phospholipid metabolism"
          ],
          [
           "Metabolism of lipids"
          ],
          [
           "Metabolism"
          ],
          [
           "Iron uptake and transport"
          ],
          [
           "Transport of small molecules"
          ],
          [
           "Transmission across Chemical Synapses"
          ],
          [
           "Neuronal System"
          ],
          [
           "Metabolism of water-soluble vitamins and cofactors"
          ],
          [
           "Metabolism of vitamins and cofactors"
          ],
          [
           "Membrane Trafficking"
          ],
          [
           "Vesicle-mediated transport"
          ],
          [
           "RNA Polymerase II Transcription Elongation"
          ],
          [
           "Signaling by NODAL"
          ],
          [
           "Signal amplification"
          ],
          [
           "Platelet activation, signaling and aggregation"
          ],
          [
           "Hemostasis"
          ],
          [
           "Drug ADME"
          ],
          [
           "Respiratory electron transport"
          ],
          [
           "Aerobic respiration and respiratory electron transport"
          ],
          [
           "STING mediated induction of host immune responses"
          ],
          [
           "Cytosolic sensors of pathogen-associated DNA "
          ],
          [
           "Innate Immune System"
          ],
          [
           "G2/M Transition"
          ],
          [
           "Mitotic G2-G2/M phases"
          ],
          [
           "Cell Cycle, Mitotic"
          ],
          [
           "Cell Cycle"
          ],
          [
           "Metabolism of carbohydrates and carbohydrate derivatives"
          ],
          [
           "EPH-Ephrin signaling"
          ],
          [
           "Axon guidance"
          ],
          [
           "Nervous system development"
          ],
          [
           "Amine ligand-binding receptors"
          ],
          [
           "Class A/1 (Rhodopsin-like receptors)"
          ],
          [
           "GPCR ligand binding"
          ],
          [
           "Signaling by GPCR"
          ],
          [
           "Nuclear Envelope (NE) Reassembly"
          ],
          [
           "Mitotic Anaphase"
          ],
          [
           "Mitotic Metaphase and Anaphase"
          ],
          [
           "M Phase"
          ],
          [
           "G1/S Transition"
          ],
          [
           "Mitotic G1 phase and G1/S transition"
          ],
          [
           "G0 and Early G1"
          ],
          [
           "Assembly of the pre-replicative complex"
          ],
          [
           "DNA Replication Pre-Initiation"
          ],
          [
           "DNA Replication"
          ],
          [
           "Leishmania infection"
          ],
          [
           "Parasitic Infection Pathways"
          ],
          [
           "Fertilization"
          ],
          [
           "Reproduction"
          ],
          [
           "Translation"
          ],
          [
           "Metabolism of proteins"
          ],
          [
           "MTOR signalling"
          ],
          [
           "Protein folding"
          ],
          [
           "Regulation of insulin secretion"
          ],
          [
           "Integration of energy metabolism"
          ],
          [
           "Activation of kainate receptors upon glutamate binding"
          ],
          [
           "Neurotransmitter receptors and postsynaptic signal transmission"
          ],
          [
           "G-protein beta:gamma signalling"
          ],
          [
           "GPCR downstream signalling"
          ],
          [
           "Hyaluronan metabolism"
          ],
          [
           "Glycosaminoglycan metabolism"
          ],
          [
           "Diseases associated with glycosaminoglycan metabolism"
          ],
          [
           "Diseases of glycosylation"
          ],
          [
           "Diseases of metabolism"
          ],
          [
           "rRNA processing"
          ],
          [
           "Metabolism of RNA"
          ],
          [
           "RNA Polymerase I Transcription"
          ],
          [
           "Deadenylation-dependent mRNA decay"
          ],
          [
           "Post NMDA receptor activation events"
          ],
          [
           "Activation of NMDA receptors and postsynaptic events"
          ],
          [
           "RNA Polymerase III Transcription"
          ],
          [
           "MyD88:MAL(TIRAP) cascade initiated on plasma membrane"
          ],
          [
           "Toll Like Receptor TLR6:TLR2 Cascade"
          ],
          [
           "Toll Like Receptor 2 (TLR2) Cascade"
          ],
          [
           "Toll-like Receptor Cascades"
          ],
          [
           "MyD88 cascade initiated on plasma membrane"
          ],
          [
           "Toll Like Receptor 5 (TLR5) Cascade"
          ],
          [
           "TRAF6 mediated induction of NFkB and MAP kinases upon TLR7/8 or 9 activation"
          ],
          [
           "MyD88 dependent cascade initiated on endosome"
          ],
          [
           "Toll Like Receptor 7/8 (TLR7/8) Cascade"
          ],
          [
           "Asparagine N-linked glycosylation"
          ],
          [
           "Post-translational protein modification"
          ],
          [
           "Transcription-Coupled Nucleotide Excision Repair (TC-NER)"
          ],
          [
           "Nucleotide Excision Repair"
          ],
          [
           "DNA Repair"
          ],
          [
           "Glycerophospholipid biosynthesis"
          ],
          [
           "Fatty acyl-CoA biosynthesis"
          ],
          [
           "Fatty acid metabolism"
          ],
          [
           "Protein localization"
          ],
          [
           "Signaling by ERBB2 in Cancer"
          ],
          [
           "Diseases of signal transduction by growth factor receptors and second messengers"
          ],
          [
           "O-linked glycosylation"
          ],
          [
           "Signaling by FGFR2"
          ],
          [
           "Signaling by FGFR"
          ],
          [
           "Signaling by Receptor Tyrosine Kinases"
          ],
          [
           "mRNA Splicing"
          ],
          [
           "Processing of Capped Intron-Containing Pre-mRNA"
          ],
          [
           "Telomere Maintenance"
          ],
          [
           "Chromosome Maintenance"
          ],
          [
           "Neurotransmitter release cycle"
          ],
          [
           "Maternal to zygotic transition (MZT)"
          ],
          [
           "Unfolded Protein Response (UPR)"
          ],
          [
           "Cellular responses to stress"
          ],
          [
           "Cellular responses to stimuli"
          ],
          [
           "Regulation of endogenous retroelements"
          ],
          [
           "Epigenetic regulation of gene expression"
          ],
          [
           "Base Excision Repair"
          ],
          [
           "Aquaporin-mediated transport"
          ],
          [
           "Platelet homeostasis"
          ],
          [
           "Circadian clock"
          ],
          [
           "Negative epigenetic regulation of rRNA expression"
          ],
          [
           "Defensins"
          ],
          [
           "Antimicrobial peptides"
          ],
          [
           "Transport of vitamins, nucleosides, and related molecules"
          ],
          [
           "SLC-mediated transmembrane transport"
          ],
          [
           "Reactome pathways"
          ]
         ],
         "domain": {
          "x": [
           0,
           1
          ],
          "y": [
           0,
           1
          ]
         },
         "hovertemplate": "<b>%{customdata[0]}</b><br>NES: %{color:.2f}<extra></extra>",
         "ids": [
          "R-HSA-162582",
          "R-HSA-212436",
          "R-HSA-73857",
          "R-HSA-74160",
          "R-HSA-1280215",
          "R-HSA-168256",
          "R-HSA-1266738",
          "R-HSA-167152",
          "R-HSA-167246",
          "R-HSA-167169",
          "R-HSA-167200",
          "R-HSA-1660514",
          "R-HSA-917977",
          "R-HSA-112308",
          "R-HSA-199220",
          "R-HSA-917729",
          "R-HSA-113418",
          "R-HSA-167158",
          "R-HSA-1433617",
          "R-HSA-418592",
          "R-HSA-9754706",
          "R-HSA-8949215",
          "R-HSA-6799198",
          "R-HSA-3270619",
          "R-HSA-69273",
          "R-HSA-8982491",
          "R-HSA-9757110",
          "R-HSA-3928664",
          "R-HSA-390696",
          "R-HSA-9615933",
          "R-HSA-113510",
          "R-HSA-1362300",
          "R-HSA-68616",
          "R-HSA-9664420",
          "R-HSA-9673324",
          "R-HSA-2534343",
          "R-HSA-379724",
          "R-HSA-166208",
          "R-HSA-389977",
          "R-HSA-434316",
          "R-HSA-500657",
          "R-HSA-418217",
          "R-HSA-400451",
          "R-HSA-399997",
          "R-HSA-2160916",
          "R-HSA-3656244",
          "R-HSA-8868766",
          "R-HSA-73863",
          "R-HSA-429947",
          "R-HSA-442720",
          "R-HSA-3656243",
          "R-HSA-76046",
          "R-HSA-76071",
          "R-HSA-937039",
          "R-HSA-937039",
          "R-HSA-975144",
          "R-HSA-532668",
          "R-HSA-451308",
          "R-HSA-451306",
          "R-HSA-5682910",
          "R-HSA-6781823",
          "R-HSA-76061",
          "R-HSA-76066",
          "R-HSA-1482801",
          "R-HSA-1482925",
          "R-HSA-75876",
          "R-HSA-9609523",
          "R-HSA-9634285",
          "R-HSA-901042",
          "R-HSA-9939291",
          "R-HSA-8931838",
          "R-HSA-167160",
          "R-HSA-77075",
          "R-HSA-72086",
          "R-HSA-73779",
          "R-HSA-167161",
          "R-HSA-76042",
          "R-HSA-75953",
          "R-HSA-167162",
          "R-HSA-73776",
          "R-HSA-6803529",
          "R-HSA-72165",
          "R-HSA-9670095",
          "R-HSA-888590",
          "R-HSA-901032",
          "R-HSA-9821993",
          "R-HSA-381183",
          "R-HSA-381033",
          "R-HSA-73780",
          "R-HSA-162588",
          "R-HSA-6793080",
          "R-HSA-417957",
          "R-HSA-418038",
          "R-HSA-9843970",
          "R-HSA-73928",
          "R-HSA-110328",
          "R-HSA-110329",
          "R-HSA-73929",
          "R-HSA-432047",
          "R-HSA-392170",
          "R-HSA-428930",
          "R-HSA-392851",
          "R-HSA-8964315",
          "R-HSA-9931530",
          "R-HSA-113507",
          "R-HSA-390666",
          "R-HSA-427359",
          "R-HSA-1462054",
          "R-HSA-83936",
          "R-HSA-167172",
          "R-HSA-162599",
          "R-HSA-162587",
          "R-HSA-162906",
          "R-HSA-9824446",
          "R-HSA-5663205",
          "R-HSA-1643685",
          "R-HSA-1483255",
          "R-HSA-1483257",
          "R-HSA-556833",
          "R-HSA-1430728",
          "R-HSA-917937",
          "R-HSA-382551",
          "R-HSA-112315",
          "R-HSA-112316",
          "R-HSA-196849",
          "R-HSA-196854",
          "R-HSA-199991",
          "R-HSA-5653656",
          "R-HSA-75955",
          "R-HSA-1181150",
          "R-HSA-392518",
          "R-HSA-76002",
          "R-HSA-109582",
          "R-HSA-9748784",
          "R-HSA-611105",
          "R-HSA-1428517",
          "R-HSA-1834941",
          "R-HSA-1834949",
          "R-HSA-168249",
          "R-HSA-69275",
          "R-HSA-453274",
          "R-HSA-69278",
          "R-HSA-1640170",
          "R-HSA-71387",
          "R-HSA-2682334",
          "R-HSA-422475",
          "R-HSA-9675108",
          "R-HSA-375280",
          "R-HSA-373076",
          "R-HSA-500792",
          "R-HSA-372790",
          "R-HSA-2995410",
          "R-HSA-68882",
          "R-HSA-2555396",
          "R-HSA-68886",
          "R-HSA-69206",
          "R-HSA-453279",
          "R-HSA-1538133",
          "R-HSA-68867",
          "R-HSA-69002",
          "R-HSA-69306",
          "R-HSA-9658195",
          "R-HSA-9824443",
          "R-HSA-1187000",
          "R-HSA-1474165",
          "R-HSA-72766",
          "R-HSA-392499",
          "R-HSA-165159",
          "R-HSA-391251",
          "R-HSA-422356",
          "R-HSA-163685",
          "R-HSA-451326",
          "R-HSA-112314",
          "R-HSA-397795",
          "R-HSA-388396",
          "R-HSA-2142845",
          "R-HSA-1630316",
          "R-HSA-3560782",
          "R-HSA-3781865",
          "R-HSA-5668914",
          "R-HSA-72312",
          "R-HSA-8953854",
          "R-HSA-73864",
          "R-HSA-429914",
          "R-HSA-438064",
          "R-HSA-442755",
          "R-HSA-74158",
          "R-HSA-166058",
          "R-HSA-168188",
          "R-HSA-181438",
          "R-HSA-168898",
          "R-HSA-975871",
          "R-HSA-168176",
          "R-HSA-975138",
          "R-HSA-975155",
          "R-HSA-168181",
          "R-HSA-446203",
          "R-HSA-597592",
          "R-HSA-6781827",
          "R-HSA-5696398",
          "R-HSA-73894",
          "R-HSA-1483206",
          "R-HSA-75105",
          "R-HSA-8978868",
          "R-HSA-9609507",
          "R-HSA-1227990",
          "R-HSA-5663202",
          "R-HSA-5173105",
          "R-HSA-5654738",
          "R-HSA-190236",
          "R-HSA-9006934",
          "R-HSA-72172",
          "R-HSA-72203",
          "R-HSA-157579",
          "R-HSA-73886",
          "R-HSA-112310",
          "R-HSA-9816359",
          "R-HSA-381119",
          "R-HSA-2262752",
          "R-HSA-8953897",
          "R-HSA-9842860",
          "R-HSA-212165",
          "R-HSA-73884",
          "R-HSA-445717",
          "R-HSA-418346",
          "R-HSA-9909396",
          "R-HSA-5250941",
          "R-HSA-1461973",
          "R-HSA-6803157",
          "R-HSA-425397",
          "R-HSA-425407",
          "ROOT"
         ],
         "labels": [
          "Signal<br>Transduction",
          "Generic<br>Transcription Pathway",
          "RNA<br>Polymerase II<br>Transcription",
          "Gene<br>expression<br>(Transcription)",
          "Cytokine<br>Signaling in<br>Immune system",
          "Immune<br>System",
          "Developmental<br>Biology",
          "Formation of HIV<br>elongation complex in the absence of<br>HIV Tat",
          "Tat-mediated elongation<br>of the HIV-1 transcript<br>",
          "HIV<br>Transcription Elongation",
          "Formation of<br>HIV-1 elongation complex containing<br>HIV-1 Tat",
          "Synthesis of<br>PIPs at the Golgi<br>membrane",
          "Transferrin<br>endocytosis and<br>recycling",
          "Presynaptic depolarization<br>and calcium channel opening<br>",
          "Vitamin<br>B5 (pantothenate)<br>metabolism",
          "Endosomal Sorting<br>Complex Required For Transport<br>(ESCRT)",
          "Formation of<br>the Early Elongation Complex<br>",
          "Formation of<br>the HIV-1 Early Elongation<br>Complex",
          "Regulation<br>of signaling<br>by NODAL",
          "ADP signalling<br>through P2Y purinoceptor 1<br>",
          "Atorvastatin ADME",
          "Mitochondrial<br>calcium ion<br>transport",
          "Complex I biogenesis",
          "IRF3-mediated induction<br>of type I IFN<br>",
          "Cyclin A/B1/B2<br>associated events during G2/M<br>transition",
          "Glycogen metabolism",
          "Prednisone ADME",
          "Ephrin signaling",
          "Adrenoceptors",
          "Postmitotic nuclear<br>pore complex (NPC) reformation<br>",
          "E2F mediated<br>regulation of DNA replication<br>",
          "Transcription of E2F targets under<br>negative control by p107 (RBL1) and p130 (RBL2) in complex<br>with HDAC1",
          "Assembly of the<br>ORC complex at the origin of<br>replication",
          "Killing mechanisms",
          "WNT5:FZD7-mediated<br>leishmania damping<br>",
          "Interaction With<br>Cumulus Cells And The<br>Zona Pellucida",
          "tRNA Aminoacylation",
          "mTORC1-mediated<br>signalling",
          "Post-chaperonin<br>tubulin folding<br>pathway",
          "Fatty Acids bound<br>to GPR40 (FFAR1) regulate insulin secretion<br>",
          "Presynaptic<br>function of<br>Kainate receptors",
          "G beta:gamma<br>signalling through PLC beta<br>",
          "Free fatty<br>acids regulate insulin secretion<br>",
          "Acetylcholine<br>regulates insulin<br>secretion",
          "Hyaluronan<br>degradation",
          "Defective<br>B4GALT1 causes<br>B4GALT1-CDG (CDG-2d)",
          "rRNA<br>processing in<br>the mitochondrion",
          "RNA<br>Polymerase I<br>Transcription Termination",
          "Deadenylation<br>of mRNA",
          "CREB1 phosphorylation<br>through the activation of<br>Adenylate Cyclase",
          "Defective ST3GAL3<br>causes MCT12 and EIEE15<br>",
          "RNA<br>Polymerase III<br>Transcription Initiation",
          "RNA Polymerase III<br>Transcription Initiation From Type 3 Promoter<br>",
          "IRAK1 recruits<br>IKK complex",
          "IRAK1 recruits<br>IKK complex",
          "IRAK1 recruits IKK<br>complex upon TLR7/8 or 9 stimulation<br>",
          "N-glycan trimming<br>in the ER and<br>Calnexin/Calreticulin cycle",
          "Activation<br>of Ca-permeable<br>Kainate Receptor",
          "Ionotropic<br>activity of<br>kainate receptors",
          "LGI-ADAM<br>interactions",
          "Formation<br>of TC-NER<br>Pre-Incision Complex",
          "RNA Polymerase III<br>Transcription Initiation From Type 1 Promoter<br>",
          "RNA Polymerase III<br>Transcription Initiation From Type 2 Promoter<br>",
          "Acyl chain<br>remodelling of PS",
          "Acyl chain<br>remodelling of PG",
          "Synthesis of<br>very long-chain fatty acyl-CoAs<br>",
          "Insertion of tail-anchored<br>proteins into the endoplasmic reticulum membrane<br>",
          "Constitutive<br>Signaling by<br>Overexpressed ERBB2",
          "Calnexin/calreticulin<br>cycle",
          "Matriglycan<br>biosynthesis on<br>DAG1",
          "DAG1 glycosylations",
          "RNA Pol II CTD<br>phosphorylation and interaction with CE during HIV infection<br>",
          "RNA Pol II<br>CTD phosphorylation and interaction with CE<br>",
          "mRNA Capping",
          "RNA Polymerase<br>II Transcription Pre-Initiation And<br>Promoter Opening",
          "HIV<br>Transcription Initiation",
          "RNA Polymerase<br>II Transcription Initiation And<br>Promoter Clearance",
          "RNA<br>Polymerase II<br>Transcription Initiation",
          "RNA Polymerase<br>II HIV Promoter Escape<br>",
          "RNA<br>Polymerase II<br>Promoter Escape",
          "FGFR2<br>alternative splicing",
          "mRNA Splicing<br>- Minor Pathway",
          "Inhibition of<br>DNA recombination at telomere<br>",
          "GABA synthesis,<br>release, reuptake and degradation<br>",
          "ER<br>Quality Control<br>Compartment (ERQC)",
          "Replacement of protamines<br>by nucleosomes in the male pronucleus<br>",
          "ATF6<br>(ATF6-alpha) activates<br>chaperone genes",
          "ATF6<br>(ATF6-alpha) activates<br>chaperones",
          "RNA<br>Polymerase III<br>Chain Elongation",
          "Budding and<br>maturation of HIV virion<br>",
          "rRNA<br>modification in<br>the mitochondrion",
          "P2Y receptors",
          "Nucleotide-like<br>(purinergic) receptors<br>",
          "Regulation of endogenous<br>retroelements by the Human Silencing Hub<br>(HUSH) complex",
          "Depyrimidination",
          "Recognition and association of<br>DNA glycosylase with site containing an affected pyrimidine<br>",
          "Cleavage<br>of the<br>damaged pyrimidine",
          "Base-Excision<br>Repair, AP<br>Site Formation",
          "Passive<br>transport by<br>Aquaporins",
          "ADP signalling<br>through P2Y purinoceptor 12<br>",
          "Thromboxane<br>signalling through<br>TP receptor",
          "Prostacyclin<br>signalling through<br>prostacyclin receptor",
          "G<br>beta:gamma signalling<br>through BTK",
          "Phosphorylation and<br>nuclear translocation of the<br>CRY:PER:kinase complex",
          "E2F-enabled inhibition<br>of pre-replication complex formation<br>",
          "Serotonin receptors",
          "SIRT1<br>negatively regulates<br>rRNA expression",
          "Alpha-defensins",
          "Transport of nucleosides and<br>free purine and pyrimidine bases across the plasma<br>membrane",
          "Transcription<br>of the<br>HIV genome",
          "Late Phase of<br>HIV Life Cycle",
          "HIV Life Cycle",
          "HIV Infection",
          "Viral<br>Infection Pathways",
          "Infectious disease",
          "Disease",
          "PI Metabolism",
          "Phospholipid<br>metabolism",
          "Metabolism of lipids",
          "Metabolism",
          "Iron uptake<br>and transport",
          "Transport<br>of<br>small molecules",
          "Transmission<br>across Chemical<br>Synapses",
          "Neuronal<br>System",
          "Metabolism of<br>water-soluble vitamins and cofactors<br>",
          "Metabolism<br>of vitamins<br>and cofactors",
          "Membrane Trafficking",
          "Vesicle-mediated<br>transport",
          "RNA<br>Polymerase II<br>Transcription Elongation",
          "Signaling by NODAL",
          "Signal amplification",
          "Platelet<br>activation, signaling<br>and aggregation",
          "Hemostasis",
          "Drug ADME",
          "Respiratory<br>electron transport",
          "Aerobic respiration<br>and respiratory electron transport<br>",
          "STING mediated<br>induction of host immune<br>responses",
          "Cytosolic<br>sensors of<br>pathogen-associated DNA",
          "Innate Immune System",
          "G2/M Transition",
          "Mitotic<br>G2-G2/M phases",
          "Cell Cycle, Mitotic",
          "Cell Cycle",
          "Metabolism of<br>carbohydrates and carbohydrate derivatives<br>",
          "EPH-Ephrin signaling",
          "Axon guidance",
          "Nervous<br>system development",
          "Amine<br>ligand-binding receptors",
          "Class<br>A/1 (Rhodopsin-like<br>receptors)",
          "GPCR ligand binding",
          "Signaling by GPCR",
          "Nuclear<br>Envelope (NE)<br>Reassembly",
          "Mitotic Anaphase",
          "Mitotic Metaphase<br>and Anaphase",
          "M Phase",
          "G1/S Transition",
          "Mitotic G1<br>phase and G1/S transition<br>",
          "G0 and Early G1",
          "Assembly<br>of the<br>pre-replicative complex",
          "DNA<br>Replication Pre-Initiation",
          "DNA<br>Replication",
          "Leishmania infection",
          "Parasitic<br>Infection Pathways",
          "Fertilization",
          "Reproduction",
          "Translation",
          "Metabolism<br>of<br>proteins",
          "MTOR signalling",
          "Protein folding",
          "Regulation<br>of insulin<br>secretion",
          "Integration<br>of energy<br>metabolism",
          "Activation of<br>kainate receptors upon glutamate<br>binding",
          "Neurotransmitter receptors<br>and postsynaptic signal transmission<br>",
          "G-protein<br>beta:gamma signalling<br>",
          "GPCR<br>downstream signalling",
          "Hyaluronan<br>metabolism",
          "Glycosaminoglycan<br>metabolism",
          "Diseases<br>associated with<br>glycosaminoglycan metabolism",
          "Diseases<br>of glycosylation",
          "Diseases<br>of metabolism",
          "rRNA processing",
          "Metabolism<br>of<br>RNA",
          "RNA Polymerase<br>I Transcription",
          "Deadenylation-dependent<br>mRNA decay<br>",
          "Post<br>NMDA receptor<br>activation events",
          "Activation of<br>NMDA receptors and postsynaptic<br>events",
          "RNA<br>Polymerase III<br>Transcription",
          "MyD88:MAL(TIRAP) cascade<br>initiated on plasma membrane<br>",
          "Toll<br>Like Receptor<br>TLR6:TLR2 Cascade",
          "Toll Like<br>Receptor 2 (TLR2) Cascade<br>",
          "Toll-like<br>Receptor Cascades",
          "MyD88 cascade<br>initiated on plasma membrane<br>",
          "Toll Like<br>Receptor 5 (TLR5) Cascade<br>",
          "TRAF6 mediated induction of<br>NFkB and MAP kinases upon TLR7/8 or 9<br>activation",
          "MyD88 dependent<br>cascade initiated on endosome<br>",
          "Toll Like<br>Receptor 7/8 (TLR7/8) Cascade<br>",
          "Asparagine<br>N-linked glycosylation<br>",
          "Post-translational<br>protein modification<br>",
          "Transcription-Coupled<br>Nucleotide Excision<br>Repair (TC-NER)",
          "Nucleotide<br>Excision Repair",
          "DNA Repair",
          "Glycerophospholipid biosynthesis",
          "Fatty<br>acyl-CoA biosynthesis",
          "Fatty<br>acid metabolism",
          "Protein<br>localization",
          "Signaling by<br>ERBB2 in Cancer",
          "Diseases of signal<br>transduction by growth factor receptors and<br>second messengers",
          "O-linked<br>glycosylation",
          "Signaling by FGFR2",
          "Signaling by FGFR",
          "Signaling<br>by Receptor<br>Tyrosine Kinases",
          "mRNA Splicing",
          "Processing<br>of Capped<br>Intron-Containing Pre-mRNA",
          "Telomere Maintenance",
          "Chromosome<br>Maintenance",
          "Neurotransmitter<br>release cycle",
          "Maternal<br>to zygotic<br>transition (MZT)",
          "Unfolded<br>Protein Response<br>(UPR)",
          "Cellular responses<br>to stress",
          "Cellular<br>responses<br>to stimuli",
          "Regulation<br>of endogenous<br>retroelements",
          "Epigenetic<br>regulation of<br>gene expression",
          "Base Excision Repair",
          "Aquaporin-mediated<br>transport",
          "Platelet homeostasis",
          "Circadian<br>clock",
          "Negative epigenetic<br>regulation of rRNA expression<br>",
          "Defensins",
          "Antimicrobial<br>peptides",
          "Transport of<br>vitamins, nucleosides, and related<br>molecules",
          "SLC-mediated<br>transmembrane transport<br>",
          " "
         ],
         "marker": {
          "coloraxis": "coloraxis",
          "colors": {
           "bdata": "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",
           "dtype": "f8"
          }
         },
         "name": "",
         "parents": [
          "ROOT",
          "R-HSA-73857",
          "R-HSA-74160",
          "ROOT",
          "R-HSA-168256",
          "ROOT",
          "ROOT",
          "R-HSA-167172",
          "R-HSA-167169",
          "R-HSA-167172",
          "R-HSA-167246",
          "R-HSA-1483255",
          "R-HSA-917937",
          "R-HSA-112315",
          "R-HSA-196849",
          "R-HSA-199991",
          "R-HSA-75955",
          "R-HSA-167169",
          "R-HSA-1181150",
          "R-HSA-392518",
          "R-HSA-9748784",
          "R-HSA-382551",
          "R-HSA-611105",
          "R-HSA-1834941",
          "R-HSA-69275",
          "R-HSA-71387",
          "R-HSA-9748784",
          "R-HSA-2682334",
          "R-HSA-375280",
          "R-HSA-2995410",
          "R-HSA-69206",
          "R-HSA-1538133",
          "R-HSA-68867",
          "R-HSA-9658195",
          "R-HSA-9664420",
          "R-HSA-1187000",
          "R-HSA-72766",
          "R-HSA-165159",
          "R-HSA-391251",
          "R-HSA-400451",
          "R-HSA-451326",
          "R-HSA-397795",
          "R-HSA-422356",
          "R-HSA-422356",
          "R-HSA-2142845",
          "R-HSA-3560782",
          "R-HSA-72312",
          "R-HSA-73864",
          "R-HSA-429914",
          "R-HSA-438064",
          "R-HSA-3560782",
          "R-HSA-74158",
          "R-HSA-76046",
          "R-HSA-166058",
          "R-HSA-975871",
          "R-HSA-975138",
          "R-HSA-446203",
          "R-HSA-451306",
          "R-HSA-451326",
          "R-HSA-1266738",
          "R-HSA-6781827",
          "R-HSA-76046",
          "R-HSA-76046",
          "R-HSA-1483206",
          "R-HSA-1483206",
          "R-HSA-75105",
          "R-HSA-9609507",
          "R-HSA-1227990",
          "R-HSA-532668",
          "R-HSA-8931838",
          "R-HSA-5173105",
          "R-HSA-167172",
          "R-HSA-73857",
          "R-HSA-8953854",
          "R-HSA-73857",
          "R-HSA-167172",
          "R-HSA-73857",
          "R-HSA-76042",
          "R-HSA-167172",
          "R-HSA-76042",
          "R-HSA-5654738",
          "R-HSA-72172",
          "R-HSA-157579",
          "R-HSA-112310",
          "R-HSA-901042",
          "R-HSA-9816359",
          "R-HSA-381033",
          "R-HSA-381119",
          "R-HSA-74158",
          "R-HSA-162599",
          "R-HSA-8868766",
          "R-HSA-418038",
          "R-HSA-373076",
          "R-HSA-9842860",
          "R-HSA-73929",
          "R-HSA-73928",
          "R-HSA-73928",
          "R-HSA-73884",
          "R-HSA-445717",
          "R-HSA-392518",
          "R-HSA-392518",
          "R-HSA-418346",
          "R-HSA-397795",
          "R-HSA-9909396",
          "R-HSA-113510",
          "R-HSA-375280",
          "R-HSA-5250941",
          "R-HSA-1461973",
          "R-HSA-425397",
          "R-HSA-162599",
          "R-HSA-162587",
          "R-HSA-162906",
          "R-HSA-9824446",
          "R-HSA-5663205",
          "R-HSA-1643685",
          "ROOT",
          "R-HSA-1483257",
          "R-HSA-556833",
          "R-HSA-1430728",
          "ROOT",
          "R-HSA-382551",
          "ROOT",
          "R-HSA-112316",
          "ROOT",
          "R-HSA-196854",
          "R-HSA-1430728",
          "R-HSA-5653656",
          "ROOT",
          "R-HSA-73857",
          "R-HSA-1266738",
          "R-HSA-76002",
          "R-HSA-109582",
          "ROOT",
          "ROOT",
          "R-HSA-1428517",
          "R-HSA-1430728",
          "R-HSA-1834949",
          "R-HSA-168249",
          "R-HSA-168256",
          "R-HSA-453274",
          "R-HSA-69278",
          "R-HSA-1640170",
          "ROOT",
          "R-HSA-1430728",
          "R-HSA-422475",
          "R-HSA-9675108",
          "R-HSA-1266738",
          "R-HSA-373076",
          "R-HSA-500792",
          "R-HSA-372790",
          "R-HSA-162582",
          "R-HSA-68882",
          "R-HSA-2555396",
          "R-HSA-68886",
          "R-HSA-69278",
          "R-HSA-453279",
          "R-HSA-69278",
          "R-HSA-453279",
          "R-HSA-69002",
          "R-HSA-69306",
          "ROOT",
          "R-HSA-9824443",
          "R-HSA-5663205",
          "R-HSA-1474165",
          "ROOT",
          "R-HSA-392499",
          "ROOT",
          "R-HSA-162582",
          "R-HSA-392499",
          "R-HSA-163685",
          "R-HSA-1430728",
          "R-HSA-112314",
          "R-HSA-112315",
          "R-HSA-388396",
          "R-HSA-372790",
          "R-HSA-1630316",
          "R-HSA-71387",
          "R-HSA-3781865",
          "R-HSA-5668914",
          "R-HSA-1643685",
          "R-HSA-8953854",
          "ROOT",
          "R-HSA-74160",
          "R-HSA-8953854",
          "R-HSA-442755",
          "R-HSA-112314",
          "R-HSA-74160",
          "R-HSA-168188",
          "R-HSA-181438",
          "R-HSA-168898",
          "R-HSA-168249",
          "R-HSA-168176",
          "R-HSA-168898",
          "R-HSA-975155",
          "R-HSA-168181",
          "R-HSA-168898",
          "R-HSA-597592",
          "R-HSA-392499",
          "R-HSA-5696398",
          "R-HSA-73894",
          "ROOT",
          "R-HSA-1483257",
          "R-HSA-8978868",
          "R-HSA-556833",
          "ROOT",
          "R-HSA-5663202",
          "R-HSA-1643685",
          "R-HSA-597592",
          "R-HSA-190236",
          "R-HSA-9006934",
          "R-HSA-162582",
          "R-HSA-72203",
          "R-HSA-8953854",
          "R-HSA-73886",
          "R-HSA-1640170",
          "R-HSA-112315",
          "R-HSA-1266738",
          "R-HSA-2262752",
          "R-HSA-8953897",
          "ROOT",
          "R-HSA-212165",
          "R-HSA-74160",
          "R-HSA-73894",
          "R-HSA-382551",
          "R-HSA-109582",
          "ROOT",
          "R-HSA-212165",
          "R-HSA-6803157",
          "R-HSA-168249",
          "R-HSA-425407",
          "R-HSA-382551",
          ""
         ],
         "textfont": {
          "color": [
           "white",
           "white",
           "white",
           "white",
           "white",
           "white",
           "white",
           "white",
           "white",
           "white",
           "white",
           "white",
           "white",
           "white",
           "white",
           "white",
           "white",
           "white",
           "white",
           "white",
           "white",
           "white",
           "white",
           "white",
           "white",
           "white",
           "white",
           "white",
           "white",
           "white",
           "white",
           "white",
           "white",
           "white",
           "white",
           "white",
           "white",
           "white",
           "white",
           "white",
           "white",
           "white",
           "white",
           "white",
           "white",
           "white",
           "white",
           "white",
           "white",
           "white",
           "white",
           "white",
           "white",
           "white",
           "white",
           "white",
           "white",
           "white",
           "white",
           "white",
           "white",
           "white",
           "white",
           "white",
           "white",
           "white",
           "white",
           "white",
           "white",
           "white",
           "white",
           "white",
           "white",
           "white",
           "white",
           "white",
           "white",
           "white",
           "white",
           "white",
           "white",
           "white",
           "white",
           "white",
           "white",
           "white",
           "white",
           "white",
           "white",
           "white",
           "white",
           "white",
           "white",
           "white",
           "white",
           "white",
           "white",
           "white",
           "white",
           "white",
           "white",
           "white",
           "white",
           "white",
           "white",
           "white",
           "white",
           "white",
           "white",
           "#A9A9A9",
           "#A9A9A9",
           "#A9A9A9",
           "#A9A9A9",
           "#A9A9A9",
           "#A9A9A9",
           "#A9A9A9",
           "#A9A9A9",
           "#A9A9A9",
           "#A9A9A9",
           "#A9A9A9",
           "#A9A9A9",
           "#A9A9A9",
           "#A9A9A9",
           "#A9A9A9",
           "#A9A9A9",
           "#A9A9A9",
           "#A9A9A9",
           "#A9A9A9",
           "#A9A9A9",
           "#A9A9A9",
           "#A9A9A9",
           "#A9A9A9",
           "#A9A9A9",
           "#A9A9A9",
           "#A9A9A9",
           "#A9A9A9",
           "#A9A9A9",
           "#A9A9A9",
           "#A9A9A9",
           "#A9A9A9",
           "#A9A9A9",
           "#A9A9A9",
           "#A9A9A9",
           "#A9A9A9",
           "#A9A9A9",
           "#A9A9A9",
           "#A9A9A9",
           "#A9A9A9",
           "#A9A9A9",
           "#A9A9A9",
           "#A9A9A9",
           "#A9A9A9",
           "#A9A9A9",
           "#A9A9A9",
           "#A9A9A9",
           "#A9A9A9",
           "#A9A9A9",
           "#A9A9A9",
           "#A9A9A9",
           "#A9A9A9",
           "#A9A9A9",
           "#A9A9A9",
           "#A9A9A9",
           "#A9A9A9",
           "#A9A9A9",
           "#A9A9A9",
           "#A9A9A9",
           "#A9A9A9",
           "#A9A9A9",
           "#A9A9A9",
           "#A9A9A9",
           "#A9A9A9",
           "#A9A9A9",
           "#A9A9A9",
           "#A9A9A9",
           "#A9A9A9",
           "#A9A9A9",
           "#A9A9A9",
           "#A9A9A9",
           "#A9A9A9",
           "#A9A9A9",
           "#A9A9A9",
           "#A9A9A9",
           "#A9A9A9",
           "#A9A9A9",
           "#A9A9A9",
           "#A9A9A9",
           "#A9A9A9",
           "#A9A9A9",
           "#A9A9A9",
           "#A9A9A9",
           "#A9A9A9",
           "#A9A9A9",
           "#A9A9A9",
           "#A9A9A9",
           "#A9A9A9",
           "#A9A9A9",
           "#A9A9A9",
           "#A9A9A9",
           "#A9A9A9",
           "#A9A9A9",
           "#A9A9A9",
           "#A9A9A9",
           "#A9A9A9",
           "#A9A9A9",
           "#A9A9A9",
           "#A9A9A9",
           "#A9A9A9",
           "#A9A9A9",
           "#A9A9A9",
           "#A9A9A9",
           "#A9A9A9",
           "#A9A9A9",
           "#A9A9A9",
           "#A9A9A9",
           "#A9A9A9",
           "#A9A9A9",
           "#A9A9A9",
           "#A9A9A9",
           "#A9A9A9",
           "#A9A9A9",
           "#A9A9A9",
           "#A9A9A9",
           "#A9A9A9",
           "#A9A9A9",
           "#A9A9A9",
           "#A9A9A9",
           "#A9A9A9",
           "#A9A9A9",
           "#A9A9A9",
           "#A9A9A9",
           "#2F4F4F"
          ],
          "family": "Arial",
          "size": 14
         },
         "textinfo": "label",
         "texttemplate": "<b>%{label}</b>",
         "tiling": {
          "orientation": "h"
         },
         "type": "icicle"
        }
       ],
       "layout": {
        "coloraxis": {
         "cmid": 0,
         "colorbar": {
          "len": 0.6,
          "thickness": 20,
          "tickfont": {
           "size": 14
          },
          "ticks": "outside",
          "tickvals": [
           -5,
           -2.5,
           0,
           2.5,
           5
          ],
          "title": {
           "font": {
            "size": 16
           },
           "text": "NES"
          }
         },
         "colorscale": [
          [
           0,
           "#0571b0"
          ],
          [
           0.25,
           "#92c5de"
          ],
          [
           0.5,
           "#f7f7f7"
          ],
          [
           0.75,
           "#f4a582"
          ],
          [
           1,
           "#ca0020"
          ]
         ]
        },
        "font": {
         "size": 14
        },
        "height": 800,
        "legend": {
         "tracegroupgap": 0
        },
        "margin": {
         "b": 50,
         "l": 50,
         "r": 50,
         "t": 50
        },
        "template": {
         "data": {
          "bar": [
           {
            "error_x": {
             "color": "#2a3f5f"
            },
            "error_y": {
             "color": "#2a3f5f"
            },
            "marker": {
             "line": {
              "color": "#E5ECF6",
              "width": 0.5
             },
             "pattern": {
              "fillmode": "overlay",
              "size": 10,
              "solidity": 0.2
             }
            },
            "type": "bar"
           }
          ],
          "barpolar": [
           {
            "marker": {
             "line": {
              "color": "#E5ECF6",
              "width": 0.5
             },
             "pattern": {
              "fillmode": "overlay",
              "size": 10,
              "solidity": 0.2
             }
            },
            "type": "barpolar"
           }
          ],
          "carpet": [
           {
            "aaxis": {
             "endlinecolor": "#2a3f5f",
             "gridcolor": "white",
             "linecolor": "white",
             "minorgridcolor": "white",
             "startlinecolor": "#2a3f5f"
            },
            "baxis": {
             "endlinecolor": "#2a3f5f",
             "gridcolor": "white",
             "linecolor": "white",
             "minorgridcolor": "white",
             "startlinecolor": "#2a3f5f"
            },
            "type": "carpet"
           }
          ],
          "choropleth": [
           {
            "colorbar": {
             "outlinewidth": 0,
             "ticks": ""
            },
            "type": "choropleth"
           }
          ],
          "contour": [
           {
            "colorbar": {
             "outlinewidth": 0,
             "ticks": ""
            },
            "colorscale": [
             [
              0,
              "#0d0887"
             ],
             [
              0.1111111111111111,
              "#46039f"
             ],
             [
              0.2222222222222222,
              "#7201a8"
             ],
             [
              0.3333333333333333,
              "#9c179e"
             ],
             [
              0.4444444444444444,
              "#bd3786"
             ],
             [
              0.5555555555555556,
              "#d8576b"
             ],
             [
              0.6666666666666666,
              "#ed7953"
             ],
             [
              0.7777777777777778,
              "#fb9f3a"
             ],
             [
              0.8888888888888888,
              "#fdca26"
             ],
             [
              1,
              "#f0f921"
             ]
            ],
            "type": "contour"
           }
          ],
          "contourcarpet": [
           {
            "colorbar": {
             "outlinewidth": 0,
             "ticks": ""
            },
            "type": "contourcarpet"
           }
          ],
          "heatmap": [
           {
            "colorbar": {
             "outlinewidth": 0,
             "ticks": ""
            },
            "colorscale": [
             [
              0,
              "#0d0887"
             ],
             [
              0.1111111111111111,
              "#46039f"
             ],
             [
              0.2222222222222222,
              "#7201a8"
             ],
             [
              0.3333333333333333,
              "#9c179e"
             ],
             [
              0.4444444444444444,
              "#bd3786"
             ],
             [
              0.5555555555555556,
              "#d8576b"
             ],
             [
              0.6666666666666666,
              "#ed7953"
             ],
             [
              0.7777777777777778,
              "#fb9f3a"
             ],
             [
              0.8888888888888888,
              "#fdca26"
             ],
             [
              1,
              "#f0f921"
             ]
            ],
            "type": "heatmap"
           }
          ],
          "histogram": [
           {
            "marker": {
             "pattern": {
              "fillmode": "overlay",
              "size": 10,
              "solidity": 0.2
             }
            },
            "type": "histogram"
           }
          ],
          "histogram2d": [
           {
            "colorbar": {
             "outlinewidth": 0,
             "ticks": ""
            },
            "colorscale": [
             [
              0,
              "#0d0887"
             ],
             [
              0.1111111111111111,
              "#46039f"
             ],
             [
              0.2222222222222222,
              "#7201a8"
             ],
             [
              0.3333333333333333,
              "#9c179e"
             ],
             [
              0.4444444444444444,
              "#bd3786"
             ],
             [
              0.5555555555555556,
              "#d8576b"
             ],
             [
              0.6666666666666666,
              "#ed7953"
             ],
             [
              0.7777777777777778,
              "#fb9f3a"
             ],
             [
              0.8888888888888888,
              "#fdca26"
             ],
             [
              1,
              "#f0f921"
             ]
            ],
            "type": "histogram2d"
           }
          ],
          "histogram2dcontour": [
           {
            "colorbar": {
             "outlinewidth": 0,
             "ticks": ""
            },
            "colorscale": [
             [
              0,
              "#0d0887"
             ],
             [
              0.1111111111111111,
              "#46039f"
             ],
             [
              0.2222222222222222,
              "#7201a8"
             ],
             [
              0.3333333333333333,
              "#9c179e"
             ],
             [
              0.4444444444444444,
              "#bd3786"
             ],
             [
              0.5555555555555556,
              "#d8576b"
             ],
             [
              0.6666666666666666,
              "#ed7953"
             ],
             [
              0.7777777777777778,
              "#fb9f3a"
             ],
             [
              0.8888888888888888,
              "#fdca26"
             ],
             [
              1,
              "#f0f921"
             ]
            ],
            "type": "histogram2dcontour"
           }
          ],
          "mesh3d": [
           {
            "colorbar": {
             "outlinewidth": 0,
             "ticks": ""
            },
            "type": "mesh3d"
           }
          ],
          "parcoords": [
           {
            "line": {
             "colorbar": {
              "outlinewidth": 0,
              "ticks": ""
             }
            },
            "type": "parcoords"
           }
          ],
          "pie": [
           {
            "automargin": true,
            "type": "pie"
           }
          ],
          "scatter": [
           {
            "fillpattern": {
             "fillmode": "overlay",
             "size": 10,
             "solidity": 0.2
            },
            "type": "scatter"
           }
          ],
          "scatter3d": [
           {
            "line": {
             "colorbar": {
              "outlinewidth": 0,
              "ticks": ""
             }
            },
            "marker": {
             "colorbar": {
              "outlinewidth": 0,
              "ticks": ""
             }
            },
            "type": "scatter3d"
           }
          ],
          "scattercarpet": [
           {
            "marker": {
             "colorbar": {
              "outlinewidth": 0,
              "ticks": ""
             }
            },
            "type": "scattercarpet"
           }
          ],
          "scattergeo": [
           {
            "marker": {
             "colorbar": {
              "outlinewidth": 0,
              "ticks": ""
             }
            },
            "type": "scattergeo"
           }
          ],
          "scattergl": [
           {
            "marker": {
             "colorbar": {
              "outlinewidth": 0,
              "ticks": ""
             }
            },
            "type": "scattergl"
           }
          ],
          "scattermap": [
           {
            "marker": {
             "colorbar": {
              "outlinewidth": 0,
              "ticks": ""
             }
            },
            "type": "scattermap"
           }
          ],
          "scattermapbox": [
           {
            "marker": {
             "colorbar": {
              "outlinewidth": 0,
              "ticks": ""
             }
            },
            "type": "scattermapbox"
           }
          ],
          "scatterpolar": [
           {
            "marker": {
             "colorbar": {
              "outlinewidth": 0,
              "ticks": ""
             }
            },
            "type": "scatterpolar"
           }
          ],
          "scatterpolargl": [
           {
            "marker": {
             "colorbar": {
              "outlinewidth": 0,
              "ticks": ""
             }
            },
            "type": "scatterpolargl"
           }
          ],
          "scatterternary": [
           {
            "marker": {
             "colorbar": {
              "outlinewidth": 0,
              "ticks": ""
             }
            },
            "type": "scatterternary"
           }
          ],
          "surface": [
           {
            "colorbar": {
             "outlinewidth": 0,
             "ticks": ""
            },
            "colorscale": [
             [
              0,
              "#0d0887"
             ],
             [
              0.1111111111111111,
              "#46039f"
             ],
             [
              0.2222222222222222,
              "#7201a8"
             ],
             [
              0.3333333333333333,
              "#9c179e"
             ],
             [
              0.4444444444444444,
              "#bd3786"
             ],
             [
              0.5555555555555556,
              "#d8576b"
             ],
             [
              0.6666666666666666,
              "#ed7953"
             ],
             [
              0.7777777777777778,
              "#fb9f3a"
             ],
             [
              0.8888888888888888,
              "#fdca26"
             ],
             [
              1,
              "#f0f921"
             ]
            ],
            "type": "surface"
           }
          ],
          "table": [
           {
            "cells": {
             "fill": {
              "color": "#EBF0F8"
             },
             "line": {
              "color": "white"
             }
            },
            "header": {
             "fill": {
              "color": "#C8D4E3"
             },
             "line": {
              "color": "white"
             }
            },
            "type": "table"
           }
          ]
         },
         "layout": {
          "annotationdefaults": {
           "arrowcolor": "#2a3f5f",
           "arrowhead": 0,
           "arrowwidth": 1
          },
          "autotypenumbers": "strict",
          "coloraxis": {
           "colorbar": {
            "outlinewidth": 0,
            "ticks": ""
           }
          },
          "colorscale": {
           "diverging": [
            [
             0,
             "#8e0152"
            ],
            [
             0.1,
             "#c51b7d"
            ],
            [
             0.2,
             "#de77ae"
            ],
            [
             0.3,
             "#f1b6da"
            ],
            [
             0.4,
             "#fde0ef"
            ],
            [
             0.5,
             "#f7f7f7"
            ],
            [
             0.6,
             "#e6f5d0"
            ],
            [
             0.7,
             "#b8e186"
            ],
            [
             0.8,
             "#7fbc41"
            ],
            [
             0.9,
             "#4d9221"
            ],
            [
             1,
             "#276419"
            ]
           ],
           "sequential": [
            [
             0,
             "#0d0887"
            ],
            [
             0.1111111111111111,
             "#46039f"
            ],
            [
             0.2222222222222222,
             "#7201a8"
            ],
            [
             0.3333333333333333,
             "#9c179e"
            ],
            [
             0.4444444444444444,
             "#bd3786"
            ],
            [
             0.5555555555555556,
             "#d8576b"
            ],
            [
             0.6666666666666666,
             "#ed7953"
            ],
            [
             0.7777777777777778,
             "#fb9f3a"
            ],
            [
             0.8888888888888888,
             "#fdca26"
            ],
            [
             1,
             "#f0f921"
            ]
           ],
           "sequentialminus": [
            [
             0,
             "#0d0887"
            ],
            [
             0.1111111111111111,
             "#46039f"
            ],
            [
             0.2222222222222222,
             "#7201a8"
            ],
            [
             0.3333333333333333,
             "#9c179e"
            ],
            [
             0.4444444444444444,
             "#bd3786"
            ],
            [
             0.5555555555555556,
             "#d8576b"
            ],
            [
             0.6666666666666666,
             "#ed7953"
            ],
            [
             0.7777777777777778,
             "#fb9f3a"
            ],
            [
             0.8888888888888888,
             "#fdca26"
            ],
            [
             1,
             "#f0f921"
            ]
           ]
          },
          "colorway": [
           "#636efa",
           "#EF553B",
           "#00cc96",
           "#ab63fa",
           "#FFA15A",
           "#19d3f3",
           "#FF6692",
           "#B6E880",
           "#FF97FF",
           "#FECB52"
          ],
          "font": {
           "color": "#2a3f5f"
          },
          "geo": {
           "bgcolor": "white",
           "lakecolor": "white",
           "landcolor": "#E5ECF6",
           "showlakes": true,
           "showland": true,
           "subunitcolor": "white"
          },
          "hoverlabel": {
           "align": "left"
          },
          "hovermode": "closest",
          "mapbox": {
           "style": "light"
          },
          "paper_bgcolor": "white",
          "plot_bgcolor": "#E5ECF6",
          "polar": {
           "angularaxis": {
            "gridcolor": "white",
            "linecolor": "white",
            "ticks": ""
           },
           "bgcolor": "#E5ECF6",
           "radialaxis": {
            "gridcolor": "white",
            "linecolor": "white",
            "ticks": ""
           }
          },
          "scene": {
           "xaxis": {
            "backgroundcolor": "#E5ECF6",
            "gridcolor": "white",
            "gridwidth": 2,
            "linecolor": "white",
            "showbackground": true,
            "ticks": "",
            "zerolinecolor": "white"
           },
           "yaxis": {
            "backgroundcolor": "#E5ECF6",
            "gridcolor": "white",
            "gridwidth": 2,
            "linecolor": "white",
            "showbackground": true,
            "ticks": "",
            "zerolinecolor": "white"
           },
           "zaxis": {
            "backgroundcolor": "#E5ECF6",
            "gridcolor": "white",
            "gridwidth": 2,
            "linecolor": "white",
            "showbackground": true,
            "ticks": "",
            "zerolinecolor": "white"
           }
          },
          "shapedefaults": {
           "line": {
            "color": "#2a3f5f"
           }
          },
          "ternary": {
           "aaxis": {
            "gridcolor": "white",
            "linecolor": "white",
            "ticks": ""
           },
           "baxis": {
            "gridcolor": "white",
            "linecolor": "white",
            "ticks": ""
           },
           "bgcolor": "#E5ECF6",
           "caxis": {
            "gridcolor": "white",
            "linecolor": "white",
            "ticks": ""
           }
          },
          "title": {
           "x": 0.05
          },
          "xaxis": {
           "automargin": true,
           "gridcolor": "white",
           "linecolor": "white",
           "ticks": "",
           "title": {
            "standoff": 15
           },
           "zerolinecolor": "white",
           "zerolinewidth": 2
          },
          "yaxis": {
           "automargin": true,
           "gridcolor": "white",
           "linecolor": "white",
           "ticks": "",
           "title": {
            "standoff": 15
           },
           "zerolinecolor": "white",
           "zerolinewidth": 2
          }
         }
        },
        "width": 1100
       }
      }
     },
     "metadata": {},
     "output_type": "display_data"
    }
   ],
   "source": [
    "fig3 = plot_flame_horizontal(pathway_hieararchy_gsea_001_full, width=1100, height=800)\n",
    "fig3.show()"
   ]
  },
  {
   "cell_type": "code",
   "execution_count": null,
   "id": "470e1c74",
   "metadata": {},
   "outputs": [],
   "source": []
  },
  {
   "cell_type": "code",
   "execution_count": null,
   "id": "842ebea8",
   "metadata": {},
   "outputs": [],
   "source": []
  },
  {
   "cell_type": "code",
   "execution_count": null,
   "id": "ad982760",
   "metadata": {},
   "outputs": [],
   "source": []
  },
  {
   "cell_type": "code",
   "execution_count": null,
   "id": "c7b54bdf",
   "metadata": {},
   "outputs": [],
   "source": []
  },
  {
   "cell_type": "code",
   "execution_count": null,
   "id": "0837a745",
   "metadata": {},
   "outputs": [],
   "source": []
  },
  {
   "cell_type": "code",
   "execution_count": 26,
   "id": "0200ad4c",
   "metadata": {},
   "outputs": [
    {
     "name": "stderr",
     "output_type": "stream",
     "text": [
      "/var/folders/xs/llnz2_gn4fsfwjd4c0prr1w00000gp/T/ipykernel_6097/3047841338.py:4: UserWarning:\n",
      "\n",
      "Using Panel interactively in VSCode notebooks requires the jupyter_bokeh package to be installed. You can install it with:\n",
      "\n",
      "   pip install jupyter_bokeh\n",
      "\n",
      "or:\n",
      "    conda install jupyter_bokeh\n",
      "\n",
      "and try again.\n",
      "\n"
     ]
    },
    {
     "data": {
      "text/html": [
       "<script type=\"esms-options\">{\"shimMode\": true}</script><style>*[data-root-id],\n",
       "*[data-root-id] > * {\n",
       "  box-sizing: border-box;\n",
       "  font-family: var(--jp-ui-font-family);\n",
       "  font-size: var(--jp-ui-font-size1);\n",
       "  color: var(--vscode-editor-foreground, var(--jp-ui-font-color1));\n",
       "}\n",
       "\n",
       "/* Override VSCode background color */\n",
       ".cell-output-ipywidget-background:has(\n",
       "  > .cell-output-ipywidget-background > .lm-Widget > *[data-root-id]\n",
       "),\n",
       ".cell-output-ipywidget-background:has(> .lm-Widget > *[data-root-id]) {\n",
       "  background-color: transparent !important;\n",
       "}\n",
       "</style>"
      ]
     },
     "metadata": {},
     "output_type": "display_data"
    },
    {
     "data": {
      "application/javascript": "(function(root) {\n  function now() {\n    return new Date();\n  }\n\n  const force = true;\n  const py_version = '3.7.3'.replace('rc', '-rc.').replace('.dev', '-dev.');\n  const reloading = false;\n  const Bokeh = root.Bokeh;\n\n  // Set a timeout for this load but only if we are not already initializing\n  if (typeof (root._bokeh_timeout) === \"undefined\" || (force || !root._bokeh_is_initializing)) {\n    root._bokeh_timeout = Date.now() + 5000;\n    root._bokeh_failed_load = false;\n  }\n\n  function run_callbacks() {\n    try {\n      root._bokeh_onload_callbacks.forEach(function(callback) {\n        if (callback != null)\n          callback();\n      });\n    } finally {\n      delete root._bokeh_onload_callbacks;\n    }\n    console.debug(\"Bokeh: all callbacks have finished\");\n  }\n\n  function load_libs(css_urls, js_urls, js_modules, js_exports, callback) {\n    if (css_urls == null) css_urls = [];\n    if (js_urls == null) js_urls = [];\n    if (js_modules == null) js_modules = [];\n    if (js_exports == null) js_exports = {};\n\n    root._bokeh_onload_callbacks.push(callback);\n\n    if (root._bokeh_is_loading > 0) {\n      // Don't load bokeh if it is still initializing\n      console.debug(\"Bokeh: BokehJS is being loaded, scheduling callback at\", now());\n      return null;\n    } else if (js_urls.length === 0 && js_modules.length === 0 && Object.keys(js_exports).length === 0) {\n      // There is nothing to load\n      run_callbacks();\n      return null;\n    }\n\n    function on_load() {\n      root._bokeh_is_loading--;\n      if (root._bokeh_is_loading === 0) {\n        console.debug(\"Bokeh: all BokehJS libraries/stylesheets loaded\");\n        run_callbacks()\n      }\n    }\n    window._bokeh_on_load = on_load\n\n    function on_error(e) {\n      const src_el = e.srcElement\n      console.error(\"failed to load \" + (src_el.href || src_el.src));\n    }\n\n    const skip = [];\n    if (window.requirejs) {\n      window.requirejs.config({'packages': {}, 'paths': {'echarts': 'https://cdn.jsdelivr.net/npm/echarts@5.6.0/dist/echarts.min', 'echarts-gl': 'https://cdn.jsdelivr.net/npm/echarts-gl@2.0.9/dist/echarts-gl.min'}, 'shim': {}});\n      require([\"echarts\"], function() {\n        on_load()\n      })\n      require([\"echarts-gl\"], function() {\n        on_load()\n      })\n      root._bokeh_is_loading = css_urls.length + 2;\n    } else {\n      root._bokeh_is_loading = css_urls.length + js_urls.length + js_modules.length + Object.keys(js_exports).length;\n    }\n\n    const existing_stylesheets = []\n    const links = document.getElementsByTagName('link')\n    for (let i = 0; i < links.length; i++) {\n      const link = links[i]\n      if (link.href != null) {\n        existing_stylesheets.push(link.href)\n      }\n    }\n    for (let i = 0; i < css_urls.length; i++) {\n      const url = css_urls[i];\n      const escaped = encodeURI(url)\n      if (existing_stylesheets.indexOf(escaped) !== -1) {\n        on_load()\n        continue;\n      }\n      const element = document.createElement(\"link\");\n      element.onload = on_load;\n      element.onerror = on_error;\n      element.rel = \"stylesheet\";\n      element.type = \"text/css\";\n      element.href = url;\n      console.debug(\"Bokeh: injecting link tag for BokehJS stylesheet: \", url);\n      document.body.appendChild(element);\n    }    if (((window.echarts !== undefined) && (!(window.echarts instanceof HTMLElement))) || window.requirejs) {\n      var urls = ['https://cdn.holoviz.org/panel/1.7.5/dist/bundled/echarts/echarts@5.6.0/dist/echarts.min.js'];\n      for (var i = 0; i < urls.length; i++) {\n        skip.push(encodeURI(urls[i]))\n      }\n    }    var existing_scripts = []\n    const scripts = document.getElementsByTagName('script')\n    for (let i = 0; i < scripts.length; i++) {\n      var script = scripts[i]\n      if (script.src != null) {\n        existing_scripts.push(script.src)\n      }\n    }\n    for (let i = 0; i < js_urls.length; i++) {\n      const url = js_urls[i];\n      const escaped = encodeURI(url)\n      if (skip.indexOf(escaped) !== -1 || existing_scripts.indexOf(escaped) !== -1) {\n        if (!window.requirejs) {\n          on_load();\n        }\n        continue;\n      }\n      const element = document.createElement('script');\n      element.onload = on_load;\n      element.onerror = on_error;\n      element.async = false;\n      element.src = url;\n      console.debug(\"Bokeh: injecting script tag for BokehJS library: \", url);\n      document.head.appendChild(element);\n    }\n    for (let i = 0; i < js_modules.length; i++) {\n      const url = js_modules[i];\n      const escaped = encodeURI(url)\n      if (skip.indexOf(escaped) !== -1 || existing_scripts.indexOf(escaped) !== -1) {\n        if (!window.requirejs) {\n          on_load();\n        }\n        continue;\n      }\n      var element = document.createElement('script');\n      element.onload = on_load;\n      element.onerror = on_error;\n      element.async = false;\n      element.src = url;\n      element.type = \"module\";\n      console.debug(\"Bokeh: injecting script tag for BokehJS library: \", url);\n      document.head.appendChild(element);\n    }\n    for (const name in js_exports) {\n      const url = js_exports[name];\n      const escaped = encodeURI(url)\n      if (skip.indexOf(escaped) >= 0 || root[name] != null) {\n        if (!window.requirejs) {\n          on_load();\n        }\n        continue;\n      }\n      var element = document.createElement('script');\n      element.onerror = on_error;\n      element.async = false;\n      element.type = \"module\";\n      console.debug(\"Bokeh: injecting script tag for BokehJS library: \", url);\n      element.textContent = `\n      import ${name} from \"${url}\"\n      window.${name} = ${name}\n      window._bokeh_on_load()\n      `\n      document.head.appendChild(element);\n    }\n    if (!js_urls.length && !js_modules.length) {\n      on_load()\n    }\n  };\n\n  function inject_raw_css(css) {\n    const element = document.createElement(\"style\");\n    element.appendChild(document.createTextNode(css));\n    document.body.appendChild(element);\n  }\n\n  const js_urls = [\"https://cdn.holoviz.org/panel/1.7.5/dist/bundled/echarts/echarts@5.6.0/dist/echarts.min.js\", \"https://cdn.holoviz.org/panel/1.7.5/dist/bundled/echarts/echarts-gl@2.0.9/dist/echarts-gl.min.js\", \"https://cdn.holoviz.org/panel/1.7.5/dist/bundled/reactiveesm/es-module-shims@^1.10.0/dist/es-module-shims.min.js\", \"https://cdn.bokeh.org/bokeh/release/bokeh-3.7.3.min.js\", \"https://cdn.bokeh.org/bokeh/release/bokeh-gl-3.7.3.min.js\", \"https://cdn.bokeh.org/bokeh/release/bokeh-widgets-3.7.3.min.js\", \"https://cdn.bokeh.org/bokeh/release/bokeh-tables-3.7.3.min.js\", \"https://cdn.holoviz.org/panel/1.7.5/dist/panel.min.js\"];\n  const js_modules = [];\n  const js_exports = {};\n  const css_urls = [];\n  const inline_js = [    function(Bokeh) {\n      Bokeh.set_log_level(\"info\");\n    },\nfunction(Bokeh) {} // ensure no trailing comma for IE\n  ];\n\n  function run_inline_js() {\n    if ((root.Bokeh !== undefined) || (force === true)) {\n      for (let i = 0; i < inline_js.length; i++) {\n        try {\n          inline_js[i].call(root, root.Bokeh);\n        } catch(e) {\n          if (!reloading) {\n            throw e;\n          }\n        }\n      }\n      // Cache old bokeh versions\n      if (Bokeh != undefined && !reloading) {\n        var NewBokeh = root.Bokeh;\n        if (Bokeh.versions === undefined) {\n          Bokeh.versions = new Map();\n        }\n        if (NewBokeh.version !== Bokeh.version) {\n          Bokeh.versions.set(NewBokeh.version, NewBokeh)\n        }\n        root.Bokeh = Bokeh;\n      }\n    } else if (Date.now() < root._bokeh_timeout) {\n      setTimeout(run_inline_js, 100);\n    } else if (!root._bokeh_failed_load) {\n      console.log(\"Bokeh: BokehJS failed to load within specified timeout.\");\n      root._bokeh_failed_load = true;\n    }\n    root._bokeh_is_initializing = false\n  }\n\n  function load_or_wait() {\n    // Implement a backoff loop that tries to ensure we do not load multiple\n    // versions of Bokeh and its dependencies at the same time.\n    // In recent versions we use the root._bokeh_is_initializing flag\n    // to determine whether there is an ongoing attempt to initialize\n    // bokeh, however for backward compatibility we also try to ensure\n    // that we do not start loading a newer (Panel>=1.0 and Bokeh>3) version\n    // before older versions are fully initialized.\n    if (root._bokeh_is_initializing && Date.now() > root._bokeh_timeout) {\n      // If the timeout and bokeh was not successfully loaded we reset\n      // everything and try loading again\n      root._bokeh_timeout = Date.now() + 5000;\n      root._bokeh_is_initializing = false;\n      root._bokeh_onload_callbacks = undefined;\n      root._bokeh_is_loading = 0\n      console.log(\"Bokeh: BokehJS was loaded multiple times but one version failed to initialize.\");\n      load_or_wait();\n    } else if (root._bokeh_is_initializing || (typeof root._bokeh_is_initializing === \"undefined\" && root._bokeh_onload_callbacks !== undefined)) {\n      setTimeout(load_or_wait, 100);\n    } else {\n      root._bokeh_is_initializing = true\n      root._bokeh_onload_callbacks = []\n      const bokeh_loaded = root.Bokeh != null && (root.Bokeh.version === py_version || (root.Bokeh.versions !== undefined && root.Bokeh.versions.has(py_version)));\n      if (!reloading && !bokeh_loaded) {\n        if (root.Bokeh) {\n          root.Bokeh = undefined;\n        }\n        console.debug(\"Bokeh: BokehJS not loaded, scheduling load and callback at\", now());\n      }\n      load_libs(css_urls, js_urls, js_modules, js_exports, function() {\n        console.debug(\"Bokeh: BokehJS plotting callback run at\", now());\n        run_inline_js();\n      });\n    }\n  }\n  // Give older versions of the autoload script a head-start to ensure\n  // they initialize before we start loading newer version.\n  setTimeout(load_or_wait, 100)\n}(window));",
      "application/vnd.holoviews_load.v0+json": ""
     },
     "metadata": {},
     "output_type": "display_data"
    },
    {
     "data": {
      "application/javascript": "\nif ((window.PyViz === undefined) || (window.PyViz instanceof HTMLElement)) {\n  window.PyViz = {comms: {}, comm_status:{}, kernels:{}, receivers: {}, plot_index: []}\n}\n\n\n    function JupyterCommManager() {\n    }\n\n    JupyterCommManager.prototype.register_target = function(plot_id, comm_id, msg_handler) {\n      if (window.comm_manager || ((window.Jupyter !== undefined) && (Jupyter.notebook.kernel != null))) {\n        var comm_manager = window.comm_manager || Jupyter.notebook.kernel.comm_manager;\n        comm_manager.register_target(comm_id, function(comm) {\n          comm.on_msg(msg_handler);\n        });\n      } else if ((plot_id in window.PyViz.kernels) && (window.PyViz.kernels[plot_id])) {\n        window.PyViz.kernels[plot_id].registerCommTarget(comm_id, function(comm) {\n          comm.onMsg = msg_handler;\n        });\n      } else if (typeof google != 'undefined' && google.colab.kernel != null) {\n        google.colab.kernel.comms.registerTarget(comm_id, (comm) => {\n          var messages = comm.messages[Symbol.asyncIterator]();\n          function processIteratorResult(result) {\n            var message = result.value;\n            var content = {data: message.data, comm_id};\n            var buffers = []\n            for (var buffer of message.buffers || []) {\n              buffers.push(new DataView(buffer))\n            }\n            var metadata = message.metadata || {};\n            var msg = {content, buffers, metadata}\n            msg_handler(msg);\n            return messages.next().then(processIteratorResult);\n          }\n          return messages.next().then(processIteratorResult);\n        })\n      }\n    }\n\n    JupyterCommManager.prototype.get_client_comm = function(plot_id, comm_id, msg_handler) {\n      if (comm_id in window.PyViz.comms) {\n        return window.PyViz.comms[comm_id];\n      } else if (window.comm_manager || ((window.Jupyter !== undefined) && (Jupyter.notebook.kernel != null))) {\n        var comm_manager = window.comm_manager || Jupyter.notebook.kernel.comm_manager;\n        var comm = comm_manager.new_comm(comm_id, {}, {}, {}, comm_id);\n        if (msg_handler) {\n          comm.on_msg(msg_handler);\n        }\n      } else if ((plot_id in window.PyViz.kernels) && (window.PyViz.kernels[plot_id])) {\n        var comm = window.PyViz.kernels[plot_id].connectToComm(comm_id);\n        let retries = 0;\n        const open = () => {\n          if (comm.active) {\n            comm.open();\n          } else if (retries > 3) {\n            console.warn('Comm target never activated')\n          } else {\n            retries += 1\n            setTimeout(open, 500)\n          }\n        }\n        if (comm.active) {\n          comm.open();\n        } else {\n          setTimeout(open, 500)\n        }\n        if (msg_handler) {\n          comm.onMsg = msg_handler;\n        }\n      } else if (typeof google != 'undefined' && google.colab.kernel != null) {\n        var comm_promise = google.colab.kernel.comms.open(comm_id)\n        comm_promise.then((comm) => {\n          window.PyViz.comms[comm_id] = comm;\n          if (msg_handler) {\n            var messages = comm.messages[Symbol.asyncIterator]();\n            function processIteratorResult(result) {\n              var message = result.value;\n              var content = {data: message.data};\n              var metadata = message.metadata || {comm_id};\n              var msg = {content, metadata}\n              msg_handler(msg);\n              return messages.next().then(processIteratorResult);\n            }\n            return messages.next().then(processIteratorResult);\n          }\n        })\n        var sendClosure = (data, metadata, buffers, disposeOnDone) => {\n          return comm_promise.then((comm) => {\n            comm.send(data, metadata, buffers, disposeOnDone);\n          });\n        };\n        var comm = {\n          send: sendClosure\n        };\n      }\n      window.PyViz.comms[comm_id] = comm;\n      return comm;\n    }\n    window.PyViz.comm_manager = new JupyterCommManager();\n    \n\n\nvar JS_MIME_TYPE = 'application/javascript';\nvar HTML_MIME_TYPE = 'text/html';\nvar EXEC_MIME_TYPE = 'application/vnd.holoviews_exec.v0+json';\nvar CLASS_NAME = 'output';\n\n/**\n * Render data to the DOM node\n */\nfunction render(props, node) {\n  var div = document.createElement(\"div\");\n  var script = document.createElement(\"script\");\n  node.appendChild(div);\n  node.appendChild(script);\n}\n\n/**\n * Handle when a new output is added\n */\nfunction handle_add_output(event, handle) {\n  var output_area = handle.output_area;\n  var output = handle.output;\n  if ((output.data == undefined) || (!output.data.hasOwnProperty(EXEC_MIME_TYPE))) {\n    return\n  }\n  var id = output.metadata[EXEC_MIME_TYPE][\"id\"];\n  var toinsert = output_area.element.find(\".\" + CLASS_NAME.split(' ')[0]);\n  if (id !== undefined) {\n    var nchildren = toinsert.length;\n    var html_node = toinsert[nchildren-1].children[0];\n    html_node.innerHTML = output.data[HTML_MIME_TYPE];\n    var scripts = [];\n    var nodelist = html_node.querySelectorAll(\"script\");\n    for (var i in nodelist) {\n      if (nodelist.hasOwnProperty(i)) {\n        scripts.push(nodelist[i])\n      }\n    }\n\n    scripts.forEach( function (oldScript) {\n      var newScript = document.createElement(\"script\");\n      var attrs = [];\n      var nodemap = oldScript.attributes;\n      for (var j in nodemap) {\n        if (nodemap.hasOwnProperty(j)) {\n          attrs.push(nodemap[j])\n        }\n      }\n      attrs.forEach(function(attr) { newScript.setAttribute(attr.name, attr.value) });\n      newScript.appendChild(document.createTextNode(oldScript.innerHTML));\n      oldScript.parentNode.replaceChild(newScript, oldScript);\n    });\n    if (JS_MIME_TYPE in output.data) {\n      toinsert[nchildren-1].children[1].textContent = output.data[JS_MIME_TYPE];\n    }\n    output_area._hv_plot_id = id;\n    if ((window.Bokeh !== undefined) && (id in Bokeh.index)) {\n      window.PyViz.plot_index[id] = Bokeh.index[id];\n    } else {\n      window.PyViz.plot_index[id] = null;\n    }\n  } else if (output.metadata[EXEC_MIME_TYPE][\"server_id\"] !== undefined) {\n    var bk_div = document.createElement(\"div\");\n    bk_div.innerHTML = output.data[HTML_MIME_TYPE];\n    var script_attrs = bk_div.children[0].attributes;\n    for (var i = 0; i < script_attrs.length; i++) {\n      toinsert[toinsert.length - 1].childNodes[1].setAttribute(script_attrs[i].name, script_attrs[i].value);\n    }\n    // store reference to server id on output_area\n    output_area._bokeh_server_id = output.metadata[EXEC_MIME_TYPE][\"server_id\"];\n  }\n}\n\n/**\n * Handle when an output is cleared or removed\n */\nfunction handle_clear_output(event, handle) {\n  var id = handle.cell.output_area._hv_plot_id;\n  var server_id = handle.cell.output_area._bokeh_server_id;\n  if (((id === undefined) || !(id in PyViz.plot_index)) && (server_id !== undefined)) { return; }\n  var comm = window.PyViz.comm_manager.get_client_comm(\"hv-extension-comm\", \"hv-extension-comm\", function () {});\n  if (server_id !== null) {\n    comm.send({event_type: 'server_delete', 'id': server_id});\n    return;\n  } else if (comm !== null) {\n    comm.send({event_type: 'delete', 'id': id});\n  }\n  delete PyViz.plot_index[id];\n  if ((window.Bokeh !== undefined) & (id in window.Bokeh.index)) {\n    var doc = window.Bokeh.index[id].model.document\n    doc.clear();\n    const i = window.Bokeh.documents.indexOf(doc);\n    if (i > -1) {\n      window.Bokeh.documents.splice(i, 1);\n    }\n  }\n}\n\n/**\n * Handle kernel restart event\n */\nfunction handle_kernel_cleanup(event, handle) {\n  delete PyViz.comms[\"hv-extension-comm\"];\n  window.PyViz.plot_index = {}\n}\n\n/**\n * Handle update_display_data messages\n */\nfunction handle_update_output(event, handle) {\n  handle_clear_output(event, {cell: {output_area: handle.output_area}})\n  handle_add_output(event, handle)\n}\n\nfunction register_renderer(events, OutputArea) {\n  function append_mime(data, metadata, element) {\n    // create a DOM node to render to\n    var toinsert = this.create_output_subarea(\n    metadata,\n    CLASS_NAME,\n    EXEC_MIME_TYPE\n    );\n    this.keyboard_manager.register_events(toinsert);\n    // Render to node\n    var props = {data: data, metadata: metadata[EXEC_MIME_TYPE]};\n    render(props, toinsert[0]);\n    element.append(toinsert);\n    return toinsert\n  }\n\n  events.on('output_added.OutputArea', handle_add_output);\n  events.on('output_updated.OutputArea', handle_update_output);\n  events.on('clear_output.CodeCell', handle_clear_output);\n  events.on('delete.Cell', handle_clear_output);\n  events.on('kernel_ready.Kernel', handle_kernel_cleanup);\n\n  OutputArea.prototype.register_mime_type(EXEC_MIME_TYPE, append_mime, {\n    safe: true,\n    index: 0\n  });\n}\n\nif (window.Jupyter !== undefined) {\n  try {\n    var events = require('base/js/events');\n    var OutputArea = require('notebook/js/outputarea').OutputArea;\n    if (OutputArea.prototype.mime_types().indexOf(EXEC_MIME_TYPE) == -1) {\n      register_renderer(events, OutputArea);\n    }\n  } catch(err) {\n  }\n}\n",
      "application/vnd.holoviews_load.v0+json": ""
     },
     "metadata": {},
     "output_type": "display_data"
    },
    {
     "data": {
      "application/vnd.holoviews_exec.v0+json": "",
      "text/html": [
       "<div id='b5236e3c-a2d4-412c-84f4-bbff6420fdce'>\n",
       "  <div id=\"ae38fb16-e6e6-4bdc-987f-241cd2f717b3\" data-root-id=\"b5236e3c-a2d4-412c-84f4-bbff6420fdce\" style=\"display: contents;\"></div>\n",
       "</div>\n",
       "<script type=\"application/javascript\">(function(root) {\n",
       "  var docs_json = {\"2baf2f05-5c1c-4423-8dae-f367cffcc5a6\":{\"version\":\"3.7.3\",\"title\":\"Bokeh Application\",\"roots\":[{\"type\":\"object\",\"name\":\"panel.models.browser.BrowserInfo\",\"id\":\"b5236e3c-a2d4-412c-84f4-bbff6420fdce\"},{\"type\":\"object\",\"name\":\"panel.models.comm_manager.CommManager\",\"id\":\"7a65db87-3228-4ffd-b891-21692d60ba18\",\"attributes\":{\"plot_id\":\"b5236e3c-a2d4-412c-84f4-bbff6420fdce\",\"comm_id\":\"0f1b77c56ae74bbda0607f6f4cb0b325\",\"client_comm_id\":\"f8dc32b70d0c4dfe900da41a9c0bb3b8\"}}],\"defs\":[{\"type\":\"model\",\"name\":\"ReactiveHTML1\"},{\"type\":\"model\",\"name\":\"FlexBox1\",\"properties\":[{\"name\":\"align_content\",\"kind\":\"Any\",\"default\":\"flex-start\"},{\"name\":\"align_items\",\"kind\":\"Any\",\"default\":\"flex-start\"},{\"name\":\"flex_direction\",\"kind\":\"Any\",\"default\":\"row\"},{\"name\":\"flex_wrap\",\"kind\":\"Any\",\"default\":\"wrap\"},{\"name\":\"gap\",\"kind\":\"Any\",\"default\":\"\"},{\"name\":\"justify_content\",\"kind\":\"Any\",\"default\":\"flex-start\"}]},{\"type\":\"model\",\"name\":\"FloatPanel1\",\"properties\":[{\"name\":\"config\",\"kind\":\"Any\",\"default\":{\"type\":\"map\"}},{\"name\":\"contained\",\"kind\":\"Any\",\"default\":true},{\"name\":\"position\",\"kind\":\"Any\",\"default\":\"right-top\"},{\"name\":\"offsetx\",\"kind\":\"Any\",\"default\":null},{\"name\":\"offsety\",\"kind\":\"Any\",\"default\":null},{\"name\":\"theme\",\"kind\":\"Any\",\"default\":\"primary\"},{\"name\":\"status\",\"kind\":\"Any\",\"default\":\"normalized\"}]},{\"type\":\"model\",\"name\":\"GridStack1\",\"properties\":[{\"name\":\"ncols\",\"kind\":\"Any\",\"default\":null},{\"name\":\"nrows\",\"kind\":\"Any\",\"default\":null},{\"name\":\"allow_resize\",\"kind\":\"Any\",\"default\":true},{\"name\":\"allow_drag\",\"kind\":\"Any\",\"default\":true},{\"name\":\"state\",\"kind\":\"Any\",\"default\":[]}]},{\"type\":\"model\",\"name\":\"drag1\",\"properties\":[{\"name\":\"slider_width\",\"kind\":\"Any\",\"default\":5},{\"name\":\"slider_color\",\"kind\":\"Any\",\"default\":\"black\"},{\"name\":\"value\",\"kind\":\"Any\",\"default\":50}]},{\"type\":\"model\",\"name\":\"click1\",\"properties\":[{\"name\":\"terminal_output\",\"kind\":\"Any\",\"default\":\"\"},{\"name\":\"debug_name\",\"kind\":\"Any\",\"default\":\"\"},{\"name\":\"clears\",\"kind\":\"Any\",\"default\":0}]},{\"type\":\"model\",\"name\":\"ReactiveESM1\",\"properties\":[{\"name\":\"esm_constants\",\"kind\":\"Any\",\"default\":{\"type\":\"map\"}}]},{\"type\":\"model\",\"name\":\"JSComponent1\",\"properties\":[{\"name\":\"esm_constants\",\"kind\":\"Any\",\"default\":{\"type\":\"map\"}}]},{\"type\":\"model\",\"name\":\"ReactComponent1\",\"properties\":[{\"name\":\"use_shadow_dom\",\"kind\":\"Any\",\"default\":true},{\"name\":\"esm_constants\",\"kind\":\"Any\",\"default\":{\"type\":\"map\"}}]},{\"type\":\"model\",\"name\":\"AnyWidgetComponent1\",\"properties\":[{\"name\":\"use_shadow_dom\",\"kind\":\"Any\",\"default\":true},{\"name\":\"esm_constants\",\"kind\":\"Any\",\"default\":{\"type\":\"map\"}}]},{\"type\":\"model\",\"name\":\"FastWrapper1\",\"properties\":[{\"name\":\"object\",\"kind\":\"Any\",\"default\":null},{\"name\":\"style\",\"kind\":\"Any\",\"default\":null}]},{\"type\":\"model\",\"name\":\"NotificationArea1\",\"properties\":[{\"name\":\"js_events\",\"kind\":\"Any\",\"default\":{\"type\":\"map\"}},{\"name\":\"max_notifications\",\"kind\":\"Any\",\"default\":5},{\"name\":\"notifications\",\"kind\":\"Any\",\"default\":[]},{\"name\":\"position\",\"kind\":\"Any\",\"default\":\"bottom-right\"},{\"name\":\"_clear\",\"kind\":\"Any\",\"default\":0},{\"name\":\"types\",\"kind\":\"Any\",\"default\":[{\"type\":\"map\",\"entries\":[[\"type\",\"warning\"],[\"background\",\"#ffc107\"],[\"icon\",{\"type\":\"map\",\"entries\":[[\"className\",\"fas fa-exclamation-triangle\"],[\"tagName\",\"i\"],[\"color\",\"white\"]]}]]},{\"type\":\"map\",\"entries\":[[\"type\",\"info\"],[\"background\",\"#007bff\"],[\"icon\",{\"type\":\"map\",\"entries\":[[\"className\",\"fas fa-info-circle\"],[\"tagName\",\"i\"],[\"color\",\"white\"]]}]]}]}]},{\"type\":\"model\",\"name\":\"Notification\",\"properties\":[{\"name\":\"background\",\"kind\":\"Any\",\"default\":null},{\"name\":\"duration\",\"kind\":\"Any\",\"default\":3000},{\"name\":\"icon\",\"kind\":\"Any\",\"default\":null},{\"name\":\"message\",\"kind\":\"Any\",\"default\":\"\"},{\"name\":\"notification_type\",\"kind\":\"Any\",\"default\":null},{\"name\":\"_rendered\",\"kind\":\"Any\",\"default\":false},{\"name\":\"_destroyed\",\"kind\":\"Any\",\"default\":false}]},{\"type\":\"model\",\"name\":\"TemplateActions1\",\"properties\":[{\"name\":\"open_modal\",\"kind\":\"Any\",\"default\":0},{\"name\":\"close_modal\",\"kind\":\"Any\",\"default\":0}]},{\"type\":\"model\",\"name\":\"BootstrapTemplateActions1\",\"properties\":[{\"name\":\"open_modal\",\"kind\":\"Any\",\"default\":0},{\"name\":\"close_modal\",\"kind\":\"Any\",\"default\":0}]},{\"type\":\"model\",\"name\":\"TemplateEditor1\",\"properties\":[{\"name\":\"layout\",\"kind\":\"Any\",\"default\":[]}]},{\"type\":\"model\",\"name\":\"MaterialTemplateActions1\",\"properties\":[{\"name\":\"open_modal\",\"kind\":\"Any\",\"default\":0},{\"name\":\"close_modal\",\"kind\":\"Any\",\"default\":0}]},{\"type\":\"model\",\"name\":\"request_value1\",\"properties\":[{\"name\":\"fill\",\"kind\":\"Any\",\"default\":\"none\"},{\"name\":\"_synced\",\"kind\":\"Any\",\"default\":null},{\"name\":\"_request_sync\",\"kind\":\"Any\",\"default\":0}]}]}};\n",
       "  var render_items = [{\"docid\":\"2baf2f05-5c1c-4423-8dae-f367cffcc5a6\",\"roots\":{\"b5236e3c-a2d4-412c-84f4-bbff6420fdce\":\"ae38fb16-e6e6-4bdc-987f-241cd2f717b3\"},\"root_ids\":[\"b5236e3c-a2d4-412c-84f4-bbff6420fdce\"]}];\n",
       "  var docs = Object.values(docs_json)\n",
       "  if (!docs) {\n",
       "    return\n",
       "  }\n",
       "  const py_version = docs[0].version.replace('rc', '-rc.').replace('.dev', '-dev.')\n",
       "  async function embed_document(root) {\n",
       "    var Bokeh = get_bokeh(root)\n",
       "    await Bokeh.embed.embed_items_notebook(docs_json, render_items);\n",
       "    for (const render_item of render_items) {\n",
       "      for (const root_id of render_item.root_ids) {\n",
       "\tconst id_el = document.getElementById(root_id)\n",
       "\tif (id_el.children.length && id_el.children[0].hasAttribute('data-root-id')) {\n",
       "\t  const root_el = id_el.children[0]\n",
       "\t  root_el.id = root_el.id + '-rendered'\n",
       "\t  for (const child of root_el.children) {\n",
       "            // Ensure JupyterLab does not capture keyboard shortcuts\n",
       "            // see: https://jupyterlab.readthedocs.io/en/4.1.x/extension/notebook.html#keyboard-interaction-model\n",
       "\t    child.setAttribute('data-lm-suppress-shortcuts', 'true')\n",
       "\t  }\n",
       "\t}\n",
       "      }\n",
       "    }\n",
       "  }\n",
       "  function get_bokeh(root) {\n",
       "    if (root.Bokeh === undefined) {\n",
       "      return null\n",
       "    } else if (root.Bokeh.version !== py_version) {\n",
       "      if (root.Bokeh.versions === undefined || !root.Bokeh.versions.has(py_version)) {\n",
       "\treturn null\n",
       "      }\n",
       "      return root.Bokeh.versions.get(py_version);\n",
       "    } else if (root.Bokeh.version === py_version) {\n",
       "      return root.Bokeh\n",
       "    }\n",
       "    return null\n",
       "  }\n",
       "  function is_loaded(root) {\n",
       "    var Bokeh = get_bokeh(root)\n",
       "    return (Bokeh != null && Bokeh.Panel !== undefined && ( root.echarts !== undefined) && ( root.echarts !== undefined))\n",
       "  }\n",
       "  if (is_loaded(root)) {\n",
       "    embed_document(root);\n",
       "  } else {\n",
       "    var attempts = 0;\n",
       "    var timer = setInterval(function(root) {\n",
       "      if (is_loaded(root)) {\n",
       "        clearInterval(timer);\n",
       "        embed_document(root);\n",
       "      } else if (document.readyState == \"complete\") {\n",
       "        attempts++;\n",
       "        if (attempts > 200) {\n",
       "          clearInterval(timer);\n",
       "\t  var Bokeh = get_bokeh(root)\n",
       "\t  if (Bokeh == null || Bokeh.Panel == null) {\n",
       "            console.warn(\"Panel: ERROR: Unable to run Panel code because Bokeh or Panel library is missing\");\n",
       "\t  } else {\n",
       "\t    console.warn(\"Panel: WARNING: Attempting to render but not all required libraries could be resolved.\")\n",
       "\t    embed_document(root)\n",
       "\t  }\n",
       "        }\n",
       "      }\n",
       "    }, 25, root)\n",
       "  }\n",
       "})(window);</script>"
      ]
     },
     "metadata": {
      "application/vnd.holoviews_exec.v0+json": {
       "id": "b5236e3c-a2d4-412c-84f4-bbff6420fdce"
      }
     },
     "output_type": "display_data"
    },
    {
     "name": "stdout",
     "output_type": "stream",
     "text": [
      "Launching server at http://localhost:62536\n"
     ]
    },
    {
     "data": {
      "text/plain": [
       "<panel.io.server.Server at 0x1652ace90>"
      ]
     },
     "execution_count": 26,
     "metadata": {},
     "output_type": "execute_result"
    }
   ],
   "source": [
    "from pyecharts.charts import Sunburst\n",
    "from pyecharts import options as opts\n",
    "import panel as pn\n",
    "pn.extension('echarts')\n",
    "\n",
    "data = [\n",
    "    {\n",
    "        \"name\": \"Flora\",\n",
    "        \"itemStyle\": {\"color\": \"#da0d68\"},\n",
    "        \"children\": [\n",
    "            {\"name\": \"Black Tea\", \"value\": 1, \"itemStyle\": {\"color\": \"#975e6d\"}},\n",
    "            {\n",
    "                \"name\": \"Floral\",\n",
    "                \"itemStyle\": {\"color\": \"#e0719c\"},\n",
    "                \"children\": [\n",
    "                    {\n",
    "                        \"name\": \"Chamomile\",\n",
    "                        \"value\": 1,\n",
    "                        \"itemStyle\": {\"color\": \"#f99e1c\"},\n",
    "                    },\n",
    "                    {\"name\": \"Rose\", \"value\": 1, \"itemStyle\": {\"color\": \"#ef5a78\"}},\n",
    "                    {\"name\": \"Jasmine\", \"value\": 1, \"itemStyle\": {\"color\": \"#f7f1bd\"}},\n",
    "                ],\n",
    "            },\n",
    "        ],\n",
    "    },\n",
    "    {\n",
    "        \"name\": \"Fruity\",\n",
    "        \"itemStyle\": {\"color\": \"#da1d23\"},\n",
    "        \"children\": [\n",
    "            {\n",
    "                \"name\": \"Berry\",\n",
    "                \"itemStyle\": {\"color\": \"#dd4c51\"},\n",
    "                \"children\": [\n",
    "                    {\n",
    "                        \"name\": \"Blackberry\",\n",
    "                        \"value\": 1,\n",
    "                        \"itemStyle\": {\"color\": \"#3e0317\"},\n",
    "                    },\n",
    "                    {\n",
    "                        \"name\": \"Raspberry\",\n",
    "                        \"value\": 1,\n",
    "                        \"itemStyle\": {\"color\": \"#e62969\"},\n",
    "                    },\n",
    "                    {\n",
    "                        \"name\": \"Blueberry\",\n",
    "                        \"value\": 1,\n",
    "                        \"itemStyle\": {\"color\": \"#6569b0\"},\n",
    "                    },\n",
    "                    {\n",
    "                        \"name\": \"Strawberry\",\n",
    "                        \"value\": 1,\n",
    "                        \"itemStyle\": {\"color\": \"#ef2d36\"},\n",
    "                    },\n",
    "                ],\n",
    "            },\n",
    "            {\n",
    "                \"name\": \"Dried Fruit\",\n",
    "                \"itemStyle\": {\"color\": \"#c94a44\"},\n",
    "                \"children\": [\n",
    "                    {\"name\": \"Raisin\", \"value\": 1, \"itemStyle\": {\"color\": \"#b53b54\"}},\n",
    "                    {\"name\": \"Prune\", \"value\": 1, \"itemStyle\": {\"color\": \"#a5446f\"}},\n",
    "                ],\n",
    "            },\n",
    "            {\n",
    "                \"name\": \"Other Fruit\",\n",
    "                \"itemStyle\": {\"color\": \"#dd4c51\"},\n",
    "                \"children\": [\n",
    "                    {\"name\": \"Coconut\", \"value\": 1, \"itemStyle\": {\"color\": \"#f2684b\"}},\n",
    "                    {\"name\": \"Cherry\", \"value\": 1, \"itemStyle\": {\"color\": \"#e73451\"}},\n",
    "                    {\n",
    "                        \"name\": \"Pomegranate\",\n",
    "                        \"value\": 1,\n",
    "                        \"itemStyle\": {\"color\": \"#e65656\"},\n",
    "                    },\n",
    "                    {\n",
    "                        \"name\": \"Pineapple\",\n",
    "                        \"value\": 1,\n",
    "                        \"itemStyle\": {\"color\": \"#f89a1c\"},\n",
    "                    },\n",
    "                    {\"name\": \"Grape\", \"value\": 1, \"itemStyle\": {\"color\": \"#aeb92c\"}},\n",
    "                    {\"name\": \"Apple\", \"value\": 1, \"itemStyle\": {\"color\": \"#4eb849\"}},\n",
    "                    {\"name\": \"Peach\", \"value\": 1, \"itemStyle\": {\"color\": \"#f68a5c\"}},\n",
    "                    {\"name\": \"Pear\", \"value\": 1, \"itemStyle\": {\"color\": \"#baa635\"}},\n",
    "                ],\n",
    "            },\n",
    "            {\n",
    "                \"name\": \"Citrus Fruit\",\n",
    "                \"itemStyle\": {\"color\": \"#f7a128\"},\n",
    "                \"children\": [\n",
    "                    {\n",
    "                        \"name\": \"Grapefruit\",\n",
    "                        \"value\": 1,\n",
    "                        \"itemStyle\": {\"color\": \"#f26355\"},\n",
    "                    },\n",
    "                    {\"name\": \"Orange\", \"value\": 1, \"itemStyle\": {\"color\": \"#e2631e\"}},\n",
    "                    {\"name\": \"Lemon\", \"value\": 1, \"itemStyle\": {\"color\": \"#fde404\"}},\n",
    "                    {\"name\": \"Lime\", \"value\": 1, \"itemStyle\": {\"color\": \"#7eb138\"}},\n",
    "                ],\n",
    "            },\n",
    "        ],\n",
    "    },\n",
    "    {\n",
    "        \"name\": \"Sour/\\nFermented\",\n",
    "        \"itemStyle\": {\"color\": \"#ebb40f\"},\n",
    "        \"children\": [\n",
    "            {\n",
    "                \"name\": \"Sour\",\n",
    "                \"itemStyle\": {\"color\": \"#e1c315\"},\n",
    "                \"children\": [\n",
    "                    {\n",
    "                        \"name\": \"Sour Aromatics\",\n",
    "                        \"value\": 1,\n",
    "                        \"itemStyle\": {\"color\": \"#9ea718\"},\n",
    "                    },\n",
    "                    {\n",
    "                        \"name\": \"Acetic Acid\",\n",
    "                        \"value\": 1,\n",
    "                        \"itemStyle\": {\"color\": \"#94a76f\"},\n",
    "                    },\n",
    "                    {\n",
    "                        \"name\": \"Butyric Acid\",\n",
    "                        \"value\": 1,\n",
    "                        \"itemStyle\": {\"color\": \"#d0b24f\"},\n",
    "                    },\n",
    "                    {\n",
    "                        \"name\": \"Isovaleric Acid\",\n",
    "                        \"value\": 1,\n",
    "                        \"itemStyle\": {\"color\": \"#8eb646\"},\n",
    "                    },\n",
    "                    {\n",
    "                        \"name\": \"Citric Acid\",\n",
    "                        \"value\": 1,\n",
    "                        \"itemStyle\": {\"color\": \"#faef07\"},\n",
    "                    },\n",
    "                    {\n",
    "                        \"name\": \"Malic Acid\",\n",
    "                        \"value\": 1,\n",
    "                        \"itemStyle\": {\"color\": \"#c1ba07\"},\n",
    "                    },\n",
    "                ],\n",
    "            },\n",
    "            {\n",
    "                \"name\": \"Alcohol/\\nFremented\",\n",
    "                \"itemStyle\": {\"color\": \"#b09733\"},\n",
    "                \"children\": [\n",
    "                    {\"name\": \"Winey\", \"value\": 1, \"itemStyle\": {\"color\": \"#8f1c53\"}},\n",
    "                    {\"name\": \"Whiskey\", \"value\": 1, \"itemStyle\": {\"color\": \"#b34039\"}},\n",
    "                    {\n",
    "                        \"name\": \"Fremented\",\n",
    "                        \"value\": 1,\n",
    "                        \"itemStyle\": {\"color\": \"#ba9232\"},\n",
    "                    },\n",
    "                    {\"name\": \"Overripe\", \"value\": 1, \"itemStyle\": {\"color\": \"#8b6439\"}},\n",
    "                ],\n",
    "            },\n",
    "        ],\n",
    "    },\n",
    "    {\n",
    "        \"name\": \"Green/\\nVegetative\",\n",
    "        \"itemStyle\": {\"color\": \"#187a2f\"},\n",
    "        \"children\": [\n",
    "            {\"name\": \"Olive Oil\", \"value\": 1, \"itemStyle\": {\"color\": \"#a2b029\"}},\n",
    "            {\"name\": \"Raw\", \"value\": 1, \"itemStyle\": {\"color\": \"#718933\"}},\n",
    "            {\n",
    "                \"name\": \"Green/\\nVegetative\",\n",
    "                \"itemStyle\": {\"color\": \"#3aa255\"},\n",
    "                \"children\": [\n",
    "                    {\n",
    "                        \"name\": \"Under-ripe\",\n",
    "                        \"value\": 1,\n",
    "                        \"itemStyle\": {\"color\": \"#a2bb2b\"},\n",
    "                    },\n",
    "                    {\"name\": \"Peapod\", \"value\": 1, \"itemStyle\": {\"color\": \"#62aa3c\"}},\n",
    "                    {\"name\": \"Fresh\", \"value\": 1, \"itemStyle\": {\"color\": \"#03a653\"}},\n",
    "                    {\n",
    "                        \"name\": \"Dark Green\",\n",
    "                        \"value\": 1,\n",
    "                        \"itemStyle\": {\"color\": \"#038549\"},\n",
    "                    },\n",
    "                    {\n",
    "                        \"name\": \"Vegetative\",\n",
    "                        \"value\": 1,\n",
    "                        \"itemStyle\": {\"color\": \"#28b44b\"},\n",
    "                    },\n",
    "                    {\"name\": \"Hay-like\", \"value\": 1, \"itemStyle\": {\"color\": \"#a3a830\"}},\n",
    "                    {\n",
    "                        \"name\": \"Herb-like\",\n",
    "                        \"value\": 1,\n",
    "                        \"itemStyle\": {\"color\": \"#7ac141\"},\n",
    "                    },\n",
    "                ],\n",
    "            },\n",
    "            {\"name\": \"Beany\", \"value\": 1, \"itemStyle\": {\"color\": \"#5e9a80\"}},\n",
    "        ],\n",
    "    },\n",
    "    {\n",
    "        \"name\": \"Other\",\n",
    "        \"itemStyle\": {\"color\": \"#0aa3b5\"},\n",
    "        \"children\": [\n",
    "            {\n",
    "                \"name\": \"Papery/Musty\",\n",
    "                \"itemStyle\": {\"color\": \"#9db2b7\"},\n",
    "                \"children\": [\n",
    "                    {\"name\": \"Stale\", \"value\": 1, \"itemStyle\": {\"color\": \"#8b8c90\"}},\n",
    "                    {\n",
    "                        \"name\": \"Cardboard\",\n",
    "                        \"value\": 1,\n",
    "                        \"itemStyle\": {\"color\": \"#beb276\"},\n",
    "                    },\n",
    "                    {\"name\": \"Papery\", \"value\": 1, \"itemStyle\": {\"color\": \"#fefef4\"}},\n",
    "                    {\"name\": \"Woody\", \"value\": 1, \"itemStyle\": {\"color\": \"#744e03\"}},\n",
    "                    {\n",
    "                        \"name\": \"Moldy/Damp\",\n",
    "                        \"value\": 1,\n",
    "                        \"itemStyle\": {\"color\": \"#a3a36f\"},\n",
    "                    },\n",
    "                    {\n",
    "                        \"name\": \"Musty/Dusty\",\n",
    "                        \"value\": 1,\n",
    "                        \"itemStyle\": {\"color\": \"#c9b583\"},\n",
    "                    },\n",
    "                    {\n",
    "                        \"name\": \"Musty/Earthy\",\n",
    "                        \"value\": 1,\n",
    "                        \"itemStyle\": {\"color\": \"#978847\"},\n",
    "                    },\n",
    "                    {\"name\": \"Animalic\", \"value\": 1, \"itemStyle\": {\"color\": \"#9d977f\"}},\n",
    "                    {\n",
    "                        \"name\": \"Meaty Brothy\",\n",
    "                        \"value\": 1,\n",
    "                        \"itemStyle\": {\"color\": \"#cc7b6a\"},\n",
    "                    },\n",
    "                    {\"name\": \"Phenolic\", \"value\": 1, \"itemStyle\": {\"color\": \"#db646a\"}},\n",
    "                ],\n",
    "            },\n",
    "            {\n",
    "                \"name\": \"Chemical\",\n",
    "                \"itemStyle\": {\"color\": \"#76c0cb\"},\n",
    "                \"children\": [\n",
    "                    {\"name\": \"Bitter\", \"value\": 1, \"itemStyle\": {\"color\": \"#80a89d\"}},\n",
    "                    {\"name\": \"Salty\", \"value\": 1, \"itemStyle\": {\"color\": \"#def2fd\"}},\n",
    "                    {\n",
    "                        \"name\": \"Medicinal\",\n",
    "                        \"value\": 1,\n",
    "                        \"itemStyle\": {\"color\": \"#7a9bae\"},\n",
    "                    },\n",
    "                    {\n",
    "                        \"name\": \"Petroleum\",\n",
    "                        \"value\": 1,\n",
    "                        \"itemStyle\": {\"color\": \"#039fb8\"},\n",
    "                    },\n",
    "                    {\"name\": \"Skunky\", \"value\": 1, \"itemStyle\": {\"color\": \"#5e777b\"}},\n",
    "                    {\"name\": \"Rubber\", \"value\": 1, \"itemStyle\": {\"color\": \"#120c0c\"}},\n",
    "                ],\n",
    "            },\n",
    "        ],\n",
    "    },\n",
    "    {\n",
    "        \"name\": \"Roasted\",\n",
    "        \"itemStyle\": {\"color\": \"#c94930\"},\n",
    "        \"children\": [\n",
    "            {\"name\": \"Pipe Tobacco\", \"value\": 1, \"itemStyle\": {\"color\": \"#caa465\"}},\n",
    "            {\"name\": \"Tobacco\", \"value\": 1, \"itemStyle\": {\"color\": \"#dfbd7e\"}},\n",
    "            {\n",
    "                \"name\": \"Burnt\",\n",
    "                \"itemStyle\": {\"color\": \"#be8663\"},\n",
    "                \"children\": [\n",
    "                    {\"name\": \"Acrid\", \"value\": 1, \"itemStyle\": {\"color\": \"#b9a449\"}},\n",
    "                    {\"name\": \"Ashy\", \"value\": 1, \"itemStyle\": {\"color\": \"#899893\"}},\n",
    "                    {\"name\": \"Smoky\", \"value\": 1, \"itemStyle\": {\"color\": \"#a1743b\"}},\n",
    "                    {\n",
    "                        \"name\": \"Brown, Roast\",\n",
    "                        \"value\": 1,\n",
    "                        \"itemStyle\": {\"color\": \"#894810\"},\n",
    "                    },\n",
    "                ],\n",
    "            },\n",
    "            {\n",
    "                \"name\": \"Cereal\",\n",
    "                \"itemStyle\": {\"color\": \"#ddaf61\"},\n",
    "                \"children\": [\n",
    "                    {\"name\": \"Grain\", \"value\": 1, \"itemStyle\": {\"color\": \"#b7906f\"}},\n",
    "                    {\"name\": \"Malt\", \"value\": 1, \"itemStyle\": {\"color\": \"#eb9d5f\"}},\n",
    "                ],\n",
    "            },\n",
    "        ],\n",
    "    },\n",
    "    {\n",
    "        \"name\": \"Spices\",\n",
    "        \"itemStyle\": {\"color\": \"#ad213e\"},\n",
    "        \"children\": [\n",
    "            {\"name\": \"Pungent\", \"value\": 1, \"itemStyle\": {\"color\": \"#794752\"}},\n",
    "            {\"name\": \"Pepper\", \"value\": 1, \"itemStyle\": {\"color\": \"#cc3d41\"}},\n",
    "            {\n",
    "                \"name\": \"Brown Spice\",\n",
    "                \"itemStyle\": {\"color\": \"#b14d57\"},\n",
    "                \"children\": [\n",
    "                    {\"name\": \"Anise\", \"value\": 1, \"itemStyle\": {\"color\": \"#c78936\"}},\n",
    "                    {\"name\": \"Nutmeg\", \"value\": 1, \"itemStyle\": {\"color\": \"#8c292c\"}},\n",
    "                    {\"name\": \"Cinnamon\", \"value\": 1, \"itemStyle\": {\"color\": \"#e5762e\"}},\n",
    "                    {\"name\": \"Clove\", \"value\": 1, \"itemStyle\": {\"color\": \"#a16c5a\"}},\n",
    "                ],\n",
    "            },\n",
    "        ],\n",
    "    },\n",
    "    {\n",
    "        \"name\": \"Nutty/\\nCocoa\",\n",
    "        \"itemStyle\": {\"color\": \"#a87b64\"},\n",
    "        \"children\": [\n",
    "            {\n",
    "                \"name\": \"Nutty\",\n",
    "                \"itemStyle\": {\"color\": \"#c78869\"},\n",
    "                \"children\": [\n",
    "                    {\"name\": \"Peanuts\", \"value\": 1, \"itemStyle\": {\"color\": \"#d4ad12\"}},\n",
    "                    {\"name\": \"Hazelnut\", \"value\": 1, \"itemStyle\": {\"color\": \"#9d5433\"}},\n",
    "                    {\"name\": \"Almond\", \"value\": 1, \"itemStyle\": {\"color\": \"#c89f83\"}},\n",
    "                ],\n",
    "            },\n",
    "            {\n",
    "                \"name\": \"Cocoa\",\n",
    "                \"itemStyle\": {\"color\": \"#bb764c\"},\n",
    "                \"children\": [\n",
    "                    {\n",
    "                        \"name\": \"Chocolate\",\n",
    "                        \"value\": 1,\n",
    "                        \"itemStyle\": {\"color\": \"#692a19\"},\n",
    "                    },\n",
    "                    {\n",
    "                        \"name\": \"Dark Chocolate\",\n",
    "                        \"value\": 1,\n",
    "                        \"itemStyle\": {\"color\": \"#470604\"},\n",
    "                    },\n",
    "                ],\n",
    "            },\n",
    "        ],\n",
    "    },\n",
    "    {\n",
    "        \"name\": \"Sweet\",\n",
    "        \"itemStyle\": {\"color\": \"#e65832\"},\n",
    "        \"children\": [\n",
    "            {\n",
    "                \"name\": \"Brown Sugar\",\n",
    "                \"itemStyle\": {\"color\": \"#d45a59\"},\n",
    "                \"children\": [\n",
    "                    {\"name\": \"Molasses\", \"value\": 1, \"itemStyle\": {\"color\": \"#310d0f\"}},\n",
    "                    {\n",
    "                        \"name\": \"Maple Syrup\",\n",
    "                        \"value\": 1,\n",
    "                        \"itemStyle\": {\"color\": \"#ae341f\"},\n",
    "                    },\n",
    "                    {\n",
    "                        \"name\": \"Caramelized\",\n",
    "                        \"value\": 1,\n",
    "                        \"itemStyle\": {\"color\": \"#d78823\"},\n",
    "                    },\n",
    "                    {\"name\": \"Honey\", \"value\": 1, \"itemStyle\": {\"color\": \"#da5c1f\"}},\n",
    "                ],\n",
    "            },\n",
    "            {\"name\": \"Vanilla\", \"value\": 1, \"itemStyle\": {\"color\": \"#f89a80\"}},\n",
    "            {\"name\": \"Vanillin\", \"value\": 1, \"itemStyle\": {\"color\": \"#f37674\"}},\n",
    "            {\"name\": \"Overall Sweet\", \"value\": 1, \"itemStyle\": {\"color\": \"#e75b68\"}},\n",
    "            {\"name\": \"Sweet Aromatics\", \"value\": 1, \"itemStyle\": {\"color\": \"#d0545f\"}},\n",
    "        ],\n",
    "    },\n",
    "]\n",
    "\n",
    "\n",
    "c = Sunburst(init_opts=opts.InitOpts(width=\"1000px\", height=\"600px\")).add(\n",
    "    \"\",\n",
    "    data_pair=data,\n",
    "    highlight_policy=\"ancestor\",\n",
    "    radius=[0, \"95%\"],\n",
    "    sort_=\"null\",\n",
    "    levels=[\n",
    "        {},\n",
    "        {\n",
    "            \"r0\": \"15%\",\n",
    "            \"r\": \"35%\",\n",
    "            \"itemStyle\": {\"borderWidth\": 2},\n",
    "            \"label\": {\"rotate\": \"tangential\"},\n",
    "        },\n",
    "        {\"r0\": \"35%\", \"r\": \"70%\", \"label\": {\"align\": \"right\"}},\n",
    "        {\n",
    "            \"r0\": \"70%\",\n",
    "            \"r\": \"72%\",\n",
    "            \"label\": {\"position\": \"outside\", \"padding\": 3, \"silent\": False},\n",
    "            \"itemStyle\": {\"borderWidth\": 3},\n",
    "        },\n",
    "    ],\n",
    ")\n",
    "\n",
    "pn.Row(c).show()"
   ]
  },
  {
   "cell_type": "code",
   "execution_count": null,
   "id": "d2003513",
   "metadata": {},
   "outputs": [],
   "source": []
  },
  {
   "cell_type": "code",
   "execution_count": null,
   "id": "59e1a6fe",
   "metadata": {},
   "outputs": [],
   "source": []
  }
 ],
 "metadata": {
  "kernelspec": {
   "display_name": "Python 3",
   "language": "python",
   "name": "python3"
  },
  "language_info": {
   "codemirror_mode": {
    "name": "ipython",
    "version": 3
   },
   "file_extension": ".py",
   "mimetype": "text/x-python",
   "name": "python",
   "nbconvert_exporter": "python",
   "pygments_lexer": "ipython3",
   "version": "3.11.6"
  }
 },
 "nbformat": 4,
 "nbformat_minor": 5
}
