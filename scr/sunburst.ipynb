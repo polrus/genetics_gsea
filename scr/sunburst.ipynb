{
 "cells": [
  {
   "cell_type": "code",
   "execution_count": 1,
   "id": "86cbc87f",
   "metadata": {},
   "outputs": [],
   "source": [
    "import pandas as pd"
   ]
  },
  {
   "cell_type": "code",
   "execution_count": 2,
   "id": "27997506",
   "metadata": {},
   "outputs": [],
   "source": [
    "geneset = pd.read_csv(\"/Users/polina/genetics_gsea/data/geneset_annotated/geneset_reactome_2025_disease_v2.csv\")"
   ]
  },
  {
   "cell_type": "code",
   "execution_count": 3,
   "id": "f9bcffdf",
   "metadata": {},
   "outputs": [],
   "source": [
    "pathways = geneset[[\"Term\", \"ID\"]].drop_duplicates().reset_index(drop=True).copy()"
   ]
  },
  {
   "cell_type": "code",
   "execution_count": 4,
   "id": "e756fd63",
   "metadata": {},
   "outputs": [],
   "source": [
    "pathways = pathways.assign(\n",
    "    Term=pathways[\"Term\"].str.split(\";\"),\n",
    "    ID=pathways[\"ID\"].str.split(\";\")\n",
    ")\n",
    "\n",
    "pathways_exploded = pathways.explode([\"Term\", \"ID\"]).drop_duplicates().reset_index(drop=True)"
   ]
  },
  {
   "cell_type": "code",
   "execution_count": 5,
   "id": "fde77f1c",
   "metadata": {},
   "outputs": [
    {
     "data": {
      "text/html": [
       "<div>\n",
       "<style scoped>\n",
       "    .dataframe tbody tr th:only-of-type {\n",
       "        vertical-align: middle;\n",
       "    }\n",
       "\n",
       "    .dataframe tbody tr th {\n",
       "        vertical-align: top;\n",
       "    }\n",
       "\n",
       "    .dataframe thead th {\n",
       "        text-align: right;\n",
       "    }\n",
       "</style>\n",
       "<table border=\"1\" class=\"dataframe\">\n",
       "  <thead>\n",
       "    <tr style=\"text-align: right;\">\n",
       "      <th></th>\n",
       "      <th>Term</th>\n",
       "      <th>ID</th>\n",
       "    </tr>\n",
       "  </thead>\n",
       "  <tbody>\n",
       "    <tr>\n",
       "      <th>0</th>\n",
       "      <td>Signal Transduction</td>\n",
       "      <td>R-HSA-162582</td>\n",
       "    </tr>\n",
       "    <tr>\n",
       "      <th>1</th>\n",
       "      <td>Generic Transcription Pathway</td>\n",
       "      <td>R-HSA-212436</td>\n",
       "    </tr>\n",
       "    <tr>\n",
       "      <th>2</th>\n",
       "      <td>RNA Polymerase II Transcription</td>\n",
       "      <td>R-HSA-73857</td>\n",
       "    </tr>\n",
       "    <tr>\n",
       "      <th>3</th>\n",
       "      <td>Gene expression (Transcription)</td>\n",
       "      <td>R-HSA-74160</td>\n",
       "    </tr>\n",
       "    <tr>\n",
       "      <th>4</th>\n",
       "      <td>SMAD2/SMAD3:SMAD4 heterotrimer regulates trans...</td>\n",
       "      <td>R-HSA-2173796</td>\n",
       "    </tr>\n",
       "    <tr>\n",
       "      <th>...</th>\n",
       "      <td>...</td>\n",
       "      <td>...</td>\n",
       "    </tr>\n",
       "    <tr>\n",
       "      <th>403</th>\n",
       "      <td>Serotonin receptors</td>\n",
       "      <td>R-HSA-390666</td>\n",
       "    </tr>\n",
       "    <tr>\n",
       "      <th>404</th>\n",
       "      <td>Glycogen storage diseases</td>\n",
       "      <td>R-HSA-3229121</td>\n",
       "    </tr>\n",
       "    <tr>\n",
       "      <th>405</th>\n",
       "      <td>SIRT1 negatively regulates rRNA expression</td>\n",
       "      <td>R-HSA-427359</td>\n",
       "    </tr>\n",
       "    <tr>\n",
       "      <th>406</th>\n",
       "      <td>Alpha-defensins</td>\n",
       "      <td>R-HSA-1462054</td>\n",
       "    </tr>\n",
       "    <tr>\n",
       "      <th>407</th>\n",
       "      <td>Transport of nucleosides and free purine and p...</td>\n",
       "      <td>R-HSA-83936</td>\n",
       "    </tr>\n",
       "  </tbody>\n",
       "</table>\n",
       "<p>408 rows × 2 columns</p>\n",
       "</div>"
      ],
      "text/plain": [
       "                                                  Term             ID\n",
       "0                                  Signal Transduction   R-HSA-162582\n",
       "1                        Generic Transcription Pathway   R-HSA-212436\n",
       "2                      RNA Polymerase II Transcription    R-HSA-73857\n",
       "3                      Gene expression (Transcription)    R-HSA-74160\n",
       "4    SMAD2/SMAD3:SMAD4 heterotrimer regulates trans...  R-HSA-2173796\n",
       "..                                                 ...            ...\n",
       "403                                Serotonin receptors   R-HSA-390666\n",
       "404                          Glycogen storage diseases  R-HSA-3229121\n",
       "405         SIRT1 negatively regulates rRNA expression   R-HSA-427359\n",
       "406                                    Alpha-defensins  R-HSA-1462054\n",
       "407  Transport of nucleosides and free purine and p...    R-HSA-83936\n",
       "\n",
       "[408 rows x 2 columns]"
      ]
     },
     "execution_count": 5,
     "metadata": {},
     "output_type": "execute_result"
    }
   ],
   "source": [
    "pathways_exploded"
   ]
  },
  {
   "cell_type": "code",
   "execution_count": 6,
   "id": "45215ad6",
   "metadata": {},
   "outputs": [],
   "source": [
    "hieararchy = pd.read_csv(\"/Users/polina/genetics_gsea/data/gmt/Reactome_2025/Pathways_hierarchy_relationship.txt\", sep=\"\\t\", header=None)\n",
    "hieararchy.columns = [\"parentId\", \"childId\"]"
   ]
  },
  {
   "cell_type": "code",
   "execution_count": 7,
   "id": "8de33025",
   "metadata": {},
   "outputs": [],
   "source": [
    "pathway_hieararchy = pd.merge(pathways_exploded, hieararchy, left_on=\"ID\", right_on=\"childId\", how=\"left\")[[\"ID\", \"parentId\", \"Term\"]]"
   ]
  },
  {
   "cell_type": "code",
   "execution_count": 8,
   "id": "332db6db",
   "metadata": {},
   "outputs": [
    {
     "data": {
      "text/html": [
       "<div>\n",
       "<style scoped>\n",
       "    .dataframe tbody tr th:only-of-type {\n",
       "        vertical-align: middle;\n",
       "    }\n",
       "\n",
       "    .dataframe tbody tr th {\n",
       "        vertical-align: top;\n",
       "    }\n",
       "\n",
       "    .dataframe thead th {\n",
       "        text-align: right;\n",
       "    }\n",
       "</style>\n",
       "<table border=\"1\" class=\"dataframe\">\n",
       "  <thead>\n",
       "    <tr style=\"text-align: right;\">\n",
       "      <th></th>\n",
       "      <th>ID</th>\n",
       "      <th>parentId</th>\n",
       "      <th>Term</th>\n",
       "    </tr>\n",
       "  </thead>\n",
       "  <tbody>\n",
       "    <tr>\n",
       "      <th>0</th>\n",
       "      <td>R-HSA-162582</td>\n",
       "      <td>NaN</td>\n",
       "      <td>Signal Transduction</td>\n",
       "    </tr>\n",
       "    <tr>\n",
       "      <th>1</th>\n",
       "      <td>R-HSA-212436</td>\n",
       "      <td>R-HSA-73857</td>\n",
       "      <td>Generic Transcription Pathway</td>\n",
       "    </tr>\n",
       "    <tr>\n",
       "      <th>2</th>\n",
       "      <td>R-HSA-73857</td>\n",
       "      <td>R-HSA-74160</td>\n",
       "      <td>RNA Polymerase II Transcription</td>\n",
       "    </tr>\n",
       "    <tr>\n",
       "      <th>3</th>\n",
       "      <td>R-HSA-74160</td>\n",
       "      <td>NaN</td>\n",
       "      <td>Gene expression (Transcription)</td>\n",
       "    </tr>\n",
       "    <tr>\n",
       "      <th>4</th>\n",
       "      <td>R-HSA-2173796</td>\n",
       "      <td>R-HSA-2173793</td>\n",
       "      <td>SMAD2/SMAD3:SMAD4 heterotrimer regulates trans...</td>\n",
       "    </tr>\n",
       "    <tr>\n",
       "      <th>...</th>\n",
       "      <td>...</td>\n",
       "      <td>...</td>\n",
       "      <td>...</td>\n",
       "    </tr>\n",
       "    <tr>\n",
       "      <th>408</th>\n",
       "      <td>R-HSA-390666</td>\n",
       "      <td>R-HSA-375280</td>\n",
       "      <td>Serotonin receptors</td>\n",
       "    </tr>\n",
       "    <tr>\n",
       "      <th>409</th>\n",
       "      <td>R-HSA-3229121</td>\n",
       "      <td>R-HSA-5663084</td>\n",
       "      <td>Glycogen storage diseases</td>\n",
       "    </tr>\n",
       "    <tr>\n",
       "      <th>410</th>\n",
       "      <td>R-HSA-427359</td>\n",
       "      <td>R-HSA-5250941</td>\n",
       "      <td>SIRT1 negatively regulates rRNA expression</td>\n",
       "    </tr>\n",
       "    <tr>\n",
       "      <th>411</th>\n",
       "      <td>R-HSA-1462054</td>\n",
       "      <td>R-HSA-1461973</td>\n",
       "      <td>Alpha-defensins</td>\n",
       "    </tr>\n",
       "    <tr>\n",
       "      <th>412</th>\n",
       "      <td>R-HSA-83936</td>\n",
       "      <td>R-HSA-425397</td>\n",
       "      <td>Transport of nucleosides and free purine and p...</td>\n",
       "    </tr>\n",
       "  </tbody>\n",
       "</table>\n",
       "<p>413 rows × 3 columns</p>\n",
       "</div>"
      ],
      "text/plain": [
       "                ID       parentId  \\\n",
       "0     R-HSA-162582            NaN   \n",
       "1     R-HSA-212436    R-HSA-73857   \n",
       "2      R-HSA-73857    R-HSA-74160   \n",
       "3      R-HSA-74160            NaN   \n",
       "4    R-HSA-2173796  R-HSA-2173793   \n",
       "..             ...            ...   \n",
       "408   R-HSA-390666   R-HSA-375280   \n",
       "409  R-HSA-3229121  R-HSA-5663084   \n",
       "410   R-HSA-427359  R-HSA-5250941   \n",
       "411  R-HSA-1462054  R-HSA-1461973   \n",
       "412    R-HSA-83936   R-HSA-425397   \n",
       "\n",
       "                                                  Term  \n",
       "0                                  Signal Transduction  \n",
       "1                        Generic Transcription Pathway  \n",
       "2                      RNA Polymerase II Transcription  \n",
       "3                      Gene expression (Transcription)  \n",
       "4    SMAD2/SMAD3:SMAD4 heterotrimer regulates trans...  \n",
       "..                                                 ...  \n",
       "408                                Serotonin receptors  \n",
       "409                          Glycogen storage diseases  \n",
       "410         SIRT1 negatively regulates rRNA expression  \n",
       "411                                    Alpha-defensins  \n",
       "412  Transport of nucleosides and free purine and p...  \n",
       "\n",
       "[413 rows x 3 columns]"
      ]
     },
     "execution_count": 8,
     "metadata": {},
     "output_type": "execute_result"
    }
   ],
   "source": [
    "pathway_hieararchy"
   ]
  },
  {
   "cell_type": "code",
   "execution_count": 9,
   "id": "9071ce12",
   "metadata": {},
   "outputs": [],
   "source": [
    "gsea_disease = pd.read_csv(\"/Users/polina/genetics_gsea/data/gsea/from_database/disease_zscore_reactome_2025.tsv\", sep=\"\\t\")"
   ]
  },
  {
   "cell_type": "code",
   "execution_count": 10,
   "id": "76925c80",
   "metadata": {},
   "outputs": [],
   "source": [
    "pathway_hieararchy_gsea = pd.merge(pathway_hieararchy, gsea_disease, left_on=\"ID\", right_on=\"ID\", how=\"left\")[[\"ID\", \"parentId\", \"Term_x\", \"nes\", \"fdr\"]].rename(columns={\"Term_x\": \"Term\"})"
   ]
  },
  {
   "cell_type": "code",
   "execution_count": 17,
   "id": "a745c209",
   "metadata": {},
   "outputs": [],
   "source": [
    "import numpy as np\n",
    "import plotly.express as px"
   ]
  },
  {
   "cell_type": "code",
   "execution_count": 117,
   "id": "d7f84151",
   "metadata": {},
   "outputs": [],
   "source": [
    "import pandas as pd\n",
    "import plotly.express as px\n",
    "\n",
    "def plot_sunburst(df):\n",
    "    df = df.copy()\n",
    "    \n",
    "    # fill NA with ROOT\n",
    "    df[\"parentId\"] = df[\"parentId\"].fillna(\"ROOT\")\n",
    "    \n",
    "    # redirect missing parents to ROOT\n",
    "    valid_ids = set(df[\"ID\"])\n",
    "    df.loc[~df[\"parentId\"].isin(valid_ids) & (df[\"parentId\"] != \"ROOT\"), \"parentId\"] = \"ROOT\"\n",
    "    \n",
    "    # Smart text wrapping and orientation determination (kept for wrapping only)\n",
    "    def wrap_text_and_orient(row):\n",
    "        text = row[\"Term\"]\n",
    "        parent_id = row[\"parentId\"]\n",
    "        \n",
    "        if text == \"Reactome pathways\":\n",
    "            return text, \"horizontal\"  # center label\n",
    "        \n",
    "        if parent_id == \"ROOT\":\n",
    "            orientation = \"radial\"\n",
    "        else:\n",
    "            orientation = \"tangential\"\n",
    "        \n",
    "        # Apply text wrapping\n",
    "        if parent_id == \"ROOT\":\n",
    "            if len(text) <= 10:\n",
    "                wrapped_text = text\n",
    "            elif len(text) <= 10:\n",
    "                words = text.split()\n",
    "                if len(words) >= 2:\n",
    "                    mid = len(words) // 2\n",
    "                    wrapped_text = \" \".join(words[:mid]) + \"<br>\" + \" \".join(words[mid:])\n",
    "                else:\n",
    "                    wrapped_text = text\n",
    "            else:\n",
    "                words = text.split()\n",
    "                if len(words) >= 3:\n",
    "                    third = len(words) // 3\n",
    "                    wrapped_text = \" \".join(words[:third]) + \"<br>\" + \" \".join(words[third:2*third]) + \"<br>\" + \" \".join(words[2*third:])\n",
    "                elif len(words) == 2:\n",
    "                    wrapped_text = words[0] + \"<br>\" + words[1]\n",
    "                else:\n",
    "                    wrapped_text = text\n",
    "        else:\n",
    "            if len(text) <= 20:\n",
    "                wrapped_text = text\n",
    "            elif len(text) <= 30:\n",
    "                words = text.split()\n",
    "                if len(words) >= 2:\n",
    "                    mid = len(words) // 2\n",
    "                    wrapped_text = \" \".join(words[:mid]) + \"<br>\" + \" \".join(words[mid:])\n",
    "                else:\n",
    "                    wrapped_text = text\n",
    "            else:\n",
    "                words = text.split()\n",
    "                if len(words) >= 3:\n",
    "                    third = len(words) // 3\n",
    "                    wrapped_text = \" \".join(words[:third]) + \"<br>\" + \" \".join(words[third:3*third]) + \"<br>\" + \" \".join(words[3*third:])\n",
    "                elif len(words) == 9:\n",
    "                    fourth = len(words) // 9\n",
    "                    wrapped_text = \" \".join(words[:fourth]) + \"<br>\" + \" \".join(words[fourth:9*fourth]) + \"<br>\" + \" \".join(words[9*fourth:])\n",
    "                else:\n",
    "                    wrapped_text = text\n",
    "        \n",
    "        return wrapped_text, orientation\n",
    "    \n",
    "    wrapped_data = df.apply(wrap_text_and_orient, axis=1, result_type='expand')\n",
    "    df[\"wrapped_term\"] = wrapped_data[0]\n",
    "    df[\"text_orientation\"] = wrapped_data[1]\n",
    "    \n",
    "    # add root node\n",
    "    root = pd.DataFrame([{\n",
    "        \"ID\": \"ROOT\", \n",
    "        \"parentId\": \"\", \n",
    "        \"wrapped_term\": \"Reactome pathways\", \n",
    "        \"Term\": \"Reactome pathways\", \n",
    "        \"nes\": 0,\n",
    "        \"text_orientation\": \"horizontal\"\n",
    "    }])\n",
    "    df = pd.concat([df, root], ignore_index=True)\n",
    "\n",
    "    # Colorblind-friendly diverging scale\n",
    "    color_scale = ['#0571b0','#92c5de','#f7f7f7','#f4a582','#ca0020']\n",
    "    \n",
    "    # Per-node text colors: dark grey for center/root, white otherwise\n",
    "    text_colors = ['#2F4F4F' if term == \"Reactome pathways\" else 'white' for term in df[\"Term\"]]\n",
    "    \n",
    "    fig = px.sunburst(\n",
    "        df,\n",
    "        names=\"wrapped_term\",\n",
    "        ids=\"ID\",\n",
    "        parents=\"parentId\",\n",
    "        values=None,\n",
    "        color=\"nes\",\n",
    "        color_continuous_scale=color_scale,\n",
    "        color_continuous_midpoint=0,\n",
    "        branchvalues='total',\n",
    "        width=1100,\n",
    "        height=800\n",
    "    )\n",
    "    \n",
    "    fig.update_layout(\n",
    "        margin=dict(t=50, l=50, r=50, b=50),\n",
    "        coloraxis_colorbar=dict(\n",
    "            title=dict(text=\"NES\", font=dict(size=16)),\n",
    "            tickvals=[df[\"nes\"].min(), 0, df[\"nes\"].max()],\n",
    "            tickfont=dict(size=14),\n",
    "            ticks=\"outside\",\n",
    "            thickness=20,\n",
    "            len=0.6\n",
    "        ),\n",
    "        font=dict(size=14)\n",
    "    )\n",
    "\n",
    "    # Let Plotly choose radial/tangential per sector; center stays horizontal.\n",
    "    fig.update_traces(\n",
    "        insidetextorientation='auto',\n",
    "        textfont=dict(size=14, family=\"Arial\", color=text_colors),\n",
    "        hovertemplate='<b>%{customdata[0]}</b><br>NES: %{color:.2f}<extra></extra>',\n",
    "        customdata=df[[\"Term\"]],\n",
    "        textinfo='label',\n",
    "        texttemplate='<b>%{label}</b>'\n",
    "    )\n",
    "    \n",
    "    return fig\n"
   ]
  },
  {
   "cell_type": "code",
   "execution_count": 118,
   "id": "e62a2d6f",
   "metadata": {},
   "outputs": [],
   "source": [
    "import pandas as pd\n",
    "\n",
    "# Filter pathways by FDR\n",
    "pathway_hieararchy_gsea_filt = pathway_hieararchy_gsea[pathway_hieararchy_gsea[\"fdr\"] < 0.005].copy()\n",
    "\n",
    "# Fill missing parentId with ROOT\n",
    "pathway_hieararchy_gsea_filt[\"parentId\"] = pathway_hieararchy_gsea_filt[\"parentId\"].fillna(\"ROOT\")\n",
    "\n",
    "# Recursively remove rows where parentId is not in ID column (except for ROOT)\n",
    "def filter_orphaned_nodes(df):\n",
    "    valid_ids = set(df[\"ID\"])\n",
    "    \n",
    "    # Keep only rows where parentId is in valid IDs or is ROOT\n",
    "    filtered_df = df[df[\"parentId\"].isin(valid_ids.union({\"ROOT\"}))].copy()\n",
    "    \n",
    "    # If no changes were made, we're done\n",
    "    if len(filtered_df) == len(df):\n",
    "        return filtered_df\n",
    "    \n",
    "    # Otherwise, continue filtering recursively\n",
    "    return filter_orphaned_nodes(filtered_df)\n",
    "\n",
    "# Apply the recursive filtering\n",
    "pathway_hieararchy_gsea_filt_vis = filter_orphaned_nodes(pathway_hieararchy_gsea_filt)\n",
    "\n",
    "# Add new row for 'Other' using pd.concat\n",
    "other_row = pd.DataFrame([{\"ID\": \"Other\", \"Term\": \"Other\", \"nes\": -5, \"parentId\": \"ROOT\"}])\n",
    "pathway_hieararchy_gsea_filt_vis = pd.concat([pathway_hieararchy_gsea_filt_vis, other_row], ignore_index=True)\n",
    "\n",
    "# Optional: save to CSV\n",
    "# pathway_hieararchy_gsea_filt_vis.to_csv(\"/Users/polina/genetics_gsea/data/sunburst/pathway_hieararchy_gsea_filt.csv\", index=False)\n",
    "\n",
    "# If you want to exclude the 'Other' category from the final result\n",
    "pathway_hieararchy_gsea_filt_vis_no_other = pathway_hieararchy_gsea_filt_vis[\n",
    "    (pathway_hieararchy_gsea_filt_vis[\"parentId\"] != \"Other\")\n",
    "]"
   ]
  },
  {
   "cell_type": "code",
   "execution_count": 119,
   "id": "30637684",
   "metadata": {},
   "outputs": [
    {
     "data": {
      "text/html": [
       "<div>\n",
       "<style scoped>\n",
       "    .dataframe tbody tr th:only-of-type {\n",
       "        vertical-align: middle;\n",
       "    }\n",
       "\n",
       "    .dataframe tbody tr th {\n",
       "        vertical-align: top;\n",
       "    }\n",
       "\n",
       "    .dataframe thead th {\n",
       "        text-align: right;\n",
       "    }\n",
       "</style>\n",
       "<table border=\"1\" class=\"dataframe\">\n",
       "  <thead>\n",
       "    <tr style=\"text-align: right;\">\n",
       "      <th></th>\n",
       "      <th>ID</th>\n",
       "      <th>parentId</th>\n",
       "      <th>Term</th>\n",
       "      <th>nes</th>\n",
       "      <th>fdr</th>\n",
       "    </tr>\n",
       "  </thead>\n",
       "  <tbody>\n",
       "    <tr>\n",
       "      <th>0</th>\n",
       "      <td>R-HSA-162582</td>\n",
       "      <td>ROOT</td>\n",
       "      <td>Signal Transduction</td>\n",
       "      <td>5.879025</td>\n",
       "      <td>0.000007</td>\n",
       "    </tr>\n",
       "    <tr>\n",
       "      <th>1</th>\n",
       "      <td>R-HSA-212436</td>\n",
       "      <td>R-HSA-73857</td>\n",
       "      <td>Generic Transcription Pathway</td>\n",
       "      <td>4.456707</td>\n",
       "      <td>0.000382</td>\n",
       "    </tr>\n",
       "    <tr>\n",
       "      <th>2</th>\n",
       "      <td>R-HSA-73857</td>\n",
       "      <td>R-HSA-74160</td>\n",
       "      <td>RNA Polymerase II Transcription</td>\n",
       "      <td>4.202785</td>\n",
       "      <td>0.000634</td>\n",
       "    </tr>\n",
       "    <tr>\n",
       "      <th>3</th>\n",
       "      <td>R-HSA-74160</td>\n",
       "      <td>ROOT</td>\n",
       "      <td>Gene expression (Transcription)</td>\n",
       "      <td>4.022728</td>\n",
       "      <td>0.000928</td>\n",
       "    </tr>\n",
       "    <tr>\n",
       "      <th>4</th>\n",
       "      <td>R-HSA-1280215</td>\n",
       "      <td>R-HSA-168256</td>\n",
       "      <td>Cytokine Signaling in Immune system</td>\n",
       "      <td>4.523809</td>\n",
       "      <td>0.000357</td>\n",
       "    </tr>\n",
       "    <tr>\n",
       "      <th>5</th>\n",
       "      <td>R-HSA-168256</td>\n",
       "      <td>ROOT</td>\n",
       "      <td>Immune System</td>\n",
       "      <td>4.273209</td>\n",
       "      <td>0.000557</td>\n",
       "    </tr>\n",
       "    <tr>\n",
       "      <th>6</th>\n",
       "      <td>R-HSA-1266738</td>\n",
       "      <td>ROOT</td>\n",
       "      <td>Developmental Biology</td>\n",
       "      <td>4.117902</td>\n",
       "      <td>0.000737</td>\n",
       "    </tr>\n",
       "    <tr>\n",
       "      <th>7</th>\n",
       "      <td>R-HSA-1643685</td>\n",
       "      <td>ROOT</td>\n",
       "      <td>Disease</td>\n",
       "      <td>3.556823</td>\n",
       "      <td>0.003337</td>\n",
       "    </tr>\n",
       "    <tr>\n",
       "      <th>8</th>\n",
       "      <td>R-HSA-449147</td>\n",
       "      <td>R-HSA-1280215</td>\n",
       "      <td>Signaling by Interleukins</td>\n",
       "      <td>3.410020</td>\n",
       "      <td>0.004928</td>\n",
       "    </tr>\n",
       "    <tr>\n",
       "      <th>9</th>\n",
       "      <td>R-HSA-8963743</td>\n",
       "      <td>ROOT</td>\n",
       "      <td>Digestion and absorption</td>\n",
       "      <td>-3.887837</td>\n",
       "      <td>0.001404</td>\n",
       "    </tr>\n",
       "    <tr>\n",
       "      <th>10</th>\n",
       "      <td>R-HSA-8935690</td>\n",
       "      <td>R-HSA-8963743</td>\n",
       "      <td>Digestion</td>\n",
       "      <td>-3.783465</td>\n",
       "      <td>0.001808</td>\n",
       "    </tr>\n",
       "    <tr>\n",
       "      <th>11</th>\n",
       "      <td>R-HSA-5682910</td>\n",
       "      <td>R-HSA-1266738</td>\n",
       "      <td>LGI-ADAM interactions</td>\n",
       "      <td>-4.339900</td>\n",
       "      <td>0.000507</td>\n",
       "    </tr>\n",
       "    <tr>\n",
       "      <th>12</th>\n",
       "      <td>R-HSA-77075</td>\n",
       "      <td>R-HSA-73857</td>\n",
       "      <td>RNA Pol II CTD phosphorylation and interaction...</td>\n",
       "      <td>-4.862360</td>\n",
       "      <td>0.000214</td>\n",
       "    </tr>\n",
       "    <tr>\n",
       "      <th>13</th>\n",
       "      <td>R-HSA-73779</td>\n",
       "      <td>R-HSA-73857</td>\n",
       "      <td>RNA Polymerase II Transcription Pre-Initiation...</td>\n",
       "      <td>-4.688520</td>\n",
       "      <td>0.000214</td>\n",
       "    </tr>\n",
       "    <tr>\n",
       "      <th>14</th>\n",
       "      <td>R-HSA-76042</td>\n",
       "      <td>R-HSA-73857</td>\n",
       "      <td>RNA Polymerase II Transcription Initiation And...</td>\n",
       "      <td>-4.688520</td>\n",
       "      <td>0.000214</td>\n",
       "    </tr>\n",
       "    <tr>\n",
       "      <th>15</th>\n",
       "      <td>R-HSA-75953</td>\n",
       "      <td>R-HSA-76042</td>\n",
       "      <td>RNA Polymerase II Transcription Initiation</td>\n",
       "      <td>-4.688520</td>\n",
       "      <td>0.000214</td>\n",
       "    </tr>\n",
       "    <tr>\n",
       "      <th>16</th>\n",
       "      <td>R-HSA-73776</td>\n",
       "      <td>R-HSA-76042</td>\n",
       "      <td>RNA Polymerase II Promoter Escape</td>\n",
       "      <td>-4.688520</td>\n",
       "      <td>0.000214</td>\n",
       "    </tr>\n",
       "    <tr>\n",
       "      <th>17</th>\n",
       "      <td>Other</td>\n",
       "      <td>ROOT</td>\n",
       "      <td>Other</td>\n",
       "      <td>-5.000000</td>\n",
       "      <td>NaN</td>\n",
       "    </tr>\n",
       "  </tbody>\n",
       "</table>\n",
       "</div>"
      ],
      "text/plain": [
       "               ID       parentId  \\\n",
       "0    R-HSA-162582           ROOT   \n",
       "1    R-HSA-212436    R-HSA-73857   \n",
       "2     R-HSA-73857    R-HSA-74160   \n",
       "3     R-HSA-74160           ROOT   \n",
       "4   R-HSA-1280215   R-HSA-168256   \n",
       "5    R-HSA-168256           ROOT   \n",
       "6   R-HSA-1266738           ROOT   \n",
       "7   R-HSA-1643685           ROOT   \n",
       "8    R-HSA-449147  R-HSA-1280215   \n",
       "9   R-HSA-8963743           ROOT   \n",
       "10  R-HSA-8935690  R-HSA-8963743   \n",
       "11  R-HSA-5682910  R-HSA-1266738   \n",
       "12    R-HSA-77075    R-HSA-73857   \n",
       "13    R-HSA-73779    R-HSA-73857   \n",
       "14    R-HSA-76042    R-HSA-73857   \n",
       "15    R-HSA-75953    R-HSA-76042   \n",
       "16    R-HSA-73776    R-HSA-76042   \n",
       "17          Other           ROOT   \n",
       "\n",
       "                                                 Term       nes       fdr  \n",
       "0                                 Signal Transduction  5.879025  0.000007  \n",
       "1                       Generic Transcription Pathway  4.456707  0.000382  \n",
       "2                     RNA Polymerase II Transcription  4.202785  0.000634  \n",
       "3                     Gene expression (Transcription)  4.022728  0.000928  \n",
       "4                 Cytokine Signaling in Immune system  4.523809  0.000357  \n",
       "5                                       Immune System  4.273209  0.000557  \n",
       "6                               Developmental Biology  4.117902  0.000737  \n",
       "7                                             Disease  3.556823  0.003337  \n",
       "8                           Signaling by Interleukins  3.410020  0.004928  \n",
       "9                            Digestion and absorption -3.887837  0.001404  \n",
       "10                                          Digestion -3.783465  0.001808  \n",
       "11                              LGI-ADAM interactions -4.339900  0.000507  \n",
       "12  RNA Pol II CTD phosphorylation and interaction... -4.862360  0.000214  \n",
       "13  RNA Polymerase II Transcription Pre-Initiation... -4.688520  0.000214  \n",
       "14  RNA Polymerase II Transcription Initiation And... -4.688520  0.000214  \n",
       "15         RNA Polymerase II Transcription Initiation -4.688520  0.000214  \n",
       "16                  RNA Polymerase II Promoter Escape -4.688520  0.000214  \n",
       "17                                              Other -5.000000       NaN  "
      ]
     },
     "execution_count": 119,
     "metadata": {},
     "output_type": "execute_result"
    }
   ],
   "source": [
    "pathway_hieararchy_gsea_filt_vis_no_other"
   ]
  },
  {
   "cell_type": "code",
   "execution_count": 120,
   "id": "345c0c1d",
   "metadata": {},
   "outputs": [
    {
     "data": {
      "application/vnd.plotly.v1+json": {
       "config": {
        "plotlyServerURL": "https://plot.ly"
       },
       "data": [
        {
         "branchvalues": "total",
         "customdata": [
          [
           "Signal Transduction"
          ],
          [
           "Generic Transcription Pathway"
          ],
          [
           "RNA Polymerase II Transcription"
          ],
          [
           "Gene expression (Transcription)"
          ],
          [
           "Cytokine Signaling in Immune system"
          ],
          [
           "Immune System"
          ],
          [
           "Developmental Biology"
          ],
          [
           "Disease"
          ],
          [
           "Signaling by Interleukins"
          ],
          [
           "Digestion and absorption"
          ],
          [
           "Digestion"
          ],
          [
           "LGI-ADAM interactions"
          ],
          [
           "RNA Pol II CTD phosphorylation and interaction with CE"
          ],
          [
           "RNA Polymerase II Transcription Pre-Initiation And Promoter Opening"
          ],
          [
           "RNA Polymerase II Transcription Initiation And Promoter Clearance"
          ],
          [
           "RNA Polymerase II Transcription Initiation"
          ],
          [
           "RNA Polymerase II Promoter Escape"
          ],
          [
           "Other"
          ],
          [
           "Reactome pathways"
          ]
         ],
         "domain": {
          "x": [
           0,
           1
          ],
          "y": [
           0,
           1
          ]
         },
         "hovertemplate": "<b>%{customdata[0]}</b><br>NES: %{color:.2f}<extra></extra>",
         "ids": [
          "R-HSA-162582",
          "R-HSA-212436",
          "R-HSA-73857",
          "R-HSA-74160",
          "R-HSA-1280215",
          "R-HSA-168256",
          "R-HSA-1266738",
          "R-HSA-1643685",
          "R-HSA-449147",
          "R-HSA-8963743",
          "R-HSA-8935690",
          "R-HSA-5682910",
          "R-HSA-77075",
          "R-HSA-73779",
          "R-HSA-76042",
          "R-HSA-75953",
          "R-HSA-73776",
          "Other",
          "ROOT"
         ],
         "insidetextorientation": "auto",
         "labels": [
          "Signal<br>Transduction",
          "Generic<br>Transcription Pathway",
          "RNA<br>Polymerase II<br>Transcription",
          "Gene<br>expression<br>(Transcription)",
          "Cytokine<br>Signaling in<br>Immune system",
          "Immune<br>System",
          "Developmental<br>Biology",
          "Disease",
          "Signaling<br>by Interleukins",
          "Digestion<br>and<br>absorption",
          "Digestion",
          "LGI-ADAM<br>interactions",
          "RNA Pol II<br>CTD phosphorylation and interaction with CE<br>",
          "RNA Polymerase<br>II Transcription Pre-Initiation And<br>Promoter Opening",
          "RNA Polymerase<br>II Transcription Initiation And<br>Promoter Clearance",
          "RNA<br>Polymerase II<br>Transcription Initiation",
          "RNA<br>Polymerase II<br>Promoter Escape",
          "Other",
          "Reactome pathways"
         ],
         "marker": {
          "coloraxis": "coloraxis",
          "colors": {
           "bdata": "IW4cBx+EF0DcyMrpqtMRQGIM5MumzxBAg0s080UXEEARHrNxYRgSQCnZlzXEFxFAfvdJUbt4EEAm4XaUX3QMQE2EL824RwtApJiOIUoaD8AJv/tXiUQOwP6Ic70OXBHA0l/dfQ5zE8BKcspBC8ESwEpyykELwRLASnLKQQvBEsBKcspBC8ESwAAAAAAAABTAAAAAAAAAAAA=",
           "dtype": "f8"
          }
         },
         "name": "",
         "parents": [
          "ROOT",
          "R-HSA-73857",
          "R-HSA-74160",
          "ROOT",
          "R-HSA-168256",
          "ROOT",
          "ROOT",
          "ROOT",
          "R-HSA-1280215",
          "ROOT",
          "R-HSA-8963743",
          "R-HSA-1266738",
          "R-HSA-73857",
          "R-HSA-73857",
          "R-HSA-73857",
          "R-HSA-76042",
          "R-HSA-76042",
          "ROOT",
          ""
         ],
         "textfont": {
          "color": [
           "white",
           "white",
           "white",
           "white",
           "white",
           "white",
           "white",
           "white",
           "white",
           "white",
           "white",
           "white",
           "white",
           "white",
           "white",
           "white",
           "white",
           "white",
           "#2F4F4F"
          ],
          "family": "Arial",
          "size": 14
         },
         "textinfo": "label",
         "texttemplate": "<b>%{label}</b>",
         "type": "sunburst"
        }
       ],
       "layout": {
        "coloraxis": {
         "cmid": 0,
         "colorbar": {
          "len": 0.6,
          "thickness": 20,
          "tickfont": {
           "size": 14
          },
          "ticks": "outside",
          "tickvals": [
           -5,
           0,
           5.879024611578218
          ],
          "title": {
           "font": {
            "size": 16
           },
           "text": "NES"
          }
         },
         "colorscale": [
          [
           0,
           "#0571b0"
          ],
          [
           0.25,
           "#92c5de"
          ],
          [
           0.5,
           "#f7f7f7"
          ],
          [
           0.75,
           "#f4a582"
          ],
          [
           1,
           "#ca0020"
          ]
         ]
        },
        "font": {
         "size": 14
        },
        "height": 800,
        "legend": {
         "tracegroupgap": 0
        },
        "margin": {
         "b": 50,
         "l": 50,
         "r": 50,
         "t": 50
        },
        "template": {
         "data": {
          "bar": [
           {
            "error_x": {
             "color": "#2a3f5f"
            },
            "error_y": {
             "color": "#2a3f5f"
            },
            "marker": {
             "line": {
              "color": "#E5ECF6",
              "width": 0.5
             },
             "pattern": {
              "fillmode": "overlay",
              "size": 10,
              "solidity": 0.2
             }
            },
            "type": "bar"
           }
          ],
          "barpolar": [
           {
            "marker": {
             "line": {
              "color": "#E5ECF6",
              "width": 0.5
             },
             "pattern": {
              "fillmode": "overlay",
              "size": 10,
              "solidity": 0.2
             }
            },
            "type": "barpolar"
           }
          ],
          "carpet": [
           {
            "aaxis": {
             "endlinecolor": "#2a3f5f",
             "gridcolor": "white",
             "linecolor": "white",
             "minorgridcolor": "white",
             "startlinecolor": "#2a3f5f"
            },
            "baxis": {
             "endlinecolor": "#2a3f5f",
             "gridcolor": "white",
             "linecolor": "white",
             "minorgridcolor": "white",
             "startlinecolor": "#2a3f5f"
            },
            "type": "carpet"
           }
          ],
          "choropleth": [
           {
            "colorbar": {
             "outlinewidth": 0,
             "ticks": ""
            },
            "type": "choropleth"
           }
          ],
          "contour": [
           {
            "colorbar": {
             "outlinewidth": 0,
             "ticks": ""
            },
            "colorscale": [
             [
              0,
              "#0d0887"
             ],
             [
              0.1111111111111111,
              "#46039f"
             ],
             [
              0.2222222222222222,
              "#7201a8"
             ],
             [
              0.3333333333333333,
              "#9c179e"
             ],
             [
              0.4444444444444444,
              "#bd3786"
             ],
             [
              0.5555555555555556,
              "#d8576b"
             ],
             [
              0.6666666666666666,
              "#ed7953"
             ],
             [
              0.7777777777777778,
              "#fb9f3a"
             ],
             [
              0.8888888888888888,
              "#fdca26"
             ],
             [
              1,
              "#f0f921"
             ]
            ],
            "type": "contour"
           }
          ],
          "contourcarpet": [
           {
            "colorbar": {
             "outlinewidth": 0,
             "ticks": ""
            },
            "type": "contourcarpet"
           }
          ],
          "heatmap": [
           {
            "colorbar": {
             "outlinewidth": 0,
             "ticks": ""
            },
            "colorscale": [
             [
              0,
              "#0d0887"
             ],
             [
              0.1111111111111111,
              "#46039f"
             ],
             [
              0.2222222222222222,
              "#7201a8"
             ],
             [
              0.3333333333333333,
              "#9c179e"
             ],
             [
              0.4444444444444444,
              "#bd3786"
             ],
             [
              0.5555555555555556,
              "#d8576b"
             ],
             [
              0.6666666666666666,
              "#ed7953"
             ],
             [
              0.7777777777777778,
              "#fb9f3a"
             ],
             [
              0.8888888888888888,
              "#fdca26"
             ],
             [
              1,
              "#f0f921"
             ]
            ],
            "type": "heatmap"
           }
          ],
          "histogram": [
           {
            "marker": {
             "pattern": {
              "fillmode": "overlay",
              "size": 10,
              "solidity": 0.2
             }
            },
            "type": "histogram"
           }
          ],
          "histogram2d": [
           {
            "colorbar": {
             "outlinewidth": 0,
             "ticks": ""
            },
            "colorscale": [
             [
              0,
              "#0d0887"
             ],
             [
              0.1111111111111111,
              "#46039f"
             ],
             [
              0.2222222222222222,
              "#7201a8"
             ],
             [
              0.3333333333333333,
              "#9c179e"
             ],
             [
              0.4444444444444444,
              "#bd3786"
             ],
             [
              0.5555555555555556,
              "#d8576b"
             ],
             [
              0.6666666666666666,
              "#ed7953"
             ],
             [
              0.7777777777777778,
              "#fb9f3a"
             ],
             [
              0.8888888888888888,
              "#fdca26"
             ],
             [
              1,
              "#f0f921"
             ]
            ],
            "type": "histogram2d"
           }
          ],
          "histogram2dcontour": [
           {
            "colorbar": {
             "outlinewidth": 0,
             "ticks": ""
            },
            "colorscale": [
             [
              0,
              "#0d0887"
             ],
             [
              0.1111111111111111,
              "#46039f"
             ],
             [
              0.2222222222222222,
              "#7201a8"
             ],
             [
              0.3333333333333333,
              "#9c179e"
             ],
             [
              0.4444444444444444,
              "#bd3786"
             ],
             [
              0.5555555555555556,
              "#d8576b"
             ],
             [
              0.6666666666666666,
              "#ed7953"
             ],
             [
              0.7777777777777778,
              "#fb9f3a"
             ],
             [
              0.8888888888888888,
              "#fdca26"
             ],
             [
              1,
              "#f0f921"
             ]
            ],
            "type": "histogram2dcontour"
           }
          ],
          "mesh3d": [
           {
            "colorbar": {
             "outlinewidth": 0,
             "ticks": ""
            },
            "type": "mesh3d"
           }
          ],
          "parcoords": [
           {
            "line": {
             "colorbar": {
              "outlinewidth": 0,
              "ticks": ""
             }
            },
            "type": "parcoords"
           }
          ],
          "pie": [
           {
            "automargin": true,
            "type": "pie"
           }
          ],
          "scatter": [
           {
            "fillpattern": {
             "fillmode": "overlay",
             "size": 10,
             "solidity": 0.2
            },
            "type": "scatter"
           }
          ],
          "scatter3d": [
           {
            "line": {
             "colorbar": {
              "outlinewidth": 0,
              "ticks": ""
             }
            },
            "marker": {
             "colorbar": {
              "outlinewidth": 0,
              "ticks": ""
             }
            },
            "type": "scatter3d"
           }
          ],
          "scattercarpet": [
           {
            "marker": {
             "colorbar": {
              "outlinewidth": 0,
              "ticks": ""
             }
            },
            "type": "scattercarpet"
           }
          ],
          "scattergeo": [
           {
            "marker": {
             "colorbar": {
              "outlinewidth": 0,
              "ticks": ""
             }
            },
            "type": "scattergeo"
           }
          ],
          "scattergl": [
           {
            "marker": {
             "colorbar": {
              "outlinewidth": 0,
              "ticks": ""
             }
            },
            "type": "scattergl"
           }
          ],
          "scattermap": [
           {
            "marker": {
             "colorbar": {
              "outlinewidth": 0,
              "ticks": ""
             }
            },
            "type": "scattermap"
           }
          ],
          "scattermapbox": [
           {
            "marker": {
             "colorbar": {
              "outlinewidth": 0,
              "ticks": ""
             }
            },
            "type": "scattermapbox"
           }
          ],
          "scatterpolar": [
           {
            "marker": {
             "colorbar": {
              "outlinewidth": 0,
              "ticks": ""
             }
            },
            "type": "scatterpolar"
           }
          ],
          "scatterpolargl": [
           {
            "marker": {
             "colorbar": {
              "outlinewidth": 0,
              "ticks": ""
             }
            },
            "type": "scatterpolargl"
           }
          ],
          "scatterternary": [
           {
            "marker": {
             "colorbar": {
              "outlinewidth": 0,
              "ticks": ""
             }
            },
            "type": "scatterternary"
           }
          ],
          "surface": [
           {
            "colorbar": {
             "outlinewidth": 0,
             "ticks": ""
            },
            "colorscale": [
             [
              0,
              "#0d0887"
             ],
             [
              0.1111111111111111,
              "#46039f"
             ],
             [
              0.2222222222222222,
              "#7201a8"
             ],
             [
              0.3333333333333333,
              "#9c179e"
             ],
             [
              0.4444444444444444,
              "#bd3786"
             ],
             [
              0.5555555555555556,
              "#d8576b"
             ],
             [
              0.6666666666666666,
              "#ed7953"
             ],
             [
              0.7777777777777778,
              "#fb9f3a"
             ],
             [
              0.8888888888888888,
              "#fdca26"
             ],
             [
              1,
              "#f0f921"
             ]
            ],
            "type": "surface"
           }
          ],
          "table": [
           {
            "cells": {
             "fill": {
              "color": "#EBF0F8"
             },
             "line": {
              "color": "white"
             }
            },
            "header": {
             "fill": {
              "color": "#C8D4E3"
             },
             "line": {
              "color": "white"
             }
            },
            "type": "table"
           }
          ]
         },
         "layout": {
          "annotationdefaults": {
           "arrowcolor": "#2a3f5f",
           "arrowhead": 0,
           "arrowwidth": 1
          },
          "autotypenumbers": "strict",
          "coloraxis": {
           "colorbar": {
            "outlinewidth": 0,
            "ticks": ""
           }
          },
          "colorscale": {
           "diverging": [
            [
             0,
             "#8e0152"
            ],
            [
             0.1,
             "#c51b7d"
            ],
            [
             0.2,
             "#de77ae"
            ],
            [
             0.3,
             "#f1b6da"
            ],
            [
             0.4,
             "#fde0ef"
            ],
            [
             0.5,
             "#f7f7f7"
            ],
            [
             0.6,
             "#e6f5d0"
            ],
            [
             0.7,
             "#b8e186"
            ],
            [
             0.8,
             "#7fbc41"
            ],
            [
             0.9,
             "#4d9221"
            ],
            [
             1,
             "#276419"
            ]
           ],
           "sequential": [
            [
             0,
             "#0d0887"
            ],
            [
             0.1111111111111111,
             "#46039f"
            ],
            [
             0.2222222222222222,
             "#7201a8"
            ],
            [
             0.3333333333333333,
             "#9c179e"
            ],
            [
             0.4444444444444444,
             "#bd3786"
            ],
            [
             0.5555555555555556,
             "#d8576b"
            ],
            [
             0.6666666666666666,
             "#ed7953"
            ],
            [
             0.7777777777777778,
             "#fb9f3a"
            ],
            [
             0.8888888888888888,
             "#fdca26"
            ],
            [
             1,
             "#f0f921"
            ]
           ],
           "sequentialminus": [
            [
             0,
             "#0d0887"
            ],
            [
             0.1111111111111111,
             "#46039f"
            ],
            [
             0.2222222222222222,
             "#7201a8"
            ],
            [
             0.3333333333333333,
             "#9c179e"
            ],
            [
             0.4444444444444444,
             "#bd3786"
            ],
            [
             0.5555555555555556,
             "#d8576b"
            ],
            [
             0.6666666666666666,
             "#ed7953"
            ],
            [
             0.7777777777777778,
             "#fb9f3a"
            ],
            [
             0.8888888888888888,
             "#fdca26"
            ],
            [
             1,
             "#f0f921"
            ]
           ]
          },
          "colorway": [
           "#636efa",
           "#EF553B",
           "#00cc96",
           "#ab63fa",
           "#FFA15A",
           "#19d3f3",
           "#FF6692",
           "#B6E880",
           "#FF97FF",
           "#FECB52"
          ],
          "font": {
           "color": "#2a3f5f"
          },
          "geo": {
           "bgcolor": "white",
           "lakecolor": "white",
           "landcolor": "#E5ECF6",
           "showlakes": true,
           "showland": true,
           "subunitcolor": "white"
          },
          "hoverlabel": {
           "align": "left"
          },
          "hovermode": "closest",
          "mapbox": {
           "style": "light"
          },
          "paper_bgcolor": "white",
          "plot_bgcolor": "#E5ECF6",
          "polar": {
           "angularaxis": {
            "gridcolor": "white",
            "linecolor": "white",
            "ticks": ""
           },
           "bgcolor": "#E5ECF6",
           "radialaxis": {
            "gridcolor": "white",
            "linecolor": "white",
            "ticks": ""
           }
          },
          "scene": {
           "xaxis": {
            "backgroundcolor": "#E5ECF6",
            "gridcolor": "white",
            "gridwidth": 2,
            "linecolor": "white",
            "showbackground": true,
            "ticks": "",
            "zerolinecolor": "white"
           },
           "yaxis": {
            "backgroundcolor": "#E5ECF6",
            "gridcolor": "white",
            "gridwidth": 2,
            "linecolor": "white",
            "showbackground": true,
            "ticks": "",
            "zerolinecolor": "white"
           },
           "zaxis": {
            "backgroundcolor": "#E5ECF6",
            "gridcolor": "white",
            "gridwidth": 2,
            "linecolor": "white",
            "showbackground": true,
            "ticks": "",
            "zerolinecolor": "white"
           }
          },
          "shapedefaults": {
           "line": {
            "color": "#2a3f5f"
           }
          },
          "ternary": {
           "aaxis": {
            "gridcolor": "white",
            "linecolor": "white",
            "ticks": ""
           },
           "baxis": {
            "gridcolor": "white",
            "linecolor": "white",
            "ticks": ""
           },
           "bgcolor": "#E5ECF6",
           "caxis": {
            "gridcolor": "white",
            "linecolor": "white",
            "ticks": ""
           }
          },
          "title": {
           "x": 0.05
          },
          "xaxis": {
           "automargin": true,
           "gridcolor": "white",
           "linecolor": "white",
           "ticks": "",
           "title": {
            "standoff": 15
           },
           "zerolinecolor": "white",
           "zerolinewidth": 2
          },
          "yaxis": {
           "automargin": true,
           "gridcolor": "white",
           "linecolor": "white",
           "ticks": "",
           "title": {
            "standoff": 15
           },
           "zerolinecolor": "white",
           "zerolinewidth": 2
          }
         }
        },
        "width": 1100
       }
      }
     },
     "metadata": {},
     "output_type": "display_data"
    }
   ],
   "source": [
    "fig = plot_sunburst(pathway_hieararchy_gsea_filt_vis_no_other)\n",
    "fig.show()"
   ]
  },
  {
   "cell_type": "code",
   "execution_count": null,
   "id": "d996c5e3",
   "metadata": {},
   "outputs": [],
   "source": []
  },
  {
   "cell_type": "code",
   "execution_count": null,
   "id": "b7540929",
   "metadata": {},
   "outputs": [],
   "source": []
  }
 ],
 "metadata": {
  "kernelspec": {
   "display_name": "Python 3",
   "language": "python",
   "name": "python3"
  },
  "language_info": {
   "codemirror_mode": {
    "name": "ipython",
    "version": 3
   },
   "file_extension": ".py",
   "mimetype": "text/x-python",
   "name": "python",
   "nbconvert_exporter": "python",
   "pygments_lexer": "ipython3",
   "version": "3.11.6"
  }
 },
 "nbformat": 4,
 "nbformat_minor": 5
}
