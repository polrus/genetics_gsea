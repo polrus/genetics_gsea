{
 "cells": [
  {
   "cell_type": "markdown",
   "id": "f3ef7697",
   "metadata": {},
   "source": [
    "Prepare gene sets from facets obtained from gs://open-targets-pre-data-releases/25.06/view/search_facet_target/"
   ]
  },
  {
   "cell_type": "code",
   "execution_count": 8,
   "id": "0fa56cab",
   "metadata": {},
   "outputs": [],
   "source": [
    "from pyspark.sql import SparkSession\n",
    "from pyspark.sql.functions import col\n",
    "from pyspark.sql import functions as F"
   ]
  },
  {
   "cell_type": "code",
   "execution_count": 2,
   "id": "aa1282fb",
   "metadata": {},
   "outputs": [
    {
     "name": "stderr",
     "output_type": "stream",
     "text": [
      "WARNING: Using incubator modules: jdk.incubator.vector\n",
      "Using Spark's default log4j profile: org/apache/spark/log4j2-defaults.properties\n",
      "Setting default log level to \"WARN\".\n",
      "To adjust logging level use sc.setLogLevel(newLevel). For SparkR, use setLogLevel(newLevel).\n",
      "25/08/26 14:52:57 WARN NativeCodeLoader: Unable to load native-hadoop library for your platform... using builtin-java classes where applicable\n",
      "25/08/26 14:52:57 WARN Utils: Service 'SparkUI' could not bind on port 4040. Attempting port 4041.\n"
     ]
    }
   ],
   "source": [
    "spark = SparkSession.builder.getOrCreate()"
   ]
  },
  {
   "cell_type": "code",
   "execution_count": 3,
   "id": "a506e7ce",
   "metadata": {},
   "outputs": [],
   "source": [
    "facets = spark.read.parquet(\"/Users/polina/Pathwaganda/data/search_facet_target\")"
   ]
  },
  {
   "cell_type": "code",
   "execution_count": 4,
   "id": "7b033d91",
   "metadata": {},
   "outputs": [
    {
     "name": "stdout",
     "output_type": "stream",
     "text": [
      "+-----------------------------+\n",
      "|category                     |\n",
      "+-----------------------------+\n",
      "|Approved Name                |\n",
      "|Approved Symbol              |\n",
      "|Target ID                    |\n",
      "|GO:CC                        |\n",
      "|GO:MF                        |\n",
      "|GO:BP                        |\n",
      "|Subcellular Location         |\n",
      "|Tractability PROTAC          |\n",
      "|Tractability Other Modalities|\n",
      "|Tractability Antibody        |\n",
      "|Reactome                     |\n",
      "|Tractability Small Molecule  |\n",
      "|ChEMBL Target Class          |\n",
      "+-----------------------------+\n",
      "\n"
     ]
    },
    {
     "name": "stderr",
     "output_type": "stream",
     "text": [
      "                                                                                \r"
     ]
    }
   ],
   "source": [
    "facets.select(\"category\").distinct().show(truncate=False)"
   ]
  },
  {
   "cell_type": "code",
   "execution_count": 7,
   "id": "759103d5",
   "metadata": {},
   "outputs": [
    {
     "name": "stdout",
     "output_type": "stream",
     "text": [
      "+--------------------+--------------------+--------------------+------------+\n",
      "|               label|            category|           entityIds|datasourceId|\n",
      "+--------------------+--------------------+--------------------+------------+\n",
      "|            Acrosome|Subcellular Location|[ENSG00000176988,...|        NULL|\n",
      "|     Actin filaments|Subcellular Location|[ENSG00000118407,...|     SL-0090|\n",
      "|           Aggresome|Subcellular Location|[ENSG00000004975,...|        NULL|\n",
      "|             Annulus|Subcellular Location|[ENSG00000130363,...|        NULL|\n",
      "|Apical cell membrane|Subcellular Location|[ENSG00000086548,...|     SL-0015|\n",
      "|Apicolateral cell...|Subcellular Location|[ENSG00000137860,...|     SL-0017|\n",
      "|        Autolysosome|Subcellular Location|[ENSG00000087086,...|     SL-0535|\n",
      "|Autolysosome memb...|Subcellular Location|   [ENSG00000225190]|     SL-0536|\n",
      "|          Basal body|Subcellular Location|[ENSG00000248144,...|        NULL|\n",
      "| Basal cell membrane|Subcellular Location|[ENSG00000134538,...|     SL-0024|\n",
      "|Basolateral cell ...|Subcellular Location|[ENSG00000111181,...|     SL-0026|\n",
      "|               Calyx|Subcellular Location|[ENSG00000002549,...|        NULL|\n",
      "|      Cell Junctions|Subcellular Location|[ENSG00000124171,...|     SL-0038|\n",
      "|       Cell junction|Subcellular Location|[ENSG00000124171,...|     SL-0038|\n",
      "|       Cell membrane|Subcellular Location|[ENSG00000099715,...|     SL-0039|\n",
      "|     Cell projection|Subcellular Location|[ENSG00000175538,...|     SL-0280|\n",
      "|        Cell surface|Subcellular Location|[ENSG00000086062,...|     SL-0310|\n",
      "|            Cell tip|Subcellular Location|   [ENSG00000175084]|     SL-0456|\n",
      "|Centriolar satellite|Subcellular Location|[ENSG00000083535,...|     SL-0485|\n",
      "|          Centrosome|Subcellular Location|[ENSG00000163462,...|     SL-0048|\n",
      "+--------------------+--------------------+--------------------+------------+\n",
      "only showing top 20 rows\n"
     ]
    }
   ],
   "source": [
    "facets.filter(col(\"category\") == \"Subcellular Location\").show()"
   ]
  },
  {
   "cell_type": "code",
   "execution_count": 16,
   "id": "fc35dfb7",
   "metadata": {},
   "outputs": [],
   "source": [
    "import pandas as pd\n",
    "\n",
    "def export_gmt_files(spark_df, categories, output_dir):\n",
    "    df = spark_df.withColumn(\n",
    "        \"Term\", \n",
    "        F.concat_ws(\"\", F.col(\"label\"), F.lit(\"[\"), F.col(\"datasourceId\"), F.lit(\"]\"))\n",
    "    )\n",
    "\n",
    "    for cat in categories:\n",
    "        df_cat = df.filter(F.col(\"category\") == cat)\n",
    "        df_cat = df_cat.withColumn(\"entityId\", F.explode(\"entityIds\"))\n",
    "\n",
    "        df_grouped = (df_cat.groupBy(\"Term\")\n",
    "                             .agg(F.collect_list(\"entityId\").alias(\"entities\")))\n",
    "\n",
    "        # Convert Spark -> Pandas\n",
    "        pdf = df_grouped.toPandas()\n",
    "\n",
    "        # Format into GMT lines\n",
    "        pdf[\"gmt_line\"] = pdf.apply(\n",
    "            lambda row: row[\"Term\"] + \"\\t\" + \"\\t\".join(row[\"entities\"]),\n",
    "            axis=1\n",
    "        )\n",
    "\n",
    "        # Save as a single .gmt file\n",
    "        output_path = f\"{output_dir}/{cat}.gmt\"\n",
    "        pdf[\"gmt_line\"].to_csv(output_path, index=False, header=False)\n"
   ]
  },
  {
   "cell_type": "code",
   "execution_count": 17,
   "id": "41dc5d48",
   "metadata": {},
   "outputs": [],
   "source": [
    "categories = [\"Reactome\", \"GO:BP\", \"GO:MF\", \"GO:CC\", \"Subcellular Location\", \"ChEMBL Target Class\"]\n",
    "export_gmt_files(facets, categories, \"../data/gmt/from_facets\")"
   ]
  },
  {
   "cell_type": "code",
   "execution_count": null,
   "id": "d790a91d",
   "metadata": {},
   "outputs": [],
   "source": []
  }
 ],
 "metadata": {
  "kernelspec": {
   "display_name": "Python 3",
   "language": "python",
   "name": "python3"
  },
  "language_info": {
   "codemirror_mode": {
    "name": "ipython",
    "version": 3
   },
   "file_extension": ".py",
   "mimetype": "text/x-python",
   "name": "python",
   "nbconvert_exporter": "python",
   "pygments_lexer": "ipython3",
   "version": "3.11.6"
  }
 },
 "nbformat": 4,
 "nbformat_minor": 5
}
