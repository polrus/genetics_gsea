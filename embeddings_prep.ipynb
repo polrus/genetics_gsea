{
 "cells": [
  {
   "cell_type": "code",
   "execution_count": 1,
   "id": "dcc34469",
   "metadata": {},
   "outputs": [],
   "source": [
    "import pandas as pd"
   ]
  },
  {
   "cell_type": "markdown",
   "id": "0edef5e3",
   "metadata": {},
   "source": [
    "## Target - pathway matrix"
   ]
  },
  {
   "cell_type": "markdown",
   "id": "5941d7c3",
   "metadata": {},
   "source": [
    "### Filder by FDR, add hierarchies"
   ]
  },
  {
   "cell_type": "code",
   "execution_count": 3,
   "id": "8c1c8a22",
   "metadata": {},
   "outputs": [],
   "source": [
    "def load_reactome_pathways_with_hierarchy(pathways_path, hierarchy_path, fdr_cutoff=0.05):\n",
    "    # Step 1: Load pathways TSV (instead of multiple parquet files)\n",
    "    df = pd.read_csv(pathways_path, sep=\"\\t\")\n",
    "    \n",
    "    # Step 2: Filter by FDR cutoff\n",
    "    df_filtered = df[df[\"fdr\"] <= fdr_cutoff].copy()\n",
    "\n",
    "    # Step 3: Load pathway hierarchy file\n",
    "    pathways_hierarchy_df = pd.read_csv(\n",
    "        hierarchy_path, sep=\"\\t\", header=None, names=[\"parentId\", \"childId\"]\n",
    "    )\n",
    "\n",
    "    # Step 4: Compute hierarchy levels\n",
    "    parent_map = dict(zip(pathways_hierarchy_df[\"childId\"], pathways_hierarchy_df[\"parentId\"]))\n",
    "\n",
    "    def get_level(child_id):\n",
    "        level, current = 0, child_id\n",
    "        while current in parent_map and pd.notna(parent_map[current]):\n",
    "            current = parent_map[current]\n",
    "            level += 1\n",
    "            if level > 50:  # safety break for cycles\n",
    "                break\n",
    "        return level\n",
    "\n",
    "    pathways_hierarchy_df[\"hierLevel\"] = pathways_hierarchy_df[\"childId\"].map(get_level)\n",
    "\n",
    "    # Step 5: Merge filtered pathways with hierarchy\n",
    "    joined_df = df_filtered.merge(\n",
    "        pathways_hierarchy_df, left_on=\"ID\", right_on=\"childId\", how=\"left\"\n",
    "    )\n",
    "\n",
    "    return joined_df\n"
   ]
  },
  {
   "cell_type": "code",
   "execution_count": 20,
   "id": "8732c586",
   "metadata": {},
   "outputs": [],
   "source": [
    "pathways_path = \"/Users/polina/genetics_gsea/data/input/geneset_disease_zscore_gsea.tsv\"\n",
    "hierarchy_path = \"/Users/polina/genetics_gsea/data/gmt/Reactome_2025/Pathways_hierarchy_relationship.txt\"\n",
    "\n",
    "path_disease = load_reactome_pathways_with_hierarchy(pathways_path, hierarchy_path, fdr_cutoff=0.05)"
   ]
  },
  {
   "cell_type": "code",
   "execution_count": 21,
   "id": "0ba8e771",
   "metadata": {},
   "outputs": [],
   "source": [
    "pathways_path = \"/Users/polina/genetics_gsea/data/input/geneset_ta_zscore_gsea.tsv\"\n",
    "hierarchy_path = \"/Users/polina/genetics_gsea/data/gmt/Reactome_2025/Pathways_hierarchy_relationship.txt\"\n",
    "\n",
    "path_ta = load_reactome_pathways_with_hierarchy(pathways_path, hierarchy_path, fdr_cutoff=0.05)"
   ]
  },
  {
   "cell_type": "markdown",
   "id": "13427f91",
   "metadata": {},
   "source": [
    "### Filter only targets from intial list of genetic hits"
   ]
  },
  {
   "cell_type": "code",
   "execution_count": 25,
   "id": "7d805a44",
   "metadata": {},
   "outputs": [],
   "source": [
    "path_disease_targets = path_disease.loc[:, [\"Term\", \"ID\", \"propagated_edge\", \"parentId\", \"hierLevel\"]]\n",
    "path_disease_targets.loc[:, \"propagated_edge\"] = path_disease_targets[\"propagated_edge\"].str.split(\",\")\n",
    "path_disease_targets_exp = path_disease_targets.explode(\"propagated_edge\")"
   ]
  },
  {
   "cell_type": "code",
   "execution_count": 26,
   "id": "91fa9947",
   "metadata": {},
   "outputs": [],
   "source": [
    "path_ta_targets = path_ta[[\"Term\", \"ID\", \"propagated_edge\", \"parentId\", \"hierLevel\"]].copy()\n",
    "path_ta_targets[\"propagated_edge\"] = path_ta_targets[\"propagated_edge\"].str.split(\",\")\n",
    "path_ta_targets_exp = path_ta_targets.explode(\"propagated_edge\")"
   ]
  },
  {
   "cell_type": "code",
   "execution_count": 29,
   "id": "3a76a968",
   "metadata": {},
   "outputs": [
    {
     "data": {
      "text/html": [
       "<div>\n",
       "<style scoped>\n",
       "    .dataframe tbody tr th:only-of-type {\n",
       "        vertical-align: middle;\n",
       "    }\n",
       "\n",
       "    .dataframe tbody tr th {\n",
       "        vertical-align: top;\n",
       "    }\n",
       "\n",
       "    .dataframe thead th {\n",
       "        text-align: right;\n",
       "    }\n",
       "</style>\n",
       "<table border=\"1\" class=\"dataframe\">\n",
       "  <thead>\n",
       "    <tr style=\"text-align: right;\">\n",
       "      <th></th>\n",
       "      <th>Term</th>\n",
       "      <th>ID</th>\n",
       "      <th>propagated_edge</th>\n",
       "      <th>parentId</th>\n",
       "      <th>hierLevel</th>\n",
       "    </tr>\n",
       "  </thead>\n",
       "  <tbody>\n",
       "    <tr>\n",
       "      <th>0</th>\n",
       "      <td>Signal Transduction</td>\n",
       "      <td>R-HSA-162582</td>\n",
       "      <td>AAMP</td>\n",
       "      <td>NaN</td>\n",
       "      <td>NaN</td>\n",
       "    </tr>\n",
       "    <tr>\n",
       "      <th>0</th>\n",
       "      <td>Signal Transduction</td>\n",
       "      <td>R-HSA-162582</td>\n",
       "      <td>AATF</td>\n",
       "      <td>NaN</td>\n",
       "      <td>NaN</td>\n",
       "    </tr>\n",
       "    <tr>\n",
       "      <th>0</th>\n",
       "      <td>Signal Transduction</td>\n",
       "      <td>R-HSA-162582</td>\n",
       "      <td>ABCA1</td>\n",
       "      <td>NaN</td>\n",
       "      <td>NaN</td>\n",
       "    </tr>\n",
       "    <tr>\n",
       "      <th>0</th>\n",
       "      <td>Signal Transduction</td>\n",
       "      <td>R-HSA-162582</td>\n",
       "      <td>ABCD3</td>\n",
       "      <td>NaN</td>\n",
       "      <td>NaN</td>\n",
       "    </tr>\n",
       "    <tr>\n",
       "      <th>0</th>\n",
       "      <td>Signal Transduction</td>\n",
       "      <td>R-HSA-162582</td>\n",
       "      <td>ABCG1</td>\n",
       "      <td>NaN</td>\n",
       "      <td>NaN</td>\n",
       "    </tr>\n",
       "    <tr>\n",
       "      <th>...</th>\n",
       "      <td>...</td>\n",
       "      <td>...</td>\n",
       "      <td>...</td>\n",
       "      <td>...</td>\n",
       "      <td>...</td>\n",
       "    </tr>\n",
       "    <tr>\n",
       "      <th>501</th>\n",
       "      <td>Growth hormone receptor signaling</td>\n",
       "      <td>R-HSA-982772</td>\n",
       "      <td>SOCS3</td>\n",
       "      <td>R-HSA-1280215</td>\n",
       "      <td>2.0</td>\n",
       "    </tr>\n",
       "    <tr>\n",
       "      <th>501</th>\n",
       "      <td>Growth hormone receptor signaling</td>\n",
       "      <td>R-HSA-982772</td>\n",
       "      <td>STAT1</td>\n",
       "      <td>R-HSA-1280215</td>\n",
       "      <td>2.0</td>\n",
       "    </tr>\n",
       "    <tr>\n",
       "      <th>501</th>\n",
       "      <td>Growth hormone receptor signaling</td>\n",
       "      <td>R-HSA-982772</td>\n",
       "      <td>STAT3</td>\n",
       "      <td>R-HSA-1280215</td>\n",
       "      <td>2.0</td>\n",
       "    </tr>\n",
       "    <tr>\n",
       "      <th>501</th>\n",
       "      <td>Growth hormone receptor signaling</td>\n",
       "      <td>R-HSA-982772</td>\n",
       "      <td>STAT5A</td>\n",
       "      <td>R-HSA-1280215</td>\n",
       "      <td>2.0</td>\n",
       "    </tr>\n",
       "    <tr>\n",
       "      <th>501</th>\n",
       "      <td>Growth hormone receptor signaling</td>\n",
       "      <td>R-HSA-982772</td>\n",
       "      <td>STAT5B</td>\n",
       "      <td>R-HSA-1280215</td>\n",
       "      <td>2.0</td>\n",
       "    </tr>\n",
       "  </tbody>\n",
       "</table>\n",
       "<p>37064 rows × 5 columns</p>\n",
       "</div>"
      ],
      "text/plain": [
       "                                  Term            ID propagated_edge  \\\n",
       "0                  Signal Transduction  R-HSA-162582            AAMP   \n",
       "0                  Signal Transduction  R-HSA-162582            AATF   \n",
       "0                  Signal Transduction  R-HSA-162582           ABCA1   \n",
       "0                  Signal Transduction  R-HSA-162582           ABCD3   \n",
       "0                  Signal Transduction  R-HSA-162582           ABCG1   \n",
       "..                                 ...           ...             ...   \n",
       "501  Growth hormone receptor signaling  R-HSA-982772           SOCS3   \n",
       "501  Growth hormone receptor signaling  R-HSA-982772           STAT1   \n",
       "501  Growth hormone receptor signaling  R-HSA-982772           STAT3   \n",
       "501  Growth hormone receptor signaling  R-HSA-982772          STAT5A   \n",
       "501  Growth hormone receptor signaling  R-HSA-982772          STAT5B   \n",
       "\n",
       "          parentId  hierLevel  \n",
       "0              NaN        NaN  \n",
       "0              NaN        NaN  \n",
       "0              NaN        NaN  \n",
       "0              NaN        NaN  \n",
       "0              NaN        NaN  \n",
       "..             ...        ...  \n",
       "501  R-HSA-1280215        2.0  \n",
       "501  R-HSA-1280215        2.0  \n",
       "501  R-HSA-1280215        2.0  \n",
       "501  R-HSA-1280215        2.0  \n",
       "501  R-HSA-1280215        2.0  \n",
       "\n",
       "[37064 rows x 5 columns]"
      ]
     },
     "execution_count": 29,
     "metadata": {},
     "output_type": "execute_result"
    }
   ],
   "source": [
    "path_ta_targets_exp"
   ]
  },
  {
   "cell_type": "markdown",
   "id": "8b9ddd3d",
   "metadata": {},
   "source": [
    "## Pathway embeddings"
   ]
  },
  {
   "cell_type": "code",
   "execution_count": null,
   "id": "db1c44a6",
   "metadata": {},
   "outputs": [],
   "source": []
  },
  {
   "cell_type": "code",
   "execution_count": null,
   "id": "b9ad4c7f",
   "metadata": {},
   "outputs": [],
   "source": []
  },
  {
   "cell_type": "code",
   "execution_count": null,
   "id": "3eb68817",
   "metadata": {},
   "outputs": [],
   "source": []
  },
  {
   "cell_type": "markdown",
   "id": "f90376d9",
   "metadata": {},
   "source": [
    "## Target embeddings"
   ]
  },
  {
   "cell_type": "markdown",
   "id": "c2b8698f",
   "metadata": {},
   "source": []
  }
 ],
 "metadata": {
  "kernelspec": {
   "display_name": "Python 3",
   "language": "python",
   "name": "python3"
  },
  "language_info": {
   "codemirror_mode": {
    "name": "ipython",
    "version": 3
   },
   "file_extension": ".py",
   "mimetype": "text/x-python",
   "name": "python",
   "nbconvert_exporter": "python",
   "pygments_lexer": "ipython3",
   "version": "3.11.6"
  }
 },
 "nbformat": 4,
 "nbformat_minor": 5
}
